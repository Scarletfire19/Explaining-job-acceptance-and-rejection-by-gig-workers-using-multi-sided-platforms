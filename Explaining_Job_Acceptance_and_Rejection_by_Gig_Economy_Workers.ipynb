{
  "nbformat": 4,
  "nbformat_minor": 0,
  "metadata": {
    "colab": {
      "provenance": []
    },
    "kernelspec": {
      "name": "python3",
      "display_name": "Python 3"
    },
    "language_info": {
      "name": "python"
    }
  },
  "cells": [
    {
      "cell_type": "markdown",
      "source": [
        "Installing Libraries"
      ],
      "metadata": {
        "id": "ofNSMEkIbJ2U"
      }
    },
    {
      "cell_type": "markdown",
      "source": [],
      "metadata": {
        "id": "fdsnBcVRtBqF"
      }
    },
    {
      "cell_type": "code",
      "source": [
        "pip install miceforest"
      ],
      "metadata": {
        "colab": {
          "base_uri": "https://localhost:8080/"
        },
        "id": "_ZxX2LhJxkBE",
        "outputId": "9d3b98d2-98bf-4087-9351-e94a6b4e1518"
      },
      "execution_count": 1,
      "outputs": [
        {
          "output_type": "stream",
          "name": "stdout",
          "text": [
            "Looking in indexes: https://pypi.org/simple, https://us-python.pkg.dev/colab-wheels/public/simple/\n",
            "Collecting miceforest\n",
            "  Downloading miceforest-5.6.2-py3-none-any.whl (57 kB)\n",
            "\u001b[K     |████████████████████████████████| 57 kB 2.7 MB/s \n",
            "\u001b[?25hRequirement already satisfied: dill in /usr/local/lib/python3.7/dist-packages (from miceforest) (0.3.6)\n",
            "Collecting blosc\n",
            "  Downloading blosc-1.10.6-cp37-cp37m-manylinux_2_5_x86_64.manylinux1_x86_64.manylinux_2_12_x86_64.manylinux2010_x86_64.whl (2.6 MB)\n",
            "\u001b[K     |████████████████████████████████| 2.6 MB 10.2 MB/s \n",
            "\u001b[?25hRequirement already satisfied: numpy in /usr/local/lib/python3.7/dist-packages (from miceforest) (1.21.6)\n",
            "Collecting lightgbm>=3.3.1\n",
            "  Downloading lightgbm-3.3.3-py3-none-manylinux1_x86_64.whl (2.0 MB)\n",
            "\u001b[K     |████████████████████████████████| 2.0 MB 39.6 MB/s \n",
            "\u001b[?25hRequirement already satisfied: wheel in /usr/local/lib/python3.7/dist-packages (from lightgbm>=3.3.1->miceforest) (0.38.4)\n",
            "Requirement already satisfied: scipy in /usr/local/lib/python3.7/dist-packages (from lightgbm>=3.3.1->miceforest) (1.7.3)\n",
            "Requirement already satisfied: scikit-learn!=0.22.0 in /usr/local/lib/python3.7/dist-packages (from lightgbm>=3.3.1->miceforest) (1.0.2)\n",
            "Requirement already satisfied: joblib>=0.11 in /usr/local/lib/python3.7/dist-packages (from scikit-learn!=0.22.0->lightgbm>=3.3.1->miceforest) (1.2.0)\n",
            "Requirement already satisfied: threadpoolctl>=2.0.0 in /usr/local/lib/python3.7/dist-packages (from scikit-learn!=0.22.0->lightgbm>=3.3.1->miceforest) (3.1.0)\n",
            "Installing collected packages: lightgbm, blosc, miceforest\n",
            "  Attempting uninstall: lightgbm\n",
            "    Found existing installation: lightgbm 2.2.3\n",
            "    Uninstalling lightgbm-2.2.3:\n",
            "      Successfully uninstalled lightgbm-2.2.3\n",
            "Successfully installed blosc-1.10.6 lightgbm-3.3.3 miceforest-5.6.2\n"
          ]
        }
      ]
    },
    {
      "cell_type": "code",
      "source": [
        "pip install lazypredict\n"
      ],
      "metadata": {
        "colab": {
          "base_uri": "https://localhost:8080/"
        },
        "id": "9cfKZMeVAs3j",
        "outputId": "da88d276-de6d-4d60-937e-e2843e388400"
      },
      "execution_count": 2,
      "outputs": [
        {
          "output_type": "stream",
          "name": "stdout",
          "text": [
            "Looking in indexes: https://pypi.org/simple, https://us-python.pkg.dev/colab-wheels/public/simple/\n",
            "Collecting lazypredict\n",
            "  Downloading lazypredict-0.2.12-py2.py3-none-any.whl (12 kB)\n",
            "Requirement already satisfied: xgboost in /usr/local/lib/python3.7/dist-packages (from lazypredict) (0.90)\n",
            "Requirement already satisfied: joblib in /usr/local/lib/python3.7/dist-packages (from lazypredict) (1.2.0)\n",
            "Requirement already satisfied: tqdm in /usr/local/lib/python3.7/dist-packages (from lazypredict) (4.64.1)\n",
            "Requirement already satisfied: scikit-learn in /usr/local/lib/python3.7/dist-packages (from lazypredict) (1.0.2)\n",
            "Requirement already satisfied: lightgbm in /usr/local/lib/python3.7/dist-packages (from lazypredict) (3.3.3)\n",
            "Requirement already satisfied: pandas in /usr/local/lib/python3.7/dist-packages (from lazypredict) (1.3.5)\n",
            "Requirement already satisfied: click in /usr/local/lib/python3.7/dist-packages (from lazypredict) (7.1.2)\n",
            "Requirement already satisfied: scipy in /usr/local/lib/python3.7/dist-packages (from lightgbm->lazypredict) (1.7.3)\n",
            "Requirement already satisfied: wheel in /usr/local/lib/python3.7/dist-packages (from lightgbm->lazypredict) (0.38.4)\n",
            "Requirement already satisfied: numpy in /usr/local/lib/python3.7/dist-packages (from lightgbm->lazypredict) (1.21.6)\n",
            "Requirement already satisfied: threadpoolctl>=2.0.0 in /usr/local/lib/python3.7/dist-packages (from scikit-learn->lazypredict) (3.1.0)\n",
            "Requirement already satisfied: pytz>=2017.3 in /usr/local/lib/python3.7/dist-packages (from pandas->lazypredict) (2022.6)\n",
            "Requirement already satisfied: python-dateutil>=2.7.3 in /usr/local/lib/python3.7/dist-packages (from pandas->lazypredict) (2.8.2)\n",
            "Requirement already satisfied: six>=1.5 in /usr/local/lib/python3.7/dist-packages (from python-dateutil>=2.7.3->pandas->lazypredict) (1.15.0)\n",
            "Installing collected packages: lazypredict\n",
            "Successfully installed lazypredict-0.2.12\n"
          ]
        }
      ]
    },
    {
      "cell_type": "code",
      "source": [
        "pip install umap-learn\n"
      ],
      "metadata": {
        "colab": {
          "base_uri": "https://localhost:8080/"
        },
        "id": "4MxtH3fPBfbQ",
        "outputId": "8f283a81-584e-417a-c479-2884007d6869"
      },
      "execution_count": 3,
      "outputs": [
        {
          "output_type": "stream",
          "name": "stdout",
          "text": [
            "Looking in indexes: https://pypi.org/simple, https://us-python.pkg.dev/colab-wheels/public/simple/\n",
            "Collecting umap-learn\n",
            "  Downloading umap-learn-0.5.3.tar.gz (88 kB)\n",
            "\u001b[K     |████████████████████████████████| 88 kB 3.5 MB/s \n",
            "\u001b[?25hRequirement already satisfied: numpy>=1.17 in /usr/local/lib/python3.7/dist-packages (from umap-learn) (1.21.6)\n",
            "Requirement already satisfied: scikit-learn>=0.22 in /usr/local/lib/python3.7/dist-packages (from umap-learn) (1.0.2)\n",
            "Requirement already satisfied: scipy>=1.0 in /usr/local/lib/python3.7/dist-packages (from umap-learn) (1.7.3)\n",
            "Requirement already satisfied: numba>=0.49 in /usr/local/lib/python3.7/dist-packages (from umap-learn) (0.56.4)\n",
            "Collecting pynndescent>=0.5\n",
            "  Downloading pynndescent-0.5.8.tar.gz (1.1 MB)\n",
            "\u001b[K     |████████████████████████████████| 1.1 MB 29.8 MB/s \n",
            "\u001b[?25hRequirement already satisfied: tqdm in /usr/local/lib/python3.7/dist-packages (from umap-learn) (4.64.1)\n",
            "Requirement already satisfied: setuptools in /usr/local/lib/python3.7/dist-packages (from numba>=0.49->umap-learn) (57.4.0)\n",
            "Requirement already satisfied: importlib-metadata in /usr/local/lib/python3.7/dist-packages (from numba>=0.49->umap-learn) (4.13.0)\n",
            "Requirement already satisfied: llvmlite<0.40,>=0.39.0dev0 in /usr/local/lib/python3.7/dist-packages (from numba>=0.49->umap-learn) (0.39.1)\n",
            "Requirement already satisfied: joblib>=0.11 in /usr/local/lib/python3.7/dist-packages (from pynndescent>=0.5->umap-learn) (1.2.0)\n",
            "Requirement already satisfied: typing-extensions>=3.6.4 in /usr/local/lib/python3.7/dist-packages (from importlib-metadata->numba>=0.49->umap-learn) (4.1.1)\n",
            "Requirement already satisfied: zipp>=0.5 in /usr/local/lib/python3.7/dist-packages (from importlib-metadata->numba>=0.49->umap-learn) (3.10.0)\n",
            "Requirement already satisfied: threadpoolctl>=2.0.0 in /usr/local/lib/python3.7/dist-packages (from scikit-learn>=0.22->umap-learn) (3.1.0)\n",
            "Building wheels for collected packages: umap-learn, pynndescent\n",
            "  Building wheel for umap-learn (setup.py) ... \u001b[?25l\u001b[?25hdone\n",
            "  Created wheel for umap-learn: filename=umap_learn-0.5.3-py3-none-any.whl size=82829 sha256=9359b230b11611a01868328dcae40ee688c3f32fdef88a42c6a95fae5fde0cda\n",
            "  Stored in directory: /root/.cache/pip/wheels/b3/52/a5/1fd9e3e76a7ab34f134c07469cd6f16e27ef3a37aeff1fe821\n",
            "  Building wheel for pynndescent (setup.py) ... \u001b[?25l\u001b[?25hdone\n",
            "  Created wheel for pynndescent: filename=pynndescent-0.5.8-py3-none-any.whl size=55513 sha256=a04023461500df31eb2c8c22ff8c415ddb47a5dc0ce2cdaa37d06058ae91ef31\n",
            "  Stored in directory: /root/.cache/pip/wheels/19/bc/eb/974072a56a7082a302f8b4be1ad6d21bf5019235c2eff65928\n",
            "Successfully built umap-learn pynndescent\n",
            "Installing collected packages: pynndescent, umap-learn\n",
            "Successfully installed pynndescent-0.5.8 umap-learn-0.5.3\n"
          ]
        }
      ]
    },
    {
      "cell_type": "code",
      "source": [
        "pip install shap"
      ],
      "metadata": {
        "colab": {
          "base_uri": "https://localhost:8080/"
        },
        "id": "QZDq_FCutmRv",
        "outputId": "d24d6f7b-cbdd-49b1-f743-02e7b56b272c"
      },
      "execution_count": 4,
      "outputs": [
        {
          "output_type": "stream",
          "name": "stdout",
          "text": [
            "Looking in indexes: https://pypi.org/simple, https://us-python.pkg.dev/colab-wheels/public/simple/\n",
            "Collecting shap\n",
            "  Downloading shap-0.41.0-cp37-cp37m-manylinux_2_12_x86_64.manylinux2010_x86_64.whl (569 kB)\n",
            "\u001b[K     |████████████████████████████████| 569 kB 5.3 MB/s \n",
            "\u001b[?25hRequirement already satisfied: tqdm>4.25.0 in /usr/local/lib/python3.7/dist-packages (from shap) (4.64.1)\n",
            "Requirement already satisfied: scikit-learn in /usr/local/lib/python3.7/dist-packages (from shap) (1.0.2)\n",
            "Requirement already satisfied: numba in /usr/local/lib/python3.7/dist-packages (from shap) (0.56.4)\n",
            "Requirement already satisfied: scipy in /usr/local/lib/python3.7/dist-packages (from shap) (1.7.3)\n",
            "Requirement already satisfied: cloudpickle in /usr/local/lib/python3.7/dist-packages (from shap) (1.5.0)\n",
            "Requirement already satisfied: packaging>20.9 in /usr/local/lib/python3.7/dist-packages (from shap) (21.3)\n",
            "Collecting slicer==0.0.7\n",
            "  Downloading slicer-0.0.7-py3-none-any.whl (14 kB)\n",
            "Requirement already satisfied: numpy in /usr/local/lib/python3.7/dist-packages (from shap) (1.21.6)\n",
            "Requirement already satisfied: pandas in /usr/local/lib/python3.7/dist-packages (from shap) (1.3.5)\n",
            "Requirement already satisfied: pyparsing!=3.0.5,>=2.0.2 in /usr/local/lib/python3.7/dist-packages (from packaging>20.9->shap) (3.0.9)\n",
            "Requirement already satisfied: importlib-metadata in /usr/local/lib/python3.7/dist-packages (from numba->shap) (4.13.0)\n",
            "Requirement already satisfied: setuptools in /usr/local/lib/python3.7/dist-packages (from numba->shap) (57.4.0)\n",
            "Requirement already satisfied: llvmlite<0.40,>=0.39.0dev0 in /usr/local/lib/python3.7/dist-packages (from numba->shap) (0.39.1)\n",
            "Requirement already satisfied: zipp>=0.5 in /usr/local/lib/python3.7/dist-packages (from importlib-metadata->numba->shap) (3.10.0)\n",
            "Requirement already satisfied: typing-extensions>=3.6.4 in /usr/local/lib/python3.7/dist-packages (from importlib-metadata->numba->shap) (4.1.1)\n",
            "Requirement already satisfied: python-dateutil>=2.7.3 in /usr/local/lib/python3.7/dist-packages (from pandas->shap) (2.8.2)\n",
            "Requirement already satisfied: pytz>=2017.3 in /usr/local/lib/python3.7/dist-packages (from pandas->shap) (2022.6)\n",
            "Requirement already satisfied: six>=1.5 in /usr/local/lib/python3.7/dist-packages (from python-dateutil>=2.7.3->pandas->shap) (1.15.0)\n",
            "Requirement already satisfied: joblib>=0.11 in /usr/local/lib/python3.7/dist-packages (from scikit-learn->shap) (1.2.0)\n",
            "Requirement already satisfied: threadpoolctl>=2.0.0 in /usr/local/lib/python3.7/dist-packages (from scikit-learn->shap) (3.1.0)\n",
            "Installing collected packages: slicer, shap\n",
            "Successfully installed shap-0.41.0 slicer-0.0.7\n"
          ]
        }
      ]
    },
    {
      "cell_type": "code",
      "source": [
        "pip install geopy\n"
      ],
      "metadata": {
        "colab": {
          "base_uri": "https://localhost:8080/"
        },
        "id": "TT7vnPZe-rxj",
        "outputId": "0892e69d-b045-4613-f76a-4647694f4164"
      },
      "execution_count": 5,
      "outputs": [
        {
          "output_type": "stream",
          "name": "stdout",
          "text": [
            "Looking in indexes: https://pypi.org/simple, https://us-python.pkg.dev/colab-wheels/public/simple/\n",
            "Requirement already satisfied: geopy in /usr/local/lib/python3.7/dist-packages (1.17.0)\n",
            "Requirement already satisfied: geographiclib<2,>=1.49 in /usr/local/lib/python3.7/dist-packages (from geopy) (1.52)\n"
          ]
        }
      ]
    },
    {
      "cell_type": "markdown",
      "source": [
        "Making Imports"
      ],
      "metadata": {
        "id": "-ct8XKCobNIm"
      }
    },
    {
      "cell_type": "code",
      "source": [
        "from numpy import mean\n",
        "import pandas as pd\n",
        "import numpy as np\n",
        "from numpy import std\n",
        "from sklearn.datasets import make_regression\n",
        "from sklearn.model_selection import cross_val_score\n",
        "from sklearn.model_selection import RepeatedKFold\n",
        "from sklearn.ensemble import RandomForestRegressor\n",
        "import lazypredict\n",
        "from lazypredict.Supervised import LazyRegressor\n",
        "from lazypredict.Supervised import LazyClassifier\n",
        "from sklearn.model_selection import train_test_split\n",
        "from sklearn.metrics import r2_score\n",
        "import xgboost\n",
        "from xgboost import XGBRegressor\n",
        "import matplotlib.pyplot as plt\n",
        "import numpy as np\n",
        "import tensorflow as tf\n",
        "from tensorflow.keras.models import Model, Sequential\n",
        "from tensorflow.keras.layers import Dense\n",
        "import pandas as pd\n",
        "import random\n",
        "from sklearn.preprocessing import StandardScaler\n",
        "import math\n",
        "import pandas\n",
        "from sklearn.preprocessing import MinMaxScaler\n",
        "from sklearn.svm import SVR\n",
        "from sklearn.model_selection import GridSearchCV, cross_validate\n",
        "from sklearn.utils import shuffle\n",
        "import pandas as pd\n",
        "import numpy as np\n",
        "import scipy\n",
        "from sklearn.preprocessing import StandardScaler\n",
        "import scipy.stats\n",
        "import matplotlib.pyplot as plt\n",
        "import seaborn as sns"
      ],
      "metadata": {
        "id": "DDx6HTrwNk2c"
      },
      "execution_count": 6,
      "outputs": []
    },
    {
      "cell_type": "code",
      "source": [
        "from numpy import mean\n",
        "import pandas as pd\n",
        "from lazypredict.Supervised import LazyClassifier\n",
        "import numpy as np\n",
        "from numpy import std\n",
        "from sklearn.datasets import make_regression\n",
        "from sklearn.model_selection import cross_val_score\n",
        "from sklearn.model_selection import RepeatedKFold\n",
        "from sklearn.ensemble import RandomForestRegressor\n",
        "import lazypredict\n",
        "from lazypredict.Supervised import LazyRegressor\n",
        "from lazypredict.Supervised import LazyClassifier\n",
        "from sklearn.model_selection import train_test_split\n",
        "from sklearn.metrics import r2_score\n",
        "import xgboost\n",
        "from xgboost import XGBRegressor\n",
        "import matplotlib.pyplot as plt\n",
        "import numpy as np\n",
        "import tensorflow as tf\n",
        "from tensorflow.keras.models import Model, Sequential\n",
        "from tensorflow.keras.layers import Dense\n",
        "import pandas as pd\n",
        "import random\n",
        "from sklearn.preprocessing import StandardScaler"
      ],
      "metadata": {
        "id": "tirQKItdBVM0"
      },
      "execution_count": 7,
      "outputs": []
    },
    {
      "cell_type": "markdown",
      "source": [
        "Reading in the data"
      ],
      "metadata": {
        "id": "gqlaDyBabPCt"
      }
    },
    {
      "cell_type": "code",
      "source": [
        "df=pd.read_csv('/content/trips_data.csv')"
      ],
      "metadata": {
        "id": "Hs6q-KXU_Nkc"
      },
      "execution_count": 10,
      "outputs": []
    },
    {
      "cell_type": "markdown",
      "source": [
        "Data Imputation"
      ],
      "metadata": {
        "id": "5mOjM5Jbsev4"
      }
    },
    {
      "cell_type": "code",
      "source": [
        "dfnum=df[['Begin Trip Lat','Begin Trip Lng','Dropoff Lat','Dropoff Lng','Distance (miles)','Fare Amount']]"
      ],
      "metadata": {
        "id": "BplzrGBE_NnL"
      },
      "execution_count": 11,
      "outputs": []
    },
    {
      "cell_type": "code",
      "source": [
        "res=[]\n",
        "\n",
        "for i in range(len(df)):\n",
        "  if df['Trip or Order Status'][i]==\"COMPLETED\":\n",
        "    res.append(1)\n",
        "  else:\n",
        "    res.append(0)\n"
      ],
      "metadata": {
        "id": "_K_PvpKOwWnG"
      },
      "execution_count": null,
      "outputs": []
    },
    {
      "cell_type": "code",
      "source": [
        "pd.DataFrame(res).to_csv('y.csv')"
      ],
      "metadata": {
        "id": "1Ni-KD9M9fUU",
        "colab": {
          "base_uri": "https://localhost:8080/",
          "height": 165
        },
        "outputId": "0fa81478-197e-49fb-c7a8-055c93b00094"
      },
      "execution_count": 12,
      "outputs": [
        {
          "output_type": "error",
          "ename": "NameError",
          "evalue": "ignored",
          "traceback": [
            "\u001b[0;31m---------------------------------------------------------------------------\u001b[0m",
            "\u001b[0;31mNameError\u001b[0m                                 Traceback (most recent call last)",
            "\u001b[0;32m<ipython-input-12-164249dbedcf>\u001b[0m in \u001b[0;36m<module>\u001b[0;34m\u001b[0m\n\u001b[0;32m----> 1\u001b[0;31m \u001b[0mpd\u001b[0m\u001b[0;34m.\u001b[0m\u001b[0mDataFrame\u001b[0m\u001b[0;34m(\u001b[0m\u001b[0mres\u001b[0m\u001b[0;34m)\u001b[0m\u001b[0;34m.\u001b[0m\u001b[0mto_csv\u001b[0m\u001b[0;34m(\u001b[0m\u001b[0;34m'y.csv'\u001b[0m\u001b[0;34m)\u001b[0m\u001b[0;34m\u001b[0m\u001b[0;34m\u001b[0m\u001b[0m\n\u001b[0m",
            "\u001b[0;31mNameError\u001b[0m: name 'res' is not defined"
          ]
        }
      ]
    },
    {
      "cell_type": "code",
      "source": [
        "y=pd.read_csv('/content/y.csv')"
      ],
      "metadata": {
        "id": "0ZxL1TsN93mC"
      },
      "execution_count": 13,
      "outputs": []
    },
    {
      "cell_type": "markdown",
      "source": [
        "Data Imputation"
      ],
      "metadata": {
        "id": "OLFMydIk0p6X"
      }
    },
    {
      "cell_type": "code",
      "source": [
        "mitrain=dfnum"
      ],
      "metadata": {
        "id": "vPHdvWsyzgte"
      },
      "execution_count": 14,
      "outputs": []
    },
    {
      "cell_type": "markdown",
      "source": [
        "Mice Forest"
      ],
      "metadata": {
        "id": "0Bc5l5klPdnt"
      }
    },
    {
      "cell_type": "code",
      "source": [
        "import miceforest as mf\n",
        "\n",
        "mi_iternations=4\n",
        "test_error = []\n",
        "\n",
        "kernel = mf.ImputationKernel(\n",
        "      mitrain, \n",
        "      datasets=mi_iternations, \n",
        "      save_all_iterations=True, \n",
        "      random_state=0\n",
        "    )\n",
        "kernel.mice(5)"
      ],
      "metadata": {
        "id": "bxsFHLIBxkqH"
      },
      "execution_count": 15,
      "outputs": []
    },
    {
      "cell_type": "code",
      "source": [
        "dfnumimputed=kernel.complete_data().copy()"
      ],
      "metadata": {
        "id": "pkqkQ24dztTy"
      },
      "execution_count": 16,
      "outputs": []
    },
    {
      "cell_type": "markdown",
      "source": [
        "Dummies are used for classic econometric concerns\n",
        "\n",
        "These pertain to interpreting rows which might be 0 for everything.\n",
        "\n",
        "If one hot encoding is used rows that are all 0 will not have any meaning\n",
        "\n",
        "Dummy variables do not have this issue"
      ],
      "metadata": {
        "id": "FG-TN3xf_SJ4"
      }
    },
    {
      "cell_type": "code",
      "source": [
        "dfcat=df[['City','Product Type']]"
      ],
      "metadata": {
        "id": "AjdOAyk29hIj"
      },
      "execution_count": 17,
      "outputs": []
    },
    {
      "cell_type": "code",
      "source": [
        "dfcatencoding=pd.get_dummies(dfcat)"
      ],
      "metadata": {
        "id": "QvFEeqri9hMN"
      },
      "execution_count": 18,
      "outputs": []
    },
    {
      "cell_type": "markdown",
      "source": [
        "Extracting full addresses from location"
      ],
      "metadata": {
        "id": "TY7DW-32Rvzq"
      }
    },
    {
      "cell_type": "code",
      "source": [
        "from geopy.geocoders import Nominatim\n",
        "geolocator = Nominatim(user_agent=\"geoapiExercises\")\n"
      ],
      "metadata": {
        "id": "7vCsvGAN-pw9"
      },
      "execution_count": 19,
      "outputs": []
    },
    {
      "cell_type": "markdown",
      "source": [
        "Extracting features from addresses"
      ],
      "metadata": {
        "id": "ueQ9lrrsTG45"
      }
    },
    {
      "cell_type": "code",
      "source": [
        "addresslist=[]\n",
        "\n",
        "for i in range(len(dfnumimputed)):\n",
        "\n",
        "  lat=str(dfnumimputed['Begin Trip Lat'][i])\n",
        "  lng=str(dfnumimputed['Begin Trip Lng'][i])\n",
        "  try:\n",
        "    location = geolocator.reverse(lat+\",\"+lng)\n",
        "  except:\n",
        "    b5=0\n",
        "  try:\n",
        "    address = location.raw['address']\n",
        "  except:\n",
        "    b7=1\n",
        "    \n",
        "  addresslist.append(address)\n",
        "\n",
        "\n",
        "q=pd.DataFrame(addresslist)"
      ],
      "metadata": {
        "id": "2h11dqpa29uG"
      },
      "execution_count": 20,
      "outputs": []
    },
    {
      "cell_type": "code",
      "source": [
        "q.head()"
      ],
      "metadata": {
        "colab": {
          "base_uri": "https://localhost:8080/",
          "height": 595
        },
        "id": "Pbd9jKKf_1Si",
        "outputId": "773905b3-6ca5-4f3e-f267-b7f6dbcbeae0"
      },
      "execution_count": 21,
      "outputs": [
        {
          "output_type": "execute_result",
          "data": {
            "text/plain": [
              "                              amenity                                 road  \\\n",
              "0  Hospital Israelita Albert Einstein                   Rua Ruggero Fasano   \n",
              "1                                 NaN                       Alameda Franca   \n",
              "2                                 NaN  Viaduto João Julião da Costa Aguiar   \n",
              "3                                 NaN                       Alameda Franca   \n",
              "4                                 NaN          Avenida República do Líbano   \n",
              "\n",
              "            suburb       city                  municipality  \\\n",
              "0          Morumbi  São Paulo  Região Imediata de São Paulo   \n",
              "1  Jardim Paulista  São Paulo  Região Imediata de São Paulo   \n",
              "2       Campo Belo  São Paulo  Região Imediata de São Paulo   \n",
              "3  Jardim Paulista  São Paulo  Região Imediata de São Paulo   \n",
              "4            Moema  São Paulo  Região Imediata de São Paulo   \n",
              "\n",
              "                              county  \\\n",
              "0  Região Metropolitana de São Paulo   \n",
              "1  Região Metropolitana de São Paulo   \n",
              "2  Região Metropolitana de São Paulo   \n",
              "3  Região Metropolitana de São Paulo   \n",
              "4  Região Metropolitana de São Paulo   \n",
              "\n",
              "                                 state_district      state ISO3166-2-lvl4  \\\n",
              "0  Região Geográfica Intermediária de São Paulo  São Paulo          BR-SP   \n",
              "1  Região Geográfica Intermediária de São Paulo  São Paulo          BR-SP   \n",
              "2  Região Geográfica Intermediária de São Paulo  São Paulo          BR-SP   \n",
              "3  Região Geográfica Intermediária de São Paulo  São Paulo          BR-SP   \n",
              "4  Região Geográfica Intermediária de São Paulo  São Paulo          BR-SP   \n",
              "\n",
              "           region  ... office railway neighbourhood quarter place leisure  \\\n",
              "0  Região Sudeste  ...    NaN     NaN           NaN     NaN   NaN     NaN   \n",
              "1  Região Sudeste  ...    NaN     NaN           NaN     NaN   NaN     NaN   \n",
              "2  Região Sudeste  ...    NaN     NaN           NaN     NaN   NaN     NaN   \n",
              "3  Região Sudeste  ...    NaN     NaN           NaN     NaN   NaN     NaN   \n",
              "4  Região Sudeste  ...    NaN     NaN           NaN     NaN   NaN     NaN   \n",
              "\n",
              "  town man_made club tourism  \n",
              "0  NaN      NaN  NaN     NaN  \n",
              "1  NaN      NaN  NaN     NaN  \n",
              "2  NaN      NaN  NaN     NaN  \n",
              "3  NaN      NaN  NaN     NaN  \n",
              "4  NaN      NaN  NaN     NaN  \n",
              "\n",
              "[5 rows x 30 columns]"
            ],
            "text/html": [
              "\n",
              "  <div id=\"df-114a6f75-caf3-44a2-9d29-4679baf937ca\">\n",
              "    <div class=\"colab-df-container\">\n",
              "      <div>\n",
              "<style scoped>\n",
              "    .dataframe tbody tr th:only-of-type {\n",
              "        vertical-align: middle;\n",
              "    }\n",
              "\n",
              "    .dataframe tbody tr th {\n",
              "        vertical-align: top;\n",
              "    }\n",
              "\n",
              "    .dataframe thead th {\n",
              "        text-align: right;\n",
              "    }\n",
              "</style>\n",
              "<table border=\"1\" class=\"dataframe\">\n",
              "  <thead>\n",
              "    <tr style=\"text-align: right;\">\n",
              "      <th></th>\n",
              "      <th>amenity</th>\n",
              "      <th>road</th>\n",
              "      <th>suburb</th>\n",
              "      <th>city</th>\n",
              "      <th>municipality</th>\n",
              "      <th>county</th>\n",
              "      <th>state_district</th>\n",
              "      <th>state</th>\n",
              "      <th>ISO3166-2-lvl4</th>\n",
              "      <th>region</th>\n",
              "      <th>...</th>\n",
              "      <th>office</th>\n",
              "      <th>railway</th>\n",
              "      <th>neighbourhood</th>\n",
              "      <th>quarter</th>\n",
              "      <th>place</th>\n",
              "      <th>leisure</th>\n",
              "      <th>town</th>\n",
              "      <th>man_made</th>\n",
              "      <th>club</th>\n",
              "      <th>tourism</th>\n",
              "    </tr>\n",
              "  </thead>\n",
              "  <tbody>\n",
              "    <tr>\n",
              "      <th>0</th>\n",
              "      <td>Hospital Israelita Albert Einstein</td>\n",
              "      <td>Rua Ruggero Fasano</td>\n",
              "      <td>Morumbi</td>\n",
              "      <td>São Paulo</td>\n",
              "      <td>Região Imediata de São Paulo</td>\n",
              "      <td>Região Metropolitana de São Paulo</td>\n",
              "      <td>Região Geográfica Intermediária de São Paulo</td>\n",
              "      <td>São Paulo</td>\n",
              "      <td>BR-SP</td>\n",
              "      <td>Região Sudeste</td>\n",
              "      <td>...</td>\n",
              "      <td>NaN</td>\n",
              "      <td>NaN</td>\n",
              "      <td>NaN</td>\n",
              "      <td>NaN</td>\n",
              "      <td>NaN</td>\n",
              "      <td>NaN</td>\n",
              "      <td>NaN</td>\n",
              "      <td>NaN</td>\n",
              "      <td>NaN</td>\n",
              "      <td>NaN</td>\n",
              "    </tr>\n",
              "    <tr>\n",
              "      <th>1</th>\n",
              "      <td>NaN</td>\n",
              "      <td>Alameda Franca</td>\n",
              "      <td>Jardim Paulista</td>\n",
              "      <td>São Paulo</td>\n",
              "      <td>Região Imediata de São Paulo</td>\n",
              "      <td>Região Metropolitana de São Paulo</td>\n",
              "      <td>Região Geográfica Intermediária de São Paulo</td>\n",
              "      <td>São Paulo</td>\n",
              "      <td>BR-SP</td>\n",
              "      <td>Região Sudeste</td>\n",
              "      <td>...</td>\n",
              "      <td>NaN</td>\n",
              "      <td>NaN</td>\n",
              "      <td>NaN</td>\n",
              "      <td>NaN</td>\n",
              "      <td>NaN</td>\n",
              "      <td>NaN</td>\n",
              "      <td>NaN</td>\n",
              "      <td>NaN</td>\n",
              "      <td>NaN</td>\n",
              "      <td>NaN</td>\n",
              "    </tr>\n",
              "    <tr>\n",
              "      <th>2</th>\n",
              "      <td>NaN</td>\n",
              "      <td>Viaduto João Julião da Costa Aguiar</td>\n",
              "      <td>Campo Belo</td>\n",
              "      <td>São Paulo</td>\n",
              "      <td>Região Imediata de São Paulo</td>\n",
              "      <td>Região Metropolitana de São Paulo</td>\n",
              "      <td>Região Geográfica Intermediária de São Paulo</td>\n",
              "      <td>São Paulo</td>\n",
              "      <td>BR-SP</td>\n",
              "      <td>Região Sudeste</td>\n",
              "      <td>...</td>\n",
              "      <td>NaN</td>\n",
              "      <td>NaN</td>\n",
              "      <td>NaN</td>\n",
              "      <td>NaN</td>\n",
              "      <td>NaN</td>\n",
              "      <td>NaN</td>\n",
              "      <td>NaN</td>\n",
              "      <td>NaN</td>\n",
              "      <td>NaN</td>\n",
              "      <td>NaN</td>\n",
              "    </tr>\n",
              "    <tr>\n",
              "      <th>3</th>\n",
              "      <td>NaN</td>\n",
              "      <td>Alameda Franca</td>\n",
              "      <td>Jardim Paulista</td>\n",
              "      <td>São Paulo</td>\n",
              "      <td>Região Imediata de São Paulo</td>\n",
              "      <td>Região Metropolitana de São Paulo</td>\n",
              "      <td>Região Geográfica Intermediária de São Paulo</td>\n",
              "      <td>São Paulo</td>\n",
              "      <td>BR-SP</td>\n",
              "      <td>Região Sudeste</td>\n",
              "      <td>...</td>\n",
              "      <td>NaN</td>\n",
              "      <td>NaN</td>\n",
              "      <td>NaN</td>\n",
              "      <td>NaN</td>\n",
              "      <td>NaN</td>\n",
              "      <td>NaN</td>\n",
              "      <td>NaN</td>\n",
              "      <td>NaN</td>\n",
              "      <td>NaN</td>\n",
              "      <td>NaN</td>\n",
              "    </tr>\n",
              "    <tr>\n",
              "      <th>4</th>\n",
              "      <td>NaN</td>\n",
              "      <td>Avenida República do Líbano</td>\n",
              "      <td>Moema</td>\n",
              "      <td>São Paulo</td>\n",
              "      <td>Região Imediata de São Paulo</td>\n",
              "      <td>Região Metropolitana de São Paulo</td>\n",
              "      <td>Região Geográfica Intermediária de São Paulo</td>\n",
              "      <td>São Paulo</td>\n",
              "      <td>BR-SP</td>\n",
              "      <td>Região Sudeste</td>\n",
              "      <td>...</td>\n",
              "      <td>NaN</td>\n",
              "      <td>NaN</td>\n",
              "      <td>NaN</td>\n",
              "      <td>NaN</td>\n",
              "      <td>NaN</td>\n",
              "      <td>NaN</td>\n",
              "      <td>NaN</td>\n",
              "      <td>NaN</td>\n",
              "      <td>NaN</td>\n",
              "      <td>NaN</td>\n",
              "    </tr>\n",
              "  </tbody>\n",
              "</table>\n",
              "<p>5 rows × 30 columns</p>\n",
              "</div>\n",
              "      <button class=\"colab-df-convert\" onclick=\"convertToInteractive('df-114a6f75-caf3-44a2-9d29-4679baf937ca')\"\n",
              "              title=\"Convert this dataframe to an interactive table.\"\n",
              "              style=\"display:none;\">\n",
              "        \n",
              "  <svg xmlns=\"http://www.w3.org/2000/svg\" height=\"24px\"viewBox=\"0 0 24 24\"\n",
              "       width=\"24px\">\n",
              "    <path d=\"M0 0h24v24H0V0z\" fill=\"none\"/>\n",
              "    <path d=\"M18.56 5.44l.94 2.06.94-2.06 2.06-.94-2.06-.94-.94-2.06-.94 2.06-2.06.94zm-11 1L8.5 8.5l.94-2.06 2.06-.94-2.06-.94L8.5 2.5l-.94 2.06-2.06.94zm10 10l.94 2.06.94-2.06 2.06-.94-2.06-.94-.94-2.06-.94 2.06-2.06.94z\"/><path d=\"M17.41 7.96l-1.37-1.37c-.4-.4-.92-.59-1.43-.59-.52 0-1.04.2-1.43.59L10.3 9.45l-7.72 7.72c-.78.78-.78 2.05 0 2.83L4 21.41c.39.39.9.59 1.41.59.51 0 1.02-.2 1.41-.59l7.78-7.78 2.81-2.81c.8-.78.8-2.07 0-2.86zM5.41 20L4 18.59l7.72-7.72 1.47 1.35L5.41 20z\"/>\n",
              "  </svg>\n",
              "      </button>\n",
              "      \n",
              "  <style>\n",
              "    .colab-df-container {\n",
              "      display:flex;\n",
              "      flex-wrap:wrap;\n",
              "      gap: 12px;\n",
              "    }\n",
              "\n",
              "    .colab-df-convert {\n",
              "      background-color: #E8F0FE;\n",
              "      border: none;\n",
              "      border-radius: 50%;\n",
              "      cursor: pointer;\n",
              "      display: none;\n",
              "      fill: #1967D2;\n",
              "      height: 32px;\n",
              "      padding: 0 0 0 0;\n",
              "      width: 32px;\n",
              "    }\n",
              "\n",
              "    .colab-df-convert:hover {\n",
              "      background-color: #E2EBFA;\n",
              "      box-shadow: 0px 1px 2px rgba(60, 64, 67, 0.3), 0px 1px 3px 1px rgba(60, 64, 67, 0.15);\n",
              "      fill: #174EA6;\n",
              "    }\n",
              "\n",
              "    [theme=dark] .colab-df-convert {\n",
              "      background-color: #3B4455;\n",
              "      fill: #D2E3FC;\n",
              "    }\n",
              "\n",
              "    [theme=dark] .colab-df-convert:hover {\n",
              "      background-color: #434B5C;\n",
              "      box-shadow: 0px 1px 3px 1px rgba(0, 0, 0, 0.15);\n",
              "      filter: drop-shadow(0px 1px 2px rgba(0, 0, 0, 0.3));\n",
              "      fill: #FFFFFF;\n",
              "    }\n",
              "  </style>\n",
              "\n",
              "      <script>\n",
              "        const buttonEl =\n",
              "          document.querySelector('#df-114a6f75-caf3-44a2-9d29-4679baf937ca button.colab-df-convert');\n",
              "        buttonEl.style.display =\n",
              "          google.colab.kernel.accessAllowed ? 'block' : 'none';\n",
              "\n",
              "        async function convertToInteractive(key) {\n",
              "          const element = document.querySelector('#df-114a6f75-caf3-44a2-9d29-4679baf937ca');\n",
              "          const dataTable =\n",
              "            await google.colab.kernel.invokeFunction('convertToInteractive',\n",
              "                                                     [key], {});\n",
              "          if (!dataTable) return;\n",
              "\n",
              "          const docLinkHtml = 'Like what you see? Visit the ' +\n",
              "            '<a target=\"_blank\" href=https://colab.research.google.com/notebooks/data_table.ipynb>data table notebook</a>'\n",
              "            + ' to learn more about interactive tables.';\n",
              "          element.innerHTML = '';\n",
              "          dataTable['output_type'] = 'display_data';\n",
              "          await google.colab.output.renderOutput(dataTable, element);\n",
              "          const docLink = document.createElement('div');\n",
              "          docLink.innerHTML = docLinkHtml;\n",
              "          element.appendChild(docLink);\n",
              "        }\n",
              "      </script>\n",
              "    </div>\n",
              "  </div>\n",
              "  "
            ]
          },
          "metadata": {},
          "execution_count": 21
        }
      ]
    },
    {
      "cell_type": "code",
      "source": [
        "addresslist2=[]\n",
        "\n",
        "for i in range(len(dfnumimputed)):\n",
        "\n",
        "  lat2=str(dfnumimputed['Dropoff Lat'][i])\n",
        "  lng2=str(dfnumimputed['Dropoff Lng'][i])\n",
        "  try:\n",
        "    location2 = geolocator.reverse(lat2+\",\"+lng2)\n",
        "  except:\n",
        "    b5=0\n",
        "  try:\n",
        "    address2 = location2.raw['address']\n",
        "  except:\n",
        "    b7=1\n",
        "  addresslist2.append(address2)\n",
        "\n",
        "\n",
        "q2=pd.DataFrame(addresslist2)"
      ],
      "metadata": {
        "id": "9GY2T0Ho9Nme"
      },
      "execution_count": 22,
      "outputs": []
    },
    {
      "cell_type": "code",
      "source": [
        "q2.head()"
      ],
      "metadata": {
        "colab": {
          "base_uri": "https://localhost:8080/",
          "height": 595
        },
        "id": "OL3AXyRDfRDs",
        "outputId": "61fdac97-e3da-4047-9a3e-dee90d0b71ec"
      },
      "execution_count": 23,
      "outputs": [
        {
          "output_type": "execute_result",
          "data": {
            "text/plain": [
              "  house_number                                               road  \\\n",
              "0         1485                                     Alameda Franca   \n",
              "1          NaN                                 Rua Ruggero Fasano   \n",
              "2         1498                                     Alameda Franca   \n",
              "3          NaN  Corredor de Táxis/Ônibus/Acessibilidade de Des...   \n",
              "4         1498                                     Alameda Franca   \n",
              "\n",
              "                                              suburb       city  \\\n",
              "0                                    Jardim Paulista  São Paulo   \n",
              "1                                            Morumbi  São Paulo   \n",
              "2                                    Jardim Paulista  São Paulo   \n",
              "3  Aeroporto Internacional Governador André Franc...  Guarulhos   \n",
              "4                                    Jardim Paulista  São Paulo   \n",
              "\n",
              "                   municipality                             county  \\\n",
              "0  Região Imediata de São Paulo  Região Metropolitana de São Paulo   \n",
              "1  Região Imediata de São Paulo  Região Metropolitana de São Paulo   \n",
              "2  Região Imediata de São Paulo  Região Metropolitana de São Paulo   \n",
              "3  Região Imediata de São Paulo  Região Metropolitana de São Paulo   \n",
              "4  Região Imediata de São Paulo  Região Metropolitana de São Paulo   \n",
              "\n",
              "                                 state_district      state ISO3166-2-lvl4  \\\n",
              "0  Região Geográfica Intermediária de São Paulo  São Paulo          BR-SP   \n",
              "1  Região Geográfica Intermediária de São Paulo  São Paulo          BR-SP   \n",
              "2  Região Geográfica Intermediária de São Paulo  São Paulo          BR-SP   \n",
              "3  Região Geográfica Intermediária de São Paulo  São Paulo          BR-SP   \n",
              "4  Região Geográfica Intermediária de São Paulo  São Paulo          BR-SP   \n",
              "\n",
              "           region  ... shop place neighbourhood office leisure quarter  \\\n",
              "0  Região Sudeste  ...  NaN   NaN           NaN    NaN     NaN     NaN   \n",
              "1  Região Sudeste  ...  NaN   NaN           NaN    NaN     NaN     NaN   \n",
              "2  Região Sudeste  ...  NaN   NaN           NaN    NaN     NaN     NaN   \n",
              "3  Região Sudeste  ...  NaN   NaN           NaN    NaN     NaN     NaN   \n",
              "4  Região Sudeste  ...  NaN   NaN           NaN    NaN     NaN     NaN   \n",
              "\n",
              "  historic tourism railway town  \n",
              "0      NaN     NaN     NaN  NaN  \n",
              "1      NaN     NaN     NaN  NaN  \n",
              "2      NaN     NaN     NaN  NaN  \n",
              "3      NaN     NaN     NaN  NaN  \n",
              "4      NaN     NaN     NaN  NaN  \n",
              "\n",
              "[5 rows x 29 columns]"
            ],
            "text/html": [
              "\n",
              "  <div id=\"df-846efad9-4a9a-47cd-8355-943331e4055a\">\n",
              "    <div class=\"colab-df-container\">\n",
              "      <div>\n",
              "<style scoped>\n",
              "    .dataframe tbody tr th:only-of-type {\n",
              "        vertical-align: middle;\n",
              "    }\n",
              "\n",
              "    .dataframe tbody tr th {\n",
              "        vertical-align: top;\n",
              "    }\n",
              "\n",
              "    .dataframe thead th {\n",
              "        text-align: right;\n",
              "    }\n",
              "</style>\n",
              "<table border=\"1\" class=\"dataframe\">\n",
              "  <thead>\n",
              "    <tr style=\"text-align: right;\">\n",
              "      <th></th>\n",
              "      <th>house_number</th>\n",
              "      <th>road</th>\n",
              "      <th>suburb</th>\n",
              "      <th>city</th>\n",
              "      <th>municipality</th>\n",
              "      <th>county</th>\n",
              "      <th>state_district</th>\n",
              "      <th>state</th>\n",
              "      <th>ISO3166-2-lvl4</th>\n",
              "      <th>region</th>\n",
              "      <th>...</th>\n",
              "      <th>shop</th>\n",
              "      <th>place</th>\n",
              "      <th>neighbourhood</th>\n",
              "      <th>office</th>\n",
              "      <th>leisure</th>\n",
              "      <th>quarter</th>\n",
              "      <th>historic</th>\n",
              "      <th>tourism</th>\n",
              "      <th>railway</th>\n",
              "      <th>town</th>\n",
              "    </tr>\n",
              "  </thead>\n",
              "  <tbody>\n",
              "    <tr>\n",
              "      <th>0</th>\n",
              "      <td>1485</td>\n",
              "      <td>Alameda Franca</td>\n",
              "      <td>Jardim Paulista</td>\n",
              "      <td>São Paulo</td>\n",
              "      <td>Região Imediata de São Paulo</td>\n",
              "      <td>Região Metropolitana de São Paulo</td>\n",
              "      <td>Região Geográfica Intermediária de São Paulo</td>\n",
              "      <td>São Paulo</td>\n",
              "      <td>BR-SP</td>\n",
              "      <td>Região Sudeste</td>\n",
              "      <td>...</td>\n",
              "      <td>NaN</td>\n",
              "      <td>NaN</td>\n",
              "      <td>NaN</td>\n",
              "      <td>NaN</td>\n",
              "      <td>NaN</td>\n",
              "      <td>NaN</td>\n",
              "      <td>NaN</td>\n",
              "      <td>NaN</td>\n",
              "      <td>NaN</td>\n",
              "      <td>NaN</td>\n",
              "    </tr>\n",
              "    <tr>\n",
              "      <th>1</th>\n",
              "      <td>NaN</td>\n",
              "      <td>Rua Ruggero Fasano</td>\n",
              "      <td>Morumbi</td>\n",
              "      <td>São Paulo</td>\n",
              "      <td>Região Imediata de São Paulo</td>\n",
              "      <td>Região Metropolitana de São Paulo</td>\n",
              "      <td>Região Geográfica Intermediária de São Paulo</td>\n",
              "      <td>São Paulo</td>\n",
              "      <td>BR-SP</td>\n",
              "      <td>Região Sudeste</td>\n",
              "      <td>...</td>\n",
              "      <td>NaN</td>\n",
              "      <td>NaN</td>\n",
              "      <td>NaN</td>\n",
              "      <td>NaN</td>\n",
              "      <td>NaN</td>\n",
              "      <td>NaN</td>\n",
              "      <td>NaN</td>\n",
              "      <td>NaN</td>\n",
              "      <td>NaN</td>\n",
              "      <td>NaN</td>\n",
              "    </tr>\n",
              "    <tr>\n",
              "      <th>2</th>\n",
              "      <td>1498</td>\n",
              "      <td>Alameda Franca</td>\n",
              "      <td>Jardim Paulista</td>\n",
              "      <td>São Paulo</td>\n",
              "      <td>Região Imediata de São Paulo</td>\n",
              "      <td>Região Metropolitana de São Paulo</td>\n",
              "      <td>Região Geográfica Intermediária de São Paulo</td>\n",
              "      <td>São Paulo</td>\n",
              "      <td>BR-SP</td>\n",
              "      <td>Região Sudeste</td>\n",
              "      <td>...</td>\n",
              "      <td>NaN</td>\n",
              "      <td>NaN</td>\n",
              "      <td>NaN</td>\n",
              "      <td>NaN</td>\n",
              "      <td>NaN</td>\n",
              "      <td>NaN</td>\n",
              "      <td>NaN</td>\n",
              "      <td>NaN</td>\n",
              "      <td>NaN</td>\n",
              "      <td>NaN</td>\n",
              "    </tr>\n",
              "    <tr>\n",
              "      <th>3</th>\n",
              "      <td>NaN</td>\n",
              "      <td>Corredor de Táxis/Ônibus/Acessibilidade de Des...</td>\n",
              "      <td>Aeroporto Internacional Governador André Franc...</td>\n",
              "      <td>Guarulhos</td>\n",
              "      <td>Região Imediata de São Paulo</td>\n",
              "      <td>Região Metropolitana de São Paulo</td>\n",
              "      <td>Região Geográfica Intermediária de São Paulo</td>\n",
              "      <td>São Paulo</td>\n",
              "      <td>BR-SP</td>\n",
              "      <td>Região Sudeste</td>\n",
              "      <td>...</td>\n",
              "      <td>NaN</td>\n",
              "      <td>NaN</td>\n",
              "      <td>NaN</td>\n",
              "      <td>NaN</td>\n",
              "      <td>NaN</td>\n",
              "      <td>NaN</td>\n",
              "      <td>NaN</td>\n",
              "      <td>NaN</td>\n",
              "      <td>NaN</td>\n",
              "      <td>NaN</td>\n",
              "    </tr>\n",
              "    <tr>\n",
              "      <th>4</th>\n",
              "      <td>1498</td>\n",
              "      <td>Alameda Franca</td>\n",
              "      <td>Jardim Paulista</td>\n",
              "      <td>São Paulo</td>\n",
              "      <td>Região Imediata de São Paulo</td>\n",
              "      <td>Região Metropolitana de São Paulo</td>\n",
              "      <td>Região Geográfica Intermediária de São Paulo</td>\n",
              "      <td>São Paulo</td>\n",
              "      <td>BR-SP</td>\n",
              "      <td>Região Sudeste</td>\n",
              "      <td>...</td>\n",
              "      <td>NaN</td>\n",
              "      <td>NaN</td>\n",
              "      <td>NaN</td>\n",
              "      <td>NaN</td>\n",
              "      <td>NaN</td>\n",
              "      <td>NaN</td>\n",
              "      <td>NaN</td>\n",
              "      <td>NaN</td>\n",
              "      <td>NaN</td>\n",
              "      <td>NaN</td>\n",
              "    </tr>\n",
              "  </tbody>\n",
              "</table>\n",
              "<p>5 rows × 29 columns</p>\n",
              "</div>\n",
              "      <button class=\"colab-df-convert\" onclick=\"convertToInteractive('df-846efad9-4a9a-47cd-8355-943331e4055a')\"\n",
              "              title=\"Convert this dataframe to an interactive table.\"\n",
              "              style=\"display:none;\">\n",
              "        \n",
              "  <svg xmlns=\"http://www.w3.org/2000/svg\" height=\"24px\"viewBox=\"0 0 24 24\"\n",
              "       width=\"24px\">\n",
              "    <path d=\"M0 0h24v24H0V0z\" fill=\"none\"/>\n",
              "    <path d=\"M18.56 5.44l.94 2.06.94-2.06 2.06-.94-2.06-.94-.94-2.06-.94 2.06-2.06.94zm-11 1L8.5 8.5l.94-2.06 2.06-.94-2.06-.94L8.5 2.5l-.94 2.06-2.06.94zm10 10l.94 2.06.94-2.06 2.06-.94-2.06-.94-.94-2.06-.94 2.06-2.06.94z\"/><path d=\"M17.41 7.96l-1.37-1.37c-.4-.4-.92-.59-1.43-.59-.52 0-1.04.2-1.43.59L10.3 9.45l-7.72 7.72c-.78.78-.78 2.05 0 2.83L4 21.41c.39.39.9.59 1.41.59.51 0 1.02-.2 1.41-.59l7.78-7.78 2.81-2.81c.8-.78.8-2.07 0-2.86zM5.41 20L4 18.59l7.72-7.72 1.47 1.35L5.41 20z\"/>\n",
              "  </svg>\n",
              "      </button>\n",
              "      \n",
              "  <style>\n",
              "    .colab-df-container {\n",
              "      display:flex;\n",
              "      flex-wrap:wrap;\n",
              "      gap: 12px;\n",
              "    }\n",
              "\n",
              "    .colab-df-convert {\n",
              "      background-color: #E8F0FE;\n",
              "      border: none;\n",
              "      border-radius: 50%;\n",
              "      cursor: pointer;\n",
              "      display: none;\n",
              "      fill: #1967D2;\n",
              "      height: 32px;\n",
              "      padding: 0 0 0 0;\n",
              "      width: 32px;\n",
              "    }\n",
              "\n",
              "    .colab-df-convert:hover {\n",
              "      background-color: #E2EBFA;\n",
              "      box-shadow: 0px 1px 2px rgba(60, 64, 67, 0.3), 0px 1px 3px 1px rgba(60, 64, 67, 0.15);\n",
              "      fill: #174EA6;\n",
              "    }\n",
              "\n",
              "    [theme=dark] .colab-df-convert {\n",
              "      background-color: #3B4455;\n",
              "      fill: #D2E3FC;\n",
              "    }\n",
              "\n",
              "    [theme=dark] .colab-df-convert:hover {\n",
              "      background-color: #434B5C;\n",
              "      box-shadow: 0px 1px 3px 1px rgba(0, 0, 0, 0.15);\n",
              "      filter: drop-shadow(0px 1px 2px rgba(0, 0, 0, 0.3));\n",
              "      fill: #FFFFFF;\n",
              "    }\n",
              "  </style>\n",
              "\n",
              "      <script>\n",
              "        const buttonEl =\n",
              "          document.querySelector('#df-846efad9-4a9a-47cd-8355-943331e4055a button.colab-df-convert');\n",
              "        buttonEl.style.display =\n",
              "          google.colab.kernel.accessAllowed ? 'block' : 'none';\n",
              "\n",
              "        async function convertToInteractive(key) {\n",
              "          const element = document.querySelector('#df-846efad9-4a9a-47cd-8355-943331e4055a');\n",
              "          const dataTable =\n",
              "            await google.colab.kernel.invokeFunction('convertToInteractive',\n",
              "                                                     [key], {});\n",
              "          if (!dataTable) return;\n",
              "\n",
              "          const docLinkHtml = 'Like what you see? Visit the ' +\n",
              "            '<a target=\"_blank\" href=https://colab.research.google.com/notebooks/data_table.ipynb>data table notebook</a>'\n",
              "            + ' to learn more about interactive tables.';\n",
              "          element.innerHTML = '';\n",
              "          dataTable['output_type'] = 'display_data';\n",
              "          await google.colab.output.renderOutput(dataTable, element);\n",
              "          const docLink = document.createElement('div');\n",
              "          docLink.innerHTML = docLinkHtml;\n",
              "          element.appendChild(docLink);\n",
              "        }\n",
              "      </script>\n",
              "    </div>\n",
              "  </div>\n",
              "  "
            ]
          },
          "metadata": {},
          "execution_count": 23
        }
      ]
    },
    {
      "cell_type": "code",
      "source": [
        "dfcatencoding2=pd.get_dummies(q)"
      ],
      "metadata": {
        "id": "D826iY5b29x7"
      },
      "execution_count": 32,
      "outputs": []
    },
    {
      "cell_type": "code",
      "source": [
        "dfcatencoding3=pd.get_dummies(q2)"
      ],
      "metadata": {
        "id": "z-qQg0Zi293K"
      },
      "execution_count": 33,
      "outputs": []
    },
    {
      "cell_type": "code",
      "source": [
        "s1=q[q.columns[0:]].agg(lambda x: ' '.join(x.dropna().astype(str)),axis=1)\n"
      ],
      "metadata": {
        "id": "2w4XVi62BbbO"
      },
      "execution_count": 34,
      "outputs": []
    },
    {
      "cell_type": "markdown",
      "source": [
        "Tfidf Vectorizer"
      ],
      "metadata": {
        "id": "Q8Q-zrnlVf_Z"
      }
    },
    {
      "cell_type": "code",
      "source": [
        "from sklearn.feature_extraction.text import TfidfVectorizer\n",
        "\n",
        "\n",
        "vectorizer = TfidfVectorizer()\n",
        "\n",
        "tfi1=vectorizer.fit_transform(s1)\n"
      ],
      "metadata": {
        "id": "jRPIaPhkEhIy"
      },
      "execution_count": 35,
      "outputs": []
    },
    {
      "cell_type": "code",
      "source": [
        "dftfienc1=pd.DataFrame(tfi1.toarray())"
      ],
      "metadata": {
        "id": "XBN87_nfE2fH"
      },
      "execution_count": 36,
      "outputs": []
    },
    {
      "cell_type": "code",
      "source": [
        "s2=q2[q2.columns[0:]].apply(lambda x: ' '.join(x.dropna().astype(str)),axis=1)\n"
      ],
      "metadata": {
        "id": "RpWvCYw2D2Ks"
      },
      "execution_count": 37,
      "outputs": []
    },
    {
      "cell_type": "code",
      "source": [
        "from sklearn.feature_extraction.text import TfidfVectorizer\n",
        "\n",
        "\n",
        "vectorizer2 = TfidfVectorizer()\n",
        "\n",
        "tfi2=vectorizer2.fit_transform(s2)\n"
      ],
      "metadata": {
        "id": "K8ZKFqY0Eh--"
      },
      "execution_count": 38,
      "outputs": []
    },
    {
      "cell_type": "code",
      "source": [
        "dftfienc2=pd.DataFrame(tfi2.toarray())"
      ],
      "metadata": {
        "id": "2gPmepQXEiCt"
      },
      "execution_count": 39,
      "outputs": []
    },
    {
      "cell_type": "code",
      "source": [
        "dataframes=[dfnumimputed,dfcatencoding,dfcatencoding2,dfcatencoding3,dftfienc1,dftfienc2]\n",
        "dfencoded=pd.concat(dataframes,axis=1)"
      ],
      "metadata": {
        "id": "w4BPsVWS_KnZ"
      },
      "execution_count": 40,
      "outputs": []
    },
    {
      "cell_type": "code",
      "source": [
        "X=dfencoded"
      ],
      "metadata": {
        "id": "TpwlJrKFBt6F"
      },
      "execution_count": 41,
      "outputs": []
    },
    {
      "cell_type": "code",
      "source": [
        "X.head()"
      ],
      "metadata": {
        "colab": {
          "base_uri": "https://localhost:8080/",
          "height": 297
        },
        "id": "Av5FRalFqkSA",
        "outputId": "e096280d-192b-49c6-e678-a89cd156e917"
      },
      "execution_count": 43,
      "outputs": [
        {
          "output_type": "execute_result",
          "data": {
            "text/plain": [
              "   Begin Trip Lat  Begin Trip Lng  Dropoff Lat  Dropoff Lng  Distance (miles)  \\\n",
              "0          -23.60          -46.72       -23.56       -46.67              4.84   \n",
              "1          -23.56          -46.67       -23.60       -46.72              5.31   \n",
              "2          -23.63          -46.66       -23.56       -46.67              5.90   \n",
              "3          -23.56          -46.67       -23.43       -46.48             19.74   \n",
              "4          -23.58          -46.66       -23.56       -46.67              2.54   \n",
              "\n",
              "   Fare Amount  City  Product Type_Black  Product Type_Juntos  \\\n",
              "0        29.63   458                   1                    0   \n",
              "1        20.86   458                   0                    0   \n",
              "2        34.23   458                   0                    0   \n",
              "3        58.77   458                   0                    0   \n",
              "4        12.63   458                   0                    0   \n",
              "\n",
              "   Product Type_POOL  ...  834  835  836  837  838  839  840  841  842  843  \n",
              "0                  0  ... 0.00 0.00 0.00 0.00 0.00 0.00 0.00 0.00 0.00 0.00  \n",
              "1                  0  ... 0.00 0.00 0.00 0.00 0.00 0.00 0.00 0.00 0.00 0.00  \n",
              "2                  0  ... 0.00 0.00 0.00 0.00 0.00 0.00 0.00 0.00 0.00 0.00  \n",
              "3                  0  ... 0.00 0.00 0.00 0.00 0.00 0.00 0.00 0.00 0.00 0.18  \n",
              "4                  0  ... 0.00 0.00 0.00 0.00 0.00 0.00 0.00 0.00 0.00 0.00  \n",
              "\n",
              "[5 rows x 3125 columns]"
            ],
            "text/html": [
              "\n",
              "  <div id=\"df-fc61ebfe-68f4-4134-a68f-1cce723d61e0\">\n",
              "    <div class=\"colab-df-container\">\n",
              "      <div>\n",
              "<style scoped>\n",
              "    .dataframe tbody tr th:only-of-type {\n",
              "        vertical-align: middle;\n",
              "    }\n",
              "\n",
              "    .dataframe tbody tr th {\n",
              "        vertical-align: top;\n",
              "    }\n",
              "\n",
              "    .dataframe thead th {\n",
              "        text-align: right;\n",
              "    }\n",
              "</style>\n",
              "<table border=\"1\" class=\"dataframe\">\n",
              "  <thead>\n",
              "    <tr style=\"text-align: right;\">\n",
              "      <th></th>\n",
              "      <th>Begin Trip Lat</th>\n",
              "      <th>Begin Trip Lng</th>\n",
              "      <th>Dropoff Lat</th>\n",
              "      <th>Dropoff Lng</th>\n",
              "      <th>Distance (miles)</th>\n",
              "      <th>Fare Amount</th>\n",
              "      <th>City</th>\n",
              "      <th>Product Type_Black</th>\n",
              "      <th>Product Type_Juntos</th>\n",
              "      <th>Product Type_POOL</th>\n",
              "      <th>...</th>\n",
              "      <th>834</th>\n",
              "      <th>835</th>\n",
              "      <th>836</th>\n",
              "      <th>837</th>\n",
              "      <th>838</th>\n",
              "      <th>839</th>\n",
              "      <th>840</th>\n",
              "      <th>841</th>\n",
              "      <th>842</th>\n",
              "      <th>843</th>\n",
              "    </tr>\n",
              "  </thead>\n",
              "  <tbody>\n",
              "    <tr>\n",
              "      <th>0</th>\n",
              "      <td>-23.60</td>\n",
              "      <td>-46.72</td>\n",
              "      <td>-23.56</td>\n",
              "      <td>-46.67</td>\n",
              "      <td>4.84</td>\n",
              "      <td>29.63</td>\n",
              "      <td>458</td>\n",
              "      <td>1</td>\n",
              "      <td>0</td>\n",
              "      <td>0</td>\n",
              "      <td>...</td>\n",
              "      <td>0.00</td>\n",
              "      <td>0.00</td>\n",
              "      <td>0.00</td>\n",
              "      <td>0.00</td>\n",
              "      <td>0.00</td>\n",
              "      <td>0.00</td>\n",
              "      <td>0.00</td>\n",
              "      <td>0.00</td>\n",
              "      <td>0.00</td>\n",
              "      <td>0.00</td>\n",
              "    </tr>\n",
              "    <tr>\n",
              "      <th>1</th>\n",
              "      <td>-23.56</td>\n",
              "      <td>-46.67</td>\n",
              "      <td>-23.60</td>\n",
              "      <td>-46.72</td>\n",
              "      <td>5.31</td>\n",
              "      <td>20.86</td>\n",
              "      <td>458</td>\n",
              "      <td>0</td>\n",
              "      <td>0</td>\n",
              "      <td>0</td>\n",
              "      <td>...</td>\n",
              "      <td>0.00</td>\n",
              "      <td>0.00</td>\n",
              "      <td>0.00</td>\n",
              "      <td>0.00</td>\n",
              "      <td>0.00</td>\n",
              "      <td>0.00</td>\n",
              "      <td>0.00</td>\n",
              "      <td>0.00</td>\n",
              "      <td>0.00</td>\n",
              "      <td>0.00</td>\n",
              "    </tr>\n",
              "    <tr>\n",
              "      <th>2</th>\n",
              "      <td>-23.63</td>\n",
              "      <td>-46.66</td>\n",
              "      <td>-23.56</td>\n",
              "      <td>-46.67</td>\n",
              "      <td>5.90</td>\n",
              "      <td>34.23</td>\n",
              "      <td>458</td>\n",
              "      <td>0</td>\n",
              "      <td>0</td>\n",
              "      <td>0</td>\n",
              "      <td>...</td>\n",
              "      <td>0.00</td>\n",
              "      <td>0.00</td>\n",
              "      <td>0.00</td>\n",
              "      <td>0.00</td>\n",
              "      <td>0.00</td>\n",
              "      <td>0.00</td>\n",
              "      <td>0.00</td>\n",
              "      <td>0.00</td>\n",
              "      <td>0.00</td>\n",
              "      <td>0.00</td>\n",
              "    </tr>\n",
              "    <tr>\n",
              "      <th>3</th>\n",
              "      <td>-23.56</td>\n",
              "      <td>-46.67</td>\n",
              "      <td>-23.43</td>\n",
              "      <td>-46.48</td>\n",
              "      <td>19.74</td>\n",
              "      <td>58.77</td>\n",
              "      <td>458</td>\n",
              "      <td>0</td>\n",
              "      <td>0</td>\n",
              "      <td>0</td>\n",
              "      <td>...</td>\n",
              "      <td>0.00</td>\n",
              "      <td>0.00</td>\n",
              "      <td>0.00</td>\n",
              "      <td>0.00</td>\n",
              "      <td>0.00</td>\n",
              "      <td>0.00</td>\n",
              "      <td>0.00</td>\n",
              "      <td>0.00</td>\n",
              "      <td>0.00</td>\n",
              "      <td>0.18</td>\n",
              "    </tr>\n",
              "    <tr>\n",
              "      <th>4</th>\n",
              "      <td>-23.58</td>\n",
              "      <td>-46.66</td>\n",
              "      <td>-23.56</td>\n",
              "      <td>-46.67</td>\n",
              "      <td>2.54</td>\n",
              "      <td>12.63</td>\n",
              "      <td>458</td>\n",
              "      <td>0</td>\n",
              "      <td>0</td>\n",
              "      <td>0</td>\n",
              "      <td>...</td>\n",
              "      <td>0.00</td>\n",
              "      <td>0.00</td>\n",
              "      <td>0.00</td>\n",
              "      <td>0.00</td>\n",
              "      <td>0.00</td>\n",
              "      <td>0.00</td>\n",
              "      <td>0.00</td>\n",
              "      <td>0.00</td>\n",
              "      <td>0.00</td>\n",
              "      <td>0.00</td>\n",
              "    </tr>\n",
              "  </tbody>\n",
              "</table>\n",
              "<p>5 rows × 3125 columns</p>\n",
              "</div>\n",
              "      <button class=\"colab-df-convert\" onclick=\"convertToInteractive('df-fc61ebfe-68f4-4134-a68f-1cce723d61e0')\"\n",
              "              title=\"Convert this dataframe to an interactive table.\"\n",
              "              style=\"display:none;\">\n",
              "        \n",
              "  <svg xmlns=\"http://www.w3.org/2000/svg\" height=\"24px\"viewBox=\"0 0 24 24\"\n",
              "       width=\"24px\">\n",
              "    <path d=\"M0 0h24v24H0V0z\" fill=\"none\"/>\n",
              "    <path d=\"M18.56 5.44l.94 2.06.94-2.06 2.06-.94-2.06-.94-.94-2.06-.94 2.06-2.06.94zm-11 1L8.5 8.5l.94-2.06 2.06-.94-2.06-.94L8.5 2.5l-.94 2.06-2.06.94zm10 10l.94 2.06.94-2.06 2.06-.94-2.06-.94-.94-2.06-.94 2.06-2.06.94z\"/><path d=\"M17.41 7.96l-1.37-1.37c-.4-.4-.92-.59-1.43-.59-.52 0-1.04.2-1.43.59L10.3 9.45l-7.72 7.72c-.78.78-.78 2.05 0 2.83L4 21.41c.39.39.9.59 1.41.59.51 0 1.02-.2 1.41-.59l7.78-7.78 2.81-2.81c.8-.78.8-2.07 0-2.86zM5.41 20L4 18.59l7.72-7.72 1.47 1.35L5.41 20z\"/>\n",
              "  </svg>\n",
              "      </button>\n",
              "      \n",
              "  <style>\n",
              "    .colab-df-container {\n",
              "      display:flex;\n",
              "      flex-wrap:wrap;\n",
              "      gap: 12px;\n",
              "    }\n",
              "\n",
              "    .colab-df-convert {\n",
              "      background-color: #E8F0FE;\n",
              "      border: none;\n",
              "      border-radius: 50%;\n",
              "      cursor: pointer;\n",
              "      display: none;\n",
              "      fill: #1967D2;\n",
              "      height: 32px;\n",
              "      padding: 0 0 0 0;\n",
              "      width: 32px;\n",
              "    }\n",
              "\n",
              "    .colab-df-convert:hover {\n",
              "      background-color: #E2EBFA;\n",
              "      box-shadow: 0px 1px 2px rgba(60, 64, 67, 0.3), 0px 1px 3px 1px rgba(60, 64, 67, 0.15);\n",
              "      fill: #174EA6;\n",
              "    }\n",
              "\n",
              "    [theme=dark] .colab-df-convert {\n",
              "      background-color: #3B4455;\n",
              "      fill: #D2E3FC;\n",
              "    }\n",
              "\n",
              "    [theme=dark] .colab-df-convert:hover {\n",
              "      background-color: #434B5C;\n",
              "      box-shadow: 0px 1px 3px 1px rgba(0, 0, 0, 0.15);\n",
              "      filter: drop-shadow(0px 1px 2px rgba(0, 0, 0, 0.3));\n",
              "      fill: #FFFFFF;\n",
              "    }\n",
              "  </style>\n",
              "\n",
              "      <script>\n",
              "        const buttonEl =\n",
              "          document.querySelector('#df-fc61ebfe-68f4-4134-a68f-1cce723d61e0 button.colab-df-convert');\n",
              "        buttonEl.style.display =\n",
              "          google.colab.kernel.accessAllowed ? 'block' : 'none';\n",
              "\n",
              "        async function convertToInteractive(key) {\n",
              "          const element = document.querySelector('#df-fc61ebfe-68f4-4134-a68f-1cce723d61e0');\n",
              "          const dataTable =\n",
              "            await google.colab.kernel.invokeFunction('convertToInteractive',\n",
              "                                                     [key], {});\n",
              "          if (!dataTable) return;\n",
              "\n",
              "          const docLinkHtml = 'Like what you see? Visit the ' +\n",
              "            '<a target=\"_blank\" href=https://colab.research.google.com/notebooks/data_table.ipynb>data table notebook</a>'\n",
              "            + ' to learn more about interactive tables.';\n",
              "          element.innerHTML = '';\n",
              "          dataTable['output_type'] = 'display_data';\n",
              "          await google.colab.output.renderOutput(dataTable, element);\n",
              "          const docLink = document.createElement('div');\n",
              "          docLink.innerHTML = docLinkHtml;\n",
              "          element.appendChild(docLink);\n",
              "        }\n",
              "      </script>\n",
              "    </div>\n",
              "  </div>\n",
              "  "
            ]
          },
          "metadata": {},
          "execution_count": 43
        }
      ]
    },
    {
      "cell_type": "markdown",
      "source": [
        "Synthetic Minority Oversampling for resolving class imbalance"
      ],
      "metadata": {
        "id": "DSqLphV4086j"
      }
    },
    {
      "cell_type": "code",
      "source": [
        "from collections import Counter\n",
        "from sklearn.datasets import make_classification\n",
        "from imblearn.over_sampling import SMOTE \n",
        "\n",
        "sm = SMOTE(random_state=42)\n",
        "X_res, y_res = sm.fit_resample(X.to_numpy(), y)"
      ],
      "metadata": {
        "id": "DbszJA7chYEJ"
      },
      "execution_count": 44,
      "outputs": []
    },
    {
      "cell_type": "markdown",
      "source": [
        "Test train split"
      ],
      "metadata": {
        "id": "6WfhaOxQbX6E"
      }
    },
    {
      "cell_type": "code",
      "source": [
        "X_train, X_test, y_train, y_test = train_test_split(X_res, y_res, test_size=0.50)"
      ],
      "metadata": {
        "id": "MiuYV3IyAsBE"
      },
      "execution_count": 45,
      "outputs": []
    },
    {
      "cell_type": "markdown",
      "source": [
        "Fitting 29 classification models"
      ],
      "metadata": {
        "id": "C9YK_MQVbZTg"
      }
    },
    {
      "cell_type": "code",
      "source": [
        "clf = LazyClassifier(verbose=1, ignore_warnings=True, custom_metric = None)\n",
        "models, predictions = clf.fit(X_train, X_test, y_train, y_test)"
      ],
      "metadata": {
        "colab": {
          "base_uri": "https://localhost:8080/"
        },
        "id": "A-gNbIvQAsEI",
        "outputId": "5bce987a-4e0d-4e64-df2c-3a64756b8043"
      },
      "execution_count": 46,
      "outputs": [
        {
          "output_type": "stream",
          "name": "stderr",
          "text": [
            "  3%|▎         | 1/29 [00:01<00:33,  1.20s/it]"
          ]
        },
        {
          "output_type": "stream",
          "name": "stdout",
          "text": [
            "{'Model': 'AdaBoostClassifier', 'Accuracy': 0.9933774834437086, 'Balanced Accuracy': 0.9929245283018868, 'ROC AUC': 0.9929245283018867, 'F1 Score': 0.9933743697889866, 'Time taken': 1.194037914276123}\n"
          ]
        },
        {
          "output_type": "stream",
          "name": "stderr",
          "text": [
            "\r  7%|▋         | 2/29 [00:01<00:19,  1.37it/s]"
          ]
        },
        {
          "output_type": "stream",
          "name": "stdout",
          "text": [
            "{'Model': 'BaggingClassifier', 'Accuracy': 0.9955849889624724, 'Balanced Accuracy': 0.9952830188679245, 'ROC AUC': 0.9952830188679246, 'F1 Score': 0.9955836487746402, 'Time taken': 0.4056973457336426}\n"
          ]
        },
        {
          "output_type": "stream",
          "name": "stderr",
          "text": [
            "\r 10%|█         | 3/29 [00:01<00:12,  2.00it/s]"
          ]
        },
        {
          "output_type": "stream",
          "name": "stdout",
          "text": [
            "{'Model': 'BernoulliNB', 'Accuracy': 0.9271523178807947, 'Balanced Accuracy': 0.9241564237062554, 'ROC AUC': 0.9241564237062555, 'F1 Score': 0.9268248883640617, 'Time taken': 0.21559453010559082}\n"
          ]
        },
        {
          "output_type": "stream",
          "name": "stderr",
          "text": [
            " 17%|█▋        | 5/29 [00:14<01:21,  3.38s/it]"
          ]
        },
        {
          "output_type": "stream",
          "name": "stdout",
          "text": [
            "{'Model': 'CalibratedClassifierCV', 'Accuracy': 0.9580573951434879, 'Balanced Accuracy': 0.9600133093243561, 'ROC AUC': 0.960013309324356, 'F1 Score': 0.958100358014232, 'Time taken': 12.400191307067871}\n"
          ]
        },
        {
          "output_type": "stream",
          "name": "stderr",
          "text": [
            " 24%|██▍       | 7/29 [00:14<00:35,  1.59s/it]"
          ]
        },
        {
          "output_type": "stream",
          "name": "stdout",
          "text": [
            "{'Model': 'DecisionTreeClassifier', 'Accuracy': 0.9933774834437086, 'Balanced Accuracy': 0.9929245283018868, 'ROC AUC': 0.9929245283018867, 'F1 Score': 0.9933743697889866, 'Time taken': 0.1749401092529297}\n",
            "{'Model': 'DummyClassifier', 'Accuracy': 0.46799116997792495, 'Balanced Accuracy': 0.5, 'ROC AUC': 0.5, 'F1 Score': 0.29838835499344385, 'Time taken': 0.15073895454406738}\n"
          ]
        },
        {
          "output_type": "stream",
          "name": "stderr",
          "text": [
            "\r 28%|██▊       | 8/29 [00:14<00:23,  1.14s/it]"
          ]
        },
        {
          "output_type": "stream",
          "name": "stdout",
          "text": [
            "{'Model': 'ExtraTreeClassifier', 'Accuracy': 0.9403973509933775, 'Balanced Accuracy': 0.9411453847960543, 'ROC AUC': 0.9411453847960541, 'F1 Score': 0.9404421858105567, 'Time taken': 0.1646273136138916}\n"
          ]
        },
        {
          "output_type": "stream",
          "name": "stderr",
          "text": [
            " 34%|███▍      | 10/29 [00:15<00:13,  1.40it/s]"
          ]
        },
        {
          "output_type": "stream",
          "name": "stdout",
          "text": [
            "{'Model': 'ExtraTreesClassifier', 'Accuracy': 0.9845474613686535, 'Balanced Accuracy': 0.9851933766538792, 'ROC AUC': 0.9851933766538793, 'F1 Score': 0.9845565229796143, 'Time taken': 0.5402703285217285}\n",
            "{'Model': 'GaussianNB', 'Accuracy': 0.9072847682119205, 'Balanced Accuracy': 0.9122954670007046, 'ROC AUC': 0.9122954670007047, 'F1 Score': 0.9071301885871423, 'Time taken': 0.18478178977966309}\n"
          ]
        },
        {
          "output_type": "stream",
          "name": "stderr",
          "text": [
            "\r 38%|███▊      | 11/29 [00:15<00:10,  1.76it/s]"
          ]
        },
        {
          "output_type": "stream",
          "name": "stdout",
          "text": [
            "{'Model': 'KNeighborsClassifier', 'Accuracy': 0.8322295805739515, 'Balanced Accuracy': 0.8321067877554216, 'ROC AUC': 0.8321067877554218, 'F1 Score': 0.8323115862143857, 'Time taken': 0.22875165939331055}\n"
          ]
        },
        {
          "output_type": "stream",
          "name": "stderr",
          "text": [
            "\r 41%|████▏     | 12/29 [00:16<00:08,  2.02it/s]"
          ]
        },
        {
          "output_type": "stream",
          "name": "stdout",
          "text": [
            "{'Model': 'LabelPropagation', 'Accuracy': 0.6004415011037527, 'Balanced Accuracy': 0.6244813278008299, 'ROC AUC': 0.6244813278008299, 'F1 Score': 0.540077132076908, 'Time taken': 0.32257819175720215}\n"
          ]
        },
        {
          "output_type": "stream",
          "name": "stderr",
          "text": [
            "\r 45%|████▍     | 13/29 [00:16<00:07,  2.25it/s]"
          ]
        },
        {
          "output_type": "stream",
          "name": "stdout",
          "text": [
            "{'Model': 'LabelSpreading', 'Accuracy': 0.6004415011037527, 'Balanced Accuracy': 0.6244813278008299, 'ROC AUC': 0.6244813278008299, 'F1 Score': 0.540077132076908, 'Time taken': 0.3210916519165039}\n"
          ]
        },
        {
          "output_type": "stream",
          "name": "stderr",
          "text": [
            "\r 48%|████▊     | 14/29 [00:17<00:08,  1.79it/s]"
          ]
        },
        {
          "output_type": "stream",
          "name": "stdout",
          "text": [
            "{'Model': 'LinearDiscriminantAnalysis', 'Accuracy': 0.8233995584988962, 'Balanced Accuracy': 0.8340248962655601, 'ROC AUC': 0.8340248962655601, 'F1 Score': 0.8198432833205987, 'Time taken': 0.817101240158081}\n"
          ]
        },
        {
          "output_type": "stream",
          "name": "stderr",
          "text": [
            "\r 52%|█████▏    | 15/29 [00:20<00:17,  1.24s/it]"
          ]
        },
        {
          "output_type": "stream",
          "name": "stdout",
          "text": [
            "{'Model': 'LinearSVC', 'Accuracy': 0.9492273730684326, 'Balanced Accuracy': 0.9517145541376341, 'ROC AUC': 0.9517145541376341, 'F1 Score': 0.9492744056175506, 'Time taken': 2.8263745307922363}\n"
          ]
        },
        {
          "output_type": "stream",
          "name": "stderr",
          "text": [
            "\r 55%|█████▌    | 16/29 [00:20<00:12,  1.04it/s]"
          ]
        },
        {
          "output_type": "stream",
          "name": "stdout",
          "text": [
            "{'Model': 'LogisticRegression', 'Accuracy': 0.9470198675496688, 'Balanced Accuracy': 0.950207468879668, 'ROC AUC': 0.950207468879668, 'F1 Score': 0.9470508524992461, 'Time taken': 0.3084409236907959}\n"
          ]
        },
        {
          "output_type": "stream",
          "name": "stderr",
          "text": [
            "\r 59%|█████▊    | 17/29 [00:20<00:08,  1.35it/s]"
          ]
        },
        {
          "output_type": "stream",
          "name": "stdout",
          "text": [
            "{'Model': 'NearestCentroid', 'Accuracy': 0.9006622516556292, 'Balanced Accuracy': 0.902381977609019, 'ROC AUC': 0.902381977609019, 'F1 Score': 0.900764005823181, 'Time taken': 0.21340179443359375}\n"
          ]
        },
        {
          "output_type": "stream",
          "name": "stderr",
          "text": [
            "\r 62%|██████▏   | 18/29 [00:21<00:08,  1.28it/s]"
          ]
        },
        {
          "output_type": "stream",
          "name": "stdout",
          "text": [
            "{'Model': 'NuSVC', 'Accuracy': 0.8631346578366446, 'Balanced Accuracy': 0.8620038362170203, 'ROC AUC': 0.8620038362170203, 'F1 Score': 0.8630461499728117, 'Time taken': 0.8844747543334961}\n"
          ]
        },
        {
          "output_type": "stream",
          "name": "stderr",
          "text": [
            "\r 66%|██████▌   | 19/29 [00:21<00:06,  1.62it/s]"
          ]
        },
        {
          "output_type": "stream",
          "name": "stdout",
          "text": [
            "{'Model': 'PassiveAggressiveClassifier', 'Accuracy': 0.9514348785871964, 'Balanced Accuracy': 0.9537892429343146, 'ROC AUC': 0.9537892429343146, 'F1 Score': 0.951481765260428, 'Time taken': 0.22003769874572754}\n"
          ]
        },
        {
          "output_type": "stream",
          "name": "stderr",
          "text": [
            "\r 69%|██████▉   | 20/29 [00:22<00:04,  2.00it/s]"
          ]
        },
        {
          "output_type": "stream",
          "name": "stdout",
          "text": [
            "{'Model': 'Perceptron', 'Accuracy': 0.9514348785871964, 'Balanced Accuracy': 0.954356846473029, 'ROC AUC': 0.954356846473029, 'F1 Score': 0.951471333201632, 'Time taken': 0.21704936027526855}\n"
          ]
        },
        {
          "output_type": "stream",
          "name": "stderr",
          "text": [
            "\r 72%|███████▏  | 21/29 [00:22<00:04,  1.89it/s]"
          ]
        },
        {
          "output_type": "stream",
          "name": "stdout",
          "text": [
            "{'Model': 'QuadraticDiscriminantAnalysis', 'Accuracy': 0.9977924944812362, 'Balanced Accuracy': 0.9979253112033195, 'ROC AUC': 0.9979253112033195, 'F1 Score': 0.997792796842271, 'Time taken': 0.5898880958557129}\n"
          ]
        },
        {
          "output_type": "stream",
          "name": "stderr",
          "text": [
            "\r 76%|███████▌  | 22/29 [00:23<00:03,  1.93it/s]"
          ]
        },
        {
          "output_type": "stream",
          "name": "stdout",
          "text": [
            "{'Model': 'RandomForestClassifier', 'Accuracy': 0.9889624724061811, 'Balanced Accuracy': 0.9887751507085258, 'ROC AUC': 0.9887751507085257, 'F1 Score': 0.9889608516952589, 'Time taken': 0.4923696517944336}\n"
          ]
        },
        {
          "output_type": "stream",
          "name": "stderr",
          "text": [
            "\r 79%|███████▉  | 23/29 [00:23<00:02,  2.30it/s]"
          ]
        },
        {
          "output_type": "stream",
          "name": "stdout",
          "text": [
            "{'Model': 'RidgeClassifier', 'Accuracy': 0.9205298013245033, 'Balanced Accuracy': 0.9253112033195021, 'ROC AUC': 0.9253112033195021, 'F1 Score': 0.9204321873156018, 'Time taken': 0.23824453353881836}\n"
          ]
        },
        {
          "output_type": "stream",
          "name": "stderr",
          "text": [
            "\r 83%|████████▎ | 24/29 [00:23<00:02,  2.48it/s]"
          ]
        },
        {
          "output_type": "stream",
          "name": "stdout",
          "text": [
            "{'Model': 'RidgeClassifierCV', 'Accuracy': 0.9381898454746137, 'Balanced Accuracy': 0.941908713692946, 'ROC AUC': 0.941908713692946, 'F1 Score': 0.938198279279956, 'Time taken': 0.32054829597473145}\n"
          ]
        },
        {
          "output_type": "stream",
          "name": "stderr",
          "text": [
            "\r 86%|████████▌ | 25/29 [00:23<00:01,  2.84it/s]"
          ]
        },
        {
          "output_type": "stream",
          "name": "stdout",
          "text": [
            "{'Model': 'SGDClassifier', 'Accuracy': 0.9646799116997793, 'Balanced Accuracy': 0.9659535739450402, 'ROC AUC': 0.9659535739450402, 'F1 Score': 0.9647126716817026, 'Time taken': 0.22319316864013672}\n"
          ]
        },
        {
          "output_type": "stream",
          "name": "stderr",
          "text": [
            "\r 90%|████████▉ | 26/29 [00:24<00:01,  1.95it/s]"
          ]
        },
        {
          "output_type": "stream",
          "name": "stdout",
          "text": [
            "{'Model': 'SVC', 'Accuracy': 0.8631346578366446, 'Balanced Accuracy': 0.8620038362170203, 'ROC AUC': 0.8620038362170203, 'F1 Score': 0.8630461499728117, 'Time taken': 0.8803467750549316}\n"
          ]
        },
        {
          "output_type": "stream",
          "name": "stderr",
          "text": [
            "\r 97%|█████████▋| 28/29 [00:27<00:00,  1.06it/s]"
          ]
        },
        {
          "output_type": "stream",
          "name": "stdout",
          "text": [
            "{'Model': 'XGBClassifier', 'Accuracy': 0.9955849889624724, 'Balanced Accuracy': 0.9952830188679245, 'ROC AUC': 0.9952830188679246, 'F1 Score': 0.9955836487746402, 'Time taken': 2.8898379802703857}\n"
          ]
        },
        {
          "output_type": "stream",
          "name": "stderr",
          "text": [
            "100%|██████████| 29/29 [00:28<00:00,  1.03it/s]"
          ]
        },
        {
          "output_type": "stream",
          "name": "stdout",
          "text": [
            "{'Model': 'LGBMClassifier', 'Accuracy': 0.9955849889624724, 'Balanced Accuracy': 0.9952830188679245, 'ROC AUC': 0.9952830188679246, 'F1 Score': 0.9955836487746402, 'Time taken': 0.4314281940460205}\n"
          ]
        },
        {
          "output_type": "stream",
          "name": "stderr",
          "text": [
            "\n"
          ]
        }
      ]
    },
    {
      "cell_type": "code",
      "source": [
        "models"
      ],
      "metadata": {
        "colab": {
          "base_uri": "https://localhost:8080/",
          "height": 927
        },
        "id": "MzVex8EnZlrt",
        "outputId": "9c67f954-6275-4427-df63-41caae8c5155"
      },
      "execution_count": 47,
      "outputs": [
        {
          "output_type": "execute_result",
          "data": {
            "text/plain": [
              "                               Accuracy  Balanced Accuracy  ROC AUC  F1 Score  \\\n",
              "Model                                                                           \n",
              "QuadraticDiscriminantAnalysis      1.00               1.00     1.00      1.00   \n",
              "LGBMClassifier                     1.00               1.00     1.00      1.00   \n",
              "BaggingClassifier                  1.00               1.00     1.00      1.00   \n",
              "XGBClassifier                      1.00               1.00     1.00      1.00   \n",
              "AdaBoostClassifier                 0.99               0.99     0.99      0.99   \n",
              "DecisionTreeClassifier             0.99               0.99     0.99      0.99   \n",
              "RandomForestClassifier             0.99               0.99     0.99      0.99   \n",
              "ExtraTreesClassifier               0.98               0.99     0.99      0.98   \n",
              "SGDClassifier                      0.96               0.97     0.97      0.96   \n",
              "CalibratedClassifierCV             0.96               0.96     0.96      0.96   \n",
              "Perceptron                         0.95               0.95     0.95      0.95   \n",
              "PassiveAggressiveClassifier        0.95               0.95     0.95      0.95   \n",
              "LinearSVC                          0.95               0.95     0.95      0.95   \n",
              "LogisticRegression                 0.95               0.95     0.95      0.95   \n",
              "RidgeClassifierCV                  0.94               0.94     0.94      0.94   \n",
              "ExtraTreeClassifier                0.94               0.94     0.94      0.94   \n",
              "RidgeClassifier                    0.92               0.93     0.93      0.92   \n",
              "BernoulliNB                        0.93               0.92     0.92      0.93   \n",
              "GaussianNB                         0.91               0.91     0.91      0.91   \n",
              "NearestCentroid                    0.90               0.90     0.90      0.90   \n",
              "SVC                                0.86               0.86     0.86      0.86   \n",
              "NuSVC                              0.86               0.86     0.86      0.86   \n",
              "LinearDiscriminantAnalysis         0.82               0.83     0.83      0.82   \n",
              "KNeighborsClassifier               0.83               0.83     0.83      0.83   \n",
              "LabelSpreading                     0.60               0.62     0.62      0.54   \n",
              "LabelPropagation                   0.60               0.62     0.62      0.54   \n",
              "DummyClassifier                    0.47               0.50     0.50      0.30   \n",
              "\n",
              "                               Time Taken  \n",
              "Model                                      \n",
              "QuadraticDiscriminantAnalysis        0.59  \n",
              "LGBMClassifier                       0.43  \n",
              "BaggingClassifier                    0.41  \n",
              "XGBClassifier                        2.89  \n",
              "AdaBoostClassifier                   1.19  \n",
              "DecisionTreeClassifier               0.17  \n",
              "RandomForestClassifier               0.49  \n",
              "ExtraTreesClassifier                 0.54  \n",
              "SGDClassifier                        0.22  \n",
              "CalibratedClassifierCV              12.40  \n",
              "Perceptron                           0.22  \n",
              "PassiveAggressiveClassifier          0.22  \n",
              "LinearSVC                            2.83  \n",
              "LogisticRegression                   0.31  \n",
              "RidgeClassifierCV                    0.32  \n",
              "ExtraTreeClassifier                  0.16  \n",
              "RidgeClassifier                      0.24  \n",
              "BernoulliNB                          0.22  \n",
              "GaussianNB                           0.18  \n",
              "NearestCentroid                      0.21  \n",
              "SVC                                  0.88  \n",
              "NuSVC                                0.88  \n",
              "LinearDiscriminantAnalysis           0.82  \n",
              "KNeighborsClassifier                 0.23  \n",
              "LabelSpreading                       0.32  \n",
              "LabelPropagation                     0.32  \n",
              "DummyClassifier                      0.15  "
            ],
            "text/html": [
              "\n",
              "  <div id=\"df-edb54101-6f24-44b3-91f1-b3e4b57387e4\">\n",
              "    <div class=\"colab-df-container\">\n",
              "      <div>\n",
              "<style scoped>\n",
              "    .dataframe tbody tr th:only-of-type {\n",
              "        vertical-align: middle;\n",
              "    }\n",
              "\n",
              "    .dataframe tbody tr th {\n",
              "        vertical-align: top;\n",
              "    }\n",
              "\n",
              "    .dataframe thead th {\n",
              "        text-align: right;\n",
              "    }\n",
              "</style>\n",
              "<table border=\"1\" class=\"dataframe\">\n",
              "  <thead>\n",
              "    <tr style=\"text-align: right;\">\n",
              "      <th></th>\n",
              "      <th>Accuracy</th>\n",
              "      <th>Balanced Accuracy</th>\n",
              "      <th>ROC AUC</th>\n",
              "      <th>F1 Score</th>\n",
              "      <th>Time Taken</th>\n",
              "    </tr>\n",
              "    <tr>\n",
              "      <th>Model</th>\n",
              "      <th></th>\n",
              "      <th></th>\n",
              "      <th></th>\n",
              "      <th></th>\n",
              "      <th></th>\n",
              "    </tr>\n",
              "  </thead>\n",
              "  <tbody>\n",
              "    <tr>\n",
              "      <th>QuadraticDiscriminantAnalysis</th>\n",
              "      <td>1.00</td>\n",
              "      <td>1.00</td>\n",
              "      <td>1.00</td>\n",
              "      <td>1.00</td>\n",
              "      <td>0.59</td>\n",
              "    </tr>\n",
              "    <tr>\n",
              "      <th>LGBMClassifier</th>\n",
              "      <td>1.00</td>\n",
              "      <td>1.00</td>\n",
              "      <td>1.00</td>\n",
              "      <td>1.00</td>\n",
              "      <td>0.43</td>\n",
              "    </tr>\n",
              "    <tr>\n",
              "      <th>BaggingClassifier</th>\n",
              "      <td>1.00</td>\n",
              "      <td>1.00</td>\n",
              "      <td>1.00</td>\n",
              "      <td>1.00</td>\n",
              "      <td>0.41</td>\n",
              "    </tr>\n",
              "    <tr>\n",
              "      <th>XGBClassifier</th>\n",
              "      <td>1.00</td>\n",
              "      <td>1.00</td>\n",
              "      <td>1.00</td>\n",
              "      <td>1.00</td>\n",
              "      <td>2.89</td>\n",
              "    </tr>\n",
              "    <tr>\n",
              "      <th>AdaBoostClassifier</th>\n",
              "      <td>0.99</td>\n",
              "      <td>0.99</td>\n",
              "      <td>0.99</td>\n",
              "      <td>0.99</td>\n",
              "      <td>1.19</td>\n",
              "    </tr>\n",
              "    <tr>\n",
              "      <th>DecisionTreeClassifier</th>\n",
              "      <td>0.99</td>\n",
              "      <td>0.99</td>\n",
              "      <td>0.99</td>\n",
              "      <td>0.99</td>\n",
              "      <td>0.17</td>\n",
              "    </tr>\n",
              "    <tr>\n",
              "      <th>RandomForestClassifier</th>\n",
              "      <td>0.99</td>\n",
              "      <td>0.99</td>\n",
              "      <td>0.99</td>\n",
              "      <td>0.99</td>\n",
              "      <td>0.49</td>\n",
              "    </tr>\n",
              "    <tr>\n",
              "      <th>ExtraTreesClassifier</th>\n",
              "      <td>0.98</td>\n",
              "      <td>0.99</td>\n",
              "      <td>0.99</td>\n",
              "      <td>0.98</td>\n",
              "      <td>0.54</td>\n",
              "    </tr>\n",
              "    <tr>\n",
              "      <th>SGDClassifier</th>\n",
              "      <td>0.96</td>\n",
              "      <td>0.97</td>\n",
              "      <td>0.97</td>\n",
              "      <td>0.96</td>\n",
              "      <td>0.22</td>\n",
              "    </tr>\n",
              "    <tr>\n",
              "      <th>CalibratedClassifierCV</th>\n",
              "      <td>0.96</td>\n",
              "      <td>0.96</td>\n",
              "      <td>0.96</td>\n",
              "      <td>0.96</td>\n",
              "      <td>12.40</td>\n",
              "    </tr>\n",
              "    <tr>\n",
              "      <th>Perceptron</th>\n",
              "      <td>0.95</td>\n",
              "      <td>0.95</td>\n",
              "      <td>0.95</td>\n",
              "      <td>0.95</td>\n",
              "      <td>0.22</td>\n",
              "    </tr>\n",
              "    <tr>\n",
              "      <th>PassiveAggressiveClassifier</th>\n",
              "      <td>0.95</td>\n",
              "      <td>0.95</td>\n",
              "      <td>0.95</td>\n",
              "      <td>0.95</td>\n",
              "      <td>0.22</td>\n",
              "    </tr>\n",
              "    <tr>\n",
              "      <th>LinearSVC</th>\n",
              "      <td>0.95</td>\n",
              "      <td>0.95</td>\n",
              "      <td>0.95</td>\n",
              "      <td>0.95</td>\n",
              "      <td>2.83</td>\n",
              "    </tr>\n",
              "    <tr>\n",
              "      <th>LogisticRegression</th>\n",
              "      <td>0.95</td>\n",
              "      <td>0.95</td>\n",
              "      <td>0.95</td>\n",
              "      <td>0.95</td>\n",
              "      <td>0.31</td>\n",
              "    </tr>\n",
              "    <tr>\n",
              "      <th>RidgeClassifierCV</th>\n",
              "      <td>0.94</td>\n",
              "      <td>0.94</td>\n",
              "      <td>0.94</td>\n",
              "      <td>0.94</td>\n",
              "      <td>0.32</td>\n",
              "    </tr>\n",
              "    <tr>\n",
              "      <th>ExtraTreeClassifier</th>\n",
              "      <td>0.94</td>\n",
              "      <td>0.94</td>\n",
              "      <td>0.94</td>\n",
              "      <td>0.94</td>\n",
              "      <td>0.16</td>\n",
              "    </tr>\n",
              "    <tr>\n",
              "      <th>RidgeClassifier</th>\n",
              "      <td>0.92</td>\n",
              "      <td>0.93</td>\n",
              "      <td>0.93</td>\n",
              "      <td>0.92</td>\n",
              "      <td>0.24</td>\n",
              "    </tr>\n",
              "    <tr>\n",
              "      <th>BernoulliNB</th>\n",
              "      <td>0.93</td>\n",
              "      <td>0.92</td>\n",
              "      <td>0.92</td>\n",
              "      <td>0.93</td>\n",
              "      <td>0.22</td>\n",
              "    </tr>\n",
              "    <tr>\n",
              "      <th>GaussianNB</th>\n",
              "      <td>0.91</td>\n",
              "      <td>0.91</td>\n",
              "      <td>0.91</td>\n",
              "      <td>0.91</td>\n",
              "      <td>0.18</td>\n",
              "    </tr>\n",
              "    <tr>\n",
              "      <th>NearestCentroid</th>\n",
              "      <td>0.90</td>\n",
              "      <td>0.90</td>\n",
              "      <td>0.90</td>\n",
              "      <td>0.90</td>\n",
              "      <td>0.21</td>\n",
              "    </tr>\n",
              "    <tr>\n",
              "      <th>SVC</th>\n",
              "      <td>0.86</td>\n",
              "      <td>0.86</td>\n",
              "      <td>0.86</td>\n",
              "      <td>0.86</td>\n",
              "      <td>0.88</td>\n",
              "    </tr>\n",
              "    <tr>\n",
              "      <th>NuSVC</th>\n",
              "      <td>0.86</td>\n",
              "      <td>0.86</td>\n",
              "      <td>0.86</td>\n",
              "      <td>0.86</td>\n",
              "      <td>0.88</td>\n",
              "    </tr>\n",
              "    <tr>\n",
              "      <th>LinearDiscriminantAnalysis</th>\n",
              "      <td>0.82</td>\n",
              "      <td>0.83</td>\n",
              "      <td>0.83</td>\n",
              "      <td>0.82</td>\n",
              "      <td>0.82</td>\n",
              "    </tr>\n",
              "    <tr>\n",
              "      <th>KNeighborsClassifier</th>\n",
              "      <td>0.83</td>\n",
              "      <td>0.83</td>\n",
              "      <td>0.83</td>\n",
              "      <td>0.83</td>\n",
              "      <td>0.23</td>\n",
              "    </tr>\n",
              "    <tr>\n",
              "      <th>LabelSpreading</th>\n",
              "      <td>0.60</td>\n",
              "      <td>0.62</td>\n",
              "      <td>0.62</td>\n",
              "      <td>0.54</td>\n",
              "      <td>0.32</td>\n",
              "    </tr>\n",
              "    <tr>\n",
              "      <th>LabelPropagation</th>\n",
              "      <td>0.60</td>\n",
              "      <td>0.62</td>\n",
              "      <td>0.62</td>\n",
              "      <td>0.54</td>\n",
              "      <td>0.32</td>\n",
              "    </tr>\n",
              "    <tr>\n",
              "      <th>DummyClassifier</th>\n",
              "      <td>0.47</td>\n",
              "      <td>0.50</td>\n",
              "      <td>0.50</td>\n",
              "      <td>0.30</td>\n",
              "      <td>0.15</td>\n",
              "    </tr>\n",
              "  </tbody>\n",
              "</table>\n",
              "</div>\n",
              "      <button class=\"colab-df-convert\" onclick=\"convertToInteractive('df-edb54101-6f24-44b3-91f1-b3e4b57387e4')\"\n",
              "              title=\"Convert this dataframe to an interactive table.\"\n",
              "              style=\"display:none;\">\n",
              "        \n",
              "  <svg xmlns=\"http://www.w3.org/2000/svg\" height=\"24px\"viewBox=\"0 0 24 24\"\n",
              "       width=\"24px\">\n",
              "    <path d=\"M0 0h24v24H0V0z\" fill=\"none\"/>\n",
              "    <path d=\"M18.56 5.44l.94 2.06.94-2.06 2.06-.94-2.06-.94-.94-2.06-.94 2.06-2.06.94zm-11 1L8.5 8.5l.94-2.06 2.06-.94-2.06-.94L8.5 2.5l-.94 2.06-2.06.94zm10 10l.94 2.06.94-2.06 2.06-.94-2.06-.94-.94-2.06-.94 2.06-2.06.94z\"/><path d=\"M17.41 7.96l-1.37-1.37c-.4-.4-.92-.59-1.43-.59-.52 0-1.04.2-1.43.59L10.3 9.45l-7.72 7.72c-.78.78-.78 2.05 0 2.83L4 21.41c.39.39.9.59 1.41.59.51 0 1.02-.2 1.41-.59l7.78-7.78 2.81-2.81c.8-.78.8-2.07 0-2.86zM5.41 20L4 18.59l7.72-7.72 1.47 1.35L5.41 20z\"/>\n",
              "  </svg>\n",
              "      </button>\n",
              "      \n",
              "  <style>\n",
              "    .colab-df-container {\n",
              "      display:flex;\n",
              "      flex-wrap:wrap;\n",
              "      gap: 12px;\n",
              "    }\n",
              "\n",
              "    .colab-df-convert {\n",
              "      background-color: #E8F0FE;\n",
              "      border: none;\n",
              "      border-radius: 50%;\n",
              "      cursor: pointer;\n",
              "      display: none;\n",
              "      fill: #1967D2;\n",
              "      height: 32px;\n",
              "      padding: 0 0 0 0;\n",
              "      width: 32px;\n",
              "    }\n",
              "\n",
              "    .colab-df-convert:hover {\n",
              "      background-color: #E2EBFA;\n",
              "      box-shadow: 0px 1px 2px rgba(60, 64, 67, 0.3), 0px 1px 3px 1px rgba(60, 64, 67, 0.15);\n",
              "      fill: #174EA6;\n",
              "    }\n",
              "\n",
              "    [theme=dark] .colab-df-convert {\n",
              "      background-color: #3B4455;\n",
              "      fill: #D2E3FC;\n",
              "    }\n",
              "\n",
              "    [theme=dark] .colab-df-convert:hover {\n",
              "      background-color: #434B5C;\n",
              "      box-shadow: 0px 1px 3px 1px rgba(0, 0, 0, 0.15);\n",
              "      filter: drop-shadow(0px 1px 2px rgba(0, 0, 0, 0.3));\n",
              "      fill: #FFFFFF;\n",
              "    }\n",
              "  </style>\n",
              "\n",
              "      <script>\n",
              "        const buttonEl =\n",
              "          document.querySelector('#df-edb54101-6f24-44b3-91f1-b3e4b57387e4 button.colab-df-convert');\n",
              "        buttonEl.style.display =\n",
              "          google.colab.kernel.accessAllowed ? 'block' : 'none';\n",
              "\n",
              "        async function convertToInteractive(key) {\n",
              "          const element = document.querySelector('#df-edb54101-6f24-44b3-91f1-b3e4b57387e4');\n",
              "          const dataTable =\n",
              "            await google.colab.kernel.invokeFunction('convertToInteractive',\n",
              "                                                     [key], {});\n",
              "          if (!dataTable) return;\n",
              "\n",
              "          const docLinkHtml = 'Like what you see? Visit the ' +\n",
              "            '<a target=\"_blank\" href=https://colab.research.google.com/notebooks/data_table.ipynb>data table notebook</a>'\n",
              "            + ' to learn more about interactive tables.';\n",
              "          element.innerHTML = '';\n",
              "          dataTable['output_type'] = 'display_data';\n",
              "          await google.colab.output.renderOutput(dataTable, element);\n",
              "          const docLink = document.createElement('div');\n",
              "          docLink.innerHTML = docLinkHtml;\n",
              "          element.appendChild(docLink);\n",
              "        }\n",
              "      </script>\n",
              "    </div>\n",
              "  </div>\n",
              "  "
            ]
          },
          "metadata": {},
          "execution_count": 47
        }
      ]
    },
    {
      "cell_type": "markdown",
      "source": [
        "Results"
      ],
      "metadata": {
        "id": "fuwSA3_gbcZq"
      }
    },
    {
      "cell_type": "code",
      "source": [
        "models.to_csv('results.csv')"
      ],
      "metadata": {
        "id": "9boPDfwZBgcg"
      },
      "execution_count": 48,
      "outputs": []
    },
    {
      "cell_type": "code",
      "source": [
        "results=pd.read_csv('/content/results.csv')"
      ],
      "metadata": {
        "id": "e5VKDI9dwaGn"
      },
      "execution_count": 49,
      "outputs": []
    },
    {
      "cell_type": "markdown",
      "source": [
        "Accuracy"
      ],
      "metadata": {
        "id": "1ICTLQbQxD_U"
      }
    },
    {
      "cell_type": "code",
      "source": [
        "import plotly.express as px\n",
        "figaccuracy = px.bar(x=results['Model'], y=results['Accuracy'],labels={\"x\":\"Model\",\"y\":\"Accuracy\"},title=\"Accuracy of all models\")\n",
        "figaccuracy.show()"
      ],
      "metadata": {
        "colab": {
          "base_uri": "https://localhost:8080/",
          "height": 542
        },
        "id": "7opiGTLuxEvT",
        "outputId": "ac603017-b233-4d48-9023-81051017e121"
      },
      "execution_count": 50,
      "outputs": [
        {
          "output_type": "display_data",
          "data": {
            "text/html": [
              "<html>\n",
              "<head><meta charset=\"utf-8\" /></head>\n",
              "<body>\n",
              "    <div>            <script src=\"https://cdnjs.cloudflare.com/ajax/libs/mathjax/2.7.5/MathJax.js?config=TeX-AMS-MML_SVG\"></script><script type=\"text/javascript\">if (window.MathJax) {MathJax.Hub.Config({SVG: {font: \"STIX-Web\"}});}</script>                <script type=\"text/javascript\">window.PlotlyConfig = {MathJaxConfig: 'local'};</script>\n",
              "        <script src=\"https://cdn.plot.ly/plotly-2.8.3.min.js\"></script>                <div id=\"97243a8e-3891-47eb-97d3-2bcdf001d4a0\" class=\"plotly-graph-div\" style=\"height:525px; width:100%;\"></div>            <script type=\"text/javascript\">                                    window.PLOTLYENV=window.PLOTLYENV || {};                                    if (document.getElementById(\"97243a8e-3891-47eb-97d3-2bcdf001d4a0\")) {                    Plotly.newPlot(                        \"97243a8e-3891-47eb-97d3-2bcdf001d4a0\",                        [{\"alignmentgroup\":\"True\",\"hovertemplate\":\"Model=%{x}<br>Accuracy=%{y}<extra></extra>\",\"legendgroup\":\"\",\"marker\":{\"color\":\"#636efa\",\"pattern\":{\"shape\":\"\"}},\"name\":\"\",\"offsetgroup\":\"\",\"orientation\":\"v\",\"showlegend\":false,\"textposition\":\"auto\",\"x\":[\"QuadraticDiscriminantAnalysis\",\"LGBMClassifier\",\"BaggingClassifier\",\"XGBClassifier\",\"AdaBoostClassifier\",\"DecisionTreeClassifier\",\"RandomForestClassifier\",\"ExtraTreesClassifier\",\"SGDClassifier\",\"CalibratedClassifierCV\",\"Perceptron\",\"PassiveAggressiveClassifier\",\"LinearSVC\",\"LogisticRegression\",\"RidgeClassifierCV\",\"ExtraTreeClassifier\",\"RidgeClassifier\",\"BernoulliNB\",\"GaussianNB\",\"NearestCentroid\",\"SVC\",\"NuSVC\",\"LinearDiscriminantAnalysis\",\"KNeighborsClassifier\",\"LabelSpreading\",\"LabelPropagation\",\"DummyClassifier\"],\"xaxis\":\"x\",\"y\":[0.9977924944812362,0.9955849889624724,0.9955849889624724,0.9955849889624724,0.9933774834437086,0.9933774834437086,0.9889624724061812,0.9845474613686536,0.9646799116997792,0.958057395143488,0.9514348785871964,0.9514348785871964,0.9492273730684326,0.9470198675496688,0.9381898454746136,0.9403973509933776,0.9205298013245032,0.9271523178807948,0.9072847682119204,0.9006622516556292,0.8631346578366446,0.8631346578366446,0.8233995584988962,0.8322295805739515,0.6004415011037527,0.6004415011037527,0.4679911699779249],\"yaxis\":\"y\",\"type\":\"bar\"}],                        {\"template\":{\"data\":{\"bar\":[{\"error_x\":{\"color\":\"#2a3f5f\"},\"error_y\":{\"color\":\"#2a3f5f\"},\"marker\":{\"line\":{\"color\":\"#E5ECF6\",\"width\":0.5},\"pattern\":{\"fillmode\":\"overlay\",\"size\":10,\"solidity\":0.2}},\"type\":\"bar\"}],\"barpolar\":[{\"marker\":{\"line\":{\"color\":\"#E5ECF6\",\"width\":0.5},\"pattern\":{\"fillmode\":\"overlay\",\"size\":10,\"solidity\":0.2}},\"type\":\"barpolar\"}],\"carpet\":[{\"aaxis\":{\"endlinecolor\":\"#2a3f5f\",\"gridcolor\":\"white\",\"linecolor\":\"white\",\"minorgridcolor\":\"white\",\"startlinecolor\":\"#2a3f5f\"},\"baxis\":{\"endlinecolor\":\"#2a3f5f\",\"gridcolor\":\"white\",\"linecolor\":\"white\",\"minorgridcolor\":\"white\",\"startlinecolor\":\"#2a3f5f\"},\"type\":\"carpet\"}],\"choropleth\":[{\"colorbar\":{\"outlinewidth\":0,\"ticks\":\"\"},\"type\":\"choropleth\"}],\"contour\":[{\"colorbar\":{\"outlinewidth\":0,\"ticks\":\"\"},\"colorscale\":[[0.0,\"#0d0887\"],[0.1111111111111111,\"#46039f\"],[0.2222222222222222,\"#7201a8\"],[0.3333333333333333,\"#9c179e\"],[0.4444444444444444,\"#bd3786\"],[0.5555555555555556,\"#d8576b\"],[0.6666666666666666,\"#ed7953\"],[0.7777777777777778,\"#fb9f3a\"],[0.8888888888888888,\"#fdca26\"],[1.0,\"#f0f921\"]],\"type\":\"contour\"}],\"contourcarpet\":[{\"colorbar\":{\"outlinewidth\":0,\"ticks\":\"\"},\"type\":\"contourcarpet\"}],\"heatmap\":[{\"colorbar\":{\"outlinewidth\":0,\"ticks\":\"\"},\"colorscale\":[[0.0,\"#0d0887\"],[0.1111111111111111,\"#46039f\"],[0.2222222222222222,\"#7201a8\"],[0.3333333333333333,\"#9c179e\"],[0.4444444444444444,\"#bd3786\"],[0.5555555555555556,\"#d8576b\"],[0.6666666666666666,\"#ed7953\"],[0.7777777777777778,\"#fb9f3a\"],[0.8888888888888888,\"#fdca26\"],[1.0,\"#f0f921\"]],\"type\":\"heatmap\"}],\"heatmapgl\":[{\"colorbar\":{\"outlinewidth\":0,\"ticks\":\"\"},\"colorscale\":[[0.0,\"#0d0887\"],[0.1111111111111111,\"#46039f\"],[0.2222222222222222,\"#7201a8\"],[0.3333333333333333,\"#9c179e\"],[0.4444444444444444,\"#bd3786\"],[0.5555555555555556,\"#d8576b\"],[0.6666666666666666,\"#ed7953\"],[0.7777777777777778,\"#fb9f3a\"],[0.8888888888888888,\"#fdca26\"],[1.0,\"#f0f921\"]],\"type\":\"heatmapgl\"}],\"histogram\":[{\"marker\":{\"pattern\":{\"fillmode\":\"overlay\",\"size\":10,\"solidity\":0.2}},\"type\":\"histogram\"}],\"histogram2d\":[{\"colorbar\":{\"outlinewidth\":0,\"ticks\":\"\"},\"colorscale\":[[0.0,\"#0d0887\"],[0.1111111111111111,\"#46039f\"],[0.2222222222222222,\"#7201a8\"],[0.3333333333333333,\"#9c179e\"],[0.4444444444444444,\"#bd3786\"],[0.5555555555555556,\"#d8576b\"],[0.6666666666666666,\"#ed7953\"],[0.7777777777777778,\"#fb9f3a\"],[0.8888888888888888,\"#fdca26\"],[1.0,\"#f0f921\"]],\"type\":\"histogram2d\"}],\"histogram2dcontour\":[{\"colorbar\":{\"outlinewidth\":0,\"ticks\":\"\"},\"colorscale\":[[0.0,\"#0d0887\"],[0.1111111111111111,\"#46039f\"],[0.2222222222222222,\"#7201a8\"],[0.3333333333333333,\"#9c179e\"],[0.4444444444444444,\"#bd3786\"],[0.5555555555555556,\"#d8576b\"],[0.6666666666666666,\"#ed7953\"],[0.7777777777777778,\"#fb9f3a\"],[0.8888888888888888,\"#fdca26\"],[1.0,\"#f0f921\"]],\"type\":\"histogram2dcontour\"}],\"mesh3d\":[{\"colorbar\":{\"outlinewidth\":0,\"ticks\":\"\"},\"type\":\"mesh3d\"}],\"parcoords\":[{\"line\":{\"colorbar\":{\"outlinewidth\":0,\"ticks\":\"\"}},\"type\":\"parcoords\"}],\"pie\":[{\"automargin\":true,\"type\":\"pie\"}],\"scatter\":[{\"marker\":{\"colorbar\":{\"outlinewidth\":0,\"ticks\":\"\"}},\"type\":\"scatter\"}],\"scatter3d\":[{\"line\":{\"colorbar\":{\"outlinewidth\":0,\"ticks\":\"\"}},\"marker\":{\"colorbar\":{\"outlinewidth\":0,\"ticks\":\"\"}},\"type\":\"scatter3d\"}],\"scattercarpet\":[{\"marker\":{\"colorbar\":{\"outlinewidth\":0,\"ticks\":\"\"}},\"type\":\"scattercarpet\"}],\"scattergeo\":[{\"marker\":{\"colorbar\":{\"outlinewidth\":0,\"ticks\":\"\"}},\"type\":\"scattergeo\"}],\"scattergl\":[{\"marker\":{\"colorbar\":{\"outlinewidth\":0,\"ticks\":\"\"}},\"type\":\"scattergl\"}],\"scattermapbox\":[{\"marker\":{\"colorbar\":{\"outlinewidth\":0,\"ticks\":\"\"}},\"type\":\"scattermapbox\"}],\"scatterpolar\":[{\"marker\":{\"colorbar\":{\"outlinewidth\":0,\"ticks\":\"\"}},\"type\":\"scatterpolar\"}],\"scatterpolargl\":[{\"marker\":{\"colorbar\":{\"outlinewidth\":0,\"ticks\":\"\"}},\"type\":\"scatterpolargl\"}],\"scatterternary\":[{\"marker\":{\"colorbar\":{\"outlinewidth\":0,\"ticks\":\"\"}},\"type\":\"scatterternary\"}],\"surface\":[{\"colorbar\":{\"outlinewidth\":0,\"ticks\":\"\"},\"colorscale\":[[0.0,\"#0d0887\"],[0.1111111111111111,\"#46039f\"],[0.2222222222222222,\"#7201a8\"],[0.3333333333333333,\"#9c179e\"],[0.4444444444444444,\"#bd3786\"],[0.5555555555555556,\"#d8576b\"],[0.6666666666666666,\"#ed7953\"],[0.7777777777777778,\"#fb9f3a\"],[0.8888888888888888,\"#fdca26\"],[1.0,\"#f0f921\"]],\"type\":\"surface\"}],\"table\":[{\"cells\":{\"fill\":{\"color\":\"#EBF0F8\"},\"line\":{\"color\":\"white\"}},\"header\":{\"fill\":{\"color\":\"#C8D4E3\"},\"line\":{\"color\":\"white\"}},\"type\":\"table\"}]},\"layout\":{\"annotationdefaults\":{\"arrowcolor\":\"#2a3f5f\",\"arrowhead\":0,\"arrowwidth\":1},\"autotypenumbers\":\"strict\",\"coloraxis\":{\"colorbar\":{\"outlinewidth\":0,\"ticks\":\"\"}},\"colorscale\":{\"diverging\":[[0,\"#8e0152\"],[0.1,\"#c51b7d\"],[0.2,\"#de77ae\"],[0.3,\"#f1b6da\"],[0.4,\"#fde0ef\"],[0.5,\"#f7f7f7\"],[0.6,\"#e6f5d0\"],[0.7,\"#b8e186\"],[0.8,\"#7fbc41\"],[0.9,\"#4d9221\"],[1,\"#276419\"]],\"sequential\":[[0.0,\"#0d0887\"],[0.1111111111111111,\"#46039f\"],[0.2222222222222222,\"#7201a8\"],[0.3333333333333333,\"#9c179e\"],[0.4444444444444444,\"#bd3786\"],[0.5555555555555556,\"#d8576b\"],[0.6666666666666666,\"#ed7953\"],[0.7777777777777778,\"#fb9f3a\"],[0.8888888888888888,\"#fdca26\"],[1.0,\"#f0f921\"]],\"sequentialminus\":[[0.0,\"#0d0887\"],[0.1111111111111111,\"#46039f\"],[0.2222222222222222,\"#7201a8\"],[0.3333333333333333,\"#9c179e\"],[0.4444444444444444,\"#bd3786\"],[0.5555555555555556,\"#d8576b\"],[0.6666666666666666,\"#ed7953\"],[0.7777777777777778,\"#fb9f3a\"],[0.8888888888888888,\"#fdca26\"],[1.0,\"#f0f921\"]]},\"colorway\":[\"#636efa\",\"#EF553B\",\"#00cc96\",\"#ab63fa\",\"#FFA15A\",\"#19d3f3\",\"#FF6692\",\"#B6E880\",\"#FF97FF\",\"#FECB52\"],\"font\":{\"color\":\"#2a3f5f\"},\"geo\":{\"bgcolor\":\"white\",\"lakecolor\":\"white\",\"landcolor\":\"#E5ECF6\",\"showlakes\":true,\"showland\":true,\"subunitcolor\":\"white\"},\"hoverlabel\":{\"align\":\"left\"},\"hovermode\":\"closest\",\"mapbox\":{\"style\":\"light\"},\"paper_bgcolor\":\"white\",\"plot_bgcolor\":\"#E5ECF6\",\"polar\":{\"angularaxis\":{\"gridcolor\":\"white\",\"linecolor\":\"white\",\"ticks\":\"\"},\"bgcolor\":\"#E5ECF6\",\"radialaxis\":{\"gridcolor\":\"white\",\"linecolor\":\"white\",\"ticks\":\"\"}},\"scene\":{\"xaxis\":{\"backgroundcolor\":\"#E5ECF6\",\"gridcolor\":\"white\",\"gridwidth\":2,\"linecolor\":\"white\",\"showbackground\":true,\"ticks\":\"\",\"zerolinecolor\":\"white\"},\"yaxis\":{\"backgroundcolor\":\"#E5ECF6\",\"gridcolor\":\"white\",\"gridwidth\":2,\"linecolor\":\"white\",\"showbackground\":true,\"ticks\":\"\",\"zerolinecolor\":\"white\"},\"zaxis\":{\"backgroundcolor\":\"#E5ECF6\",\"gridcolor\":\"white\",\"gridwidth\":2,\"linecolor\":\"white\",\"showbackground\":true,\"ticks\":\"\",\"zerolinecolor\":\"white\"}},\"shapedefaults\":{\"line\":{\"color\":\"#2a3f5f\"}},\"ternary\":{\"aaxis\":{\"gridcolor\":\"white\",\"linecolor\":\"white\",\"ticks\":\"\"},\"baxis\":{\"gridcolor\":\"white\",\"linecolor\":\"white\",\"ticks\":\"\"},\"bgcolor\":\"#E5ECF6\",\"caxis\":{\"gridcolor\":\"white\",\"linecolor\":\"white\",\"ticks\":\"\"}},\"title\":{\"x\":0.05},\"xaxis\":{\"automargin\":true,\"gridcolor\":\"white\",\"linecolor\":\"white\",\"ticks\":\"\",\"title\":{\"standoff\":15},\"zerolinecolor\":\"white\",\"zerolinewidth\":2},\"yaxis\":{\"automargin\":true,\"gridcolor\":\"white\",\"linecolor\":\"white\",\"ticks\":\"\",\"title\":{\"standoff\":15},\"zerolinecolor\":\"white\",\"zerolinewidth\":2}}},\"xaxis\":{\"anchor\":\"y\",\"domain\":[0.0,1.0],\"title\":{\"text\":\"Model\"}},\"yaxis\":{\"anchor\":\"x\",\"domain\":[0.0,1.0],\"title\":{\"text\":\"Accuracy\"}},\"legend\":{\"tracegroupgap\":0},\"title\":{\"text\":\"Accuracy of all models\"},\"barmode\":\"relative\"},                        {\"responsive\": true}                    ).then(function(){\n",
              "                            \n",
              "var gd = document.getElementById('97243a8e-3891-47eb-97d3-2bcdf001d4a0');\n",
              "var x = new MutationObserver(function (mutations, observer) {{\n",
              "        var display = window.getComputedStyle(gd).display;\n",
              "        if (!display || display === 'none') {{\n",
              "            console.log([gd, 'removed!']);\n",
              "            Plotly.purge(gd);\n",
              "            observer.disconnect();\n",
              "        }}\n",
              "}});\n",
              "\n",
              "// Listen for the removal of the full notebook cells\n",
              "var notebookContainer = gd.closest('#notebook-container');\n",
              "if (notebookContainer) {{\n",
              "    x.observe(notebookContainer, {childList: true});\n",
              "}}\n",
              "\n",
              "// Listen for the clearing of the current output cell\n",
              "var outputEl = gd.closest('.output');\n",
              "if (outputEl) {{\n",
              "    x.observe(outputEl, {childList: true});\n",
              "}}\n",
              "\n",
              "                        })                };                            </script>        </div>\n",
              "</body>\n",
              "</html>"
            ]
          },
          "metadata": {}
        }
      ]
    },
    {
      "cell_type": "markdown",
      "source": [
        "Balanced Accuracy"
      ],
      "metadata": {
        "id": "MY_MWAPtxJyG"
      }
    },
    {
      "cell_type": "code",
      "source": [
        "import plotly.express as px\n",
        "figbalancedaccuracy = px.bar(x=results['Model'], y=results['Balanced Accuracy'],labels={\"x\":\"Model\",\"y\":\"Balanced Accuracy\"},title=\"Balanced Accuracy of all models\")\n",
        "figbalancedaccuracy.show()"
      ],
      "metadata": {
        "colab": {
          "base_uri": "https://localhost:8080/",
          "height": 542
        },
        "id": "mFCgIkTCxLvU",
        "outputId": "f5bb076e-cf49-4fa4-bd1c-3258761b377a"
      },
      "execution_count": 51,
      "outputs": [
        {
          "output_type": "display_data",
          "data": {
            "text/html": [
              "<html>\n",
              "<head><meta charset=\"utf-8\" /></head>\n",
              "<body>\n",
              "    <div>            <script src=\"https://cdnjs.cloudflare.com/ajax/libs/mathjax/2.7.5/MathJax.js?config=TeX-AMS-MML_SVG\"></script><script type=\"text/javascript\">if (window.MathJax) {MathJax.Hub.Config({SVG: {font: \"STIX-Web\"}});}</script>                <script type=\"text/javascript\">window.PlotlyConfig = {MathJaxConfig: 'local'};</script>\n",
              "        <script src=\"https://cdn.plot.ly/plotly-2.8.3.min.js\"></script>                <div id=\"aa171097-cd75-43bd-a147-d0a04ad51cc2\" class=\"plotly-graph-div\" style=\"height:525px; width:100%;\"></div>            <script type=\"text/javascript\">                                    window.PLOTLYENV=window.PLOTLYENV || {};                                    if (document.getElementById(\"aa171097-cd75-43bd-a147-d0a04ad51cc2\")) {                    Plotly.newPlot(                        \"aa171097-cd75-43bd-a147-d0a04ad51cc2\",                        [{\"alignmentgroup\":\"True\",\"hovertemplate\":\"Model=%{x}<br>Balanced Accuracy=%{y}<extra></extra>\",\"legendgroup\":\"\",\"marker\":{\"color\":\"#636efa\",\"pattern\":{\"shape\":\"\"}},\"name\":\"\",\"offsetgroup\":\"\",\"orientation\":\"v\",\"showlegend\":false,\"textposition\":\"auto\",\"x\":[\"QuadraticDiscriminantAnalysis\",\"LGBMClassifier\",\"BaggingClassifier\",\"XGBClassifier\",\"AdaBoostClassifier\",\"DecisionTreeClassifier\",\"RandomForestClassifier\",\"ExtraTreesClassifier\",\"SGDClassifier\",\"CalibratedClassifierCV\",\"Perceptron\",\"PassiveAggressiveClassifier\",\"LinearSVC\",\"LogisticRegression\",\"RidgeClassifierCV\",\"ExtraTreeClassifier\",\"RidgeClassifier\",\"BernoulliNB\",\"GaussianNB\",\"NearestCentroid\",\"SVC\",\"NuSVC\",\"LinearDiscriminantAnalysis\",\"KNeighborsClassifier\",\"LabelSpreading\",\"LabelPropagation\",\"DummyClassifier\"],\"xaxis\":\"x\",\"y\":[0.9979253112033196,0.9952830188679244,0.9952830188679244,0.9952830188679244,0.9929245283018868,0.9929245283018868,0.9887751507085258,0.9851933766538792,0.9659535739450402,0.960013309324356,0.954356846473029,0.9537892429343146,0.951714554137634,0.950207468879668,0.941908713692946,0.9411453847960544,0.925311203319502,0.9241564237062554,0.9122954670007046,0.902381977609019,0.8620038362170203,0.8620038362170203,0.8340248962655601,0.8321067877554216,0.6244813278008299,0.6244813278008299,0.5],\"yaxis\":\"y\",\"type\":\"bar\"}],                        {\"template\":{\"data\":{\"bar\":[{\"error_x\":{\"color\":\"#2a3f5f\"},\"error_y\":{\"color\":\"#2a3f5f\"},\"marker\":{\"line\":{\"color\":\"#E5ECF6\",\"width\":0.5},\"pattern\":{\"fillmode\":\"overlay\",\"size\":10,\"solidity\":0.2}},\"type\":\"bar\"}],\"barpolar\":[{\"marker\":{\"line\":{\"color\":\"#E5ECF6\",\"width\":0.5},\"pattern\":{\"fillmode\":\"overlay\",\"size\":10,\"solidity\":0.2}},\"type\":\"barpolar\"}],\"carpet\":[{\"aaxis\":{\"endlinecolor\":\"#2a3f5f\",\"gridcolor\":\"white\",\"linecolor\":\"white\",\"minorgridcolor\":\"white\",\"startlinecolor\":\"#2a3f5f\"},\"baxis\":{\"endlinecolor\":\"#2a3f5f\",\"gridcolor\":\"white\",\"linecolor\":\"white\",\"minorgridcolor\":\"white\",\"startlinecolor\":\"#2a3f5f\"},\"type\":\"carpet\"}],\"choropleth\":[{\"colorbar\":{\"outlinewidth\":0,\"ticks\":\"\"},\"type\":\"choropleth\"}],\"contour\":[{\"colorbar\":{\"outlinewidth\":0,\"ticks\":\"\"},\"colorscale\":[[0.0,\"#0d0887\"],[0.1111111111111111,\"#46039f\"],[0.2222222222222222,\"#7201a8\"],[0.3333333333333333,\"#9c179e\"],[0.4444444444444444,\"#bd3786\"],[0.5555555555555556,\"#d8576b\"],[0.6666666666666666,\"#ed7953\"],[0.7777777777777778,\"#fb9f3a\"],[0.8888888888888888,\"#fdca26\"],[1.0,\"#f0f921\"]],\"type\":\"contour\"}],\"contourcarpet\":[{\"colorbar\":{\"outlinewidth\":0,\"ticks\":\"\"},\"type\":\"contourcarpet\"}],\"heatmap\":[{\"colorbar\":{\"outlinewidth\":0,\"ticks\":\"\"},\"colorscale\":[[0.0,\"#0d0887\"],[0.1111111111111111,\"#46039f\"],[0.2222222222222222,\"#7201a8\"],[0.3333333333333333,\"#9c179e\"],[0.4444444444444444,\"#bd3786\"],[0.5555555555555556,\"#d8576b\"],[0.6666666666666666,\"#ed7953\"],[0.7777777777777778,\"#fb9f3a\"],[0.8888888888888888,\"#fdca26\"],[1.0,\"#f0f921\"]],\"type\":\"heatmap\"}],\"heatmapgl\":[{\"colorbar\":{\"outlinewidth\":0,\"ticks\":\"\"},\"colorscale\":[[0.0,\"#0d0887\"],[0.1111111111111111,\"#46039f\"],[0.2222222222222222,\"#7201a8\"],[0.3333333333333333,\"#9c179e\"],[0.4444444444444444,\"#bd3786\"],[0.5555555555555556,\"#d8576b\"],[0.6666666666666666,\"#ed7953\"],[0.7777777777777778,\"#fb9f3a\"],[0.8888888888888888,\"#fdca26\"],[1.0,\"#f0f921\"]],\"type\":\"heatmapgl\"}],\"histogram\":[{\"marker\":{\"pattern\":{\"fillmode\":\"overlay\",\"size\":10,\"solidity\":0.2}},\"type\":\"histogram\"}],\"histogram2d\":[{\"colorbar\":{\"outlinewidth\":0,\"ticks\":\"\"},\"colorscale\":[[0.0,\"#0d0887\"],[0.1111111111111111,\"#46039f\"],[0.2222222222222222,\"#7201a8\"],[0.3333333333333333,\"#9c179e\"],[0.4444444444444444,\"#bd3786\"],[0.5555555555555556,\"#d8576b\"],[0.6666666666666666,\"#ed7953\"],[0.7777777777777778,\"#fb9f3a\"],[0.8888888888888888,\"#fdca26\"],[1.0,\"#f0f921\"]],\"type\":\"histogram2d\"}],\"histogram2dcontour\":[{\"colorbar\":{\"outlinewidth\":0,\"ticks\":\"\"},\"colorscale\":[[0.0,\"#0d0887\"],[0.1111111111111111,\"#46039f\"],[0.2222222222222222,\"#7201a8\"],[0.3333333333333333,\"#9c179e\"],[0.4444444444444444,\"#bd3786\"],[0.5555555555555556,\"#d8576b\"],[0.6666666666666666,\"#ed7953\"],[0.7777777777777778,\"#fb9f3a\"],[0.8888888888888888,\"#fdca26\"],[1.0,\"#f0f921\"]],\"type\":\"histogram2dcontour\"}],\"mesh3d\":[{\"colorbar\":{\"outlinewidth\":0,\"ticks\":\"\"},\"type\":\"mesh3d\"}],\"parcoords\":[{\"line\":{\"colorbar\":{\"outlinewidth\":0,\"ticks\":\"\"}},\"type\":\"parcoords\"}],\"pie\":[{\"automargin\":true,\"type\":\"pie\"}],\"scatter\":[{\"marker\":{\"colorbar\":{\"outlinewidth\":0,\"ticks\":\"\"}},\"type\":\"scatter\"}],\"scatter3d\":[{\"line\":{\"colorbar\":{\"outlinewidth\":0,\"ticks\":\"\"}},\"marker\":{\"colorbar\":{\"outlinewidth\":0,\"ticks\":\"\"}},\"type\":\"scatter3d\"}],\"scattercarpet\":[{\"marker\":{\"colorbar\":{\"outlinewidth\":0,\"ticks\":\"\"}},\"type\":\"scattercarpet\"}],\"scattergeo\":[{\"marker\":{\"colorbar\":{\"outlinewidth\":0,\"ticks\":\"\"}},\"type\":\"scattergeo\"}],\"scattergl\":[{\"marker\":{\"colorbar\":{\"outlinewidth\":0,\"ticks\":\"\"}},\"type\":\"scattergl\"}],\"scattermapbox\":[{\"marker\":{\"colorbar\":{\"outlinewidth\":0,\"ticks\":\"\"}},\"type\":\"scattermapbox\"}],\"scatterpolar\":[{\"marker\":{\"colorbar\":{\"outlinewidth\":0,\"ticks\":\"\"}},\"type\":\"scatterpolar\"}],\"scatterpolargl\":[{\"marker\":{\"colorbar\":{\"outlinewidth\":0,\"ticks\":\"\"}},\"type\":\"scatterpolargl\"}],\"scatterternary\":[{\"marker\":{\"colorbar\":{\"outlinewidth\":0,\"ticks\":\"\"}},\"type\":\"scatterternary\"}],\"surface\":[{\"colorbar\":{\"outlinewidth\":0,\"ticks\":\"\"},\"colorscale\":[[0.0,\"#0d0887\"],[0.1111111111111111,\"#46039f\"],[0.2222222222222222,\"#7201a8\"],[0.3333333333333333,\"#9c179e\"],[0.4444444444444444,\"#bd3786\"],[0.5555555555555556,\"#d8576b\"],[0.6666666666666666,\"#ed7953\"],[0.7777777777777778,\"#fb9f3a\"],[0.8888888888888888,\"#fdca26\"],[1.0,\"#f0f921\"]],\"type\":\"surface\"}],\"table\":[{\"cells\":{\"fill\":{\"color\":\"#EBF0F8\"},\"line\":{\"color\":\"white\"}},\"header\":{\"fill\":{\"color\":\"#C8D4E3\"},\"line\":{\"color\":\"white\"}},\"type\":\"table\"}]},\"layout\":{\"annotationdefaults\":{\"arrowcolor\":\"#2a3f5f\",\"arrowhead\":0,\"arrowwidth\":1},\"autotypenumbers\":\"strict\",\"coloraxis\":{\"colorbar\":{\"outlinewidth\":0,\"ticks\":\"\"}},\"colorscale\":{\"diverging\":[[0,\"#8e0152\"],[0.1,\"#c51b7d\"],[0.2,\"#de77ae\"],[0.3,\"#f1b6da\"],[0.4,\"#fde0ef\"],[0.5,\"#f7f7f7\"],[0.6,\"#e6f5d0\"],[0.7,\"#b8e186\"],[0.8,\"#7fbc41\"],[0.9,\"#4d9221\"],[1,\"#276419\"]],\"sequential\":[[0.0,\"#0d0887\"],[0.1111111111111111,\"#46039f\"],[0.2222222222222222,\"#7201a8\"],[0.3333333333333333,\"#9c179e\"],[0.4444444444444444,\"#bd3786\"],[0.5555555555555556,\"#d8576b\"],[0.6666666666666666,\"#ed7953\"],[0.7777777777777778,\"#fb9f3a\"],[0.8888888888888888,\"#fdca26\"],[1.0,\"#f0f921\"]],\"sequentialminus\":[[0.0,\"#0d0887\"],[0.1111111111111111,\"#46039f\"],[0.2222222222222222,\"#7201a8\"],[0.3333333333333333,\"#9c179e\"],[0.4444444444444444,\"#bd3786\"],[0.5555555555555556,\"#d8576b\"],[0.6666666666666666,\"#ed7953\"],[0.7777777777777778,\"#fb9f3a\"],[0.8888888888888888,\"#fdca26\"],[1.0,\"#f0f921\"]]},\"colorway\":[\"#636efa\",\"#EF553B\",\"#00cc96\",\"#ab63fa\",\"#FFA15A\",\"#19d3f3\",\"#FF6692\",\"#B6E880\",\"#FF97FF\",\"#FECB52\"],\"font\":{\"color\":\"#2a3f5f\"},\"geo\":{\"bgcolor\":\"white\",\"lakecolor\":\"white\",\"landcolor\":\"#E5ECF6\",\"showlakes\":true,\"showland\":true,\"subunitcolor\":\"white\"},\"hoverlabel\":{\"align\":\"left\"},\"hovermode\":\"closest\",\"mapbox\":{\"style\":\"light\"},\"paper_bgcolor\":\"white\",\"plot_bgcolor\":\"#E5ECF6\",\"polar\":{\"angularaxis\":{\"gridcolor\":\"white\",\"linecolor\":\"white\",\"ticks\":\"\"},\"bgcolor\":\"#E5ECF6\",\"radialaxis\":{\"gridcolor\":\"white\",\"linecolor\":\"white\",\"ticks\":\"\"}},\"scene\":{\"xaxis\":{\"backgroundcolor\":\"#E5ECF6\",\"gridcolor\":\"white\",\"gridwidth\":2,\"linecolor\":\"white\",\"showbackground\":true,\"ticks\":\"\",\"zerolinecolor\":\"white\"},\"yaxis\":{\"backgroundcolor\":\"#E5ECF6\",\"gridcolor\":\"white\",\"gridwidth\":2,\"linecolor\":\"white\",\"showbackground\":true,\"ticks\":\"\",\"zerolinecolor\":\"white\"},\"zaxis\":{\"backgroundcolor\":\"#E5ECF6\",\"gridcolor\":\"white\",\"gridwidth\":2,\"linecolor\":\"white\",\"showbackground\":true,\"ticks\":\"\",\"zerolinecolor\":\"white\"}},\"shapedefaults\":{\"line\":{\"color\":\"#2a3f5f\"}},\"ternary\":{\"aaxis\":{\"gridcolor\":\"white\",\"linecolor\":\"white\",\"ticks\":\"\"},\"baxis\":{\"gridcolor\":\"white\",\"linecolor\":\"white\",\"ticks\":\"\"},\"bgcolor\":\"#E5ECF6\",\"caxis\":{\"gridcolor\":\"white\",\"linecolor\":\"white\",\"ticks\":\"\"}},\"title\":{\"x\":0.05},\"xaxis\":{\"automargin\":true,\"gridcolor\":\"white\",\"linecolor\":\"white\",\"ticks\":\"\",\"title\":{\"standoff\":15},\"zerolinecolor\":\"white\",\"zerolinewidth\":2},\"yaxis\":{\"automargin\":true,\"gridcolor\":\"white\",\"linecolor\":\"white\",\"ticks\":\"\",\"title\":{\"standoff\":15},\"zerolinecolor\":\"white\",\"zerolinewidth\":2}}},\"xaxis\":{\"anchor\":\"y\",\"domain\":[0.0,1.0],\"title\":{\"text\":\"Model\"}},\"yaxis\":{\"anchor\":\"x\",\"domain\":[0.0,1.0],\"title\":{\"text\":\"Balanced Accuracy\"}},\"legend\":{\"tracegroupgap\":0},\"title\":{\"text\":\"Balanced Accuracy of all models\"},\"barmode\":\"relative\"},                        {\"responsive\": true}                    ).then(function(){\n",
              "                            \n",
              "var gd = document.getElementById('aa171097-cd75-43bd-a147-d0a04ad51cc2');\n",
              "var x = new MutationObserver(function (mutations, observer) {{\n",
              "        var display = window.getComputedStyle(gd).display;\n",
              "        if (!display || display === 'none') {{\n",
              "            console.log([gd, 'removed!']);\n",
              "            Plotly.purge(gd);\n",
              "            observer.disconnect();\n",
              "        }}\n",
              "}});\n",
              "\n",
              "// Listen for the removal of the full notebook cells\n",
              "var notebookContainer = gd.closest('#notebook-container');\n",
              "if (notebookContainer) {{\n",
              "    x.observe(notebookContainer, {childList: true});\n",
              "}}\n",
              "\n",
              "// Listen for the clearing of the current output cell\n",
              "var outputEl = gd.closest('.output');\n",
              "if (outputEl) {{\n",
              "    x.observe(outputEl, {childList: true});\n",
              "}}\n",
              "\n",
              "                        })                };                            </script>        </div>\n",
              "</body>\n",
              "</html>"
            ]
          },
          "metadata": {}
        }
      ]
    },
    {
      "cell_type": "markdown",
      "source": [
        "F1 Score"
      ],
      "metadata": {
        "id": "KNggpihew5QZ"
      }
    },
    {
      "cell_type": "code",
      "source": [
        "import plotly.express as px\n",
        "fig = px.bar(x=results['Model'], y=results['F1 Score'],labels={\"x\":\"Model\",\"y\":\"F1 score\"},title=\"F1 scores of all models\")\n",
        "fig.show()"
      ],
      "metadata": {
        "colab": {
          "base_uri": "https://localhost:8080/",
          "height": 542
        },
        "id": "hXj4r33zv0M2",
        "outputId": "bf9b96e1-3a38-40fa-f277-aa61c25dd01e"
      },
      "execution_count": 52,
      "outputs": [
        {
          "output_type": "display_data",
          "data": {
            "text/html": [
              "<html>\n",
              "<head><meta charset=\"utf-8\" /></head>\n",
              "<body>\n",
              "    <div>            <script src=\"https://cdnjs.cloudflare.com/ajax/libs/mathjax/2.7.5/MathJax.js?config=TeX-AMS-MML_SVG\"></script><script type=\"text/javascript\">if (window.MathJax) {MathJax.Hub.Config({SVG: {font: \"STIX-Web\"}});}</script>                <script type=\"text/javascript\">window.PlotlyConfig = {MathJaxConfig: 'local'};</script>\n",
              "        <script src=\"https://cdn.plot.ly/plotly-2.8.3.min.js\"></script>                <div id=\"df0a6da7-b532-4693-82b2-8bc18be76cf3\" class=\"plotly-graph-div\" style=\"height:525px; width:100%;\"></div>            <script type=\"text/javascript\">                                    window.PLOTLYENV=window.PLOTLYENV || {};                                    if (document.getElementById(\"df0a6da7-b532-4693-82b2-8bc18be76cf3\")) {                    Plotly.newPlot(                        \"df0a6da7-b532-4693-82b2-8bc18be76cf3\",                        [{\"alignmentgroup\":\"True\",\"hovertemplate\":\"Model=%{x}<br>F1 score=%{y}<extra></extra>\",\"legendgroup\":\"\",\"marker\":{\"color\":\"#636efa\",\"pattern\":{\"shape\":\"\"}},\"name\":\"\",\"offsetgroup\":\"\",\"orientation\":\"v\",\"showlegend\":false,\"textposition\":\"auto\",\"x\":[\"QuadraticDiscriminantAnalysis\",\"LGBMClassifier\",\"BaggingClassifier\",\"XGBClassifier\",\"AdaBoostClassifier\",\"DecisionTreeClassifier\",\"RandomForestClassifier\",\"ExtraTreesClassifier\",\"SGDClassifier\",\"CalibratedClassifierCV\",\"Perceptron\",\"PassiveAggressiveClassifier\",\"LinearSVC\",\"LogisticRegression\",\"RidgeClassifierCV\",\"ExtraTreeClassifier\",\"RidgeClassifier\",\"BernoulliNB\",\"GaussianNB\",\"NearestCentroid\",\"SVC\",\"NuSVC\",\"LinearDiscriminantAnalysis\",\"KNeighborsClassifier\",\"LabelSpreading\",\"LabelPropagation\",\"DummyClassifier\"],\"xaxis\":\"x\",\"y\":[0.997792796842271,0.9955836487746402,0.9955836487746402,0.9955836487746402,0.9933743697889866,0.9933743697889866,0.9889608516952588,0.9845565229796144,0.9647126716817026,0.958100358014232,0.951471333201632,0.951481765260428,0.9492744056175506,0.947050852499246,0.938198279279956,0.9404421858105568,0.9204321873156018,0.9268248883640616,0.9071301885871424,0.900764005823181,0.8630461499728117,0.8630461499728117,0.8198432833205987,0.8323115862143857,0.540077132076908,0.540077132076908,0.2983883549934438],\"yaxis\":\"y\",\"type\":\"bar\"}],                        {\"template\":{\"data\":{\"bar\":[{\"error_x\":{\"color\":\"#2a3f5f\"},\"error_y\":{\"color\":\"#2a3f5f\"},\"marker\":{\"line\":{\"color\":\"#E5ECF6\",\"width\":0.5},\"pattern\":{\"fillmode\":\"overlay\",\"size\":10,\"solidity\":0.2}},\"type\":\"bar\"}],\"barpolar\":[{\"marker\":{\"line\":{\"color\":\"#E5ECF6\",\"width\":0.5},\"pattern\":{\"fillmode\":\"overlay\",\"size\":10,\"solidity\":0.2}},\"type\":\"barpolar\"}],\"carpet\":[{\"aaxis\":{\"endlinecolor\":\"#2a3f5f\",\"gridcolor\":\"white\",\"linecolor\":\"white\",\"minorgridcolor\":\"white\",\"startlinecolor\":\"#2a3f5f\"},\"baxis\":{\"endlinecolor\":\"#2a3f5f\",\"gridcolor\":\"white\",\"linecolor\":\"white\",\"minorgridcolor\":\"white\",\"startlinecolor\":\"#2a3f5f\"},\"type\":\"carpet\"}],\"choropleth\":[{\"colorbar\":{\"outlinewidth\":0,\"ticks\":\"\"},\"type\":\"choropleth\"}],\"contour\":[{\"colorbar\":{\"outlinewidth\":0,\"ticks\":\"\"},\"colorscale\":[[0.0,\"#0d0887\"],[0.1111111111111111,\"#46039f\"],[0.2222222222222222,\"#7201a8\"],[0.3333333333333333,\"#9c179e\"],[0.4444444444444444,\"#bd3786\"],[0.5555555555555556,\"#d8576b\"],[0.6666666666666666,\"#ed7953\"],[0.7777777777777778,\"#fb9f3a\"],[0.8888888888888888,\"#fdca26\"],[1.0,\"#f0f921\"]],\"type\":\"contour\"}],\"contourcarpet\":[{\"colorbar\":{\"outlinewidth\":0,\"ticks\":\"\"},\"type\":\"contourcarpet\"}],\"heatmap\":[{\"colorbar\":{\"outlinewidth\":0,\"ticks\":\"\"},\"colorscale\":[[0.0,\"#0d0887\"],[0.1111111111111111,\"#46039f\"],[0.2222222222222222,\"#7201a8\"],[0.3333333333333333,\"#9c179e\"],[0.4444444444444444,\"#bd3786\"],[0.5555555555555556,\"#d8576b\"],[0.6666666666666666,\"#ed7953\"],[0.7777777777777778,\"#fb9f3a\"],[0.8888888888888888,\"#fdca26\"],[1.0,\"#f0f921\"]],\"type\":\"heatmap\"}],\"heatmapgl\":[{\"colorbar\":{\"outlinewidth\":0,\"ticks\":\"\"},\"colorscale\":[[0.0,\"#0d0887\"],[0.1111111111111111,\"#46039f\"],[0.2222222222222222,\"#7201a8\"],[0.3333333333333333,\"#9c179e\"],[0.4444444444444444,\"#bd3786\"],[0.5555555555555556,\"#d8576b\"],[0.6666666666666666,\"#ed7953\"],[0.7777777777777778,\"#fb9f3a\"],[0.8888888888888888,\"#fdca26\"],[1.0,\"#f0f921\"]],\"type\":\"heatmapgl\"}],\"histogram\":[{\"marker\":{\"pattern\":{\"fillmode\":\"overlay\",\"size\":10,\"solidity\":0.2}},\"type\":\"histogram\"}],\"histogram2d\":[{\"colorbar\":{\"outlinewidth\":0,\"ticks\":\"\"},\"colorscale\":[[0.0,\"#0d0887\"],[0.1111111111111111,\"#46039f\"],[0.2222222222222222,\"#7201a8\"],[0.3333333333333333,\"#9c179e\"],[0.4444444444444444,\"#bd3786\"],[0.5555555555555556,\"#d8576b\"],[0.6666666666666666,\"#ed7953\"],[0.7777777777777778,\"#fb9f3a\"],[0.8888888888888888,\"#fdca26\"],[1.0,\"#f0f921\"]],\"type\":\"histogram2d\"}],\"histogram2dcontour\":[{\"colorbar\":{\"outlinewidth\":0,\"ticks\":\"\"},\"colorscale\":[[0.0,\"#0d0887\"],[0.1111111111111111,\"#46039f\"],[0.2222222222222222,\"#7201a8\"],[0.3333333333333333,\"#9c179e\"],[0.4444444444444444,\"#bd3786\"],[0.5555555555555556,\"#d8576b\"],[0.6666666666666666,\"#ed7953\"],[0.7777777777777778,\"#fb9f3a\"],[0.8888888888888888,\"#fdca26\"],[1.0,\"#f0f921\"]],\"type\":\"histogram2dcontour\"}],\"mesh3d\":[{\"colorbar\":{\"outlinewidth\":0,\"ticks\":\"\"},\"type\":\"mesh3d\"}],\"parcoords\":[{\"line\":{\"colorbar\":{\"outlinewidth\":0,\"ticks\":\"\"}},\"type\":\"parcoords\"}],\"pie\":[{\"automargin\":true,\"type\":\"pie\"}],\"scatter\":[{\"marker\":{\"colorbar\":{\"outlinewidth\":0,\"ticks\":\"\"}},\"type\":\"scatter\"}],\"scatter3d\":[{\"line\":{\"colorbar\":{\"outlinewidth\":0,\"ticks\":\"\"}},\"marker\":{\"colorbar\":{\"outlinewidth\":0,\"ticks\":\"\"}},\"type\":\"scatter3d\"}],\"scattercarpet\":[{\"marker\":{\"colorbar\":{\"outlinewidth\":0,\"ticks\":\"\"}},\"type\":\"scattercarpet\"}],\"scattergeo\":[{\"marker\":{\"colorbar\":{\"outlinewidth\":0,\"ticks\":\"\"}},\"type\":\"scattergeo\"}],\"scattergl\":[{\"marker\":{\"colorbar\":{\"outlinewidth\":0,\"ticks\":\"\"}},\"type\":\"scattergl\"}],\"scattermapbox\":[{\"marker\":{\"colorbar\":{\"outlinewidth\":0,\"ticks\":\"\"}},\"type\":\"scattermapbox\"}],\"scatterpolar\":[{\"marker\":{\"colorbar\":{\"outlinewidth\":0,\"ticks\":\"\"}},\"type\":\"scatterpolar\"}],\"scatterpolargl\":[{\"marker\":{\"colorbar\":{\"outlinewidth\":0,\"ticks\":\"\"}},\"type\":\"scatterpolargl\"}],\"scatterternary\":[{\"marker\":{\"colorbar\":{\"outlinewidth\":0,\"ticks\":\"\"}},\"type\":\"scatterternary\"}],\"surface\":[{\"colorbar\":{\"outlinewidth\":0,\"ticks\":\"\"},\"colorscale\":[[0.0,\"#0d0887\"],[0.1111111111111111,\"#46039f\"],[0.2222222222222222,\"#7201a8\"],[0.3333333333333333,\"#9c179e\"],[0.4444444444444444,\"#bd3786\"],[0.5555555555555556,\"#d8576b\"],[0.6666666666666666,\"#ed7953\"],[0.7777777777777778,\"#fb9f3a\"],[0.8888888888888888,\"#fdca26\"],[1.0,\"#f0f921\"]],\"type\":\"surface\"}],\"table\":[{\"cells\":{\"fill\":{\"color\":\"#EBF0F8\"},\"line\":{\"color\":\"white\"}},\"header\":{\"fill\":{\"color\":\"#C8D4E3\"},\"line\":{\"color\":\"white\"}},\"type\":\"table\"}]},\"layout\":{\"annotationdefaults\":{\"arrowcolor\":\"#2a3f5f\",\"arrowhead\":0,\"arrowwidth\":1},\"autotypenumbers\":\"strict\",\"coloraxis\":{\"colorbar\":{\"outlinewidth\":0,\"ticks\":\"\"}},\"colorscale\":{\"diverging\":[[0,\"#8e0152\"],[0.1,\"#c51b7d\"],[0.2,\"#de77ae\"],[0.3,\"#f1b6da\"],[0.4,\"#fde0ef\"],[0.5,\"#f7f7f7\"],[0.6,\"#e6f5d0\"],[0.7,\"#b8e186\"],[0.8,\"#7fbc41\"],[0.9,\"#4d9221\"],[1,\"#276419\"]],\"sequential\":[[0.0,\"#0d0887\"],[0.1111111111111111,\"#46039f\"],[0.2222222222222222,\"#7201a8\"],[0.3333333333333333,\"#9c179e\"],[0.4444444444444444,\"#bd3786\"],[0.5555555555555556,\"#d8576b\"],[0.6666666666666666,\"#ed7953\"],[0.7777777777777778,\"#fb9f3a\"],[0.8888888888888888,\"#fdca26\"],[1.0,\"#f0f921\"]],\"sequentialminus\":[[0.0,\"#0d0887\"],[0.1111111111111111,\"#46039f\"],[0.2222222222222222,\"#7201a8\"],[0.3333333333333333,\"#9c179e\"],[0.4444444444444444,\"#bd3786\"],[0.5555555555555556,\"#d8576b\"],[0.6666666666666666,\"#ed7953\"],[0.7777777777777778,\"#fb9f3a\"],[0.8888888888888888,\"#fdca26\"],[1.0,\"#f0f921\"]]},\"colorway\":[\"#636efa\",\"#EF553B\",\"#00cc96\",\"#ab63fa\",\"#FFA15A\",\"#19d3f3\",\"#FF6692\",\"#B6E880\",\"#FF97FF\",\"#FECB52\"],\"font\":{\"color\":\"#2a3f5f\"},\"geo\":{\"bgcolor\":\"white\",\"lakecolor\":\"white\",\"landcolor\":\"#E5ECF6\",\"showlakes\":true,\"showland\":true,\"subunitcolor\":\"white\"},\"hoverlabel\":{\"align\":\"left\"},\"hovermode\":\"closest\",\"mapbox\":{\"style\":\"light\"},\"paper_bgcolor\":\"white\",\"plot_bgcolor\":\"#E5ECF6\",\"polar\":{\"angularaxis\":{\"gridcolor\":\"white\",\"linecolor\":\"white\",\"ticks\":\"\"},\"bgcolor\":\"#E5ECF6\",\"radialaxis\":{\"gridcolor\":\"white\",\"linecolor\":\"white\",\"ticks\":\"\"}},\"scene\":{\"xaxis\":{\"backgroundcolor\":\"#E5ECF6\",\"gridcolor\":\"white\",\"gridwidth\":2,\"linecolor\":\"white\",\"showbackground\":true,\"ticks\":\"\",\"zerolinecolor\":\"white\"},\"yaxis\":{\"backgroundcolor\":\"#E5ECF6\",\"gridcolor\":\"white\",\"gridwidth\":2,\"linecolor\":\"white\",\"showbackground\":true,\"ticks\":\"\",\"zerolinecolor\":\"white\"},\"zaxis\":{\"backgroundcolor\":\"#E5ECF6\",\"gridcolor\":\"white\",\"gridwidth\":2,\"linecolor\":\"white\",\"showbackground\":true,\"ticks\":\"\",\"zerolinecolor\":\"white\"}},\"shapedefaults\":{\"line\":{\"color\":\"#2a3f5f\"}},\"ternary\":{\"aaxis\":{\"gridcolor\":\"white\",\"linecolor\":\"white\",\"ticks\":\"\"},\"baxis\":{\"gridcolor\":\"white\",\"linecolor\":\"white\",\"ticks\":\"\"},\"bgcolor\":\"#E5ECF6\",\"caxis\":{\"gridcolor\":\"white\",\"linecolor\":\"white\",\"ticks\":\"\"}},\"title\":{\"x\":0.05},\"xaxis\":{\"automargin\":true,\"gridcolor\":\"white\",\"linecolor\":\"white\",\"ticks\":\"\",\"title\":{\"standoff\":15},\"zerolinecolor\":\"white\",\"zerolinewidth\":2},\"yaxis\":{\"automargin\":true,\"gridcolor\":\"white\",\"linecolor\":\"white\",\"ticks\":\"\",\"title\":{\"standoff\":15},\"zerolinecolor\":\"white\",\"zerolinewidth\":2}}},\"xaxis\":{\"anchor\":\"y\",\"domain\":[0.0,1.0],\"title\":{\"text\":\"Model\"}},\"yaxis\":{\"anchor\":\"x\",\"domain\":[0.0,1.0],\"title\":{\"text\":\"F1 score\"}},\"legend\":{\"tracegroupgap\":0},\"title\":{\"text\":\"F1 scores of all models\"},\"barmode\":\"relative\"},                        {\"responsive\": true}                    ).then(function(){\n",
              "                            \n",
              "var gd = document.getElementById('df0a6da7-b532-4693-82b2-8bc18be76cf3');\n",
              "var x = new MutationObserver(function (mutations, observer) {{\n",
              "        var display = window.getComputedStyle(gd).display;\n",
              "        if (!display || display === 'none') {{\n",
              "            console.log([gd, 'removed!']);\n",
              "            Plotly.purge(gd);\n",
              "            observer.disconnect();\n",
              "        }}\n",
              "}});\n",
              "\n",
              "// Listen for the removal of the full notebook cells\n",
              "var notebookContainer = gd.closest('#notebook-container');\n",
              "if (notebookContainer) {{\n",
              "    x.observe(notebookContainer, {childList: true});\n",
              "}}\n",
              "\n",
              "// Listen for the clearing of the current output cell\n",
              "var outputEl = gd.closest('.output');\n",
              "if (outputEl) {{\n",
              "    x.observe(outputEl, {childList: true});\n",
              "}}\n",
              "\n",
              "                        })                };                            </script>        </div>\n",
              "</body>\n",
              "</html>"
            ]
          },
          "metadata": {}
        }
      ]
    },
    {
      "cell_type": "markdown",
      "source": [
        "AUC-ROC"
      ],
      "metadata": {
        "id": "3fnnA12nw8WI"
      }
    },
    {
      "cell_type": "code",
      "source": [
        "import plotly.express as px\n",
        "fig = px.bar(x=results['Model'], y=results['ROC AUC'],labels={\"x\":\"Model\",\"y\":\"AUC-ROC\"},title=\"AUC-ROC of all models\")\n",
        "fig.show()"
      ],
      "metadata": {
        "colab": {
          "base_uri": "https://localhost:8080/",
          "height": 542
        },
        "id": "GmdQ1TzWw7Fg",
        "outputId": "c82a1658-35d5-4344-e305-85f4748f8c20"
      },
      "execution_count": 53,
      "outputs": [
        {
          "output_type": "display_data",
          "data": {
            "text/html": [
              "<html>\n",
              "<head><meta charset=\"utf-8\" /></head>\n",
              "<body>\n",
              "    <div>            <script src=\"https://cdnjs.cloudflare.com/ajax/libs/mathjax/2.7.5/MathJax.js?config=TeX-AMS-MML_SVG\"></script><script type=\"text/javascript\">if (window.MathJax) {MathJax.Hub.Config({SVG: {font: \"STIX-Web\"}});}</script>                <script type=\"text/javascript\">window.PlotlyConfig = {MathJaxConfig: 'local'};</script>\n",
              "        <script src=\"https://cdn.plot.ly/plotly-2.8.3.min.js\"></script>                <div id=\"a5b6b5b5-d128-4747-93e6-be4f10847b69\" class=\"plotly-graph-div\" style=\"height:525px; width:100%;\"></div>            <script type=\"text/javascript\">                                    window.PLOTLYENV=window.PLOTLYENV || {};                                    if (document.getElementById(\"a5b6b5b5-d128-4747-93e6-be4f10847b69\")) {                    Plotly.newPlot(                        \"a5b6b5b5-d128-4747-93e6-be4f10847b69\",                        [{\"alignmentgroup\":\"True\",\"hovertemplate\":\"Model=%{x}<br>AUC-ROC=%{y}<extra></extra>\",\"legendgroup\":\"\",\"marker\":{\"color\":\"#636efa\",\"pattern\":{\"shape\":\"\"}},\"name\":\"\",\"offsetgroup\":\"\",\"orientation\":\"v\",\"showlegend\":false,\"textposition\":\"auto\",\"x\":[\"QuadraticDiscriminantAnalysis\",\"LGBMClassifier\",\"BaggingClassifier\",\"XGBClassifier\",\"AdaBoostClassifier\",\"DecisionTreeClassifier\",\"RandomForestClassifier\",\"ExtraTreesClassifier\",\"SGDClassifier\",\"CalibratedClassifierCV\",\"Perceptron\",\"PassiveAggressiveClassifier\",\"LinearSVC\",\"LogisticRegression\",\"RidgeClassifierCV\",\"ExtraTreeClassifier\",\"RidgeClassifier\",\"BernoulliNB\",\"GaussianNB\",\"NearestCentroid\",\"SVC\",\"NuSVC\",\"LinearDiscriminantAnalysis\",\"KNeighborsClassifier\",\"LabelSpreading\",\"LabelPropagation\",\"DummyClassifier\"],\"xaxis\":\"x\",\"y\":[0.9979253112033196,0.9952830188679246,0.9952830188679246,0.9952830188679246,0.9929245283018868,0.9929245283018868,0.9887751507085256,0.9851933766538792,0.9659535739450402,0.960013309324356,0.954356846473029,0.9537892429343146,0.951714554137634,0.950207468879668,0.941908713692946,0.941145384796054,0.925311203319502,0.9241564237062556,0.9122954670007049,0.902381977609019,0.8620038362170203,0.8620038362170203,0.8340248962655601,0.8321067877554218,0.6244813278008299,0.6244813278008299,0.5],\"yaxis\":\"y\",\"type\":\"bar\"}],                        {\"template\":{\"data\":{\"bar\":[{\"error_x\":{\"color\":\"#2a3f5f\"},\"error_y\":{\"color\":\"#2a3f5f\"},\"marker\":{\"line\":{\"color\":\"#E5ECF6\",\"width\":0.5},\"pattern\":{\"fillmode\":\"overlay\",\"size\":10,\"solidity\":0.2}},\"type\":\"bar\"}],\"barpolar\":[{\"marker\":{\"line\":{\"color\":\"#E5ECF6\",\"width\":0.5},\"pattern\":{\"fillmode\":\"overlay\",\"size\":10,\"solidity\":0.2}},\"type\":\"barpolar\"}],\"carpet\":[{\"aaxis\":{\"endlinecolor\":\"#2a3f5f\",\"gridcolor\":\"white\",\"linecolor\":\"white\",\"minorgridcolor\":\"white\",\"startlinecolor\":\"#2a3f5f\"},\"baxis\":{\"endlinecolor\":\"#2a3f5f\",\"gridcolor\":\"white\",\"linecolor\":\"white\",\"minorgridcolor\":\"white\",\"startlinecolor\":\"#2a3f5f\"},\"type\":\"carpet\"}],\"choropleth\":[{\"colorbar\":{\"outlinewidth\":0,\"ticks\":\"\"},\"type\":\"choropleth\"}],\"contour\":[{\"colorbar\":{\"outlinewidth\":0,\"ticks\":\"\"},\"colorscale\":[[0.0,\"#0d0887\"],[0.1111111111111111,\"#46039f\"],[0.2222222222222222,\"#7201a8\"],[0.3333333333333333,\"#9c179e\"],[0.4444444444444444,\"#bd3786\"],[0.5555555555555556,\"#d8576b\"],[0.6666666666666666,\"#ed7953\"],[0.7777777777777778,\"#fb9f3a\"],[0.8888888888888888,\"#fdca26\"],[1.0,\"#f0f921\"]],\"type\":\"contour\"}],\"contourcarpet\":[{\"colorbar\":{\"outlinewidth\":0,\"ticks\":\"\"},\"type\":\"contourcarpet\"}],\"heatmap\":[{\"colorbar\":{\"outlinewidth\":0,\"ticks\":\"\"},\"colorscale\":[[0.0,\"#0d0887\"],[0.1111111111111111,\"#46039f\"],[0.2222222222222222,\"#7201a8\"],[0.3333333333333333,\"#9c179e\"],[0.4444444444444444,\"#bd3786\"],[0.5555555555555556,\"#d8576b\"],[0.6666666666666666,\"#ed7953\"],[0.7777777777777778,\"#fb9f3a\"],[0.8888888888888888,\"#fdca26\"],[1.0,\"#f0f921\"]],\"type\":\"heatmap\"}],\"heatmapgl\":[{\"colorbar\":{\"outlinewidth\":0,\"ticks\":\"\"},\"colorscale\":[[0.0,\"#0d0887\"],[0.1111111111111111,\"#46039f\"],[0.2222222222222222,\"#7201a8\"],[0.3333333333333333,\"#9c179e\"],[0.4444444444444444,\"#bd3786\"],[0.5555555555555556,\"#d8576b\"],[0.6666666666666666,\"#ed7953\"],[0.7777777777777778,\"#fb9f3a\"],[0.8888888888888888,\"#fdca26\"],[1.0,\"#f0f921\"]],\"type\":\"heatmapgl\"}],\"histogram\":[{\"marker\":{\"pattern\":{\"fillmode\":\"overlay\",\"size\":10,\"solidity\":0.2}},\"type\":\"histogram\"}],\"histogram2d\":[{\"colorbar\":{\"outlinewidth\":0,\"ticks\":\"\"},\"colorscale\":[[0.0,\"#0d0887\"],[0.1111111111111111,\"#46039f\"],[0.2222222222222222,\"#7201a8\"],[0.3333333333333333,\"#9c179e\"],[0.4444444444444444,\"#bd3786\"],[0.5555555555555556,\"#d8576b\"],[0.6666666666666666,\"#ed7953\"],[0.7777777777777778,\"#fb9f3a\"],[0.8888888888888888,\"#fdca26\"],[1.0,\"#f0f921\"]],\"type\":\"histogram2d\"}],\"histogram2dcontour\":[{\"colorbar\":{\"outlinewidth\":0,\"ticks\":\"\"},\"colorscale\":[[0.0,\"#0d0887\"],[0.1111111111111111,\"#46039f\"],[0.2222222222222222,\"#7201a8\"],[0.3333333333333333,\"#9c179e\"],[0.4444444444444444,\"#bd3786\"],[0.5555555555555556,\"#d8576b\"],[0.6666666666666666,\"#ed7953\"],[0.7777777777777778,\"#fb9f3a\"],[0.8888888888888888,\"#fdca26\"],[1.0,\"#f0f921\"]],\"type\":\"histogram2dcontour\"}],\"mesh3d\":[{\"colorbar\":{\"outlinewidth\":0,\"ticks\":\"\"},\"type\":\"mesh3d\"}],\"parcoords\":[{\"line\":{\"colorbar\":{\"outlinewidth\":0,\"ticks\":\"\"}},\"type\":\"parcoords\"}],\"pie\":[{\"automargin\":true,\"type\":\"pie\"}],\"scatter\":[{\"marker\":{\"colorbar\":{\"outlinewidth\":0,\"ticks\":\"\"}},\"type\":\"scatter\"}],\"scatter3d\":[{\"line\":{\"colorbar\":{\"outlinewidth\":0,\"ticks\":\"\"}},\"marker\":{\"colorbar\":{\"outlinewidth\":0,\"ticks\":\"\"}},\"type\":\"scatter3d\"}],\"scattercarpet\":[{\"marker\":{\"colorbar\":{\"outlinewidth\":0,\"ticks\":\"\"}},\"type\":\"scattercarpet\"}],\"scattergeo\":[{\"marker\":{\"colorbar\":{\"outlinewidth\":0,\"ticks\":\"\"}},\"type\":\"scattergeo\"}],\"scattergl\":[{\"marker\":{\"colorbar\":{\"outlinewidth\":0,\"ticks\":\"\"}},\"type\":\"scattergl\"}],\"scattermapbox\":[{\"marker\":{\"colorbar\":{\"outlinewidth\":0,\"ticks\":\"\"}},\"type\":\"scattermapbox\"}],\"scatterpolar\":[{\"marker\":{\"colorbar\":{\"outlinewidth\":0,\"ticks\":\"\"}},\"type\":\"scatterpolar\"}],\"scatterpolargl\":[{\"marker\":{\"colorbar\":{\"outlinewidth\":0,\"ticks\":\"\"}},\"type\":\"scatterpolargl\"}],\"scatterternary\":[{\"marker\":{\"colorbar\":{\"outlinewidth\":0,\"ticks\":\"\"}},\"type\":\"scatterternary\"}],\"surface\":[{\"colorbar\":{\"outlinewidth\":0,\"ticks\":\"\"},\"colorscale\":[[0.0,\"#0d0887\"],[0.1111111111111111,\"#46039f\"],[0.2222222222222222,\"#7201a8\"],[0.3333333333333333,\"#9c179e\"],[0.4444444444444444,\"#bd3786\"],[0.5555555555555556,\"#d8576b\"],[0.6666666666666666,\"#ed7953\"],[0.7777777777777778,\"#fb9f3a\"],[0.8888888888888888,\"#fdca26\"],[1.0,\"#f0f921\"]],\"type\":\"surface\"}],\"table\":[{\"cells\":{\"fill\":{\"color\":\"#EBF0F8\"},\"line\":{\"color\":\"white\"}},\"header\":{\"fill\":{\"color\":\"#C8D4E3\"},\"line\":{\"color\":\"white\"}},\"type\":\"table\"}]},\"layout\":{\"annotationdefaults\":{\"arrowcolor\":\"#2a3f5f\",\"arrowhead\":0,\"arrowwidth\":1},\"autotypenumbers\":\"strict\",\"coloraxis\":{\"colorbar\":{\"outlinewidth\":0,\"ticks\":\"\"}},\"colorscale\":{\"diverging\":[[0,\"#8e0152\"],[0.1,\"#c51b7d\"],[0.2,\"#de77ae\"],[0.3,\"#f1b6da\"],[0.4,\"#fde0ef\"],[0.5,\"#f7f7f7\"],[0.6,\"#e6f5d0\"],[0.7,\"#b8e186\"],[0.8,\"#7fbc41\"],[0.9,\"#4d9221\"],[1,\"#276419\"]],\"sequential\":[[0.0,\"#0d0887\"],[0.1111111111111111,\"#46039f\"],[0.2222222222222222,\"#7201a8\"],[0.3333333333333333,\"#9c179e\"],[0.4444444444444444,\"#bd3786\"],[0.5555555555555556,\"#d8576b\"],[0.6666666666666666,\"#ed7953\"],[0.7777777777777778,\"#fb9f3a\"],[0.8888888888888888,\"#fdca26\"],[1.0,\"#f0f921\"]],\"sequentialminus\":[[0.0,\"#0d0887\"],[0.1111111111111111,\"#46039f\"],[0.2222222222222222,\"#7201a8\"],[0.3333333333333333,\"#9c179e\"],[0.4444444444444444,\"#bd3786\"],[0.5555555555555556,\"#d8576b\"],[0.6666666666666666,\"#ed7953\"],[0.7777777777777778,\"#fb9f3a\"],[0.8888888888888888,\"#fdca26\"],[1.0,\"#f0f921\"]]},\"colorway\":[\"#636efa\",\"#EF553B\",\"#00cc96\",\"#ab63fa\",\"#FFA15A\",\"#19d3f3\",\"#FF6692\",\"#B6E880\",\"#FF97FF\",\"#FECB52\"],\"font\":{\"color\":\"#2a3f5f\"},\"geo\":{\"bgcolor\":\"white\",\"lakecolor\":\"white\",\"landcolor\":\"#E5ECF6\",\"showlakes\":true,\"showland\":true,\"subunitcolor\":\"white\"},\"hoverlabel\":{\"align\":\"left\"},\"hovermode\":\"closest\",\"mapbox\":{\"style\":\"light\"},\"paper_bgcolor\":\"white\",\"plot_bgcolor\":\"#E5ECF6\",\"polar\":{\"angularaxis\":{\"gridcolor\":\"white\",\"linecolor\":\"white\",\"ticks\":\"\"},\"bgcolor\":\"#E5ECF6\",\"radialaxis\":{\"gridcolor\":\"white\",\"linecolor\":\"white\",\"ticks\":\"\"}},\"scene\":{\"xaxis\":{\"backgroundcolor\":\"#E5ECF6\",\"gridcolor\":\"white\",\"gridwidth\":2,\"linecolor\":\"white\",\"showbackground\":true,\"ticks\":\"\",\"zerolinecolor\":\"white\"},\"yaxis\":{\"backgroundcolor\":\"#E5ECF6\",\"gridcolor\":\"white\",\"gridwidth\":2,\"linecolor\":\"white\",\"showbackground\":true,\"ticks\":\"\",\"zerolinecolor\":\"white\"},\"zaxis\":{\"backgroundcolor\":\"#E5ECF6\",\"gridcolor\":\"white\",\"gridwidth\":2,\"linecolor\":\"white\",\"showbackground\":true,\"ticks\":\"\",\"zerolinecolor\":\"white\"}},\"shapedefaults\":{\"line\":{\"color\":\"#2a3f5f\"}},\"ternary\":{\"aaxis\":{\"gridcolor\":\"white\",\"linecolor\":\"white\",\"ticks\":\"\"},\"baxis\":{\"gridcolor\":\"white\",\"linecolor\":\"white\",\"ticks\":\"\"},\"bgcolor\":\"#E5ECF6\",\"caxis\":{\"gridcolor\":\"white\",\"linecolor\":\"white\",\"ticks\":\"\"}},\"title\":{\"x\":0.05},\"xaxis\":{\"automargin\":true,\"gridcolor\":\"white\",\"linecolor\":\"white\",\"ticks\":\"\",\"title\":{\"standoff\":15},\"zerolinecolor\":\"white\",\"zerolinewidth\":2},\"yaxis\":{\"automargin\":true,\"gridcolor\":\"white\",\"linecolor\":\"white\",\"ticks\":\"\",\"title\":{\"standoff\":15},\"zerolinecolor\":\"white\",\"zerolinewidth\":2}}},\"xaxis\":{\"anchor\":\"y\",\"domain\":[0.0,1.0],\"title\":{\"text\":\"Model\"}},\"yaxis\":{\"anchor\":\"x\",\"domain\":[0.0,1.0],\"title\":{\"text\":\"AUC-ROC\"}},\"legend\":{\"tracegroupgap\":0},\"title\":{\"text\":\"AUC-ROC of all models\"},\"barmode\":\"relative\"},                        {\"responsive\": true}                    ).then(function(){\n",
              "                            \n",
              "var gd = document.getElementById('a5b6b5b5-d128-4747-93e6-be4f10847b69');\n",
              "var x = new MutationObserver(function (mutations, observer) {{\n",
              "        var display = window.getComputedStyle(gd).display;\n",
              "        if (!display || display === 'none') {{\n",
              "            console.log([gd, 'removed!']);\n",
              "            Plotly.purge(gd);\n",
              "            observer.disconnect();\n",
              "        }}\n",
              "}});\n",
              "\n",
              "// Listen for the removal of the full notebook cells\n",
              "var notebookContainer = gd.closest('#notebook-container');\n",
              "if (notebookContainer) {{\n",
              "    x.observe(notebookContainer, {childList: true});\n",
              "}}\n",
              "\n",
              "// Listen for the clearing of the current output cell\n",
              "var outputEl = gd.closest('.output');\n",
              "if (outputEl) {{\n",
              "    x.observe(outputEl, {childList: true});\n",
              "}}\n",
              "\n",
              "                        })                };                            </script>        </div>\n",
              "</body>\n",
              "</html>"
            ]
          },
          "metadata": {}
        }
      ]
    },
    {
      "cell_type": "markdown",
      "source": [
        "Light gradient boosting machine"
      ],
      "metadata": {
        "id": "_8SAmfGgberR"
      }
    },
    {
      "cell_type": "markdown",
      "source": [
        "Hyper-parameter optimization"
      ],
      "metadata": {
        "id": "RazwDGJqbkSe"
      }
    },
    {
      "cell_type": "code",
      "source": [
        "\n",
        "from lightgbm import LGBMClassifier\n",
        "import lightgbm\n",
        "import lightgbm as lgb\n",
        "\n",
        "model2=lgb.LGBMClassifier(random_state = 0)\n",
        "model2.fit(X_train,y_train)\n",
        "\n",
        "parameter_grid2 = {'n_estimators': [5,10,20,30],'max_depth':[5,10],'learning_rate':[0.001,0.1],'num_leaves':[4,10],'lambda_l1':[0.1,1],'lambda_l2':[0.1,2]}\n",
        "\n",
        "finalgrid_LGB2 = GridSearchCV(estimator=model2, param_grid=parameter_grid2, cv = 4, verbose = 2, n_jobs=-1)\n",
        "finalgrid_LGB2.fit(X_train,y_train)\n",
        "\n",
        "from sklearn.metrics import mean_squared_error\n",
        "\n",
        "mean_squared_error(y_test,finalgrid_LGB2.predict(X_test))"
      ],
      "metadata": {
        "colab": {
          "base_uri": "https://localhost:8080/"
        },
        "id": "hjYbCKUpNeCV",
        "outputId": "51a0e155-9b8b-4c46-cc11-3c8e9f320ab8"
      },
      "execution_count": 54,
      "outputs": [
        {
          "output_type": "stream",
          "name": "stdout",
          "text": [
            "Fitting 4 folds for each of 128 candidates, totalling 512 fits\n"
          ]
        },
        {
          "output_type": "execute_result",
          "data": {
            "text/plain": [
              "0.006622516556291391"
            ]
          },
          "metadata": {},
          "execution_count": 54
        }
      ]
    },
    {
      "cell_type": "code",
      "source": [
        "finalgrid_LGB2.best_params_"
      ],
      "metadata": {
        "colab": {
          "base_uri": "https://localhost:8080/"
        },
        "id": "iBBHsW-5s2_O",
        "outputId": "01116be4-25f3-44e6-91f4-2e5de994ad43"
      },
      "execution_count": 55,
      "outputs": [
        {
          "output_type": "execute_result",
          "data": {
            "text/plain": [
              "{'lambda_l1': 0.1,\n",
              " 'lambda_l2': 0.1,\n",
              " 'learning_rate': 0.1,\n",
              " 'max_depth': 5,\n",
              " 'n_estimators': 30,\n",
              " 'num_leaves': 4}"
            ]
          },
          "metadata": {},
          "execution_count": 55
        }
      ]
    },
    {
      "cell_type": "markdown",
      "source": [
        "Performance Metrics"
      ],
      "metadata": {
        "id": "DZg3BbR7qruw"
      }
    },
    {
      "cell_type": "code",
      "source": [
        "from sklearn.metrics import precision_recall_fscore_support\n",
        "\n",
        "precision_recall_fscore_support(y_test, finalgrid_LGB2.predict(X_test),average='macro')"
      ],
      "metadata": {
        "colab": {
          "base_uri": "https://localhost:8080/"
        },
        "id": "XMBfiRJUKer8",
        "outputId": "007150ed-0b2b-48ea-b974-e22419feb87d"
      },
      "execution_count": 56,
      "outputs": [
        {
          "output_type": "execute_result",
          "data": {
            "text/plain": [
              "(0.9938524590163935, 0.9929245283018868, 0.9933442711266742, None)"
            ]
          },
          "metadata": {},
          "execution_count": 56
        }
      ]
    },
    {
      "cell_type": "markdown",
      "source": [
        "Confusion Matrix"
      ],
      "metadata": {
        "id": "QjVVxyKjC4g5"
      }
    },
    {
      "cell_type": "code",
      "source": [
        "from sklearn.metrics import ConfusionMatrixDisplay\n",
        "\n",
        "ConfusionMatrixDisplay.from_estimator(\n",
        "    finalgrid_LGB2, X_test, y_test,normalize='all')\n"
      ],
      "metadata": {
        "colab": {
          "base_uri": "https://localhost:8080/",
          "height": 296
        },
        "id": "w1iizeZPZqQl",
        "outputId": "0ea1a8ba-0b30-4813-ce59-a3a81d3a271f"
      },
      "execution_count": 57,
      "outputs": [
        {
          "output_type": "execute_result",
          "data": {
            "text/plain": [
              "<sklearn.metrics._plot.confusion_matrix.ConfusionMatrixDisplay at 0x7f49c0eb7210>"
            ]
          },
          "metadata": {},
          "execution_count": 57
        },
        {
          "output_type": "display_data",
          "data": {
            "text/plain": [
              "<Figure size 432x288 with 2 Axes>"
            ],
            "image/png": "[encoded data removed]"
          },
          "metadata": {
            "needs_background": "light"
          }
        }
      ]
    },
    {
      "cell_type": "markdown",
      "source": [
        "Output as probability"
      ],
      "metadata": {
        "id": "cXktc1TV1Yns"
      }
    },
    {
      "cell_type": "code",
      "source": [
        "probabilities=pd.DataFrame(finalgrid_LGB2.predict_proba(X))"
      ],
      "metadata": {
        "id": "Pm7ahbQVCcOm"
      },
      "execution_count": 58,
      "outputs": []
    },
    {
      "cell_type": "code",
      "source": [
        "y['target']"
      ],
      "metadata": {
        "colab": {
          "base_uri": "https://localhost:8080/"
        },
        "id": "z7igwGbDiVUg",
        "outputId": "6cf54b3f-d593-46b7-9ab2-3cee9f9b0480"
      },
      "execution_count": 63,
      "outputs": [
        {
          "output_type": "execute_result",
          "data": {
            "text/plain": [
              "0      1\n",
              "1      1\n",
              "2      1\n",
              "3      1\n",
              "4      1\n",
              "      ..\n",
              "549    1\n",
              "550    1\n",
              "551    1\n",
              "552    0\n",
              "553    0\n",
              "Name: target, Length: 554, dtype: int64"
            ]
          },
          "metadata": {},
          "execution_count": 63
        }
      ]
    },
    {
      "cell_type": "code",
      "source": [
        "import plotly.express as px\n",
        "fig = px.scatter(y=probabilities.iloc[:,1],color=y['target'],color_continuous_scale=px.colors.sequential.Turbo,labels={\"x\":\"Index\",\"y\":\"Probability\"},title=\"Probability Plot\")\n",
        "fig.show()"
      ],
      "metadata": {
        "colab": {
          "base_uri": "https://localhost:8080/",
          "height": 542
        },
        "id": "TXijbk2tCnUQ",
        "outputId": "7f1d0c5c-02bd-4456-e58c-96d69bc90ab5"
      },
      "execution_count": 64,
      "outputs": [
        {
          "output_type": "display_data",
          "data": {
            "text/html": [
              "<html>\n",
              "<head><meta charset=\"utf-8\" /></head>\n",
              "<body>\n",
              "    <div>            <script src=\"https://cdnjs.cloudflare.com/ajax/libs/mathjax/2.7.5/MathJax.js?config=TeX-AMS-MML_SVG\"></script><script type=\"text/javascript\">if (window.MathJax) {MathJax.Hub.Config({SVG: {font: \"STIX-Web\"}});}</script>                <script type=\"text/javascript\">window.PlotlyConfig = {MathJaxConfig: 'local'};</script>\n",
              "        <script src=\"https://cdn.plot.ly/plotly-2.8.3.min.js\"></script>                <div id=\"8b54f8a2-42f5-489c-8938-6a6b1ec1e559\" class=\"plotly-graph-div\" style=\"height:525px; width:100%;\"></div>            <script type=\"text/javascript\">                                    window.PLOTLYENV=window.PLOTLYENV || {};                                    if (document.getElementById(\"8b54f8a2-42f5-489c-8938-6a6b1ec1e559\")) {                    Plotly.newPlot(                        \"8b54f8a2-42f5-489c-8938-6a6b1ec1e559\",                        [{\"hovertemplate\":\"Index=%{x}<br>Probability=%{y}<br>color=%{marker.color}<extra></extra>\",\"legendgroup\":\"\",\"marker\":{\"color\":[1,1,1,1,1,1,1,1,0,1,0,0,1,1,1,1,1,0,1,1,0,1,1,1,1,1,1,1,0,0,0,1,0,0,1,1,1,1,1,0,1,1,0,1,1,0,1,1,0,1,1,0,1,1,0,1,1,0,0,1,0,1,1,1,1,0,1,1,1,1,1,1,1,1,1,1,1,1,1,1,1,1,1,0,0,1,0,1,0,1,1,1,0,1,1,1,1,1,1,1,0,0,1,1,0,1,0,0,1,1,1,0,1,1,1,1,1,1,1,1,1,1,1,1,1,1,1,1,1,1,1,1,1,1,1,0,1,1,1,1,1,1,1,1,1,1,1,1,1,1,1,1,1,1,1,1,1,1,1,1,0,1,1,1,1,1,1,1,1,1,1,1,1,1,1,1,1,1,1,1,1,1,1,1,1,1,1,1,1,1,1,1,1,1,1,1,1,1,1,1,0,1,1,1,1,1,1,1,1,1,1,1,1,1,0,0,1,1,1,0,1,1,1,1,0,0,0,0,1,1,1,1,1,1,1,0,1,1,1,1,1,1,0,1,1,0,0,1,1,1,0,0,0,0,1,1,1,1,1,1,1,1,1,1,1,1,1,1,0,1,1,0,1,0,1,1,1,1,1,0,1,0,1,0,1,1,0,1,0,0,1,0,1,1,1,0,0,1,1,1,1,1,1,1,1,1,1,1,1,1,1,1,1,0,1,0,1,1,1,0,1,0,1,1,0,1,1,1,1,1,1,1,1,1,1,1,1,1,1,0,0,1,1,1,1,1,1,1,1,1,1,1,1,1,1,1,1,1,1,1,0,0,0,1,0,1,1,1,0,0,1,1,1,1,1,1,0,1,1,0,1,1,1,1,1,1,1,1,1,1,1,1,0,1,1,0,1,0,1,1,1,1,1,1,1,1,1,1,1,1,1,0,1,0,1,1,1,0,1,0,1,1,0,1,1,1,1,1,1,1,1,1,1,1,1,1,1,1,1,1,1,0,0,1,1,1,1,1,1,1,1,1,1,0,1,1,1,1,1,1,1,1,1,1,1,1,1,1,1,1,1,1,1,1,0,1,1,1,1,1,1,1,1,1,1,1,1,1,1,1,1,1,1,1,1,0,1,1,0,1,1,1,1,1,1,1,1,1,1,1,1,0,1,0,0,1,1,1,1,0,1,1,1,1,1,1,0,0,1,1,1,1,0,1,1,0,1,0,1,1,1,1,1,1,1,1,1,1,1,1,1,1,0,0],\"coloraxis\":\"coloraxis\",\"symbol\":\"circle\"},\"mode\":\"markers\",\"name\":\"\",\"orientation\":\"v\",\"showlegend\":false,\"x\":[0,1,2,3,4,5,6,7,8,9,10,11,12,13,14,15,16,17,18,19,20,21,22,23,24,25,26,27,28,29,30,31,32,33,34,35,36,37,38,39,40,41,42,43,44,45,46,47,48,49,50,51,52,53,54,55,56,57,58,59,60,61,62,63,64,65,66,67,68,69,70,71,72,73,74,75,76,77,78,79,80,81,82,83,84,85,86,87,88,89,90,91,92,93,94,95,96,97,98,99,100,101,102,103,104,105,106,107,108,109,110,111,112,113,114,115,116,117,118,119,120,121,122,123,124,125,126,127,128,129,130,131,132,133,134,135,136,137,138,139,140,141,142,143,144,145,146,147,148,149,150,151,152,153,154,155,156,157,158,159,160,161,162,163,164,165,166,167,168,169,170,171,172,173,174,175,176,177,178,179,180,181,182,183,184,185,186,187,188,189,190,191,192,193,194,195,196,197,198,199,200,201,202,203,204,205,206,207,208,209,210,211,212,213,214,215,216,217,218,219,220,221,222,223,224,225,226,227,228,229,230,231,232,233,234,235,236,237,238,239,240,241,242,243,244,245,246,247,248,249,250,251,252,253,254,255,256,257,258,259,260,261,262,263,264,265,266,267,268,269,270,271,272,273,274,275,276,277,278,279,280,281,282,283,284,285,286,287,288,289,290,291,292,293,294,295,296,297,298,299,300,301,302,303,304,305,306,307,308,309,310,311,312,313,314,315,316,317,318,319,320,321,322,323,324,325,326,327,328,329,330,331,332,333,334,335,336,337,338,339,340,341,342,343,344,345,346,347,348,349,350,351,352,353,354,355,356,357,358,359,360,361,362,363,364,365,366,367,368,369,370,371,372,373,374,375,376,377,378,379,380,381,382,383,384,385,386,387,388,389,390,391,392,393,394,395,396,397,398,399,400,401,402,403,404,405,406,407,408,409,410,411,412,413,414,415,416,417,418,419,420,421,422,423,424,425,426,427,428,429,430,431,432,433,434,435,436,437,438,439,440,441,442,443,444,445,446,447,448,449,450,451,452,453,454,455,456,457,458,459,460,461,462,463,464,465,466,467,468,469,470,471,472,473,474,475,476,477,478,479,480,481,482,483,484,485,486,487,488,489,490,491,492,493,494,495,496,497,498,499,500,501,502,503,504,505,506,507,508,509,510,511,512,513,514,515,516,517,518,519,520,521,522,523,524,525,526,527,528,529,530,531,532,533,534,535,536,537,538,539,540,541,542,543,544,545,546,547,548,549,550,551,552,553],\"xaxis\":\"x\",\"y\":[0.9727611031512058,0.9744968807105971,0.9744968807105971,0.9744968807105971,0.9744968807105971,0.9744968807105971,0.9727611031512058,0.9744968807105971,0.022247285463003183,0.9715296694961749,0.022247285463003183,0.023266855258555045,0.9714579965881238,0.9359101346096244,0.9714579965881238,0.9359101346096244,0.9127434789464203,0.022247285463003183,0.9579591182070523,0.9727611031512058,0.022247285463003183,0.9744968807105971,0.9727611031512058,0.9744968807105971,0.9744968807105971,0.9727611031512058,0.9744968807105971,0.9744968807105971,0.022247285463003183,0.022247285463003183,0.022247285463003183,0.9744968807105971,0.022247285463003183,0.022247285463003183,0.9727611031512058,0.9744968807105971,0.9727611031512058,0.9744968807105971,0.9744968807105971,0.022247285463003183,0.9727611031512058,0.9744968807105971,0.022247285463003183,0.9727611031512058,0.9744968807105971,0.022247285463003183,0.9695982398300956,0.9727611031512058,0.022247285463003183,0.9727611031512058,0.9744968807105971,0.022247285463003183,0.9744968807105971,0.9744968807105971,0.02476823208307522,0.9744968807105971,0.9744968807105971,0.022247285463003183,0.022247285463003183,0.9744968807105971,0.022247285463003183,0.9744968807105971,0.9744968807105971,0.9744968807105971,0.9744968807105971,0.023266855258555045,0.9727611031512058,0.9744968807105971,0.9744968807105971,0.9744968807105971,0.9744968807105971,0.9744968807105971,0.9727611031512058,0.9695982398300956,0.9744968807105971,0.9606731175418446,0.880564420300381,0.9744968807105971,0.9744968807105971,0.9744968807105971,0.9727611031512058,0.9208328361918869,0.9744968807105971,0.023673721652647892,0.023673721652647892,0.9744968807105971,0.023673721652647892,0.7618136443839038,0.023673721652647892,0.9744968807105971,0.9744968807105971,0.9727611031512058,0.023673721652647892,0.9744968807105971,0.9744968807105971,0.9538084992877147,0.9727611031512058,0.9744968807105971,0.9727611031512058,0.9744968807105971,0.023673721652647892,0.023673721652647892,0.9727611031512058,0.9727611031512058,0.3588183532808043,0.9714579965881238,0.022247285463003183,0.022247285463003183,0.9715296694961749,0.9744968807105971,0.9715296694961749,0.022247285463003183,0.8985397447809841,0.9206439608407817,0.9714579965881238,0.9715296694961749,0.9561698922367493,0.9744968807105971,0.9715296694961749,0.9681487765449511,0.9715296694961749,0.9744968807105971,0.9744968807105971,0.9744968807105971,0.9744968807105971,0.9715296694961749,0.9714579965881238,0.9714579965881238,0.9744968807105971,0.9744968807105971,0.9715296694961749,0.8985397447809841,0.9744968807105971,0.9744968807105971,0.9744968807105971,0.023673721652647892,0.9744968807105971,0.9744968807105971,0.9714579965881238,0.9714579965881238,0.9744968807105971,0.9744968807105971,0.9744968807105971,0.9715296694961749,0.9744968807105971,0.9744968807105971,0.9584320012273401,0.9744968807105971,0.9744968807105971,0.9629379766580569,0.9714579965881238,0.9744968807105971,0.9744968807105971,0.9369308037935541,0.9359101346096244,0.9744968807105971,0.9744968807105971,0.9744968807105971,0.9744968807105971,0.9715296694961749,0.026351948249913933,0.9715296694961749,0.9744968807105971,0.9744968807105971,0.9715296694961749,0.9681487765449511,0.9715296694961749,0.9744968807105971,0.9715296694961749,0.9206439608407817,0.9715296694961749,0.9744968807105971,0.9744968807105971,0.9715296694961749,0.9714579965881238,0.9629379766580569,0.9715296694961749,0.9715296694961749,0.9208328361918869,0.9715296694961749,0.9744968807105971,0.9744968807105971,0.9744968807105971,0.9715296694961749,0.9715296694961749,0.9727611031512058,0.9715296694961749,0.9727611031512058,0.9744968807105971,0.9744968807105971,0.9715296694961749,0.9744968807105971,0.9744968807105971,0.9684565722403858,0.9744968807105971,0.9744968807105971,0.9744968807105971,0.9744968807105971,0.9744968807105971,0.9715296694961749,0.022247285463003183,0.9511260467181684,0.9727611031512058,0.971734747116266,0.971734747116266,0.9566982551614218,0.9455915245456501,0.9684565722403858,0.9359101346096244,0.9566982551614218,0.9744968807105971,0.9206439608407817,0.9744968807105971,0.9744968807105971,0.023673721652647892,0.023673721652647892,0.9206439608407817,0.9206439608407817,0.971734747116266,0.02476823208307522,0.9727611031512058,0.9744968807105971,0.971734747116266,0.9744968807105971,0.023673721652647892,0.022247285463003183,0.022247285463003183,0.022247285463003183,0.971734747116266,0.971734747116266,0.9206439608407817,0.971734747116266,0.9744968807105971,0.971734747116266,0.9566982551614218,0.023684466262332317,0.971734747116266,0.9566982551614218,0.9425098390254908,0.971734747116266,0.8985397447809841,0.9744968807105971,0.023673721652647892,0.9744968807105971,0.9566982551614218,0.023684466262332317,0.023266855258555045,0.9584320012273401,0.9338814676369113,0.9606731175418446,0.023673721652647892,0.023673721652647892,0.023673721652647892,0.022247285463003183,0.971734747116266,0.9715296694961749,0.9606731175418446,0.9566982551614218,0.971734747116266,0.9566982551614218,0.9744968807105971,0.9744968807105971,0.9744968807105971,0.971734747116266,0.9287815708199637,0.971734747116266,0.9566982551614218,0.971734747116266,0.022247285463003183,0.9566982551614218,0.971734747116266,0.022247285463003183,0.971734747116266,0.022247285463003183,0.9566982551614218,0.936509039149454,0.971734747116266,0.9566982551614218,0.971734747116266,0.022247285463003183,0.9744968807105971,0.022247285463003183,0.971734747116266,0.022247285463003183,0.971734747116266,0.971734747116266,0.022247285463003183,0.971734747116266,0.022247285463003183,0.022247285463003183,0.971734747116266,0.1052722698760646,0.9744968807105971,0.971734747116266,0.9744968807105971,0.022247285463003183,0.022247285463003183,0.9566982551614218,0.9744968807105971,0.9744968807105971,0.971734747116266,0.9744968807105971,0.971734747116266,0.9566982551614218,0.9679534059687966,0.9286959422606546,0.971734747116266,0.9744968807105971,0.9566982551614218,0.971734747116266,0.9206439608407817,0.9744968807105971,0.9744968807105971,0.8814592762189188,0.971734747116266,0.022247285463003183,0.9744968807105971,0.9744968807105971,0.9713544232125142,0.022247285463003183,0.9744968807105971,0.023684466262332317,0.9744968807105971,0.9744968807105971,0.022247285463003183,0.9744968807105971,0.9538084992877147,0.9606731175418446,0.971734747116266,0.9538084992877147,0.9566982551614218,0.9744968807105971,0.9744968807105971,0.9684565722403858,0.971734747116266,0.9744968807105971,0.9744968807105971,0.9713544232125142,0.971734747116266,0.022247285463003183,0.022247285463003183,0.9684565722403858,0.9744968807105971,0.9744968807105971,0.9744968807105971,0.9744968807105971,0.9744968807105971,0.9744968807105971,0.9566982551614218,0.971734747116266,0.9744968807105971,0.9714579965881238,0.9330661546244694,0.9744968807105971,0.9744968807105971,0.9727611031512058,0.971734747116266,0.9695982398300956,0.9744968807105971,0.9744968807105971,0.022247285463003183,0.022247285463003183,0.022247285463003183,0.9744968807105971,0.022247285463003183,0.9744968807105971,0.9566982551614218,0.971734747116266,0.022247285463003183,0.022247285463003183,0.9566982551614218,0.9566982551614218,0.9727611031512058,0.9566982551614218,0.9566982551614218,0.9566982551614218,0.022247285463003183,0.9566982551614218,0.9684565722403858,0.022247285463003183,0.9744968807105971,0.9744968807105971,0.9744968807105971,0.971734747116266,0.9338814676369113,0.9744968807105971,0.9715296694961749,0.971734747116266,0.9566982551614218,0.9744968807105971,0.971734747116266,0.9538084992877147,0.023684466262332317,0.9744968807105971,0.9744968807105971,0.022247285463003183,0.9744968807105971,0.022247285463003183,0.9744968807105971,0.9744968807105971,0.9744968807105971,0.9744968807105971,0.9744968807105971,0.971734747116266,0.9744968807105971,0.9744968807105971,0.9744968807105971,0.9286959422606546,0.9744968807105971,0.9744968807105971,0.9744968807105971,0.1052722698760646,0.9744968807105971,0.022247285463003183,0.9605999362046016,0.9744968807105971,0.9744968807105971,0.022247285463003183,0.9566982551614218,0.022247285463003183,0.971734747116266,0.9744968807105971,0.022247285463003183,0.9684565722403858,0.9566982551614218,0.9744968807105971,0.9566982551614218,0.9744968807105971,0.9713544232125142,0.9744968807105971,0.9744968807105971,0.9744968807105971,0.9744968807105971,0.9713544232125142,0.9538084992877147,0.9744968807105971,0.9713544232125142,0.9744968807105971,0.9744968807105971,0.9744968807105971,0.9744968807105971,0.022247285463003183,0.02476823208307522,0.9713544232125142,0.9744968807105971,0.971734747116266,0.9744968807105971,0.971734747116266,0.9744968807105971,0.971734747116266,0.9744968807105971,0.9744968807105971,0.9562321553019024,0.022247285463003183,0.9566982551614218,0.971734747116266,0.9744968807105971,0.9744968807105971,0.9744968807105971,0.971734747116266,0.9562321553019024,0.9744968807105971,0.9521031753880036,0.9744968807105971,0.9566982551614218,0.9744968807105971,0.9713544232125142,0.9744968807105971,0.9744968807105971,0.9744968807105971,0.971734747116266,0.9744968807105971,0.9744968807105971,0.9744968807105971,0.022247285463003183,0.9744968807105971,0.9744968807105971,0.9744968807105971,0.9744968807105971,0.9744968807105971,0.9744968807105971,0.9744968807105971,0.9744968807105971,0.9744968807105971,0.9744968807105971,0.9744968807105971,0.9744968807105971,0.9744968807105971,0.9744968807105971,0.9744968807105971,0.9744968807105971,0.9744968807105971,0.9744968807105971,0.9744968807105971,0.9744968807105971,0.022247285463003183,0.9744968807105971,0.9744968807105971,0.022247285463003183,0.9674472608054643,0.9744968807105971,0.9744968807105971,0.9744968807105971,0.9744968807105971,0.9744968807105971,0.9744968807105971,0.9744968807105971,0.9744968807105971,0.9744968807105971,0.9744968807105971,0.9744968807105971,0.022247285463003183,0.9744968807105971,0.022247285463003183,0.022247285463003183,0.9744968807105971,0.9744968807105971,0.9715296694961749,0.9744968807105971,0.022247285463003183,0.9744968807105971,0.9744968807105971,0.9744968807105971,0.9744968807105971,0.9744968807105971,0.9744968807105971,0.022247285463003183,0.022247285463003183,0.9744968807105971,0.9744968807105971,0.9744968807105971,0.9744968807105971,0.022247285463003183,0.9744968807105971,0.9744968807105971,0.022247285463003183,0.9744968807105971,0.022247285463003183,0.9744968807105971,0.9744968807105971,0.9744968807105971,0.9744968807105971,0.9744968807105971,0.9744968807105971,0.9744968807105971,0.9744968807105971,0.9744968807105971,0.9744968807105971,0.9744968807105971,0.9714579965881238,0.9744968807105971,0.9744968807105971,0.022247285463003183,0.1052722698760646],\"yaxis\":\"y\",\"type\":\"scatter\"}],                        {\"template\":{\"data\":{\"bar\":[{\"error_x\":{\"color\":\"#2a3f5f\"},\"error_y\":{\"color\":\"#2a3f5f\"},\"marker\":{\"line\":{\"color\":\"#E5ECF6\",\"width\":0.5},\"pattern\":{\"fillmode\":\"overlay\",\"size\":10,\"solidity\":0.2}},\"type\":\"bar\"}],\"barpolar\":[{\"marker\":{\"line\":{\"color\":\"#E5ECF6\",\"width\":0.5},\"pattern\":{\"fillmode\":\"overlay\",\"size\":10,\"solidity\":0.2}},\"type\":\"barpolar\"}],\"carpet\":[{\"aaxis\":{\"endlinecolor\":\"#2a3f5f\",\"gridcolor\":\"white\",\"linecolor\":\"white\",\"minorgridcolor\":\"white\",\"startlinecolor\":\"#2a3f5f\"},\"baxis\":{\"endlinecolor\":\"#2a3f5f\",\"gridcolor\":\"white\",\"linecolor\":\"white\",\"minorgridcolor\":\"white\",\"startlinecolor\":\"#2a3f5f\"},\"type\":\"carpet\"}],\"choropleth\":[{\"colorbar\":{\"outlinewidth\":0,\"ticks\":\"\"},\"type\":\"choropleth\"}],\"contour\":[{\"colorbar\":{\"outlinewidth\":0,\"ticks\":\"\"},\"colorscale\":[[0.0,\"#0d0887\"],[0.1111111111111111,\"#46039f\"],[0.2222222222222222,\"#7201a8\"],[0.3333333333333333,\"#9c179e\"],[0.4444444444444444,\"#bd3786\"],[0.5555555555555556,\"#d8576b\"],[0.6666666666666666,\"#ed7953\"],[0.7777777777777778,\"#fb9f3a\"],[0.8888888888888888,\"#fdca26\"],[1.0,\"#f0f921\"]],\"type\":\"contour\"}],\"contourcarpet\":[{\"colorbar\":{\"outlinewidth\":0,\"ticks\":\"\"},\"type\":\"contourcarpet\"}],\"heatmap\":[{\"colorbar\":{\"outlinewidth\":0,\"ticks\":\"\"},\"colorscale\":[[0.0,\"#0d0887\"],[0.1111111111111111,\"#46039f\"],[0.2222222222222222,\"#7201a8\"],[0.3333333333333333,\"#9c179e\"],[0.4444444444444444,\"#bd3786\"],[0.5555555555555556,\"#d8576b\"],[0.6666666666666666,\"#ed7953\"],[0.7777777777777778,\"#fb9f3a\"],[0.8888888888888888,\"#fdca26\"],[1.0,\"#f0f921\"]],\"type\":\"heatmap\"}],\"heatmapgl\":[{\"colorbar\":{\"outlinewidth\":0,\"ticks\":\"\"},\"colorscale\":[[0.0,\"#0d0887\"],[0.1111111111111111,\"#46039f\"],[0.2222222222222222,\"#7201a8\"],[0.3333333333333333,\"#9c179e\"],[0.4444444444444444,\"#bd3786\"],[0.5555555555555556,\"#d8576b\"],[0.6666666666666666,\"#ed7953\"],[0.7777777777777778,\"#fb9f3a\"],[0.8888888888888888,\"#fdca26\"],[1.0,\"#f0f921\"]],\"type\":\"heatmapgl\"}],\"histogram\":[{\"marker\":{\"pattern\":{\"fillmode\":\"overlay\",\"size\":10,\"solidity\":0.2}},\"type\":\"histogram\"}],\"histogram2d\":[{\"colorbar\":{\"outlinewidth\":0,\"ticks\":\"\"},\"colorscale\":[[0.0,\"#0d0887\"],[0.1111111111111111,\"#46039f\"],[0.2222222222222222,\"#7201a8\"],[0.3333333333333333,\"#9c179e\"],[0.4444444444444444,\"#bd3786\"],[0.5555555555555556,\"#d8576b\"],[0.6666666666666666,\"#ed7953\"],[0.7777777777777778,\"#fb9f3a\"],[0.8888888888888888,\"#fdca26\"],[1.0,\"#f0f921\"]],\"type\":\"histogram2d\"}],\"histogram2dcontour\":[{\"colorbar\":{\"outlinewidth\":0,\"ticks\":\"\"},\"colorscale\":[[0.0,\"#0d0887\"],[0.1111111111111111,\"#46039f\"],[0.2222222222222222,\"#7201a8\"],[0.3333333333333333,\"#9c179e\"],[0.4444444444444444,\"#bd3786\"],[0.5555555555555556,\"#d8576b\"],[0.6666666666666666,\"#ed7953\"],[0.7777777777777778,\"#fb9f3a\"],[0.8888888888888888,\"#fdca26\"],[1.0,\"#f0f921\"]],\"type\":\"histogram2dcontour\"}],\"mesh3d\":[{\"colorbar\":{\"outlinewidth\":0,\"ticks\":\"\"},\"type\":\"mesh3d\"}],\"parcoords\":[{\"line\":{\"colorbar\":{\"outlinewidth\":0,\"ticks\":\"\"}},\"type\":\"parcoords\"}],\"pie\":[{\"automargin\":true,\"type\":\"pie\"}],\"scatter\":[{\"marker\":{\"colorbar\":{\"outlinewidth\":0,\"ticks\":\"\"}},\"type\":\"scatter\"}],\"scatter3d\":[{\"line\":{\"colorbar\":{\"outlinewidth\":0,\"ticks\":\"\"}},\"marker\":{\"colorbar\":{\"outlinewidth\":0,\"ticks\":\"\"}},\"type\":\"scatter3d\"}],\"scattercarpet\":[{\"marker\":{\"colorbar\":{\"outlinewidth\":0,\"ticks\":\"\"}},\"type\":\"scattercarpet\"}],\"scattergeo\":[{\"marker\":{\"colorbar\":{\"outlinewidth\":0,\"ticks\":\"\"}},\"type\":\"scattergeo\"}],\"scattergl\":[{\"marker\":{\"colorbar\":{\"outlinewidth\":0,\"ticks\":\"\"}},\"type\":\"scattergl\"}],\"scattermapbox\":[{\"marker\":{\"colorbar\":{\"outlinewidth\":0,\"ticks\":\"\"}},\"type\":\"scattermapbox\"}],\"scatterpolar\":[{\"marker\":{\"colorbar\":{\"outlinewidth\":0,\"ticks\":\"\"}},\"type\":\"scatterpolar\"}],\"scatterpolargl\":[{\"marker\":{\"colorbar\":{\"outlinewidth\":0,\"ticks\":\"\"}},\"type\":\"scatterpolargl\"}],\"scatterternary\":[{\"marker\":{\"colorbar\":{\"outlinewidth\":0,\"ticks\":\"\"}},\"type\":\"scatterternary\"}],\"surface\":[{\"colorbar\":{\"outlinewidth\":0,\"ticks\":\"\"},\"colorscale\":[[0.0,\"#0d0887\"],[0.1111111111111111,\"#46039f\"],[0.2222222222222222,\"#7201a8\"],[0.3333333333333333,\"#9c179e\"],[0.4444444444444444,\"#bd3786\"],[0.5555555555555556,\"#d8576b\"],[0.6666666666666666,\"#ed7953\"],[0.7777777777777778,\"#fb9f3a\"],[0.8888888888888888,\"#fdca26\"],[1.0,\"#f0f921\"]],\"type\":\"surface\"}],\"table\":[{\"cells\":{\"fill\":{\"color\":\"#EBF0F8\"},\"line\":{\"color\":\"white\"}},\"header\":{\"fill\":{\"color\":\"#C8D4E3\"},\"line\":{\"color\":\"white\"}},\"type\":\"table\"}]},\"layout\":{\"annotationdefaults\":{\"arrowcolor\":\"#2a3f5f\",\"arrowhead\":0,\"arrowwidth\":1},\"autotypenumbers\":\"strict\",\"coloraxis\":{\"colorbar\":{\"outlinewidth\":0,\"ticks\":\"\"}},\"colorscale\":{\"diverging\":[[0,\"#8e0152\"],[0.1,\"#c51b7d\"],[0.2,\"#de77ae\"],[0.3,\"#f1b6da\"],[0.4,\"#fde0ef\"],[0.5,\"#f7f7f7\"],[0.6,\"#e6f5d0\"],[0.7,\"#b8e186\"],[0.8,\"#7fbc41\"],[0.9,\"#4d9221\"],[1,\"#276419\"]],\"sequential\":[[0.0,\"#0d0887\"],[0.1111111111111111,\"#46039f\"],[0.2222222222222222,\"#7201a8\"],[0.3333333333333333,\"#9c179e\"],[0.4444444444444444,\"#bd3786\"],[0.5555555555555556,\"#d8576b\"],[0.6666666666666666,\"#ed7953\"],[0.7777777777777778,\"#fb9f3a\"],[0.8888888888888888,\"#fdca26\"],[1.0,\"#f0f921\"]],\"sequentialminus\":[[0.0,\"#0d0887\"],[0.1111111111111111,\"#46039f\"],[0.2222222222222222,\"#7201a8\"],[0.3333333333333333,\"#9c179e\"],[0.4444444444444444,\"#bd3786\"],[0.5555555555555556,\"#d8576b\"],[0.6666666666666666,\"#ed7953\"],[0.7777777777777778,\"#fb9f3a\"],[0.8888888888888888,\"#fdca26\"],[1.0,\"#f0f921\"]]},\"colorway\":[\"#636efa\",\"#EF553B\",\"#00cc96\",\"#ab63fa\",\"#FFA15A\",\"#19d3f3\",\"#FF6692\",\"#B6E880\",\"#FF97FF\",\"#FECB52\"],\"font\":{\"color\":\"#2a3f5f\"},\"geo\":{\"bgcolor\":\"white\",\"lakecolor\":\"white\",\"landcolor\":\"#E5ECF6\",\"showlakes\":true,\"showland\":true,\"subunitcolor\":\"white\"},\"hoverlabel\":{\"align\":\"left\"},\"hovermode\":\"closest\",\"mapbox\":{\"style\":\"light\"},\"paper_bgcolor\":\"white\",\"plot_bgcolor\":\"#E5ECF6\",\"polar\":{\"angularaxis\":{\"gridcolor\":\"white\",\"linecolor\":\"white\",\"ticks\":\"\"},\"bgcolor\":\"#E5ECF6\",\"radialaxis\":{\"gridcolor\":\"white\",\"linecolor\":\"white\",\"ticks\":\"\"}},\"scene\":{\"xaxis\":{\"backgroundcolor\":\"#E5ECF6\",\"gridcolor\":\"white\",\"gridwidth\":2,\"linecolor\":\"white\",\"showbackground\":true,\"ticks\":\"\",\"zerolinecolor\":\"white\"},\"yaxis\":{\"backgroundcolor\":\"#E5ECF6\",\"gridcolor\":\"white\",\"gridwidth\":2,\"linecolor\":\"white\",\"showbackground\":true,\"ticks\":\"\",\"zerolinecolor\":\"white\"},\"zaxis\":{\"backgroundcolor\":\"#E5ECF6\",\"gridcolor\":\"white\",\"gridwidth\":2,\"linecolor\":\"white\",\"showbackground\":true,\"ticks\":\"\",\"zerolinecolor\":\"white\"}},\"shapedefaults\":{\"line\":{\"color\":\"#2a3f5f\"}},\"ternary\":{\"aaxis\":{\"gridcolor\":\"white\",\"linecolor\":\"white\",\"ticks\":\"\"},\"baxis\":{\"gridcolor\":\"white\",\"linecolor\":\"white\",\"ticks\":\"\"},\"bgcolor\":\"#E5ECF6\",\"caxis\":{\"gridcolor\":\"white\",\"linecolor\":\"white\",\"ticks\":\"\"}},\"title\":{\"x\":0.05},\"xaxis\":{\"automargin\":true,\"gridcolor\":\"white\",\"linecolor\":\"white\",\"ticks\":\"\",\"title\":{\"standoff\":15},\"zerolinecolor\":\"white\",\"zerolinewidth\":2},\"yaxis\":{\"automargin\":true,\"gridcolor\":\"white\",\"linecolor\":\"white\",\"ticks\":\"\",\"title\":{\"standoff\":15},\"zerolinecolor\":\"white\",\"zerolinewidth\":2}}},\"xaxis\":{\"anchor\":\"y\",\"domain\":[0.0,1.0],\"title\":{\"text\":\"Index\"}},\"yaxis\":{\"anchor\":\"x\",\"domain\":[0.0,1.0],\"title\":{\"text\":\"Probability\"}},\"coloraxis\":{\"colorbar\":{\"title\":{\"text\":\"color\"}},\"colorscale\":[[0.0,\"#30123b\"],[0.07142857142857142,\"#4145ab\"],[0.14285714285714285,\"#4675ed\"],[0.21428571428571427,\"#39a2fc\"],[0.2857142857142857,\"#1bcfd4\"],[0.35714285714285715,\"#24eca6\"],[0.42857142857142855,\"#61fc6c\"],[0.5,\"#a4fc3b\"],[0.5714285714285714,\"#d1e834\"],[0.6428571428571429,\"#f3c63a\"],[0.7142857142857143,\"#fe9b2d\"],[0.7857142857142857,\"#f36315\"],[0.8571428571428571,\"#d93806\"],[0.9285714285714286,\"#b11901\"],[1.0,\"#7a0402\"]]},\"legend\":{\"tracegroupgap\":0},\"title\":{\"text\":\"Probability Plot\"}},                        {\"responsive\": true}                    ).then(function(){\n",
              "                            \n",
              "var gd = document.getElementById('8b54f8a2-42f5-489c-8938-6a6b1ec1e559');\n",
              "var x = new MutationObserver(function (mutations, observer) {{\n",
              "        var display = window.getComputedStyle(gd).display;\n",
              "        if (!display || display === 'none') {{\n",
              "            console.log([gd, 'removed!']);\n",
              "            Plotly.purge(gd);\n",
              "            observer.disconnect();\n",
              "        }}\n",
              "}});\n",
              "\n",
              "// Listen for the removal of the full notebook cells\n",
              "var notebookContainer = gd.closest('#notebook-container');\n",
              "if (notebookContainer) {{\n",
              "    x.observe(notebookContainer, {childList: true});\n",
              "}}\n",
              "\n",
              "// Listen for the clearing of the current output cell\n",
              "var outputEl = gd.closest('.output');\n",
              "if (outputEl) {{\n",
              "    x.observe(outputEl, {childList: true});\n",
              "}}\n",
              "\n",
              "                        })                };                            </script>        </div>\n",
              "</body>\n",
              "</html>"
            ]
          },
          "metadata": {}
        }
      ]
    },
    {
      "cell_type": "markdown",
      "source": [
        "Permutation Feature Importance"
      ],
      "metadata": {
        "id": "XIM6hEUFAIJ7"
      }
    },
    {
      "cell_type": "code",
      "source": [
        "from sklearn.inspection import permutation_importance\n",
        "r = permutation_importance(finalgrid_LGB2, X,y,\n",
        "                           n_repeats=30,\n",
        "                           random_state=0)\n",
        "r['importances_mean']"
      ],
      "metadata": {
        "id": "KVOhxzlgq_ee"
      },
      "execution_count": 66,
      "outputs": []
    },
    {
      "cell_type": "markdown",
      "source": [
        "Partial Dependance"
      ],
      "metadata": {
        "id": "3TCNtDR0q9rR"
      }
    },
    {
      "cell_type": "code",
      "source": [
        "from sklearn.inspection import PartialDependenceDisplay\n",
        "\n",
        "features = [4]\n",
        "\n",
        "PartialDependenceDisplay.from_estimator(finalgrid_LGB2, X_test, features)"
      ],
      "metadata": {
        "colab": {
          "base_uri": "https://localhost:8080/",
          "height": 296
        },
        "id": "6Q-UOCqvEAtQ",
        "outputId": "3a842749-fd38-4977-8e81-1da2bd165c37"
      },
      "execution_count": 74,
      "outputs": [
        {
          "output_type": "execute_result",
          "data": {
            "text/plain": [
              "<sklearn.inspection._plot.partial_dependence.PartialDependenceDisplay at 0x7f49bf0cce10>"
            ]
          },
          "metadata": {},
          "execution_count": 74
        },
        {
          "output_type": "display_data",
          "data": {
            "text/plain": [
              "<Figure size 432x288 with 2 Axes>"
            ],
            "image/png": "[encoded data removed]"
          },
          "metadata": {
            "needs_background": "light"
          }
        }
      ]
    },
    {
      "cell_type": "markdown",
      "source": [
        "SHAP"
      ],
      "metadata": {
        "id": "9IAuL8Fqboau"
      }
    },
    {
      "cell_type": "code",
      "source": [
        "import shap\n",
        "import sklearn\n",
        "from sklearn.model_selection import train_test_split\n",
        "import numpy as np\n",
        "import time"
      ],
      "metadata": {
        "id": "uoTR5gcJOXIV"
      },
      "execution_count": 75,
      "outputs": []
    },
    {
      "cell_type": "code",
      "source": [
        "import shap\n",
        "\n",
        "explainer = shap.TreeExplainer(model2)\n",
        "shap_values = explainer.shap_values(X)\n",
        "shap.summary_plot(shap_values, X)"
      ],
      "metadata": {
        "colab": {
          "base_uri": "https://localhost:8080/",
          "height": 693
        },
        "id": "Wth4Pd3DZtgL",
        "outputId": "0c115834-a327-4d8f-c8b8-39c9bf6d499f"
      },
      "execution_count": 76,
      "outputs": [
        {
          "output_type": "display_data",
          "data": {
            "text/plain": [
              "<Figure size 576x684 with 1 Axes>"
            ],
            "image/png": "[encoded data removed]"
          },
          "metadata": {
            "needs_background": "light"
          }
        }
      ]
    },
    {
      "cell_type": "markdown",
      "source": [
        "Dimensionality Reduction"
      ],
      "metadata": {
        "id": "SbEk6PHIGkhY"
      }
    },
    {
      "cell_type": "code",
      "source": [
        "import numpy as np\n",
        "from sklearn.decomposition import PCA\n",
        "\n",
        "pca = PCA(n_components=10)\n",
        "pcacomponents=pca.fit_transform(X)"
      ],
      "metadata": {
        "id": "oFayAp_cFgbp"
      },
      "execution_count": 77,
      "outputs": []
    },
    {
      "cell_type": "code",
      "source": [
        "plot = plt.scatter(pcacomponents[:,0],pcacomponents[:,1])"
      ],
      "metadata": {
        "colab": {
          "base_uri": "https://localhost:8080/",
          "height": 267
        },
        "id": "NW4eOZqaFo6g",
        "outputId": "3afdf985-8d2f-45c5-eb00-4a333f976749"
      },
      "execution_count": 78,
      "outputs": [
        {
          "output_type": "display_data",
          "data": {
            "text/plain": [
              "<Figure size 432x288 with 1 Axes>"
            ],
            "image/png": "[encoded data removed]"
          },
          "metadata": {
            "needs_background": "light"
          }
        }
      ]
    },
    {
      "cell_type": "code",
      "source": [
        "import plotly.express as px\n",
        "fig20 = px.scatter(x=pcacomponents[:,0],y=pcacomponents[:,1],color=y['target'],color_continuous_scale=px.colors.sequential.Plotly3,labels={\"x\":\"PCA 1\",\"y\":\"PCA 2\"},title=\"PCA plot\")\n",
        "fig20.show()"
      ],
      "metadata": {
        "colab": {
          "base_uri": "https://localhost:8080/",
          "height": 542
        },
        "id": "uFG53r2XFs5L",
        "outputId": "be62af3d-4288-44a3-e9e7-a091fe13f884"
      },
      "execution_count": 80,
      "outputs": [
        {
          "output_type": "display_data",
          "data": {
            "text/html": [
              "<html>\n",
              "<head><meta charset=\"utf-8\" /></head>\n",
              "<body>\n",
              "    <div>            <script src=\"https://cdnjs.cloudflare.com/ajax/libs/mathjax/2.7.5/MathJax.js?config=TeX-AMS-MML_SVG\"></script><script type=\"text/javascript\">if (window.MathJax) {MathJax.Hub.Config({SVG: {font: \"STIX-Web\"}});}</script>                <script type=\"text/javascript\">window.PlotlyConfig = {MathJaxConfig: 'local'};</script>\n",
              "        <script src=\"https://cdn.plot.ly/plotly-2.8.3.min.js\"></script>                <div id=\"bbb19320-839e-42cf-bbd8-f2ca3167db9e\" class=\"plotly-graph-div\" style=\"height:525px; width:100%;\"></div>            <script type=\"text/javascript\">                                    window.PLOTLYENV=window.PLOTLYENV || {};                                    if (document.getElementById(\"bbb19320-839e-42cf-bbd8-f2ca3167db9e\")) {                    Plotly.newPlot(                        \"bbb19320-839e-42cf-bbd8-f2ca3167db9e\",                        [{\"hovertemplate\":\"PCA 1=%{x}<br>PCA 2=%{y}<br>color=%{marker.color}<extra></extra>\",\"legendgroup\":\"\",\"marker\":{\"color\":[1,1,1,1,1,1,1,1,0,1,0,0,1,1,1,1,1,0,1,1,0,1,1,1,1,1,1,1,0,0,0,1,0,0,1,1,1,1,1,0,1,1,0,1,1,0,1,1,0,1,1,0,1,1,0,1,1,0,0,1,0,1,1,1,1,0,1,1,1,1,1,1,1,1,1,1,1,1,1,1,1,1,1,0,0,1,0,1,0,1,1,1,0,1,1,1,1,1,1,1,0,0,1,1,0,1,0,0,1,1,1,0,1,1,1,1,1,1,1,1,1,1,1,1,1,1,1,1,1,1,1,1,1,1,1,0,1,1,1,1,1,1,1,1,1,1,1,1,1,1,1,1,1,1,1,1,1,1,1,1,0,1,1,1,1,1,1,1,1,1,1,1,1,1,1,1,1,1,1,1,1,1,1,1,1,1,1,1,1,1,1,1,1,1,1,1,1,1,1,1,0,1,1,1,1,1,1,1,1,1,1,1,1,1,0,0,1,1,1,0,1,1,1,1,0,0,0,0,1,1,1,1,1,1,1,0,1,1,1,1,1,1,0,1,1,0,0,1,1,1,0,0,0,0,1,1,1,1,1,1,1,1,1,1,1,1,1,1,0,1,1,0,1,0,1,1,1,1,1,0,1,0,1,0,1,1,0,1,0,0,1,0,1,1,1,0,0,1,1,1,1,1,1,1,1,1,1,1,1,1,1,1,1,0,1,0,1,1,1,0,1,0,1,1,0,1,1,1,1,1,1,1,1,1,1,1,1,1,1,0,0,1,1,1,1,1,1,1,1,1,1,1,1,1,1,1,1,1,1,1,0,0,0,1,0,1,1,1,0,0,1,1,1,1,1,1,0,1,1,0,1,1,1,1,1,1,1,1,1,1,1,1,0,1,1,0,1,0,1,1,1,1,1,1,1,1,1,1,1,1,1,0,1,0,1,1,1,0,1,0,1,1,0,1,1,1,1,1,1,1,1,1,1,1,1,1,1,1,1,1,1,0,0,1,1,1,1,1,1,1,1,1,1,0,1,1,1,1,1,1,1,1,1,1,1,1,1,1,1,1,1,1,1,1,0,1,1,1,1,1,1,1,1,1,1,1,1,1,1,1,1,1,1,1,1,0,1,1,0,1,1,1,1,1,1,1,1,1,1,1,1,0,1,0,0,1,1,1,1,0,1,1,1,1,1,1,0,0,1,1,1,1,0,1,1,0,1,0,1,1,1,1,1,1,1,1,1,1,1,1,1,1,0,0],\"coloraxis\":\"coloraxis\",\"symbol\":\"circle\"},\"mode\":\"markers\",\"name\":\"\",\"orientation\":\"v\",\"showlegend\":false,\"x\":[-15.633254161856486,-15.557404170397373,-15.676583231287815,-15.92831120398933,-15.477665649537851,-15.563398496816394,-15.691428486343638,-15.669975132319568,-15.35943423630241,-15.466243318145782,-15.35977333858531,-15.359802005019663,-15.428985852604114,-15.427425035135903,-15.428884063096127,-15.426439494345425,-15.418961501090191,-15.359618797943982,-15.423075074813875,-15.573733974374335,-15.35923434246838,-15.563655825638683,-15.554006368089244,-15.581932455053488,-15.570311911058996,-15.553581500244551,-15.568884960402897,-15.593040616357213,-15.359733640674687,-15.359733887977432,-15.359611644587483,-15.677290083486916,-15.359580199869521,-15.359361651638867,-15.549346875885494,-15.675195840523127,-15.556202446749554,-15.63959209284403,-15.658579833774278,-15.359779607478014,-15.53727669073532,-15.550132116946916,-15.35973320923782,-15.617275413336461,-15.587876180969985,-15.359707075322774,-15.608839113993666,-15.739806126314837,-15.359563657519834,-15.614912209099385,-15.727803555710581,-15.35978229138627,-15.644289374972775,-15.646102446065168,-15.360060954504346,-15.592933376093539,-15.435808928485194,-15.35944112052938,-15.359482839519588,-15.565279010334754,-15.359733633998378,-15.565450198053739,-15.574750839827436,-15.574528317215258,-15.552578785946066,-15.359792677008576,-15.551115904589535,-15.565014708808524,-15.572117685366948,-15.445237864383511,-15.554396598322429,-15.560187524843341,-15.599623304957033,-15.615806029340453,-15.558957732836065,-15.481345809879985,-15.448569423563292,-15.592927102695134,-15.436709215211314,-15.564291502365615,-15.610666084322432,-15.676999714672784,-15.567282052747988,-15.359729816020888,-15.359654120157877,-15.61477720921948,-15.359945626458423,-15.369226888565642,-15.359752618907976,-15.655317365833229,-15.510675651847313,-15.514815877195856,-15.359872627877905,-15.443057728767794,-15.645998383897862,-15.692661434521,-15.717505137677469,-15.662631492556327,-15.842888748140085,-15.524978449524347,-15.359691195821785,-15.359563607700506,-15.481102237323167,-15.492857204483146,-15.361514969126064,-15.429081857301146,-15.359802561747362,-15.35979632055962,-15.539096485171209,-15.492665003675533,-15.772835036299675,-15.359423773319985,-15.418477662929499,-15.42921998128491,-15.428493897530645,-15.825600539621702,-15.517942723267389,-15.683496887569989,-15.536514706668006,-15.43224697738445,-15.43810691921204,-15.551028312243261,-15.546093699426343,-15.548337042263414,-15.542250702967333,-15.531110477821159,-15.431409450110664,-15.432075785370978,-15.547547603091452,-15.5455830689774,-15.519612365114483,-15.421479723991709,-15.54769401886916,-15.549691714761611,-15.546617565793003,-15.359674135592021,-15.548968339432484,-15.546024250643333,-15.426324008594579,-15.427877552616026,-15.437596824273678,-15.597191766146853,-15.541538912757307,-15.51970967241717,-15.461207443381896,-15.553363595846577,-15.423382737132899,-15.54389032736617,-15.511446200394452,-15.42503801469139,-15.42823048776586,-15.492605148632583,-15.546130709207837,-15.420247616704595,-15.423649788281857,-15.563533740580823,-15.551591227569673,-15.549971167955055,-15.557581433461966,-15.593431220658486,-15.360255978848858,-15.491976480131049,-15.51924615423668,-15.570452724944385,-15.493376378523823,-15.425744206957713,-15.489364980984199,-15.50718165476721,-15.551955923625794,-15.429565942730068,-15.549613280127415,-15.452382069079519,-15.553244326203398,-15.611169283919955,-15.431481154435506,-15.4219231607486,-15.492660010036385,-15.493354461192071,-15.686449558998866,-15.507258274871047,-15.478058902058157,-15.455223890666407,-15.540487561171723,-15.536383638463027,-16.211976562683425,-15.717722131117084,-15.558502968927488,-15.478177847766089,-15.601247694101597,-15.546850879213766,-15.508138894878117,-15.488999597456186,-15.455786491830585,-15.61034309856795,-15.507544811988705,-15.626887866552828,-15.43455897513106,-15.54920819480605,-15.445985341535282,-15.528515440932535,-15.359651731080497,-15.43138822916797,-15.582013907637632,-15.4906448325762,-15.730150319405443,-15.477612227241876,-15.429445879567009,-15.466631502400357,-15.42958318821837,-15.556797344679065,-15.747177927328416,-15.43030061854233,-15.778660838824942,-15.91850487828142,-15.359506442246138,-15.359525897435388,-15.430114567904758,-15.431205338686041,-15.563092447097539,-15.359980236747457,-15.691421918603615,-15.472506421623265,-15.538246260475297,-15.577284783906318,-15.359525399760852,-15.359643551749421,-15.359364932149406,-15.358866095003242,-15.726130971707878,-15.564600150173218,-15.430620934157465,-15.703949321033779,-15.671311836580587,-15.625012638430333,-15.59845616481099,-15.395141195372332,-15.717108824846624,-15.577502704678219,-15.433677228846834,-15.580803073179336,-15.41505872667152,-15.675732070526857,-15.359970080440556,-15.600877298379611,-15.687704813077513,-15.360654584914448,-15.359244320084619,-15.422434558946293,-15.626327907526203,-15.48020206014647,-15.359623123429369,-15.359971844836899,-15.359596036070748,-15.360354228496051,-15.673714792896016,-15.644671911202112,-15.494893597388785,-15.50917122796116,-15.57462991854979,-15.580332446685047,-15.590547704570355,-15.48684481446072,-15.494762212578081,-15.584735011743728,-15.430950814798917,-15.719366823963654,-15.5872685370773,-15.697782505930936,-15.394608732933367,-15.584042529266501,-15.763369670914589,-15.359718896164036,-15.745939528999394,-15.360356543043752,-15.444821985021303,-15.432723508268689,-15.557491590720346,-15.698425648439349,-15.721884313454625,-15.35964864726783,-15.522010133970547,-15.359545097974486,-15.675655126143162,-15.359063995331905,-15.667686535477925,-15.60724996429346,-15.359607255422503,-15.58275346728915,-15.35968032533411,-15.358996377912243,-15.56676549859335,-15.421104399981612,-15.566174007849757,-15.67711303009667,-15.562896097505913,-15.358932417309376,-15.359545018367651,-15.480596365547813,-15.433740733336538,-15.433741704851501,-15.603110338027415,-15.614585949670502,-15.746447735383695,-15.464849876172327,-15.425038591815227,-15.460168908024336,-15.562903652292347,-15.43382097319908,-15.661077269016868,-15.599664582333427,-15.431523797649987,-15.463286774078618,-15.43379504124333,-15.460722420624187,-15.606715624750159,-15.35956759310556,-15.433600695014341,-15.433933771221469,-15.43317455744061,-15.360881788090316,-15.771710373163332,-15.358699594847337,-15.637093684975873,-15.702469308286469,-15.359442785553373,-15.433507996689046,-15.730305621985817,-15.707849072701093,-15.591750800300474,-15.642006405294323,-15.434098414189172,-15.433890152354545,-15.434003713429544,-15.719218800800432,-15.61497196085056,-15.434091114440884,-15.433965894040776,-15.433784761306221,-15.563595517111718,-15.359692368180411,-15.394537662334859,-15.63627763893939,-15.435637507506849,-15.434011872019143,-15.433721418181554,-15.433825510207159,-15.434367307231323,-15.434030446598488,-15.69124593354461,-15.67842933335388,-15.434107677944514,-15.425360985740094,-15.419265899156208,-15.433941625923289,-15.434833652126724,-15.693505129794605,-15.65437205193789,-15.433768227156706,-15.433859653055276,-15.434775953692393,-15.395026145800161,975.6040933543588,975.5962647205699,975.4978706215935,975.5966050248416,-15.43422378683187,-15.565774945110253,-15.587773959735241,-15.35988930271072,-15.359359081314494,-15.443099741270734,-15.586797909800993,-15.720169284263342,-15.44347862918861,-15.700143717613221,-15.669366669013002,-15.360414729939146,-15.44171478864875,-15.638218691579269,-15.35970746758959,-15.43388688497575,-15.433797774139489,-15.437685357875443,-15.524084090859601,-15.703488157041273,-15.434003714928437,-15.66680160139111,-15.59763787481192,-15.617220777088297,-15.464287039159268,-15.574828389723342,-15.526035196801269,975.5952548716,975.4972153744187,-15.441919245761145,-15.3603141802515,-15.436860425455544,-15.358931651695803,-15.461277505955684,-15.439969128338689,-15.433653664377832,-15.452098896910325,-15.440686840767954,-15.682252826297752,-15.434079373988334,975.4736416170928,975.394502323261,975.5182988735171,-15.433585371112887,-15.433806169709378,-15.433758881479564,-15.421614768678836,-15.43588172175289,-15.35864162903894,-15.423021420192333,-15.43365869416487,-15.44139662789717,-15.359959778181196,-15.609378729185426,-15.359011725618798,-15.510250117928472,-15.486504805830938,-15.359488311087496,-15.451004999006294,-15.688939309337634,-15.433552096931503,-15.803530473149882,-15.652141361382242,-15.433519724609905,-15.442098312555276,-15.433728138352674,-15.497351324272648,-15.433727697826232,-15.433715747285845,-15.59791336264414,-15.433688690744843,-15.433689717496659,-15.433472561711625,-15.433559393423348,-15.433343721180039,-15.43369909907134,-15.359466290264297,-15.359717014314986,-15.433977679936227,-15.433993584540197,-15.679873524385648,-15.433950797926888,-15.67141367429676,-15.433740681566189,-15.69093716800884,-15.433880829148787,-15.655941203357017,-15.438104982260835,-15.3592902604318,-15.433880941852387,-15.77593876497079,-15.528218487079814,-15.596011478533569,-15.565257875536124,-15.648886637540118,-15.433292327066617,-15.50260279100273,-15.670878657731079,-15.455884808154629,-15.687243303919967,-15.658192724235615,-15.433759767065146,-15.664603649669678,-15.437612759862729,-15.434297069041577,-15.588278712875281,-15.434279065613232,-15.4339429416809,-15.615741277070905,-15.35928907335692,-15.494815125942035,-15.53087837688593,-15.594092755302837,-15.592517408745284,-15.59993987313036,-15.593880443507672,-15.594944520696643,-15.598206949983085,-15.586577699382605,-15.587143626160529,-15.596695432833098,-15.60216267522602,-15.589773533282623,-15.598221769710374,-15.596804693441948,-15.604469591396395,-15.58581382225317,-15.601801036695544,-15.597561575741361,-15.597388020718668,-15.359541018632259,-15.600746788163871,-15.596816073690622,-15.359510115428893,-15.576510160290857,-15.577584365985222,-15.577989111558233,-15.587201146017318,-15.629256082197431,-15.583039656477922,-15.587425561604146,-15.594011843422939,-15.529186151947266,-15.58784656861051,-15.60446836505961,-15.59101598243958,-15.359282030965737,-15.623707987360364,-15.359183508109682,-15.359389583561502,-15.620869004711613,-15.542431129742477,-15.486454192264517,-15.588449456380653,-15.359274129013965,-15.579338408573557,-15.474269860662577,-15.459455204053066,-15.59273469773535,-15.594965283358356,-15.601027805209243,-15.359357663677603,-15.359291620919324,-15.577716417107547,-15.58303268139438,-15.581874242466556,-15.586653029550698,-15.359363004229618,-15.706629872696245,-15.636266638432948,-15.359721889593967,-15.592511539351474,-15.359353153025454,-15.637980039921887,-15.63461657499211,-177.5352183903892,-177.44161415852702,-15.593446505772045,-15.444156395110667,-15.438117492994042,-15.621377062316334,-15.560203254443639,-15.581300188281137,-15.491745916118532,-15.434264950609718,-15.502832407723995,-15.502480189758295,-15.359517835182885,-15.420833293442502],\"xaxis\":\"x\",\"y\":[12.972730799527838,4.603760929832411,17.689504230682417,44.89145251549173,-4.059226426617205,5.205039251805505,19.334130046539048,16.911758485588834,-16.917571552203192,-5.301675479012851,-16.923154929233426,-16.921035644627924,-9.369803370141852,-9.54125202012866,-9.403672188707693,-9.641105919257795,-10.472729084616716,-16.921234980807597,-9.999333100135786,6.360355405215105,-16.916198787058672,5.245682548874506,4.204157372391865,7.250032789082259,5.974904064741711,4.164260525617368,5.814425660251134,8.458305585366496,-16.927513200175213,-16.927513391554303,-16.920529735340182,17.67237538696022,-16.91879386434175,-16.916680871670902,3.643285407485512,17.51050717115572,4.458609337183562,13.571401589655373,15.616124436766912,-16.92082213156861,2.3640431124189245,3.753879571976557,-16.927510998947593,11.162780873587316,7.901557533635557,-16.92123327120519,10.318232397909036,24.63147227693652,-16.913462378890735,10.900989489627198,23.3090366394943,-16.92316455976855,14.086022034954325,14.254389869289435,-16.915891659513463,8.458330978151428,-8.594043715071926,-16.916077959937038,-16.916796480447324,5.420429692629388,-16.927513024295056,5.43327706463422,6.45854697187951,6.437316540444712,4.032410400155457,-16.92450473615934,3.894710886392212,5.391375883499315,6.231820367943076,-7.6088295912294175,4.223491107187134,4.838900045074391,9.181596683289571,10.945858775353736,4.7142430362015855,-3.681589898011961,-7.154929409009851,8.460491099977432,-8.549255169543923,5.323227793754421,10.413329068718342,17.98782736777084,5.6193995007589725,-16.921350376521133,-16.917291228307985,10.867951096747799,-16.92092755372146,-16.045751923007025,-16.913475038103794,15.32944751210017,-0.5618541011865877,0.05475633722631491,-16.90963571304089,-7.850547482169955,14.46000316014847,19.36446108780714,22.07152565927609,16.29021276711667,35.758493832237534,1.0219855347101656,-16.91636475649584,-16.91654786257758,-3.65452023504563,-2.355445175051122,-16.693177584912924,-9.380517571901509,-16.922272398994856,-16.92270308427239,2.6471338049069417,-2.4350815680073277,28.42308240826683,-16.917142458901335,-10.532963997426938,-9.350931736698186,-9.341828130381826,34.22417892951907,0.3533902732949716,18.25957450257766,2.302720505959933,-8.981768099235907,-8.381172699863857,3.893788443399945,3.3464709256513108,3.5923705190423587,2.950648809082525,1.7038399652339193,-9.128080947488689,-9.070224997369067,3.5138153755951196,3.299415831864649,0.3300001339744593,-10.068341627354433,3.5274519144776493,3.75422080147259,3.4127811814836653,-16.916349035276507,3.6711354110153107,3.3532602031813687,-9.698093074825104,-9.529185421827416,-8.313756757229253,8.955042111095313,2.845337965173429,0.4692094183467806,-5.868827872894355,4.146621093990535,-9.884339673658133,3.110826310853377,-0.3384331166598416,-9.81552098963144,-9.469832544613563,-2.542087949720061,3.3616382076590092,-10.228237324672744,-9.839597273158512,5.2716521064770125,3.9516676261654045,3.777572829677992,4.61022280479684,8.586178892060646,-16.91808671069542,-2.587758643261762,0.37735361264232004,5.923042084852593,-2.37834576442118,-9.733346081707275,-2.8596447615976346,-0.9414689761497359,4.00515441551285,-9.311560637355726,3.749477598111717,-6.724029366124014,4.1490329881794805,10.545262377747624,-9.144488565361636,-10.169634879503672,-2.468619094324882,-2.3901715385550433,18.983406269617262,-0.9050731824874203,-4.050811935465087,-6.532801574805992,2.7279460944308895,2.295578953680692,76.60835739299911,22.00947995122347,4.738198045066323,-4.035986505503643,9.571117636490687,3.4762536848493073,-0.7139546660496595,-2.891261961610958,-6.4219986039998265,10.212824831001637,-0.8169199401239725,12.238917051184421,-8.685605463241476,3.685806341315363,-7.517059148536328,1.4818579361608373,-16.919922557878234,-9.058142032224449,7.218726251888884,-2.711330944814865,23.31691497366109,-4.232573242760366,-9.32200666689796,-5.3170632987270485,-9.298453051718045,4.452281836787282,25.57306365817294,-9.190591271976379,28.811005305297158,44.45497646998845,-16.91581816394091,-16.91572074043302,-9.215572463773496,-9.085867048352785,5.145908125885072,-16.917760342164417,19.147706751436825,-4.610292632006293,2.4542224866648437,6.447482679434361,-16.916668169687238,-16.9244416411035,-16.886604412454098,-16.91196748451791,22.88972987986134,5.312642372391494,-9.16966314132137,20.449133855237484,16.942364906263986,11.851477438299183,9.039178296390299,-13.060019580009868,21.74139310703069,6.779342815344565,-9.014624654937716,7.082015087411954,-10.782785568961344,17.520391702535736,-16.922547555536497,9.285548580633694,18.669196069686652,-16.9327095872885,-16.917248568307947,-9.985504574670218,12.075358182775142,-3.7691683392453625,-16.916497992872426,-16.922540094963402,-16.91619980215469,-16.91719293602745,17.241375050735208,14.06507462395405,-2.177868274078323,-0.6157803429941104,6.402811369603923,7.035904193647186,8.34899978224913,-3.0685137613787745,-2.196022011673993,7.525903719445823,-9.108191916472446,22.143597736460237,7.809367987051562,19.781976734180052,-13.042600115727772,7.4781452716597085,27.001796262289734,-16.922217681173024,24.847182338103636,-16.931891203278905,-7.767165504392218,-8.995292517199795,4.591177878824048,19.91511977207095,22.46371845958203,-16.909981134177652,0.8903077735490514,-16.908386783366545,17.408094685631596,-16.909811814213647,16.33269392107787,10.01376309417701,-16.91971652812477,7.376050798052939,-16.923302241205914,-16.918800083258947,5.610597603575168,-10.139597090497919,5.470320103600862,17.5892532562139,5.240234314391031,-16.919160327240892,-16.93559746471917,-3.814917806584607,-8.963380076211655,-8.978951402259634,9.597830964631937,10.800284590634933,25.29109899075644,-5.551608149207824,-9.63950613788293,-6.014221471543052,5.150684417282254,-8.953477039804769,15.956251036154166,9.228271103746858,-9.094475869199705,-5.71422449571956,-8.955945146622723,-5.763390101361558,9.999536153508624,-16.93232847673011,-8.977946575953542,-8.959395806135742,-8.970450780768273,-16.95538359467251,28.085505062075264,-16.873611050809345,13.25227395371347,20.231435593623694,-16.916478447033835,-8.977065900996452,23.358636562412883,21.158742130826898,8.27350630973273,13.82585989820142,-8.944827413226726,-8.9401909546414,-8.975733941400282,21.933460603650833,10.91040321013917,-8.943736515852152,-8.956212108125587,-8.98219525790316,5.089264662481376,-16.897126758090078,-13.040820642037982,13.091219320780956,-8.778280395769547,-8.90728906294372,-8.94165092249164,-8.928886382786564,-8.941185186639437,-8.933230462318052,19.116870520099244,17.57581636944417,-8.965863014966587,-9.631043703724508,-10.29243063807019,-8.982950858064441,-8.870224653594512,19.328687896622295,14.847877348308467,-8.7790736323873,-8.950487962961532,-8.8617580011787,-13.055719096169982,-7.81435690151652,-7.8270299270988914,3.7814831444480625,-7.824215759282675,-8.929569478197777,5.39803095675501,7.884744745191464,-16.930512520779814,-16.915630465833583,-7.973662682430035,7.860375915721341,22.276925374797592,-7.912959021630801,20.00205759789927,16.68133809616471,-16.93834292806909,-8.108152105218425,13.22482847359715,-16.908423268576016,-8.942539767087908,-8.949286496250641,-8.623215343300775,1.0164015743051564,20.605235137055978,-8.975733916471555,16.533461488255725,8.958412594367863,10.99571296070272,-5.455547676067417,6.447341829436501,1.0926734317399314,-7.8444674194375725,4.000563968870495,-8.064867431767182,-16.94906535135258,-8.352727968485647,-16.891943186187998,-5.952409623053052,-8.238891947637656,-8.947945748008115,-6.913610298214004,-8.150813279793876,18.023525640895638,-8.946870461975355,6.513414069389993,15.124479625095399,1.765879555860457,-8.96319514355783,-8.956107916961964,-8.960694159751888,-10.15391961886415,-8.703680427481094,-16.88421365234956,-9.859811750068292,-8.956634893520501,-8.120586418147466,-16.933978816644622,10.40508698093394,-16.91816025262951,-0.49411947199890427,-3.0672691138057107,-16.922827878632237,-7.013159459814323,18.886866621100616,-8.983048583587626,31.51658038295688,14.97403315506071,-8.98278247932997,-8.030142525049094,-8.963679218954592,-1.820925999125837,-8.957410925623408,-8.98141901245432,9.05577584433306,-8.957347185537108,-8.983886723716852,-8.957265349422022,-8.965662887682912,-8.972227788278602,-8.959490662827857,-16.913984647679257,-16.920625312992716,-8.978201549215983,-8.978015329784956,17.77933939841305,-8.965107333731568,16.802352953913342,-8.954594186924028,19.01422486300729,-8.972095906274033,15.27981452551285,-8.223609737805667,-16.911836686937317,-8.966472255224689,28.391382373942353,1.3647593207808424,8.683078938650794,5.513116848323547,14.375311591971144,-8.976314613838149,-1.2986564576890127,16.911630930061495,-6.465081482102249,18.51662422150301,15.475510800514122,-9.000225352116711,16.214890375007233,-8.538828851361464,-8.937838391986032,7.9625430174771425,-8.950869863092313,-8.964879864088468,10.925103610289732,-16.91530534243444,-2.176283548041209,1.6852425357828966,8.66570160760909,8.464510341448555,9.299900834801187,8.641583310807727,8.731533100423777,9.0892626716896,7.8352820568571735,7.8916675166769386,8.92941528014735,9.538996947431253,8.173836439801903,9.095920200697112,8.919272040125959,9.792095147014413,7.768615768861232,9.499088153741862,9.038415478562477,9.017553119711831,-16.90833819657579,9.421820192235396,8.951813070526724,-16.90844112839215,6.8163204456500965,6.871393731137607,6.887128881223701,7.894508327529673,12.530057418859474,7.441238787980944,7.907965795990691,8.567829114766853,1.4730807798762526,7.917682424661246,9.756455479731512,8.306944300496191,-16.91482487051464,11.849270034080181,-16.917439781684973,-16.915931423245667,11.516879231820461,3.059574382070767,-3.0432462163750613,8.018830792638303,-16.917493462237566,6.977729345461703,-4.466363383316438,-6.0400210217411745,8.477902965940954,8.736095280359391,9.386228913319824,-16.915285328169272,-16.91570800122735,6.908709907750224,7.411577068870207,7.292856078917544,7.833573925976278,-16.916976819103,20.95902877312901,13.273816321923821,-16.901948129232853,8.484525408583396,-16.916638741509278,13.478701373925183,13.108802995752754,2.17944926587531,-8.05967478574876,8.61380581076705,-7.67390153214944,-8.34801689346676,11.646256758413422,4.963226848206259,7.2796074522919545,-2.509831294218912,-8.778700855634069,-1.3221690060437445,-1.3674310278508743,-16.90783435903386,-10.081471173469287],\"yaxis\":\"y\",\"type\":\"scatter\"}],                        {\"template\":{\"data\":{\"bar\":[{\"error_x\":{\"color\":\"#2a3f5f\"},\"error_y\":{\"color\":\"#2a3f5f\"},\"marker\":{\"line\":{\"color\":\"#E5ECF6\",\"width\":0.5},\"pattern\":{\"fillmode\":\"overlay\",\"size\":10,\"solidity\":0.2}},\"type\":\"bar\"}],\"barpolar\":[{\"marker\":{\"line\":{\"color\":\"#E5ECF6\",\"width\":0.5},\"pattern\":{\"fillmode\":\"overlay\",\"size\":10,\"solidity\":0.2}},\"type\":\"barpolar\"}],\"carpet\":[{\"aaxis\":{\"endlinecolor\":\"#2a3f5f\",\"gridcolor\":\"white\",\"linecolor\":\"white\",\"minorgridcolor\":\"white\",\"startlinecolor\":\"#2a3f5f\"},\"baxis\":{\"endlinecolor\":\"#2a3f5f\",\"gridcolor\":\"white\",\"linecolor\":\"white\",\"minorgridcolor\":\"white\",\"startlinecolor\":\"#2a3f5f\"},\"type\":\"carpet\"}],\"choropleth\":[{\"colorbar\":{\"outlinewidth\":0,\"ticks\":\"\"},\"type\":\"choropleth\"}],\"contour\":[{\"colorbar\":{\"outlinewidth\":0,\"ticks\":\"\"},\"colorscale\":[[0.0,\"#0d0887\"],[0.1111111111111111,\"#46039f\"],[0.2222222222222222,\"#7201a8\"],[0.3333333333333333,\"#9c179e\"],[0.4444444444444444,\"#bd3786\"],[0.5555555555555556,\"#d8576b\"],[0.6666666666666666,\"#ed7953\"],[0.7777777777777778,\"#fb9f3a\"],[0.8888888888888888,\"#fdca26\"],[1.0,\"#f0f921\"]],\"type\":\"contour\"}],\"contourcarpet\":[{\"colorbar\":{\"outlinewidth\":0,\"ticks\":\"\"},\"type\":\"contourcarpet\"}],\"heatmap\":[{\"colorbar\":{\"outlinewidth\":0,\"ticks\":\"\"},\"colorscale\":[[0.0,\"#0d0887\"],[0.1111111111111111,\"#46039f\"],[0.2222222222222222,\"#7201a8\"],[0.3333333333333333,\"#9c179e\"],[0.4444444444444444,\"#bd3786\"],[0.5555555555555556,\"#d8576b\"],[0.6666666666666666,\"#ed7953\"],[0.7777777777777778,\"#fb9f3a\"],[0.8888888888888888,\"#fdca26\"],[1.0,\"#f0f921\"]],\"type\":\"heatmap\"}],\"heatmapgl\":[{\"colorbar\":{\"outlinewidth\":0,\"ticks\":\"\"},\"colorscale\":[[0.0,\"#0d0887\"],[0.1111111111111111,\"#46039f\"],[0.2222222222222222,\"#7201a8\"],[0.3333333333333333,\"#9c179e\"],[0.4444444444444444,\"#bd3786\"],[0.5555555555555556,\"#d8576b\"],[0.6666666666666666,\"#ed7953\"],[0.7777777777777778,\"#fb9f3a\"],[0.8888888888888888,\"#fdca26\"],[1.0,\"#f0f921\"]],\"type\":\"heatmapgl\"}],\"histogram\":[{\"marker\":{\"pattern\":{\"fillmode\":\"overlay\",\"size\":10,\"solidity\":0.2}},\"type\":\"histogram\"}],\"histogram2d\":[{\"colorbar\":{\"outlinewidth\":0,\"ticks\":\"\"},\"colorscale\":[[0.0,\"#0d0887\"],[0.1111111111111111,\"#46039f\"],[0.2222222222222222,\"#7201a8\"],[0.3333333333333333,\"#9c179e\"],[0.4444444444444444,\"#bd3786\"],[0.5555555555555556,\"#d8576b\"],[0.6666666666666666,\"#ed7953\"],[0.7777777777777778,\"#fb9f3a\"],[0.8888888888888888,\"#fdca26\"],[1.0,\"#f0f921\"]],\"type\":\"histogram2d\"}],\"histogram2dcontour\":[{\"colorbar\":{\"outlinewidth\":0,\"ticks\":\"\"},\"colorscale\":[[0.0,\"#0d0887\"],[0.1111111111111111,\"#46039f\"],[0.2222222222222222,\"#7201a8\"],[0.3333333333333333,\"#9c179e\"],[0.4444444444444444,\"#bd3786\"],[0.5555555555555556,\"#d8576b\"],[0.6666666666666666,\"#ed7953\"],[0.7777777777777778,\"#fb9f3a\"],[0.8888888888888888,\"#fdca26\"],[1.0,\"#f0f921\"]],\"type\":\"histogram2dcontour\"}],\"mesh3d\":[{\"colorbar\":{\"outlinewidth\":0,\"ticks\":\"\"},\"type\":\"mesh3d\"}],\"parcoords\":[{\"line\":{\"colorbar\":{\"outlinewidth\":0,\"ticks\":\"\"}},\"type\":\"parcoords\"}],\"pie\":[{\"automargin\":true,\"type\":\"pie\"}],\"scatter\":[{\"marker\":{\"colorbar\":{\"outlinewidth\":0,\"ticks\":\"\"}},\"type\":\"scatter\"}],\"scatter3d\":[{\"line\":{\"colorbar\":{\"outlinewidth\":0,\"ticks\":\"\"}},\"marker\":{\"colorbar\":{\"outlinewidth\":0,\"ticks\":\"\"}},\"type\":\"scatter3d\"}],\"scattercarpet\":[{\"marker\":{\"colorbar\":{\"outlinewidth\":0,\"ticks\":\"\"}},\"type\":\"scattercarpet\"}],\"scattergeo\":[{\"marker\":{\"colorbar\":{\"outlinewidth\":0,\"ticks\":\"\"}},\"type\":\"scattergeo\"}],\"scattergl\":[{\"marker\":{\"colorbar\":{\"outlinewidth\":0,\"ticks\":\"\"}},\"type\":\"scattergl\"}],\"scattermapbox\":[{\"marker\":{\"colorbar\":{\"outlinewidth\":0,\"ticks\":\"\"}},\"type\":\"scattermapbox\"}],\"scatterpolar\":[{\"marker\":{\"colorbar\":{\"outlinewidth\":0,\"ticks\":\"\"}},\"type\":\"scatterpolar\"}],\"scatterpolargl\":[{\"marker\":{\"colorbar\":{\"outlinewidth\":0,\"ticks\":\"\"}},\"type\":\"scatterpolargl\"}],\"scatterternary\":[{\"marker\":{\"colorbar\":{\"outlinewidth\":0,\"ticks\":\"\"}},\"type\":\"scatterternary\"}],\"surface\":[{\"colorbar\":{\"outlinewidth\":0,\"ticks\":\"\"},\"colorscale\":[[0.0,\"#0d0887\"],[0.1111111111111111,\"#46039f\"],[0.2222222222222222,\"#7201a8\"],[0.3333333333333333,\"#9c179e\"],[0.4444444444444444,\"#bd3786\"],[0.5555555555555556,\"#d8576b\"],[0.6666666666666666,\"#ed7953\"],[0.7777777777777778,\"#fb9f3a\"],[0.8888888888888888,\"#fdca26\"],[1.0,\"#f0f921\"]],\"type\":\"surface\"}],\"table\":[{\"cells\":{\"fill\":{\"color\":\"#EBF0F8\"},\"line\":{\"color\":\"white\"}},\"header\":{\"fill\":{\"color\":\"#C8D4E3\"},\"line\":{\"color\":\"white\"}},\"type\":\"table\"}]},\"layout\":{\"annotationdefaults\":{\"arrowcolor\":\"#2a3f5f\",\"arrowhead\":0,\"arrowwidth\":1},\"autotypenumbers\":\"strict\",\"coloraxis\":{\"colorbar\":{\"outlinewidth\":0,\"ticks\":\"\"}},\"colorscale\":{\"diverging\":[[0,\"#8e0152\"],[0.1,\"#c51b7d\"],[0.2,\"#de77ae\"],[0.3,\"#f1b6da\"],[0.4,\"#fde0ef\"],[0.5,\"#f7f7f7\"],[0.6,\"#e6f5d0\"],[0.7,\"#b8e186\"],[0.8,\"#7fbc41\"],[0.9,\"#4d9221\"],[1,\"#276419\"]],\"sequential\":[[0.0,\"#0d0887\"],[0.1111111111111111,\"#46039f\"],[0.2222222222222222,\"#7201a8\"],[0.3333333333333333,\"#9c179e\"],[0.4444444444444444,\"#bd3786\"],[0.5555555555555556,\"#d8576b\"],[0.6666666666666666,\"#ed7953\"],[0.7777777777777778,\"#fb9f3a\"],[0.8888888888888888,\"#fdca26\"],[1.0,\"#f0f921\"]],\"sequentialminus\":[[0.0,\"#0d0887\"],[0.1111111111111111,\"#46039f\"],[0.2222222222222222,\"#7201a8\"],[0.3333333333333333,\"#9c179e\"],[0.4444444444444444,\"#bd3786\"],[0.5555555555555556,\"#d8576b\"],[0.6666666666666666,\"#ed7953\"],[0.7777777777777778,\"#fb9f3a\"],[0.8888888888888888,\"#fdca26\"],[1.0,\"#f0f921\"]]},\"colorway\":[\"#636efa\",\"#EF553B\",\"#00cc96\",\"#ab63fa\",\"#FFA15A\",\"#19d3f3\",\"#FF6692\",\"#B6E880\",\"#FF97FF\",\"#FECB52\"],\"font\":{\"color\":\"#2a3f5f\"},\"geo\":{\"bgcolor\":\"white\",\"lakecolor\":\"white\",\"landcolor\":\"#E5ECF6\",\"showlakes\":true,\"showland\":true,\"subunitcolor\":\"white\"},\"hoverlabel\":{\"align\":\"left\"},\"hovermode\":\"closest\",\"mapbox\":{\"style\":\"light\"},\"paper_bgcolor\":\"white\",\"plot_bgcolor\":\"#E5ECF6\",\"polar\":{\"angularaxis\":{\"gridcolor\":\"white\",\"linecolor\":\"white\",\"ticks\":\"\"},\"bgcolor\":\"#E5ECF6\",\"radialaxis\":{\"gridcolor\":\"white\",\"linecolor\":\"white\",\"ticks\":\"\"}},\"scene\":{\"xaxis\":{\"backgroundcolor\":\"#E5ECF6\",\"gridcolor\":\"white\",\"gridwidth\":2,\"linecolor\":\"white\",\"showbackground\":true,\"ticks\":\"\",\"zerolinecolor\":\"white\"},\"yaxis\":{\"backgroundcolor\":\"#E5ECF6\",\"gridcolor\":\"white\",\"gridwidth\":2,\"linecolor\":\"white\",\"showbackground\":true,\"ticks\":\"\",\"zerolinecolor\":\"white\"},\"zaxis\":{\"backgroundcolor\":\"#E5ECF6\",\"gridcolor\":\"white\",\"gridwidth\":2,\"linecolor\":\"white\",\"showbackground\":true,\"ticks\":\"\",\"zerolinecolor\":\"white\"}},\"shapedefaults\":{\"line\":{\"color\":\"#2a3f5f\"}},\"ternary\":{\"aaxis\":{\"gridcolor\":\"white\",\"linecolor\":\"white\",\"ticks\":\"\"},\"baxis\":{\"gridcolor\":\"white\",\"linecolor\":\"white\",\"ticks\":\"\"},\"bgcolor\":\"#E5ECF6\",\"caxis\":{\"gridcolor\":\"white\",\"linecolor\":\"white\",\"ticks\":\"\"}},\"title\":{\"x\":0.05},\"xaxis\":{\"automargin\":true,\"gridcolor\":\"white\",\"linecolor\":\"white\",\"ticks\":\"\",\"title\":{\"standoff\":15},\"zerolinecolor\":\"white\",\"zerolinewidth\":2},\"yaxis\":{\"automargin\":true,\"gridcolor\":\"white\",\"linecolor\":\"white\",\"ticks\":\"\",\"title\":{\"standoff\":15},\"zerolinecolor\":\"white\",\"zerolinewidth\":2}}},\"xaxis\":{\"anchor\":\"y\",\"domain\":[0.0,1.0],\"title\":{\"text\":\"PCA 1\"}},\"yaxis\":{\"anchor\":\"x\",\"domain\":[0.0,1.0],\"title\":{\"text\":\"PCA 2\"}},\"coloraxis\":{\"colorbar\":{\"title\":{\"text\":\"color\"}},\"colorscale\":[[0.0,\"#0508b8\"],[0.08333333333333333,\"#1910d8\"],[0.16666666666666666,\"#3c19f0\"],[0.25,\"#6b1cfb\"],[0.3333333333333333,\"#981cfd\"],[0.4166666666666667,\"#bf1cfd\"],[0.5,\"#dd2bfd\"],[0.5833333333333334,\"#f246fe\"],[0.6666666666666666,\"#fc67fd\"],[0.75,\"#fe88fc\"],[0.8333333333333334,\"#fea5fd\"],[0.9166666666666666,\"#febefe\"],[1.0,\"#fec3fe\"]]},\"legend\":{\"tracegroupgap\":0},\"title\":{\"text\":\"PCA plot\"}},                        {\"responsive\": true}                    ).then(function(){\n",
              "                            \n",
              "var gd = document.getElementById('bbb19320-839e-42cf-bbd8-f2ca3167db9e');\n",
              "var x = new MutationObserver(function (mutations, observer) {{\n",
              "        var display = window.getComputedStyle(gd).display;\n",
              "        if (!display || display === 'none') {{\n",
              "            console.log([gd, 'removed!']);\n",
              "            Plotly.purge(gd);\n",
              "            observer.disconnect();\n",
              "        }}\n",
              "}});\n",
              "\n",
              "// Listen for the removal of the full notebook cells\n",
              "var notebookContainer = gd.closest('#notebook-container');\n",
              "if (notebookContainer) {{\n",
              "    x.observe(notebookContainer, {childList: true});\n",
              "}}\n",
              "\n",
              "// Listen for the clearing of the current output cell\n",
              "var outputEl = gd.closest('.output');\n",
              "if (outputEl) {{\n",
              "    x.observe(outputEl, {childList: true});\n",
              "}}\n",
              "\n",
              "                        })                };                            </script>        </div>\n",
              "</body>\n",
              "</html>"
            ]
          },
          "metadata": {}
        }
      ]
    },
    {
      "cell_type": "markdown",
      "source": [
        "ICA"
      ],
      "metadata": {
        "id": "fy6SpIkcFbbC"
      }
    },
    {
      "cell_type": "code",
      "source": [
        "from sklearn.decomposition import FastICA\n",
        "import matplotlib.pyplot as plt\n",
        "\n",
        "transformer = FastICA(n_components=10, random_state=0)\n",
        "X_transformedica = transformer.fit_transform(X)\n",
        "\n",
        "plot = plt.scatter(X_transformedica[:,0], X_transformedica[:,1])"
      ],
      "metadata": {
        "colab": {
          "base_uri": "https://localhost:8080/",
          "height": 265
        },
        "id": "17h98F1dGl1k",
        "outputId": "409271f8-30c8-4d4b-ba4d-f5e87fbbb98e"
      },
      "execution_count": 81,
      "outputs": [
        {
          "output_type": "display_data",
          "data": {
            "text/plain": [
              "<Figure size 432x288 with 1 Axes>"
            ],
            "image/png": "[encoded data removed]"
          },
          "metadata": {
            "needs_background": "light"
          }
        }
      ]
    },
    {
      "cell_type": "code",
      "source": [
        "import plotly.express as px\n",
        "fig20 = px.scatter(x=X_transformedica[:,0],y=X_transformedica[:,1],color=y['target'],labels={\"x\":\"ICA 1\",\"y\":\"ICA 2\"},title=\"ICA plot\",color_continuous_scale=px.colors.sequential.Plotly3)\n",
        "fig20.show()"
      ],
      "metadata": {
        "colab": {
          "base_uri": "https://localhost:8080/",
          "height": 542
        },
        "id": "tQDp2Sh8Gl4b",
        "outputId": "21659d17-0a50-468f-856e-d27a3c7e1f4c"
      },
      "execution_count": 82,
      "outputs": [
        {
          "output_type": "display_data",
          "data": {
            "text/html": [
              "<html>\n",
              "<head><meta charset=\"utf-8\" /></head>\n",
              "<body>\n",
              "    <div>            <script src=\"https://cdnjs.cloudflare.com/ajax/libs/mathjax/2.7.5/MathJax.js?config=TeX-AMS-MML_SVG\"></script><script type=\"text/javascript\">if (window.MathJax) {MathJax.Hub.Config({SVG: {font: \"STIX-Web\"}});}</script>                <script type=\"text/javascript\">window.PlotlyConfig = {MathJaxConfig: 'local'};</script>\n",
              "        <script src=\"https://cdn.plot.ly/plotly-2.8.3.min.js\"></script>                <div id=\"e9e8207f-cd3f-4c65-907c-b1f8ad4de272\" class=\"plotly-graph-div\" style=\"height:525px; width:100%;\"></div>            <script type=\"text/javascript\">                                    window.PLOTLYENV=window.PLOTLYENV || {};                                    if (document.getElementById(\"e9e8207f-cd3f-4c65-907c-b1f8ad4de272\")) {                    Plotly.newPlot(                        \"e9e8207f-cd3f-4c65-907c-b1f8ad4de272\",                        [{\"hovertemplate\":\"ICA 1=%{x}<br>ICA 2=%{y}<br>color=%{marker.color}<extra></extra>\",\"legendgroup\":\"\",\"marker\":{\"color\":[1,1,1,1,1,1,1,1,0,1,0,0,1,1,1,1,1,0,1,1,0,1,1,1,1,1,1,1,0,0,0,1,0,0,1,1,1,1,1,0,1,1,0,1,1,0,1,1,0,1,1,0,1,1,0,1,1,0,0,1,0,1,1,1,1,0,1,1,1,1,1,1,1,1,1,1,1,1,1,1,1,1,1,0,0,1,0,1,0,1,1,1,0,1,1,1,1,1,1,1,0,0,1,1,0,1,0,0,1,1,1,0,1,1,1,1,1,1,1,1,1,1,1,1,1,1,1,1,1,1,1,1,1,1,1,0,1,1,1,1,1,1,1,1,1,1,1,1,1,1,1,1,1,1,1,1,1,1,1,1,0,1,1,1,1,1,1,1,1,1,1,1,1,1,1,1,1,1,1,1,1,1,1,1,1,1,1,1,1,1,1,1,1,1,1,1,1,1,1,1,0,1,1,1,1,1,1,1,1,1,1,1,1,1,0,0,1,1,1,0,1,1,1,1,0,0,0,0,1,1,1,1,1,1,1,0,1,1,1,1,1,1,0,1,1,0,0,1,1,1,0,0,0,0,1,1,1,1,1,1,1,1,1,1,1,1,1,1,0,1,1,0,1,0,1,1,1,1,1,0,1,0,1,0,1,1,0,1,0,0,1,0,1,1,1,0,0,1,1,1,1,1,1,1,1,1,1,1,1,1,1,1,1,0,1,0,1,1,1,0,1,0,1,1,0,1,1,1,1,1,1,1,1,1,1,1,1,1,1,0,0,1,1,1,1,1,1,1,1,1,1,1,1,1,1,1,1,1,1,1,0,0,0,1,0,1,1,1,0,0,1,1,1,1,1,1,0,1,1,0,1,1,1,1,1,1,1,1,1,1,1,1,0,1,1,0,1,0,1,1,1,1,1,1,1,1,1,1,1,1,1,0,1,0,1,1,1,0,1,0,1,1,0,1,1,1,1,1,1,1,1,1,1,1,1,1,1,1,1,1,1,0,0,1,1,1,1,1,1,1,1,1,1,0,1,1,1,1,1,1,1,1,1,1,1,1,1,1,1,1,1,1,1,1,0,1,1,1,1,1,1,1,1,1,1,1,1,1,1,1,1,1,1,1,1,0,1,1,0,1,1,1,1,1,1,1,1,1,1,1,1,0,1,0,0,1,1,1,1,0,1,1,1,1,1,1,0,0,1,1,1,1,0,1,1,0,1,0,1,1,1,1,1,1,1,1,1,1,1,1,1,1,0,0],\"coloraxis\":\"coloraxis\",\"symbol\":\"circle\"},\"mode\":\"markers\",\"name\":\"\",\"orientation\":\"v\",\"showlegend\":false,\"x\":[0.004541532777162158,0.0020158567487263343,0.005196182467924942,0.024155648207054847,-0.0011973537649326074,-0.008315487076950078,0.005425228258045069,-0.0014837633990320352,-0.001098103808954997,-0.008920595393695618,-0.002714912741681809,-0.003657016486775339,-0.0029104650281477355,-0.005354463166267925,-0.002511142602660893,-0.0034169697822765592,-0.0033460364786542674,-0.0026039366962653907,-0.010694604321483333,0.002869067207660747,-0.001304300270372337,-0.006177789721149999,0.0013872501397238712,-0.008087927888104106,-0.006147991391493959,0.003162134097192657,-0.008319800265729654,-0.005130431886711405,-0.002152251311965123,-0.002152294499391582,-0.00035000425242545104,-0.0033051951579176017,-0.0010666338688201029,0.00021375703269466007,0.0031984790580081323,6.995244654461228e-05,0.002852192638335643,-0.006652505638609787,-0.006216359366618287,-0.002622697450566211,0.002396627393619392,-0.008703949357438737,-0.002150519776510889,0.004199856182268671,-0.007938224630756243,-0.002846902454826754,0.011049859812230806,0.010560370372808346,-0.0040285463970183705,0.002553403117716397,-0.0015211429214144652,-0.002718638533607038,-0.004320312751509847,-0.003731640197300298,-0.004806231934581658,-0.00785394771261535,0.000540739754459406,-0.005289148521143772,-0.00022015197785213921,-0.009131258779142925,-0.002152101000451119,-0.005970063230305769,-0.008192395819797098,-0.00895193999578551,-0.006732698985122382,-0.002744920660305479,0.0018451165552585006,-0.009136307490273596,0.001701216598685519,-0.002706675797667167,-0.008635152529641416,-0.015834316125649096,-0.003963328410091967,0.005118406940610727,-0.011855940705099382,-0.007030074521980969,-0.00478837479143976,-0.0066986498866220025,-0.009270954377787449,-0.008186480888210482,-0.0015514437798619983,0.0011612409449634415,-0.016403642154095288,-0.009702465266849227,-0.00798208291042109,-0.011243926132200785,-0.01082597088152758,-0.009888928437199485,-0.011383867076880357,-0.008590261231286166,-0.03331028250811267,-0.00989886591736838,-0.01383023883746685,-0.010102924594247834,-0.0032642278915502947,0.008783240109452462,0.003223753594590703,-0.002969673209012815,0.0045105921377902106,-0.033237987142168884,-0.012865238100882906,-0.009128758186073635,-0.010397485820798271,-0.007506304623306332,0.001505780446593564,-0.010650229048908503,-0.002824635538112597,-0.0029992793175275217,0.010200126978070904,-0.03181848108227608,0.004824040037385103,-0.0010013536149368867,-0.013194521560851378,-0.010403312849669378,0.00177197515081738,0.005846273157023177,0.0020925949773267973,-0.017481007333428025,-0.00254003757632021,-0.009986854075794124,-0.027261823657199567,0.012165429844734862,-0.0024864862249678525,0.0015518668229514252,0.02674516981483958,-0.0022878345554025307,-0.009952757392530957,-0.00996347254035815,-0.0024320548849769363,0.0014644336441439392,0.00031253315802755424,-0.003446993549291813,-0.002545469909232646,0.0014886816044462335,0.015991933141557026,-0.012671315140838826,0.001526425696213736,0.00136543192931377,-0.010918792972511523,-0.013535329489255609,0.0016861484287232305,-0.01651832183385498,-0.0025675984504388615,0.0011761779094566678,-0.008977436308110489,0.0017499704951927637,-0.022212964407772946,-0.002646722884169099,-0.00612344999181682,-0.010390689619446284,-0.008288919671635546,-0.03438120069949281,0.016152393420746376,-0.02228750576869338,-0.018583166376747066,0.0016505766933915468,-0.0023937413185403057,0.012144862395369363,-0.0022775619960848583,-0.0007693023971871945,-0.014043350873567421,-0.0032397134964912058,-0.0056370281773625835,-0.026982510152626905,-0.003514262241850707,-0.0323986796813273,-0.0013536793461856418,-0.03406423234765003,0.0002736504092721892,-0.010400948164143243,-0.0006244333308978655,-0.016965737952673386,0.01200085716093519,0.008904752804638007,-0.011117064161730441,-0.010919230723163502,-0.02435727136463588,-0.02461814389491968,-0.017527135776988573,0.002005609669286592,-0.031962800685219485,-0.006555932032035688,-0.02870600981882972,-0.002400108042306233,-0.004626397926067283,0.03295336296301623,0.00018868037157524208,-0.008925235086057576,-0.0004109846707053142,-0.028454047841675774,0.0021383469004771145,-0.03546161119460547,-0.003273345535348511,-0.027161668086472173,-0.030334003049974786,0.013545120216741728,0.0019186566126056094,-0.0023706847935785823,-0.010130593334612024,0.0033683674353919,-0.002300444926347283,-0.0072670047389375,-0.003498754974182186,-0.03749808079710842,0.013739843138338488,-0.014114339770925226,-0.025080315948208705,-0.03898838457064045,-0.00684425474661579,-0.011551323565945163,0.006417574203365731,-0.007348995599671513,-0.02021817713411588,0.00891321184880407,-0.008737230349308761,-0.00897475699594557,-0.011722959217122601,-0.005014981429423593,-0.039147533910362436,-0.006417935457714852,0.00011460503144860673,-0.001656564479190184,-0.03934174069939075,-0.007570665828115127,-0.00895768091243897,-0.013539658732860317,0.032443320069008456,-0.018198793536579307,0.021636657391513485,-0.03921503204413617,-0.006593730828674034,0.021571113065116644,-0.014692251639656454,0.019095289517041352,-0.01075503604659947,-0.03931592182552731,0.02429621014746967,-0.011768783428329389,-0.058290893307441236,-0.03594536378931691,-0.019010191625072715,0.028868968031141688,-0.010390383244709256,-0.018506289064313657,-0.030966271193652414,-0.05699085350009778,0.0011030198179025241,0.016473693781647206,-0.010320800060200239,-0.007215174748014013,-0.012778020427432587,-0.010382985040105151,-0.008460048216656814,-0.04309915055279254,-0.030472572702199774,0.0056442868534616174,-0.007899655563671183,-0.0004660266249581923,-0.03872022371553081,-0.011086045556509038,-0.007182631989330649,-0.00899464159741227,-0.0014525555521951426,-0.03831863229895192,-0.01094599567313775,0.0069078062451541885,-0.011402036484864996,0.006237711446948708,0.0016204596308070144,-0.012154083235459147,0.03608673592405189,-0.0012638332868892739,0.04020795379542749,-0.03337055238526515,-0.03148652210439353,-0.027243228930010813,-0.037719623423286865,-0.027345661472951577,0.0005796070868875274,-0.0010043203862971975,0.017893774248461076,-0.006755196518203634,0.0034281265859902525,-0.02099406644725711,0.009413284515931148,-0.03304482314599716,-0.00036432499419646996,-0.03497709040267348,-0.0014345157589083575,-0.007271352913796571,-0.03697443451070383,-0.010820147756860141,-0.02216884054517544,0.01383867609216932,-0.025264390366549982,-0.006625742258115538,-0.025077410989172048,-0.03779108176742686,-0.06139438442801215,-0.065082560048364,-0.031047468103198392,0.036194613746525627,-0.02816262702073553,-0.038113135201484,-0.02020192813872013,-0.061611284225403865,-0.03432805895626644,-0.06138240507782582,-0.009519141531138284,-0.031123587532340877,-0.04804594065417993,-0.061071769101633,-0.061508058649278004,0.004122764828474307,-0.031472832723095326,-0.032754688203605234,-0.061646886199077745,-0.06505129133027203,-0.051913171873105395,-0.051486536700302586,-0.013380695652783077,-0.006083966941828737,0.03829364290295222,-0.003998360918949092,-7.764077481469566e-05,-0.05897365010772093,-0.0043673761302396655,0.026115029514588228,-0.00979462166376106,0.011624031973684675,-0.03552456791247703,-0.03664294655567207,-0.04500021094086326,-0.014837471222482152,-0.011623109281429579,-0.03923428110590476,-0.039395877539843194,-0.04131877888838113,-0.02274428531062076,0.001021335087132977,0.0004636015344860238,-0.021339737062797612,-0.04116721032408536,-0.027263887120633854,-0.02769003751499594,-0.027483930299398326,-0.044896366807657115,-0.035553950410012955,-0.009225564596261445,0.007620900675347976,-0.04497066659402857,0.023273478844932964,0.0018170163757808208,-0.04499458682201205,-0.03838720904651117,-0.008857964043800183,-0.017135783096906745,0.017199741878810758,-0.03582717313814199,-0.03542599738569931,-0.016332082114292552,0.00910917972903655,0.0006040440829494708,0.019607723260150523,0.011848378867811248,-0.039298736426875966,-0.02674947076082038,-0.014153610738980847,-0.01278311784041821,0.0007256128759406205,-0.03495063252149171,0.008176553610932818,0.029969331838976165,-0.03137536991584644,-0.007593977658915773,-0.00394071256128506,-0.026017109313150013,-0.03146345323542636,-0.019984658430507795,0.03691275503368466,-0.03665147372268726,-0.036348071030947046,-0.04399476513901596,-0.014406846380005361,-0.0007067051977193002,-0.04500023231006781,0.027246014132124637,-0.010719314502925598,-0.0012820096486087281,0.017233889107011277,-0.013483829460762464,-0.005073201245516293,-0.04153572889225087,-0.00978489849193348,-0.06132192828507605,-0.05007169377126508,0.01870030971009333,0.007349848793419782,-0.0645352993015302,-0.05636031708520798,-0.055784759892598706,-0.05612935099270895,-0.047841848567640725,0.022578581844247367,-0.06498616053194148,-0.00840246490835637,-0.006377271013130362,-0.011882872109000934,-0.05996792185997383,-0.06153598879189733,-0.06149488927631498,-0.04016660137224105,-0.05568234186518737,-0.013479570045172204,-0.01390721950638149,-0.06029929113571929,-0.06124525309726487,-0.04146412433283936,-0.01319034723474963,-0.007264591051482322,-0.035363311106272985,-0.025794562480118407,-0.003569060292950789,-0.030629183943899813,-0.031973858934729614,-0.06164875289421312,-0.00466168436385132,-0.01786412311082534,-0.06142587417397168,-0.05864383788434217,-0.06164527000834668,-0.028016546567427875,-0.03652807654480128,-0.06508978439240903,-0.01091276297438563,-0.058814541612966634,-0.06509716928679651,-0.05626149054873488,-0.05997533904329028,-0.05654888550825946,-0.05959292287334911,-0.0021297460092410854,-0.001754724004544823,-0.04500750336390098,-0.044979730119457106,0.0215567469850408,-0.04129483699501491,0.00824245425272874,-0.036416382496000925,0.021916981023210342,-0.041236704808205356,-0.014630865856090193,0.004214592122610642,0.03318100395611815,-0.03570421488798627,0.021499128285978678,-0.04208658773363443,0.06187352260005246,-0.0021504044753005496,0.007090692466805539,-0.03243782402719396,0.009313170791025246,-0.006929480177281379,-0.006207857912924175,-0.008974988421640469,-0.021827558418422602,-0.045046729292245,-0.013411444290218129,-0.03560023445321302,-0.04231590349013596,-0.013616509022488715,-0.04489825310812839,-0.04133507808348355,0.035569379687175426,0.0005957000711576121,0.08831850121850669,0.11684880315200522,0.1161962103266352,0.11650606775263735,0.11630404048163447,0.11620582793545836,0.13119251238603866,0.11663020372378219,0.130608300108871,0.13072287821412204,0.13112959706961294,0.11660163134191215,0.11641701308910744,0.11654054074360094,0.11688692775455779,0.11649547836824307,0.09721722756853726,0.1164367278743183,0.11625788198667449,0.1309284912681398,0.05095639822939245,-0.0012234786957825913,0.11632634519916062,0.049418577288311054,0.023735937277998095,0.09084901733332167,0.11602963095537344,0.13078644252653773,0.11690499952907202,0.1306296627442264,0.13099124759507424,0.10415885535270193,0.11696791307497498,0.1045340560392417,-5.552453543415902e-05,0.13098485682535885,0.014754403313101832,0.12006884936327629,-0.0036433644137252603,-0.0045588026126193205,0.10573444604815242,0.04020931794349522,0.08850012863553465,0.11639962357924041,-0.0037959960201755624,0.09275304267219908,0.019562840114831375,0.08752390591412118,-0.0002507166776222547,0.13115129672617087,0.11692013939309412,0.01116252572753243,0.009783583148411167,0.02282980677810179,0.11427767282627388,0.11632761420251543,0.11820069919143023,-0.004449389775079763,0.0026823920483041355,0.10443766215091373,0.06935130406633291,0.13077877962707546,0.0009020001751486193,0.1192656987541245,0.11703798193951849,0.015252633277889666,0.012629197956365046,-0.0012679542580380932,0.01911248607009223,0.0864057619085629,0.11813466445840934,0.11289856051491617,-0.001524139064528151,0.0885506985592885,0.0059722736784335526,0.021869257439942384,0.08604904149723593,0.051157958773687805,0.023019161536056043],\"xaxis\":\"x\",\"y\":[-0.08723466542971921,0.008597671370353907,-0.11799668336303046,-0.007176566322372767,-0.1058888605639693,0.003221664997426274,-0.13842665619853192,-0.06800445598486846,-0.010456648082115081,0.050006173856308504,-0.04416902404468934,-0.04254202006015974,-0.09565458294457355,-0.020848840729342726,-0.09974433951148648,-0.022402455832872984,-0.023133217979143646,-0.042185537723850614,-0.024426414309624996,-0.13880450131394823,-0.011930372989781961,0.0013079633782301754,-0.1510878387058546,0.0018549575176680813,-0.0021082209222121747,-0.13045234867552605,0.0027403327743796943,-0.00239983224099032,-0.05112764910714643,-0.05112796685296346,-0.00861014783637636,-0.001337124499547366,-0.003179367568534216,-0.011299532034229936,-0.14245465368925403,3.520393968293867e-05,-0.11265979512036825,-0.0016170275942692359,-0.0034564163297892306,-0.041136051997308465,-0.11617484993695898,0.00395833795834702,-0.05112831564737005,-0.13268568301211836,0.0014990006782342404,-0.05344764367828127,0.05719152229357906,-0.05062929388460959,-0.026937832832704033,-0.15513074031822188,-0.029684111509277297,-0.044179825436457765,-0.006577686220451882,-0.006104344193798485,-0.0962145994610536,0.0011497712341110582,-0.005327353685671581,0.033351134869090394,-0.014689841917432885,0.0015272038657868211,-0.051127730180913294,0.0013747034903846948,0.0023670495635778398,0.0009153470004773793,-0.0026123649359251775,-0.046198478357815674,-0.13142797073833665,0.0015444839765141204,-0.11729653143937799,-0.11082074836555549,0.003661259614004932,0.03800457476427506,-0.09358450544150498,0.10390970269106575,0.03816115347553563,-0.07700579777889908,0.024103401110610784,0.04186326973919799,0.052837899401088545,0.019863384379420364,-0.04188296650576147,0.036639207616552684,0.036120848244643206,-0.01643982947988796,0.022491752301786343,0.013194911144072667,-0.00665085262609166,-0.0666239591089383,0.008867653099637463,0.011864733445798588,-0.05284612562115496,-0.0010933047565500698,0.0090628972869861,-0.07802292332406048,-0.07463603995089571,0.005369921685840474,-0.034816127191124646,-0.0757657464746716,0.004398109450076605,-0.05510068757822955,0.07195146075643906,0.023341766836441267,0.002417224029824153,-0.028718580153780215,0.01278155890857328,-0.07351025971323741,-0.04285527636284083,-0.04250965351337627,0.08927560000747489,0.021582944444646954,0.03223729871027419,-0.014651111971357007,0.01455057276484541,-0.04937390514112372,0.008810635373670156,0.028747643604183998,0.1263531730726891,0.013423432838746611,0.13741630513049036,0.0681601119618274,0.05621720556818561,0.031855642042432755,-0.00786385902311325,-0.0076224189593549424,0.03710885582936188,0.15354409693023435,-0.04842055443217275,0.00966651449327817,0.010021082938819691,0.010473296540628677,0.0887833378763979,-0.009581674341738422,-0.008065921065324498,0.010142241855416,0.03244828730346981,0.07034754523384171,-0.008039256308624352,-0.00795475548040093,-0.06707395360427601,0.012684834002584513,0.00689392378556281,0.009283133811491845,-0.0075550069446373115,0.11879298990873943,0.0491641736313519,-0.00818248513233103,0.015508394895384747,-0.007843933931797513,0.044754410665075475,-0.0588428129691283,0.04730643953482964,-0.06811113705177964,0.032575731788211396,0.015700979037495868,0.014538014979789722,-0.009138459247461784,-0.008241923648112819,0.03192583483786623,-0.008638404395810359,0.08120848846136448,-0.027765810767543104,0.1559244570727919,-0.07177960368603442,0.018252435385147165,0.08470365240844908,0.053613404642899286,0.1511209126324946,-0.06903813706042547,0.13355190698071687,0.00992470178164803,0.15153459739461278,0.013566990133719257,0.03148668539857362,0.1301655454906122,0.008246786851660295,-0.07699858930245415,0.12729130428845906,0.12868024163348576,0.09775686177711265,0.12868217861631204,0.02201535309386442,0.049874895105266145,0.023768498946811392,0.15296543405320803,0.06591643915117135,-0.019334711232334705,0.14963548295866672,-0.027810675545261208,0.029266825668567944,-0.018714138785283246,0.12846547539952244,-0.024376680852605866,0.036420480787254336,0.13212585923342615,0.019855666150116583,0.02674259716525744,-0.009512075795017057,-0.00801006958800646,-0.019542391566398715,0.14324036341159135,-0.023784696914241947,0.002305501896023543,-0.05634202324923052,0.02780028168868796,0.031003863890290025,0.03818962299576729,0.02631903838848803,0.031440717356709974,0.0009801904177609278,0.03495442702416567,-0.04503302444305029,-0.002967843867006185,0.0029128899241879403,-0.057246537470097,0.023736471811020846,0.023765712710739465,-0.029672759348106006,0.03710023434404604,-0.020965010680928858,-0.044355929159360055,-0.038126793657881325,0.03834144268569272,-0.016324972720996946,0.013646139278508045,0.026509316865740745,0.007107310901456911,0.00018929042484030887,0.0036092922000243227,0.014761336682237697,-0.02125623614945307,0.0028904711241770236,0.01602469276571572,-0.029255714391616894,0.019695703835523853,0.03468581727335959,0.004961211787780945,0.01789867494350353,0.03478802662261135,0.020885425380179387,-0.01245424404771863,0.016555822295036927,0.005369930092338824,-0.007326647332799764,-0.020963475387679346,0.01040288424565534,0.0072258219351551585,0.04024219876721403,0.03190755043302598,0.01253666132709865,-0.024676307195490105,0.06127043635166082,-0.007336663856412652,0.02246630174657224,0.016386218205358325,0.01970271463118393,0.0316713652248048,-0.028372594524291153,0.04186437135553809,-0.023389026575426686,0.03602060802380641,-0.03910106845897923,-0.03231256942247443,0.04014928887536378,-0.021104270734426965,0.0667319230614719,-0.024881504143043343,0.032148890492506854,-0.02459224346734988,0.0035469773410176965,0.030882402723980497,0.015418702650665105,-0.02362711596466756,0.02110224247765552,0.014680264778312508,0.00914865272528868,0.01874764178741565,-0.04329565153332584,-0.012374174287495553,-0.03066013955911608,0.1268239548541205,-0.02097606433506771,0.0012324417817626578,-0.0040167558694464145,0.005454376315775754,-0.0002876954838659992,-0.038162539009948857,-0.015397392875277761,-0.036365102949324234,-0.025206118666640062,-0.0015113216155266474,-0.042191306890893884,-0.04046992879367176,-0.05399793884914256,0.01069776827688643,-0.0467034055268824,-0.0017951679185680954,0.0005654281355722591,-0.0015316283841437153,-0.01040220165613983,-0.011535020674558938,0.004679304910173675,-0.0296924706768299,-0.00849114916084897,-5.4169718667213274e-05,-0.008579450633147436,-0.013189138646366307,-0.03509603925408306,-0.01055010751244444,-0.004601063999628204,0.005024190886288604,0.008336467309715408,-0.012643942741555907,-0.01071892655362579,0.00476885141688172,0.004654501755748405,0.0026719069154563053,-0.010680695422136404,-0.01151818301579328,-0.004630136471010201,0.009187733308497738,-0.019855427895593965,-0.010017477832335593,-0.03336204465024735,-2.4917022131710254e-05,0.004624778005349495,-0.008389687110956515,-0.01334483135712973,-0.009711043077471754,0.015298085424688182,-0.0015955870215290397,0.00852714426570978,0.0029169723683762218,-0.002561960970684095,0.005360305833661049,0.005022152229511545,0.0021610479466391583,0.002066318769813693,-0.0015031598308078969,0.009026837247788933,-0.038258157324524256,0.003464193826568842,0.0075132390702192684,-0.0016912875145554118,0.007054016321982564,0.006174719865713218,0.006813400293271577,-0.002482175650524002,0.003115928518674244,-0.0035423588615676577,-0.021818282790256525,-0.0025392749752399147,-0.02375627269518839,-0.0024306638473656317,-0.0025503994727141166,0.0008169147145239157,-0.017296102196880672,0.009775717348209777,0.011870903893965647,0.003041446320873921,0.0032829587618537393,0.005888871735978292,0.006723206921212507,0.057749181185983725,0.000297015813686489,0.010182992393916644,0.002181100220014649,0.0036532940839575133,-0.027906374855785586,0.013196065654497125,0.0066710852601713075,0.008378084730249225,-0.00013111569305053415,-0.005515188598325768,0.009338405799924747,-0.0023189051824391792,-0.0002957300028797138,0.014958345922711176,0.009525161784531042,0.009906806183428388,0.013333306873122177,0.0029867793646682207,0.002880717562257138,-0.0018040897472713655,0.01137820491552523,-0.008212313574383517,-0.0025618200349049164,-0.0037146462012979317,0.015084370645805398,-0.002189418919768748,0.010847746399689908,-0.026770398597058046,0.003223489678972576,0.0074599629245846195,-0.01664971482212155,-0.01110763153119147,0.0047491791782206475,0.008170465974911636,-0.00632398782136343,-0.013341050147351607,-0.006819673725729082,-0.006056930061316645,-0.0074089985030299736,-0.003405450458562331,0.019048318632069672,-0.011461112239391906,-0.01671104080533955,-0.020957851210233067,-0.016630002626089813,-0.007074078966344297,-0.010553362978684337,-0.0107016652267827,0.0034590814840847178,-0.0060840064798734,-0.008318099692030007,-0.012079225401457346,-0.00699664222736644,-0.01108844679650725,0.007807957186768732,-0.01206165453070159,-0.0013522738920113246,0.002934720978243614,-0.016357671303718648,0.006801110995342038,0.017143064155302843,-0.007988445965842705,-0.010630753658386057,-0.01983542676160995,-0.013238132668360004,-0.010678140713871773,-0.00903877312794578,-0.010642092218433877,-0.005677650970950241,0.00304093400036712,-0.011541144182536142,-0.0003101982480613184,-0.008434269017629283,-0.011546682544003734,-0.006049991600664373,-0.007079766042596246,-0.0061810087130300395,-0.007051687348973845,0.0037477396470704787,-0.023140211726119728,-0.002567799694091079,-0.002539042078121201,0.01757732718097126,-0.0014920001279621032,-0.0010548135087178206,0.0029942595661985698,0.017239589367771726,-0.001545869039518776,-0.00866675760077415,-0.0010707723806487265,0.04959400334729436,0.008618343142972494,-0.008261027935679758,-0.00042703729637987763,-0.0029627313081515426,0.004058014915162899,-0.001143678260604529,0.001162475696191371,0.0012865699538549722,0.0051015054718272345,-0.005229841769598885,0.004178919411074008,-0.009711850659736863,-0.0025903990769148423,0.0012456000846879439,0.0029173908316214754,-0.0003187799540452212,-0.028858771793181547,-0.0024764029456573826,-0.0016419702375386992,-0.018020604091876013,0.007438689610425473,0.006290386126710332,0.017073909345258213,-0.007192252829365558,-0.024675722679450552,-0.025537348673359658,-0.007163421777149595,0.015299310777934979,-0.02503700401843116,0.015400174954792914,0.015473482267540865,0.015079018636674272,-0.007458588875793473,-0.006579644867616664,-0.025134323219773578,-0.024639527489441516,-0.025725638247703773,0.014643774832546195,-0.025556713912327157,-0.02538026491695437,0.014803181282822849,0.014446195947920253,0.0024860031831103677,-0.02524182675212285,0.013123810073134621,0.0017400810739731033,0.006712076888838682,-0.00597133481845555,0.015536280242500762,-0.009487878982021355,0.015729780545183154,0.015736802687790444,-0.02710203742369676,0.016704207595631335,-0.027393468421884046,0.0051438207824680586,0.015417500321823412,0.008240027470724285,0.01058484068447888,0.04899748463617805,0.05502001153426109,-0.028976404556090764,-0.002300093489508973,0.03510037621683466,-0.02443608257816456,0.048992334121056365,0.006197912514317682,0.0037506486630050863,0.008776915644943381,0.0042251363177711046,0.015252594899649714,-0.02497131127003361,0.05084243639208109,0.05065478041624543,0.0007078430199901391,-0.004562635479308239,-0.02394189874268148,0.0005142784397642757,0.04868046206114597,-0.0025284140978921094,-0.012221286137201153,0.015525538020979493,0.015066470754764931,0.0052534774878958985,0.008483537361966054,-0.027763948787345474,0.0011305116935834349,0.006265871084978489,0.003072932603393631,0.00866758911468282,0.007698407531026941,0.010023931654992225,-0.004037318280876899,0.0038536438123659006,0.006522265272258731,0.005704214738412593,0.013657669569343646,-0.030494251616848256,0.01416629072132692,-0.023921082038763],\"yaxis\":\"y\",\"type\":\"scatter\"}],                        {\"template\":{\"data\":{\"bar\":[{\"error_x\":{\"color\":\"#2a3f5f\"},\"error_y\":{\"color\":\"#2a3f5f\"},\"marker\":{\"line\":{\"color\":\"#E5ECF6\",\"width\":0.5},\"pattern\":{\"fillmode\":\"overlay\",\"size\":10,\"solidity\":0.2}},\"type\":\"bar\"}],\"barpolar\":[{\"marker\":{\"line\":{\"color\":\"#E5ECF6\",\"width\":0.5},\"pattern\":{\"fillmode\":\"overlay\",\"size\":10,\"solidity\":0.2}},\"type\":\"barpolar\"}],\"carpet\":[{\"aaxis\":{\"endlinecolor\":\"#2a3f5f\",\"gridcolor\":\"white\",\"linecolor\":\"white\",\"minorgridcolor\":\"white\",\"startlinecolor\":\"#2a3f5f\"},\"baxis\":{\"endlinecolor\":\"#2a3f5f\",\"gridcolor\":\"white\",\"linecolor\":\"white\",\"minorgridcolor\":\"white\",\"startlinecolor\":\"#2a3f5f\"},\"type\":\"carpet\"}],\"choropleth\":[{\"colorbar\":{\"outlinewidth\":0,\"ticks\":\"\"},\"type\":\"choropleth\"}],\"contour\":[{\"colorbar\":{\"outlinewidth\":0,\"ticks\":\"\"},\"colorscale\":[[0.0,\"#0d0887\"],[0.1111111111111111,\"#46039f\"],[0.2222222222222222,\"#7201a8\"],[0.3333333333333333,\"#9c179e\"],[0.4444444444444444,\"#bd3786\"],[0.5555555555555556,\"#d8576b\"],[0.6666666666666666,\"#ed7953\"],[0.7777777777777778,\"#fb9f3a\"],[0.8888888888888888,\"#fdca26\"],[1.0,\"#f0f921\"]],\"type\":\"contour\"}],\"contourcarpet\":[{\"colorbar\":{\"outlinewidth\":0,\"ticks\":\"\"},\"type\":\"contourcarpet\"}],\"heatmap\":[{\"colorbar\":{\"outlinewidth\":0,\"ticks\":\"\"},\"colorscale\":[[0.0,\"#0d0887\"],[0.1111111111111111,\"#46039f\"],[0.2222222222222222,\"#7201a8\"],[0.3333333333333333,\"#9c179e\"],[0.4444444444444444,\"#bd3786\"],[0.5555555555555556,\"#d8576b\"],[0.6666666666666666,\"#ed7953\"],[0.7777777777777778,\"#fb9f3a\"],[0.8888888888888888,\"#fdca26\"],[1.0,\"#f0f921\"]],\"type\":\"heatmap\"}],\"heatmapgl\":[{\"colorbar\":{\"outlinewidth\":0,\"ticks\":\"\"},\"colorscale\":[[0.0,\"#0d0887\"],[0.1111111111111111,\"#46039f\"],[0.2222222222222222,\"#7201a8\"],[0.3333333333333333,\"#9c179e\"],[0.4444444444444444,\"#bd3786\"],[0.5555555555555556,\"#d8576b\"],[0.6666666666666666,\"#ed7953\"],[0.7777777777777778,\"#fb9f3a\"],[0.8888888888888888,\"#fdca26\"],[1.0,\"#f0f921\"]],\"type\":\"heatmapgl\"}],\"histogram\":[{\"marker\":{\"pattern\":{\"fillmode\":\"overlay\",\"size\":10,\"solidity\":0.2}},\"type\":\"histogram\"}],\"histogram2d\":[{\"colorbar\":{\"outlinewidth\":0,\"ticks\":\"\"},\"colorscale\":[[0.0,\"#0d0887\"],[0.1111111111111111,\"#46039f\"],[0.2222222222222222,\"#7201a8\"],[0.3333333333333333,\"#9c179e\"],[0.4444444444444444,\"#bd3786\"],[0.5555555555555556,\"#d8576b\"],[0.6666666666666666,\"#ed7953\"],[0.7777777777777778,\"#fb9f3a\"],[0.8888888888888888,\"#fdca26\"],[1.0,\"#f0f921\"]],\"type\":\"histogram2d\"}],\"histogram2dcontour\":[{\"colorbar\":{\"outlinewidth\":0,\"ticks\":\"\"},\"colorscale\":[[0.0,\"#0d0887\"],[0.1111111111111111,\"#46039f\"],[0.2222222222222222,\"#7201a8\"],[0.3333333333333333,\"#9c179e\"],[0.4444444444444444,\"#bd3786\"],[0.5555555555555556,\"#d8576b\"],[0.6666666666666666,\"#ed7953\"],[0.7777777777777778,\"#fb9f3a\"],[0.8888888888888888,\"#fdca26\"],[1.0,\"#f0f921\"]],\"type\":\"histogram2dcontour\"}],\"mesh3d\":[{\"colorbar\":{\"outlinewidth\":0,\"ticks\":\"\"},\"type\":\"mesh3d\"}],\"parcoords\":[{\"line\":{\"colorbar\":{\"outlinewidth\":0,\"ticks\":\"\"}},\"type\":\"parcoords\"}],\"pie\":[{\"automargin\":true,\"type\":\"pie\"}],\"scatter\":[{\"marker\":{\"colorbar\":{\"outlinewidth\":0,\"ticks\":\"\"}},\"type\":\"scatter\"}],\"scatter3d\":[{\"line\":{\"colorbar\":{\"outlinewidth\":0,\"ticks\":\"\"}},\"marker\":{\"colorbar\":{\"outlinewidth\":0,\"ticks\":\"\"}},\"type\":\"scatter3d\"}],\"scattercarpet\":[{\"marker\":{\"colorbar\":{\"outlinewidth\":0,\"ticks\":\"\"}},\"type\":\"scattercarpet\"}],\"scattergeo\":[{\"marker\":{\"colorbar\":{\"outlinewidth\":0,\"ticks\":\"\"}},\"type\":\"scattergeo\"}],\"scattergl\":[{\"marker\":{\"colorbar\":{\"outlinewidth\":0,\"ticks\":\"\"}},\"type\":\"scattergl\"}],\"scattermapbox\":[{\"marker\":{\"colorbar\":{\"outlinewidth\":0,\"ticks\":\"\"}},\"type\":\"scattermapbox\"}],\"scatterpolar\":[{\"marker\":{\"colorbar\":{\"outlinewidth\":0,\"ticks\":\"\"}},\"type\":\"scatterpolar\"}],\"scatterpolargl\":[{\"marker\":{\"colorbar\":{\"outlinewidth\":0,\"ticks\":\"\"}},\"type\":\"scatterpolargl\"}],\"scatterternary\":[{\"marker\":{\"colorbar\":{\"outlinewidth\":0,\"ticks\":\"\"}},\"type\":\"scatterternary\"}],\"surface\":[{\"colorbar\":{\"outlinewidth\":0,\"ticks\":\"\"},\"colorscale\":[[0.0,\"#0d0887\"],[0.1111111111111111,\"#46039f\"],[0.2222222222222222,\"#7201a8\"],[0.3333333333333333,\"#9c179e\"],[0.4444444444444444,\"#bd3786\"],[0.5555555555555556,\"#d8576b\"],[0.6666666666666666,\"#ed7953\"],[0.7777777777777778,\"#fb9f3a\"],[0.8888888888888888,\"#fdca26\"],[1.0,\"#f0f921\"]],\"type\":\"surface\"}],\"table\":[{\"cells\":{\"fill\":{\"color\":\"#EBF0F8\"},\"line\":{\"color\":\"white\"}},\"header\":{\"fill\":{\"color\":\"#C8D4E3\"},\"line\":{\"color\":\"white\"}},\"type\":\"table\"}]},\"layout\":{\"annotationdefaults\":{\"arrowcolor\":\"#2a3f5f\",\"arrowhead\":0,\"arrowwidth\":1},\"autotypenumbers\":\"strict\",\"coloraxis\":{\"colorbar\":{\"outlinewidth\":0,\"ticks\":\"\"}},\"colorscale\":{\"diverging\":[[0,\"#8e0152\"],[0.1,\"#c51b7d\"],[0.2,\"#de77ae\"],[0.3,\"#f1b6da\"],[0.4,\"#fde0ef\"],[0.5,\"#f7f7f7\"],[0.6,\"#e6f5d0\"],[0.7,\"#b8e186\"],[0.8,\"#7fbc41\"],[0.9,\"#4d9221\"],[1,\"#276419\"]],\"sequential\":[[0.0,\"#0d0887\"],[0.1111111111111111,\"#46039f\"],[0.2222222222222222,\"#7201a8\"],[0.3333333333333333,\"#9c179e\"],[0.4444444444444444,\"#bd3786\"],[0.5555555555555556,\"#d8576b\"],[0.6666666666666666,\"#ed7953\"],[0.7777777777777778,\"#fb9f3a\"],[0.8888888888888888,\"#fdca26\"],[1.0,\"#f0f921\"]],\"sequentialminus\":[[0.0,\"#0d0887\"],[0.1111111111111111,\"#46039f\"],[0.2222222222222222,\"#7201a8\"],[0.3333333333333333,\"#9c179e\"],[0.4444444444444444,\"#bd3786\"],[0.5555555555555556,\"#d8576b\"],[0.6666666666666666,\"#ed7953\"],[0.7777777777777778,\"#fb9f3a\"],[0.8888888888888888,\"#fdca26\"],[1.0,\"#f0f921\"]]},\"colorway\":[\"#636efa\",\"#EF553B\",\"#00cc96\",\"#ab63fa\",\"#FFA15A\",\"#19d3f3\",\"#FF6692\",\"#B6E880\",\"#FF97FF\",\"#FECB52\"],\"font\":{\"color\":\"#2a3f5f\"},\"geo\":{\"bgcolor\":\"white\",\"lakecolor\":\"white\",\"landcolor\":\"#E5ECF6\",\"showlakes\":true,\"showland\":true,\"subunitcolor\":\"white\"},\"hoverlabel\":{\"align\":\"left\"},\"hovermode\":\"closest\",\"mapbox\":{\"style\":\"light\"},\"paper_bgcolor\":\"white\",\"plot_bgcolor\":\"#E5ECF6\",\"polar\":{\"angularaxis\":{\"gridcolor\":\"white\",\"linecolor\":\"white\",\"ticks\":\"\"},\"bgcolor\":\"#E5ECF6\",\"radialaxis\":{\"gridcolor\":\"white\",\"linecolor\":\"white\",\"ticks\":\"\"}},\"scene\":{\"xaxis\":{\"backgroundcolor\":\"#E5ECF6\",\"gridcolor\":\"white\",\"gridwidth\":2,\"linecolor\":\"white\",\"showbackground\":true,\"ticks\":\"\",\"zerolinecolor\":\"white\"},\"yaxis\":{\"backgroundcolor\":\"#E5ECF6\",\"gridcolor\":\"white\",\"gridwidth\":2,\"linecolor\":\"white\",\"showbackground\":true,\"ticks\":\"\",\"zerolinecolor\":\"white\"},\"zaxis\":{\"backgroundcolor\":\"#E5ECF6\",\"gridcolor\":\"white\",\"gridwidth\":2,\"linecolor\":\"white\",\"showbackground\":true,\"ticks\":\"\",\"zerolinecolor\":\"white\"}},\"shapedefaults\":{\"line\":{\"color\":\"#2a3f5f\"}},\"ternary\":{\"aaxis\":{\"gridcolor\":\"white\",\"linecolor\":\"white\",\"ticks\":\"\"},\"baxis\":{\"gridcolor\":\"white\",\"linecolor\":\"white\",\"ticks\":\"\"},\"bgcolor\":\"#E5ECF6\",\"caxis\":{\"gridcolor\":\"white\",\"linecolor\":\"white\",\"ticks\":\"\"}},\"title\":{\"x\":0.05},\"xaxis\":{\"automargin\":true,\"gridcolor\":\"white\",\"linecolor\":\"white\",\"ticks\":\"\",\"title\":{\"standoff\":15},\"zerolinecolor\":\"white\",\"zerolinewidth\":2},\"yaxis\":{\"automargin\":true,\"gridcolor\":\"white\",\"linecolor\":\"white\",\"ticks\":\"\",\"title\":{\"standoff\":15},\"zerolinecolor\":\"white\",\"zerolinewidth\":2}}},\"xaxis\":{\"anchor\":\"y\",\"domain\":[0.0,1.0],\"title\":{\"text\":\"ICA 1\"}},\"yaxis\":{\"anchor\":\"x\",\"domain\":[0.0,1.0],\"title\":{\"text\":\"ICA 2\"}},\"coloraxis\":{\"colorbar\":{\"title\":{\"text\":\"color\"}},\"colorscale\":[[0.0,\"#0508b8\"],[0.08333333333333333,\"#1910d8\"],[0.16666666666666666,\"#3c19f0\"],[0.25,\"#6b1cfb\"],[0.3333333333333333,\"#981cfd\"],[0.4166666666666667,\"#bf1cfd\"],[0.5,\"#dd2bfd\"],[0.5833333333333334,\"#f246fe\"],[0.6666666666666666,\"#fc67fd\"],[0.75,\"#fe88fc\"],[0.8333333333333334,\"#fea5fd\"],[0.9166666666666666,\"#febefe\"],[1.0,\"#fec3fe\"]]},\"legend\":{\"tracegroupgap\":0},\"title\":{\"text\":\"ICA plot\"}},                        {\"responsive\": true}                    ).then(function(){\n",
              "                            \n",
              "var gd = document.getElementById('e9e8207f-cd3f-4c65-907c-b1f8ad4de272');\n",
              "var x = new MutationObserver(function (mutations, observer) {{\n",
              "        var display = window.getComputedStyle(gd).display;\n",
              "        if (!display || display === 'none') {{\n",
              "            console.log([gd, 'removed!']);\n",
              "            Plotly.purge(gd);\n",
              "            observer.disconnect();\n",
              "        }}\n",
              "}});\n",
              "\n",
              "// Listen for the removal of the full notebook cells\n",
              "var notebookContainer = gd.closest('#notebook-container');\n",
              "if (notebookContainer) {{\n",
              "    x.observe(notebookContainer, {childList: true});\n",
              "}}\n",
              "\n",
              "// Listen for the clearing of the current output cell\n",
              "var outputEl = gd.closest('.output');\n",
              "if (outputEl) {{\n",
              "    x.observe(outputEl, {childList: true});\n",
              "}}\n",
              "\n",
              "                        })                };                            </script>        </div>\n",
              "</body>\n",
              "</html>"
            ]
          },
          "metadata": {}
        }
      ]
    },
    {
      "cell_type": "code",
      "source": [
        "#Umap plot\n",
        "import umap\n",
        "n_neighbors=50\n",
        "min_dist=0.01\n",
        "n_components=2\n",
        "metric='euclidean'\n",
        "fit = umap.UMAP(\n",
        "        n_neighbors=n_neighbors,\n",
        "        min_dist=min_dist,\n",
        "        n_components=n_components,\n",
        "        metric=metric\n",
        "    )\n",
        "uvalues = fit.fit_transform(X)"
      ],
      "metadata": {
        "id": "aGmK9qjtca1F"
      },
      "execution_count": 83,
      "outputs": []
    },
    {
      "cell_type": "code",
      "source": [
        "ploot = plt.scatter(uvalues[:,0], uvalues[:,1])\n"
      ],
      "metadata": {
        "colab": {
          "base_uri": "https://localhost:8080/",
          "height": 265
        },
        "id": "WAdp8oRica4W",
        "outputId": "efc0289d-b116-4800-a772-62ef5a938824"
      },
      "execution_count": 84,
      "outputs": [
        {
          "output_type": "display_data",
          "data": {
            "text/plain": [
              "<Figure size 432x288 with 1 Axes>"
            ],
            "image/png": "[encoded data removed]"
          },
          "metadata": {
            "needs_background": "light"
          }
        }
      ]
    },
    {
      "cell_type": "code",
      "source": [
        "import plotly.express as px\n",
        "fig20 = px.scatter(x=uvalues[:,0],y=uvalues[:,1],color=y['target'],labels={\"x\":\"Umap 1\",\"y\":\"Umap 2\"},title=\"Umap plot\",color_continuous_scale=px.colors.sequential.RdBu)\n",
        "\n",
        "\n",
        "fig20.show()"
      ],
      "metadata": {
        "colab": {
          "base_uri": "https://localhost:8080/",
          "height": 542
        },
        "id": "oy46r3IecwGL",
        "outputId": "5dbd04b9-1dc2-41d3-ba52-1fe6e39b108d"
      },
      "execution_count": 85,
      "outputs": [
        {
          "output_type": "display_data",
          "data": {
            "text/html": [
              "<html>\n",
              "<head><meta charset=\"utf-8\" /></head>\n",
              "<body>\n",
              "    <div>            <script src=\"https://cdnjs.cloudflare.com/ajax/libs/mathjax/2.7.5/MathJax.js?config=TeX-AMS-MML_SVG\"></script><script type=\"text/javascript\">if (window.MathJax) {MathJax.Hub.Config({SVG: {font: \"STIX-Web\"}});}</script>                <script type=\"text/javascript\">window.PlotlyConfig = {MathJaxConfig: 'local'};</script>\n",
              "        <script src=\"https://cdn.plot.ly/plotly-2.8.3.min.js\"></script>                <div id=\"5b167b1c-9715-4e68-aa1b-2710a870f13b\" class=\"plotly-graph-div\" style=\"height:525px; width:100%;\"></div>            <script type=\"text/javascript\">                                    window.PLOTLYENV=window.PLOTLYENV || {};                                    if (document.getElementById(\"5b167b1c-9715-4e68-aa1b-2710a870f13b\")) {                    Plotly.newPlot(                        \"5b167b1c-9715-4e68-aa1b-2710a870f13b\",                        [{\"hovertemplate\":\"Umap 1=%{x}<br>Umap 2=%{y}<br>color=%{marker.color}<extra></extra>\",\"legendgroup\":\"\",\"marker\":{\"color\":[1,1,1,1,1,1,1,1,0,1,0,0,1,1,1,1,1,0,1,1,0,1,1,1,1,1,1,1,0,0,0,1,0,0,1,1,1,1,1,0,1,1,0,1,1,0,1,1,0,1,1,0,1,1,0,1,1,0,0,1,0,1,1,1,1,0,1,1,1,1,1,1,1,1,1,1,1,1,1,1,1,1,1,0,0,1,0,1,0,1,1,1,0,1,1,1,1,1,1,1,0,0,1,1,0,1,0,0,1,1,1,0,1,1,1,1,1,1,1,1,1,1,1,1,1,1,1,1,1,1,1,1,1,1,1,0,1,1,1,1,1,1,1,1,1,1,1,1,1,1,1,1,1,1,1,1,1,1,1,1,0,1,1,1,1,1,1,1,1,1,1,1,1,1,1,1,1,1,1,1,1,1,1,1,1,1,1,1,1,1,1,1,1,1,1,1,1,1,1,1,0,1,1,1,1,1,1,1,1,1,1,1,1,1,0,0,1,1,1,0,1,1,1,1,0,0,0,0,1,1,1,1,1,1,1,0,1,1,1,1,1,1,0,1,1,0,0,1,1,1,0,0,0,0,1,1,1,1,1,1,1,1,1,1,1,1,1,1,0,1,1,0,1,0,1,1,1,1,1,0,1,0,1,0,1,1,0,1,0,0,1,0,1,1,1,0,0,1,1,1,1,1,1,1,1,1,1,1,1,1,1,1,1,0,1,0,1,1,1,0,1,0,1,1,0,1,1,1,1,1,1,1,1,1,1,1,1,1,1,0,0,1,1,1,1,1,1,1,1,1,1,1,1,1,1,1,1,1,1,1,0,0,0,1,0,1,1,1,0,0,1,1,1,1,1,1,0,1,1,0,1,1,1,1,1,1,1,1,1,1,1,1,0,1,1,0,1,0,1,1,1,1,1,1,1,1,1,1,1,1,1,0,1,0,1,1,1,0,1,0,1,1,0,1,1,1,1,1,1,1,1,1,1,1,1,1,1,1,1,1,1,0,0,1,1,1,1,1,1,1,1,1,1,0,1,1,1,1,1,1,1,1,1,1,1,1,1,1,1,1,1,1,1,1,0,1,1,1,1,1,1,1,1,1,1,1,1,1,1,1,1,1,1,1,1,0,1,1,0,1,1,1,1,1,1,1,1,1,1,1,1,0,1,0,0,1,1,1,1,0,1,1,1,1,1,1,0,0,1,1,1,1,0,1,1,0,1,0,1,1,1,1,1,1,1,1,1,1,1,1,1,1,0,0],\"coloraxis\":\"coloraxis\",\"symbol\":\"circle\"},\"mode\":\"markers\",\"name\":\"\",\"orientation\":\"v\",\"showlegend\":false,\"x\":[2.105325698852539,3.7661850452423096,2.072761058807373,1.978450059890747,4.9574480056762695,3.6817049980163574,2.172926664352417,1.992124080657959,19.910242080688477,5.437288761138916,19.653650283813477,19.851903915405273,6.209691047668457,6.084798812866211,6.069591522216797,6.158848285675049,6.137418746948242,19.80169677734375,6.100804328918457,3.342891216278076,19.82924461364746,3.6576344966888428,3.494675636291504,3.498600721359253,3.5973052978515625,3.519869804382324,3.725939989089966,3.3963186740875244,19.85103988647461,19.850980758666992,19.89884376525879,1.9529980421066284,19.87256622314453,20.057580947875977,3.515235185623169,2.0557403564453125,3.534989595413208,1.9476234912872314,1.9049946069717407,19.79593849182129,3.6062347888946533,3.6841793060302734,20.015625,2.170722246170044,3.3787877559661865,19.903907775878906,2.3482017517089844,2.140209674835205,19.79024314880371,2.2364914417266846,2.1321969032287598,19.705913543701172,1.9137520790100098,1.8515429496765137,19.744365692138672,3.3185665607452393,6.298083782196045,19.74502182006836,19.84646987915039,3.6810412406921387,19.842872619628906,3.5878591537475586,3.597294807434082,3.5721774101257324,3.6197102069854736,19.85390281677246,3.5413918495178223,3.6469380855560303,3.319711923599243,5.86285924911499,3.711705207824707,3.6884348392486572,2.306992769241333,2.11142635345459,3.598825693130493,5.035696983337402,5.8067474365234375,3.1975257396698,5.969501972198486,3.565133810043335,2.1162514686584473,2.1857268810272217,3.657994031906128,19.96653938293457,19.89313316345215,2.378572702407837,19.501728057861328,19.810314178466797,19.724817276000977,1.9411228895187378,4.706217288970947,4.842371940612793,19.782270431518555,5.880911827087402,2.16892147064209,1.7699185609817505,2.0512847900390625,2.2118594646453857,2.0236003398895264,4.584269046783447,19.727344512939453,19.89472007751465,5.158491134643555,4.991258144378662,19.910017013549805,5.967285633087158,19.75748634338379,19.521697998046875,4.428886413574219,4.893986701965332,2.1275696754455566,19.818220138549805,6.304994106292725,6.196818828582764,6.760420799255371,2.0918850898742676,4.492544651031494,1.5440832376480103,4.415712356567383,6.102613925933838,6.053895950317383,3.635786533355713,3.9223499298095703,3.972226858139038,3.596536159515381,4.444118499755859,6.268299102783203,6.096503257751465,3.8217718601226807,3.784482955932617,4.401158332824707,6.941869258880615,4.008188247680664,3.7145497798919678,3.620171308517456,19.77943229675293,3.9431018829345703,3.8932554721832275,6.139606952667236,6.113604545593262,6.841196537017822,1.420974612236023,4.018362998962402,4.421604633331299,5.551980018615723,3.922942876815796,6.703639030456543,4.004152297973633,4.856285095214844,6.150185585021973,6.160985469818115,4.829796314239502,3.661587715148926,6.756014823913574,6.813027381896973,3.8701682090759277,3.9114742279052734,3.651563882827759,3.816754102706909,2.705143928527832,19.681869506835938,4.81655740737915,4.582099437713623,3.791553497314453,4.86930513381958,6.19748067855835,4.691947937011719,4.720187664031982,4.072964668273926,6.216444492340088,4.439702987670898,6.756570816040039,3.649895429611206,2.3888001441955566,6.119081974029541,6.111932754516602,4.692715167999268,4.758616924285889,2.2073862552642822,4.55518913269043,4.9169206619262695,5.767126560211182,4.021457672119141,4.450496673583984,1.9731513261795044,1.698272705078125,4.02977991104126,4.96636438369751,2.515192747116089,3.8954977989196777,4.629357814788818,4.962541103363037,5.7882843017578125,2.0542166233062744,4.841732978820801,1.7412654161453247,6.821040630340576,3.9368224143981934,6.058480739593506,4.5429582595825195,19.720582962036133,6.245908737182617,2.938922882080078,4.9287028312683105,1.7846603393554688,4.956835746765137,6.450643539428711,5.311806678771973,6.234997749328613,3.1475956439971924,2.12231183052063,6.291291236877441,2.0465548038482666,1.9997185468673706,19.786392211914062,19.69898796081543,6.15098762512207,6.195123672485352,2.839477777481079,19.579320907592773,1.8526533842086792,5.201578140258789,3.225318193435669,3.0745937824249268,19.49458885192871,19.278873443603516,19.57520866394043,19.663312911987305,1.7029860019683838,2.7882559299468994,6.262569427490234,1.4519630670547485,1.5401484966278076,1.4436460733413696,2.8044936656951904,6.285820960998535,1.3981280326843262,2.8828954696655273,6.929885387420654,2.6439061164855957,6.777301788330078,1.9593417644500732,19.431623458862305,2.396855592727661,1.6126089096069336,19.005996704101562,19.633516311645508,6.757347106933594,1.8009222745895386,5.040306568145752,19.80580711364746,19.533903121948242,19.712635040283203,19.04999351501465,1.820662498474121,1.7696393728256226,5.017911911010742,4.931098937988281,2.6896274089813232,2.892240047454834,2.487698793411255,4.994485855102539,4.949930191040039,2.5833418369293213,6.18064546585083,1.6641700267791748,2.889702796936035,1.5140894651412964,6.24069356918335,2.9036619663238525,1.937591314315796,19.72247886657715,1.4999829530715942,19.040803909301758,7.186959743499756,6.900228500366211,2.834467887878418,1.7229422330856323,1.6655484437942505,19.759891510009766,4.777135372161865,19.64284896850586,1.511969804763794,19.772138595581055,1.2553313970565796,2.3173341751098633,19.584857940673828,2.597705841064453,19.716901779174805,19.78766441345215,2.69085431098938,6.242985725402832,3.0626730918884277,1.3444812297821045,2.9553916454315186,19.661848068237305,19.02701759338379,5.080526351928711,6.078494071960449,6.36311674118042,2.308138132095337,1.4349267482757568,2.091271162033081,6.513379096984863,6.835323333740234,6.387924671173096,2.797654151916504,6.072154521942139,1.8907705545425415,2.354536771774292,6.69823694229126,6.276890754699707,6.166461944580078,5.522782325744629,2.268075942993164,19.09532356262207,6.119069576263428,6.338052749633789,6.490872859954834,19.09010124206543,2.0433521270751953,19.511014938354492,1.5071088075637817,1.3739720582962036,19.613576889038086,6.56651496887207,1.7072993516921997,2.14042067527771,2.308241605758667,1.8172425031661987,7.105750560760498,6.921050548553467,6.903050899505615,1.4209845066070557,2.345993757247925,6.8999857902526855,6.885778427124023,6.898789882659912,2.9824962615966797,19.83345603942871,6.231733798980713,1.5065325498580933,7.043571949005127,7.138184070587158,7.028201103210449,7.159552574157715,6.947664260864258,6.904798984527588,1.6500481367111206,1.2844256162643433,6.984809875488281,6.939846515655518,6.835146903991699,6.905641078948975,6.8680195808410645,1.7356443405151367,1.307679295539856,6.0722808837890625,6.8942437171936035,6.89965295791626,6.243719577789307,-10.676789283752441,-10.74000358581543,-10.723012924194336,-10.71990966796875,6.863033771514893,2.910172939300537,2.5448873043060303,19.07223892211914,19.457862854003906,7.1959004402160645,2.7775654792785645,1.6792546510696411,7.320451259613037,1.5446195602416992,1.5922006368637085,18.997455596923828,7.240494728088379,1.3927651643753052,19.877519607543945,6.832457065582275,6.788900375366211,6.9733567237854,4.784334182739258,2.0966453552246094,6.922581672668457,1.7624285221099854,2.359774589538574,1.5601862668991089,5.3606672286987305,2.523797035217285,4.3116278648376465,-10.712964057922363,-10.709444046020508,6.088594436645508,19.03529167175293,6.780649662017822,19.487974166870117,6.359114170074463,6.513084888458252,6.484422206878662,6.449828147888184,6.540060520172119,1.1905345916748047,6.36794900894165,-10.717211723327637,-10.71682357788086,-10.714550018310547,6.570684432983398,6.158748149871826,6.238954544067383,6.608368396759033,6.46864128112793,19.47672462463379,6.828707218170166,6.500324726104736,6.2250189781188965,19.030115127563477,2.56131911277771,19.61361312866211,4.77863883972168,5.068001747131348,19.427026748657227,6.534274101257324,1.6360210180282593,6.1942667961120605,2.037883996963501,1.5629568099975586,6.114265441894531,6.312508583068848,6.294435501098633,4.74387788772583,6.931434154510498,6.391119003295898,2.766948699951172,6.381106376647949,6.37469482421875,6.537964344024658,6.527958393096924,6.502456188201904,6.457884788513184,19.554738998413086,19.74443244934082,6.888617992401123,6.97876501083374,1.2790602445602417,6.937193870544434,1.3361320495605469,6.8671956062316895,1.3607242107391357,6.8824286460876465,1.6048579216003418,6.876359462738037,19.87204360961914,7.044536113739014,1.963707685470581,4.616320610046387,1.292473554611206,2.00640869140625,1.338134765625,6.994091987609863,4.859110355377197,1.7524192333221436,6.323101997375488,1.444027304649353,1.4978410005569458,6.920515537261963,1.5337660312652588,6.905140399932861,6.897068023681641,2.475630521774292,6.946186065673828,6.949816703796387,1.4316740036010742,19.671859741210938,5.065872669219971,3.949913740158081,1.3866435289382935,1.3455315828323364,1.6123191118240356,1.4296858310699463,0.897013247013092,1.489303469657898,1.0168113708496094,0.9418907761573792,0.9299616813659668,1.5549335479736328,1.3911664485931396,1.4414900541305542,1.4580641984939575,1.5794636011123657,0.9230553507804871,1.5089058876037598,1.5154536962509155,0.9401537179946899,20.06739044189453,1.8530014753341675,1.4835996627807617,20.040142059326172,1.9996088743209839,1.2919771671295166,1.2970359325408936,0.9945259094238281,1.773087978363037,0.9635273814201355,0.995061993598938,1.3274507522583008,3.968036651611328,1.379175066947937,1.829270362854004,0.9084514379501343,19.73451805114746,1.6008046865463257,19.780473709106445,19.707765579223633,1.5344163179397583,3.751803159713745,4.994228839874268,1.3094547986984253,19.794918060302734,1.2591478824615479,4.964483261108398,5.460501194000244,1.7820022106170654,0.8973637819290161,1.4627220630645752,19.785930633544922,19.805822372436523,1.894985318183899,1.2974364757537842,1.330328345298767,1.0044336318969727,19.717844009399414,2.0292999744415283,1.7343720197677612,19.970478057861328,0.9038998484611511,19.731103897094727,1.7137439250946045,1.7190476655960083,3.6142923831939697,6.625972270965576,1.81047523021698,6.003865718841553,6.075520038604736,1.6900339126586914,1.2808506488800049,1.892287015914917,4.945435523986816,6.026263236999512,4.90382194519043,4.897588729858398,19.98751449584961,6.859785556793213],\"xaxis\":\"x\",\"y\":[9.33548641204834,6.962612152099609,10.850478172302246,11.97594165802002,2.5099050998687744,7.161602020263672,11.107222557067871,10.666014671325684,12.445820808410645,1.707426905632019,12.354805946350098,12.267875671386719,-0.008088569156825542,0.2765273451805115,-0.09632603079080582,0.1366930902004242,0.11860045790672302,12.172871589660645,0.028414286673069,6.791386127471924,12.566627502441406,7.06914758682251,6.518479347229004,7.448903560638428,7.137142181396484,6.525899410247803,7.1865715980529785,7.636262893676758,12.298091888427734,12.357782363891602,12.622062683105469,10.6852388381958,12.415019035339355,12.406526565551758,6.497610569000244,10.70541763305664,6.56418514251709,10.18309497833252,10.390909194946289,12.298666000366211,6.239721298217773,6.852668762207031,12.34486198425293,8.927348136901855,7.557002067565918,12.356888771057129,8.744671821594238,11.720480918884277,12.939553260803223,8.912178993225098,11.707306861877441,12.385599136352539,10.215432167053223,10.227751731872559,12.277165412902832,7.613620281219482,-0.04483310505747795,13.397716522216797,12.756329536437988,7.12215518951416,12.389496803283691,6.98716926574707,7.270450592041016,7.267142295837402,6.994150638580322,12.395796775817871,6.51600980758667,7.11395788192749,6.858797550201416,-0.05132348835468292,6.9885430335998535,7.117085933685303,8.52270793914795,8.762892723083496,7.100496768951416,2.5873043537139893,0.7220701575279236,7.778148174285889,0.21831531822681427,7.133092403411865,8.752362251281738,10.804465293884277,7.158477783203125,12.351692199707031,12.79060173034668,8.867968559265137,12.448013305664062,12.380671501159668,12.952964782714844,10.41581916809082,3.3883161544799805,3.3884944915771484,12.883068084716797,-0.023399056866765022,10.505475997924805,11.24564266204834,11.581137657165527,10.633028030395508,11.986217498779297,3.68576979637146,13.443024635314941,12.919228553771973,2.731715202331543,2.9393255710601807,12.812560081481934,-0.15073895454406738,12.377561569213867,12.570865631103516,4.221991539001465,2.864518404006958,11.836665153503418,12.36541748046875,0.19260527193546295,0.04829177260398865,-0.2763817012310028,11.92936897277832,3.8093018531799316,11.166132926940918,4.126064777374268,0.016885828226804733,-0.1437770426273346,4.790103435516357,4.995776653289795,5.067844867706299,4.763214588165283,4.0463457107543945,-0.19348326325416565,0.1587476134300232,4.893925666809082,4.9538679122924805,3.7212464809417725,-0.1231970340013504,5.038308620452881,4.81201696395874,4.818745136260986,13.389181137084961,4.95573616027832,4.941534519195557,-0.12572984397411346,0.18725569546222687,-0.20272737741470337,8.816875457763672,4.906322479248047,3.77044939994812,1.390851378440857,5.014914035797119,-0.00372335291467607,4.910092830657959,3.3061976432800293,-0.08601890504360199,0.14052321016788483,2.7996771335601807,4.814509391784668,-0.04311955347657204,-0.09840943664312363,5.043732166290283,4.971039295196533,4.8189826011657715,5.1441779136657715,8.23872184753418,12.423849105834961,3.1156704425811768,3.5965213775634766,5.111934661865234,2.8183469772338867,-0.012380334548652172,3.0574791431427,3.300142765045166,5.368226051330566,0.20238496363162994,4.311125755310059,-0.08035165071487427,4.806171894073486,8.68578815460205,0.14346572756767273,-0.1854153573513031,3.026434898376465,3.056567907333374,10.749890327453613,3.3403916358947754,2.77309250831604,0.8668936491012573,4.844847679138184,4.1471266746521,11.925861358642578,11.755574226379395,5.650835990905762,2.6528375148773193,8.55965805053711,4.8221564292907715,3.4406299591064453,2.8280134201049805,0.9008910059928894,8.756705284118652,3.2318310737609863,9.2461519241333,-0.16015343368053436,5.009859085083008,0.2747948467731476,3.8853816986083984,12.391111373901367,0.058575041592121124,7.272829532623291,2.9195716381073,11.830578804016113,2.438908576965332,-1.241686463356018,2.0108070373535156,0.029153745621442795,7.355872631072998,11.760151863098145,0.15318694710731506,11.94206428527832,11.922344207763672,12.855710983276367,12.811086654663086,0.08716536313295364,0.06996791064739227,7.149063587188721,12.452591896057129,11.223674774169922,2.279055595397949,6.422532081604004,6.992278099060059,12.867480278015137,12.849559783935547,12.943657875061035,13.003395080566406,11.83887767791748,7.237978458404541,0.13617846369743347,11.570475578308105,11.099689483642578,9.789302825927734,8.038341522216797,-1.0679137706756592,11.624780654907227,7.769071578979492,-3.078796148300171,7.453774929046631,-0.10436993092298508,10.78153133392334,12.479072570800781,8.113115310668945,11.21100902557373,12.866772651672363,13.247244834899902,-0.17926573753356934,9.469395637512207,2.6869962215423584,13.422993659973145,12.58633804321289,12.846903800964355,12.832942962646484,10.874126434326172,10.262344360351562,2.82260799407959,3.238804578781128,7.341175079345703,7.78663969039917,8.43212604522705,2.7835707664489746,3.0090832710266113,7.511604309082031,0.03263843059539795,11.724294662475586,7.867791175842285,11.549180030822754,-0.731903612613678,7.828500747680664,11.88840103149414,12.471244812011719,11.640389442443848,12.800335884094238,-2.7100813388824463,-2.2750110626220703,7.108773708343506,11.3334379196167,11.7455472946167,13.436923027038574,3.541578769683838,13.018553733825684,11.29307746887207,12.976419448852539,11.232280731201172,8.129724502563477,12.489114761352539,7.50396728515625,12.32590389251709,12.799753189086914,7.313726902008057,0.09957172721624374,6.969049453735352,11.485003471374512,7.12675142288208,12.696084022521973,12.827287673950195,2.3841755390167236,-2.4845428466796875,-2.789177417755127,8.126065254211426,9.262868881225586,11.815332412719727,-1.9619464874267578,-0.10620719939470291,-2.033843994140625,7.196232795715332,-2.504599094390869,10.386889457702637,8.130685806274414,-2.134857177734375,-2.0075438022613525,-2.52660870552063,1.4632203578948975,8.1502103805542,12.781569480895996,-2.4807238578796387,-2.865788459777832,-2.2979896068573,12.763908386230469,11.91630744934082,12.898019790649414,9.581396102905273,11.564314842224121,12.924025535583496,-2.375962018966675,11.746482849121094,11.468745231628418,7.961270809173584,10.072027206420898,-2.9526937007904053,-2.3432981967926025,-3.297222137451172,11.64399242401123,8.239761352539062,-3.1369309425354004,-3.091771364212036,-2.593400001525879,6.9869232177734375,12.893537521362305,-0.7828958630561829,9.966931343078613,-2.7860107421875,-2.663163900375366,-2.267256736755371,-2.663888931274414,-3.1951792240142822,-2.750121593475342,11.273366928100586,11.383225440979004,-3.3254964351654053,-0.23329463601112366,-0.07641331106424332,-3.259249687194824,-2.3975889682769775,11.327323913574219,11.113140106201172,-0.40577924251556396,-2.3981258869171143,-2.5408518314361572,-0.9136113524436951,5.053483486175537,4.990288734436035,5.007283687591553,5.01038122177124,-3.039233446121216,7.456315994262695,7.582723617553711,12.876115798950195,12.77063274383545,-2.893467903137207,8.028687477111816,11.724420547485352,-2.716583013534546,11.262632369995117,11.140887260437012,12.817227363586426,-2.780590534210205,10.342023849487305,13.026864051818848,-2.4369778633117676,-2.3450467586517334,-3.2241663932800293,3.6256821155548096,11.331475257873535,-3.2254538536071777,10.900506019592285,8.017156600952148,9.401925086975098,1.8194090127944946,7.452461242675781,4.024991989135742,5.0172810554504395,5.020837783813477,-2.450563669204712,12.791788101196289,-0.21027718484401703,12.9625883102417,-2.1461071968078613,-2.5060224533081055,-2.3027451038360596,-2.1546361446380615,-2.3697519302368164,11.46451187133789,-2.8250315189361572,5.0130767822265625,5.0134477615356445,5.015685081481934,-2.6878631114959717,-2.4506185054779053,-2.5312163829803467,-2.210665464401245,-2.3593978881835938,12.832955360412598,-0.09811719506978989,-2.686312675476074,-2.4136974811553955,12.809076309204102,8.57787036895752,12.843844413757324,3.4072608947753906,2.805649995803833,12.862229347229004,-1.6516036987304688,11.246827125549316,-2.5913960933685303,11.941909790039062,10.885552406311035,-2.458130359649658,-2.353179454803467,-2.5897388458251953,2.926607370376587,-2.402631998062134,-2.8644299507141113,8.063947677612305,-2.3734896183013916,-2.8365566730499268,-2.3556182384490967,-2.7497150897979736,-2.462085247039795,-2.747530221939087,12.836716651916504,12.539824485778809,-3.2802391052246094,-3.2844741344451904,11.41166877746582,-2.6189017295837402,11.210758209228516,-2.5722968578338623,11.451225280761719,-2.5965356826782227,10.863256454467773,-0.18433180451393127,13.324543952941895,-3.0469470024108887,11.887030601501465,3.7785592079162598,8.688200950622559,7.7589216232299805,10.949666023254395,-2.624474048614502,3.195847511291504,10.894468307495117,-2.0592987537384033,11.190841674804688,11.021147727966309,-3.25675892829895,11.088767051696777,-2.403848648071289,-3.1434314250946045,7.646137714385986,-3.22996187210083,-2.641019344329834,9.28208065032959,12.7752103805542,2.9402356147766113,4.554316997528076,8.470924377441406,8.642674446105957,8.92648696899414,8.48078441619873,8.308158874511719,8.836100578308105,8.111934661865234,8.25044059753418,8.273591995239258,8.596386909484863,8.407818794250488,8.744698524475098,8.785189628601074,8.813100814819336,8.231844902038574,8.811107635498047,8.71250057220459,8.317996978759766,13.10485553741455,8.0567045211792,8.802054405212402,12.867780685424805,7.821192741394043,8.274043083190918,8.30478286743164,8.20752239227295,9.359094619750977,8.226102828979492,8.22789192199707,8.6753511428833,4.570857524871826,8.72206974029541,8.052457809448242,8.29192066192627,12.707375526428223,9.349407196044922,13.373678207397461,13.479936599731445,9.240052223205566,4.865818023681641,2.908154249191284,8.57403564453125,13.431077003479004,8.312418937683105,2.384035110473633,1.5732061862945557,8.061664581298828,8.307849884033203,8.784197807312012,13.25214672088623,13.334980964660645,7.91786527633667,8.36673355102539,8.479280471801758,8.234891891479492,13.32922649383545,11.438224792480469,9.421812057495117,13.108694076538086,8.246453285217285,12.911957740783691,9.373235702514648,9.414658546447754,5.422233581542969,-0.8389843106269836,8.003132820129395,-0.35270893573760986,-0.2889544665813446,9.25611686706543,8.234442710876465,7.970832347869873,3.036844253540039,-0.27880963683128357,3.0382561683654785,3.0997633934020996,13.020121574401855,-0.13970863819122314],\"yaxis\":\"y\",\"type\":\"scatter\"}],                        {\"template\":{\"data\":{\"bar\":[{\"error_x\":{\"color\":\"#2a3f5f\"},\"error_y\":{\"color\":\"#2a3f5f\"},\"marker\":{\"line\":{\"color\":\"#E5ECF6\",\"width\":0.5},\"pattern\":{\"fillmode\":\"overlay\",\"size\":10,\"solidity\":0.2}},\"type\":\"bar\"}],\"barpolar\":[{\"marker\":{\"line\":{\"color\":\"#E5ECF6\",\"width\":0.5},\"pattern\":{\"fillmode\":\"overlay\",\"size\":10,\"solidity\":0.2}},\"type\":\"barpolar\"}],\"carpet\":[{\"aaxis\":{\"endlinecolor\":\"#2a3f5f\",\"gridcolor\":\"white\",\"linecolor\":\"white\",\"minorgridcolor\":\"white\",\"startlinecolor\":\"#2a3f5f\"},\"baxis\":{\"endlinecolor\":\"#2a3f5f\",\"gridcolor\":\"white\",\"linecolor\":\"white\",\"minorgridcolor\":\"white\",\"startlinecolor\":\"#2a3f5f\"},\"type\":\"carpet\"}],\"choropleth\":[{\"colorbar\":{\"outlinewidth\":0,\"ticks\":\"\"},\"type\":\"choropleth\"}],\"contour\":[{\"colorbar\":{\"outlinewidth\":0,\"ticks\":\"\"},\"colorscale\":[[0.0,\"#0d0887\"],[0.1111111111111111,\"#46039f\"],[0.2222222222222222,\"#7201a8\"],[0.3333333333333333,\"#9c179e\"],[0.4444444444444444,\"#bd3786\"],[0.5555555555555556,\"#d8576b\"],[0.6666666666666666,\"#ed7953\"],[0.7777777777777778,\"#fb9f3a\"],[0.8888888888888888,\"#fdca26\"],[1.0,\"#f0f921\"]],\"type\":\"contour\"}],\"contourcarpet\":[{\"colorbar\":{\"outlinewidth\":0,\"ticks\":\"\"},\"type\":\"contourcarpet\"}],\"heatmap\":[{\"colorbar\":{\"outlinewidth\":0,\"ticks\":\"\"},\"colorscale\":[[0.0,\"#0d0887\"],[0.1111111111111111,\"#46039f\"],[0.2222222222222222,\"#7201a8\"],[0.3333333333333333,\"#9c179e\"],[0.4444444444444444,\"#bd3786\"],[0.5555555555555556,\"#d8576b\"],[0.6666666666666666,\"#ed7953\"],[0.7777777777777778,\"#fb9f3a\"],[0.8888888888888888,\"#fdca26\"],[1.0,\"#f0f921\"]],\"type\":\"heatmap\"}],\"heatmapgl\":[{\"colorbar\":{\"outlinewidth\":0,\"ticks\":\"\"},\"colorscale\":[[0.0,\"#0d0887\"],[0.1111111111111111,\"#46039f\"],[0.2222222222222222,\"#7201a8\"],[0.3333333333333333,\"#9c179e\"],[0.4444444444444444,\"#bd3786\"],[0.5555555555555556,\"#d8576b\"],[0.6666666666666666,\"#ed7953\"],[0.7777777777777778,\"#fb9f3a\"],[0.8888888888888888,\"#fdca26\"],[1.0,\"#f0f921\"]],\"type\":\"heatmapgl\"}],\"histogram\":[{\"marker\":{\"pattern\":{\"fillmode\":\"overlay\",\"size\":10,\"solidity\":0.2}},\"type\":\"histogram\"}],\"histogram2d\":[{\"colorbar\":{\"outlinewidth\":0,\"ticks\":\"\"},\"colorscale\":[[0.0,\"#0d0887\"],[0.1111111111111111,\"#46039f\"],[0.2222222222222222,\"#7201a8\"],[0.3333333333333333,\"#9c179e\"],[0.4444444444444444,\"#bd3786\"],[0.5555555555555556,\"#d8576b\"],[0.6666666666666666,\"#ed7953\"],[0.7777777777777778,\"#fb9f3a\"],[0.8888888888888888,\"#fdca26\"],[1.0,\"#f0f921\"]],\"type\":\"histogram2d\"}],\"histogram2dcontour\":[{\"colorbar\":{\"outlinewidth\":0,\"ticks\":\"\"},\"colorscale\":[[0.0,\"#0d0887\"],[0.1111111111111111,\"#46039f\"],[0.2222222222222222,\"#7201a8\"],[0.3333333333333333,\"#9c179e\"],[0.4444444444444444,\"#bd3786\"],[0.5555555555555556,\"#d8576b\"],[0.6666666666666666,\"#ed7953\"],[0.7777777777777778,\"#fb9f3a\"],[0.8888888888888888,\"#fdca26\"],[1.0,\"#f0f921\"]],\"type\":\"histogram2dcontour\"}],\"mesh3d\":[{\"colorbar\":{\"outlinewidth\":0,\"ticks\":\"\"},\"type\":\"mesh3d\"}],\"parcoords\":[{\"line\":{\"colorbar\":{\"outlinewidth\":0,\"ticks\":\"\"}},\"type\":\"parcoords\"}],\"pie\":[{\"automargin\":true,\"type\":\"pie\"}],\"scatter\":[{\"marker\":{\"colorbar\":{\"outlinewidth\":0,\"ticks\":\"\"}},\"type\":\"scatter\"}],\"scatter3d\":[{\"line\":{\"colorbar\":{\"outlinewidth\":0,\"ticks\":\"\"}},\"marker\":{\"colorbar\":{\"outlinewidth\":0,\"ticks\":\"\"}},\"type\":\"scatter3d\"}],\"scattercarpet\":[{\"marker\":{\"colorbar\":{\"outlinewidth\":0,\"ticks\":\"\"}},\"type\":\"scattercarpet\"}],\"scattergeo\":[{\"marker\":{\"colorbar\":{\"outlinewidth\":0,\"ticks\":\"\"}},\"type\":\"scattergeo\"}],\"scattergl\":[{\"marker\":{\"colorbar\":{\"outlinewidth\":0,\"ticks\":\"\"}},\"type\":\"scattergl\"}],\"scattermapbox\":[{\"marker\":{\"colorbar\":{\"outlinewidth\":0,\"ticks\":\"\"}},\"type\":\"scattermapbox\"}],\"scatterpolar\":[{\"marker\":{\"colorbar\":{\"outlinewidth\":0,\"ticks\":\"\"}},\"type\":\"scatterpolar\"}],\"scatterpolargl\":[{\"marker\":{\"colorbar\":{\"outlinewidth\":0,\"ticks\":\"\"}},\"type\":\"scatterpolargl\"}],\"scatterternary\":[{\"marker\":{\"colorbar\":{\"outlinewidth\":0,\"ticks\":\"\"}},\"type\":\"scatterternary\"}],\"surface\":[{\"colorbar\":{\"outlinewidth\":0,\"ticks\":\"\"},\"colorscale\":[[0.0,\"#0d0887\"],[0.1111111111111111,\"#46039f\"],[0.2222222222222222,\"#7201a8\"],[0.3333333333333333,\"#9c179e\"],[0.4444444444444444,\"#bd3786\"],[0.5555555555555556,\"#d8576b\"],[0.6666666666666666,\"#ed7953\"],[0.7777777777777778,\"#fb9f3a\"],[0.8888888888888888,\"#fdca26\"],[1.0,\"#f0f921\"]],\"type\":\"surface\"}],\"table\":[{\"cells\":{\"fill\":{\"color\":\"#EBF0F8\"},\"line\":{\"color\":\"white\"}},\"header\":{\"fill\":{\"color\":\"#C8D4E3\"},\"line\":{\"color\":\"white\"}},\"type\":\"table\"}]},\"layout\":{\"annotationdefaults\":{\"arrowcolor\":\"#2a3f5f\",\"arrowhead\":0,\"arrowwidth\":1},\"autotypenumbers\":\"strict\",\"coloraxis\":{\"colorbar\":{\"outlinewidth\":0,\"ticks\":\"\"}},\"colorscale\":{\"diverging\":[[0,\"#8e0152\"],[0.1,\"#c51b7d\"],[0.2,\"#de77ae\"],[0.3,\"#f1b6da\"],[0.4,\"#fde0ef\"],[0.5,\"#f7f7f7\"],[0.6,\"#e6f5d0\"],[0.7,\"#b8e186\"],[0.8,\"#7fbc41\"],[0.9,\"#4d9221\"],[1,\"#276419\"]],\"sequential\":[[0.0,\"#0d0887\"],[0.1111111111111111,\"#46039f\"],[0.2222222222222222,\"#7201a8\"],[0.3333333333333333,\"#9c179e\"],[0.4444444444444444,\"#bd3786\"],[0.5555555555555556,\"#d8576b\"],[0.6666666666666666,\"#ed7953\"],[0.7777777777777778,\"#fb9f3a\"],[0.8888888888888888,\"#fdca26\"],[1.0,\"#f0f921\"]],\"sequentialminus\":[[0.0,\"#0d0887\"],[0.1111111111111111,\"#46039f\"],[0.2222222222222222,\"#7201a8\"],[0.3333333333333333,\"#9c179e\"],[0.4444444444444444,\"#bd3786\"],[0.5555555555555556,\"#d8576b\"],[0.6666666666666666,\"#ed7953\"],[0.7777777777777778,\"#fb9f3a\"],[0.8888888888888888,\"#fdca26\"],[1.0,\"#f0f921\"]]},\"colorway\":[\"#636efa\",\"#EF553B\",\"#00cc96\",\"#ab63fa\",\"#FFA15A\",\"#19d3f3\",\"#FF6692\",\"#B6E880\",\"#FF97FF\",\"#FECB52\"],\"font\":{\"color\":\"#2a3f5f\"},\"geo\":{\"bgcolor\":\"white\",\"lakecolor\":\"white\",\"landcolor\":\"#E5ECF6\",\"showlakes\":true,\"showland\":true,\"subunitcolor\":\"white\"},\"hoverlabel\":{\"align\":\"left\"},\"hovermode\":\"closest\",\"mapbox\":{\"style\":\"light\"},\"paper_bgcolor\":\"white\",\"plot_bgcolor\":\"#E5ECF6\",\"polar\":{\"angularaxis\":{\"gridcolor\":\"white\",\"linecolor\":\"white\",\"ticks\":\"\"},\"bgcolor\":\"#E5ECF6\",\"radialaxis\":{\"gridcolor\":\"white\",\"linecolor\":\"white\",\"ticks\":\"\"}},\"scene\":{\"xaxis\":{\"backgroundcolor\":\"#E5ECF6\",\"gridcolor\":\"white\",\"gridwidth\":2,\"linecolor\":\"white\",\"showbackground\":true,\"ticks\":\"\",\"zerolinecolor\":\"white\"},\"yaxis\":{\"backgroundcolor\":\"#E5ECF6\",\"gridcolor\":\"white\",\"gridwidth\":2,\"linecolor\":\"white\",\"showbackground\":true,\"ticks\":\"\",\"zerolinecolor\":\"white\"},\"zaxis\":{\"backgroundcolor\":\"#E5ECF6\",\"gridcolor\":\"white\",\"gridwidth\":2,\"linecolor\":\"white\",\"showbackground\":true,\"ticks\":\"\",\"zerolinecolor\":\"white\"}},\"shapedefaults\":{\"line\":{\"color\":\"#2a3f5f\"}},\"ternary\":{\"aaxis\":{\"gridcolor\":\"white\",\"linecolor\":\"white\",\"ticks\":\"\"},\"baxis\":{\"gridcolor\":\"white\",\"linecolor\":\"white\",\"ticks\":\"\"},\"bgcolor\":\"#E5ECF6\",\"caxis\":{\"gridcolor\":\"white\",\"linecolor\":\"white\",\"ticks\":\"\"}},\"title\":{\"x\":0.05},\"xaxis\":{\"automargin\":true,\"gridcolor\":\"white\",\"linecolor\":\"white\",\"ticks\":\"\",\"title\":{\"standoff\":15},\"zerolinecolor\":\"white\",\"zerolinewidth\":2},\"yaxis\":{\"automargin\":true,\"gridcolor\":\"white\",\"linecolor\":\"white\",\"ticks\":\"\",\"title\":{\"standoff\":15},\"zerolinecolor\":\"white\",\"zerolinewidth\":2}}},\"xaxis\":{\"anchor\":\"y\",\"domain\":[0.0,1.0],\"title\":{\"text\":\"Umap 1\"}},\"yaxis\":{\"anchor\":\"x\",\"domain\":[0.0,1.0],\"title\":{\"text\":\"Umap 2\"}},\"coloraxis\":{\"colorbar\":{\"title\":{\"text\":\"color\"}},\"colorscale\":[[0.0,\"rgb(103,0,31)\"],[0.1,\"rgb(178,24,43)\"],[0.2,\"rgb(214,96,77)\"],[0.3,\"rgb(244,165,130)\"],[0.4,\"rgb(253,219,199)\"],[0.5,\"rgb(247,247,247)\"],[0.6,\"rgb(209,229,240)\"],[0.7,\"rgb(146,197,222)\"],[0.8,\"rgb(67,147,195)\"],[0.9,\"rgb(33,102,172)\"],[1.0,\"rgb(5,48,97)\"]]},\"legend\":{\"tracegroupgap\":0},\"title\":{\"text\":\"Umap plot\"}},                        {\"responsive\": true}                    ).then(function(){\n",
              "                            \n",
              "var gd = document.getElementById('5b167b1c-9715-4e68-aa1b-2710a870f13b');\n",
              "var x = new MutationObserver(function (mutations, observer) {{\n",
              "        var display = window.getComputedStyle(gd).display;\n",
              "        if (!display || display === 'none') {{\n",
              "            console.log([gd, 'removed!']);\n",
              "            Plotly.purge(gd);\n",
              "            observer.disconnect();\n",
              "        }}\n",
              "}});\n",
              "\n",
              "// Listen for the removal of the full notebook cells\n",
              "var notebookContainer = gd.closest('#notebook-container');\n",
              "if (notebookContainer) {{\n",
              "    x.observe(notebookContainer, {childList: true});\n",
              "}}\n",
              "\n",
              "// Listen for the clearing of the current output cell\n",
              "var outputEl = gd.closest('.output');\n",
              "if (outputEl) {{\n",
              "    x.observe(outputEl, {childList: true});\n",
              "}}\n",
              "\n",
              "                        })                };                            </script>        </div>\n",
              "</body>\n",
              "</html>"
            ]
          },
          "metadata": {}
        }
      ]
    },
    {
      "cell_type": "markdown",
      "source": [
        "Standard Scaler"
      ],
      "metadata": {
        "id": "qoHntZYjGStd"
      }
    },
    {
      "cell_type": "code",
      "source": [
        "xt = X.to_numpy()\n",
        "\n",
        "# Scale data to have zero mean and unit variance\n",
        "scaler = StandardScaler()\n",
        "scaler.fit(xt)\n",
        "xt = scaler.transform(xt)"
      ],
      "metadata": {
        "id": "5Q5lgrPYc932"
      },
      "execution_count": 86,
      "outputs": []
    },
    {
      "cell_type": "markdown",
      "source": [
        "Deep learning"
      ],
      "metadata": {
        "id": "oJldAGxAGV7N"
      }
    },
    {
      "cell_type": "markdown",
      "source": [
        "Neural netowork autoencoder architecture"
      ],
      "metadata": {
        "id": "5OHsysvgjl0b"
      }
    },
    {
      "cell_type": "code",
      "source": [
        "input_dim = 3125\n",
        "\n",
        "# This is the dimension of the latent space (encoding space)\n",
        "latent_dim = 2\n",
        "\n",
        "encoder = Sequential([\n",
        "    Dense(512, activation='relu', input_shape=(input_dim,)),\n",
        "                Dense(128, activation='relu'),\n",
        "\n",
        "            Dense(45, activation='relu'),\n",
        "\n",
        "        Dense(30, activation='relu'),\n",
        "    Dense(16, activation='relu'),\n",
        "\n",
        "    Dense(8, activation='relu'),\n",
        "    Dense(4, activation='relu'),\n",
        "    Dense(latent_dim, activation='relu')\n",
        "])\n",
        "\n",
        "decoder = Sequential([\n",
        "    Dense(64, activation='relu', input_shape=(latent_dim,)),\n",
        "        Dense(32, activation='relu'),\n",
        "                Dense(16, activation='relu'),\n",
        "\n",
        "\n",
        "    Dense(8, activation='relu'),\n",
        "    Dense(4, activation='relu'),\n",
        "\n",
        "    Dense(input_dim, activation=None)\n",
        "])"
      ],
      "metadata": {
        "id": "cX-eckWSc98F"
      },
      "execution_count": 114,
      "outputs": []
    },
    {
      "cell_type": "code",
      "source": [
        "encoder.summary()"
      ],
      "metadata": {
        "colab": {
          "base_uri": "https://localhost:8080/"
        },
        "id": "AhZupDWnjyDj",
        "outputId": "629862c0-1b7c-45fa-8aca-8a0c0be29acb"
      },
      "execution_count": 115,
      "outputs": [
        {
          "output_type": "stream",
          "name": "stdout",
          "text": [
            "Model: \"sequential_4\"\n",
            "_________________________________________________________________\n",
            " Layer (type)                Output Shape              Param #   \n",
            "=================================================================\n",
            " dense_28 (Dense)            (None, 512)               1600512   \n",
            "                                                                 \n",
            " dense_29 (Dense)            (None, 128)               65664     \n",
            "                                                                 \n",
            " dense_30 (Dense)            (None, 45)                5805      \n",
            "                                                                 \n",
            " dense_31 (Dense)            (None, 30)                1380      \n",
            "                                                                 \n",
            " dense_32 (Dense)            (None, 16)                496       \n",
            "                                                                 \n",
            " dense_33 (Dense)            (None, 8)                 136       \n",
            "                                                                 \n",
            " dense_34 (Dense)            (None, 4)                 36        \n",
            "                                                                 \n",
            " dense_35 (Dense)            (None, 2)                 10        \n",
            "                                                                 \n",
            "=================================================================\n",
            "Total params: 1,674,039\n",
            "Trainable params: 1,674,039\n",
            "Non-trainable params: 0\n",
            "_________________________________________________________________\n"
          ]
        }
      ]
    },
    {
      "cell_type": "code",
      "source": [
        "decoder.summary()"
      ],
      "metadata": {
        "colab": {
          "base_uri": "https://localhost:8080/"
        },
        "id": "1evOddZqjZDS",
        "outputId": "883b660f-bb70-475d-d6a9-32fc0386f2f1"
      },
      "execution_count": 116,
      "outputs": [
        {
          "output_type": "stream",
          "name": "stdout",
          "text": [
            "Model: \"sequential_5\"\n",
            "_________________________________________________________________\n",
            " Layer (type)                Output Shape              Param #   \n",
            "=================================================================\n",
            " dense_36 (Dense)            (None, 64)                192       \n",
            "                                                                 \n",
            " dense_37 (Dense)            (None, 32)                2080      \n",
            "                                                                 \n",
            " dense_38 (Dense)            (None, 16)                528       \n",
            "                                                                 \n",
            " dense_39 (Dense)            (None, 8)                 136       \n",
            "                                                                 \n",
            " dense_40 (Dense)            (None, 4)                 36        \n",
            "                                                                 \n",
            " dense_41 (Dense)            (None, 3125)              15625     \n",
            "                                                                 \n",
            "=================================================================\n",
            "Total params: 18,597\n",
            "Trainable params: 18,597\n",
            "Non-trainable params: 0\n",
            "_________________________________________________________________\n"
          ]
        }
      ]
    },
    {
      "cell_type": "code",
      "source": [
        "autoencoder = Model(inputs=encoder.input, outputs=decoder(encoder.output))\n",
        "autoencoder.compile(loss='mse', optimizer='adam')"
      ],
      "metadata": {
        "id": "rap6DjkLc99_"
      },
      "execution_count": 117,
      "outputs": []
    },
    {
      "cell_type": "code",
      "source": [
        "encoded_x_train = encoder(X_train)"
      ],
      "metadata": {
        "id": "888jR__kfGjj"
      },
      "execution_count": 118,
      "outputs": []
    },
    {
      "cell_type": "code",
      "source": [
        "plt.figure(figsize=(6,6))\n",
        "plt.scatter(encoded_x_train[:, 0], encoded_x_train[:, 1], alpha=0.9)\n",
        "plt.xlabel('Latent Dimension 1')\n",
        "plt.ylabel('Latent Dimension 2');"
      ],
      "metadata": {
        "colab": {
          "base_uri": "https://localhost:8080/",
          "height": 388
        },
        "id": "cwzaCMkZfG-z",
        "outputId": "a84f7d93-e73a-4122-f2bd-b5ee867b4e33"
      },
      "execution_count": 119,
      "outputs": [
        {
          "output_type": "display_data",
          "data": {
            "text/plain": [
              "<Figure size 432x432 with 1 Axes>"
            ],
            "image/png": "[encoded data removed]"
          },
          "metadata": {
            "needs_background": "light"
          }
        }
      ]
    },
    {
      "cell_type": "code",
      "source": [
        "import plotly.express as px\n",
        "fig20 = px.scatter(x=encoded_x_train[:,0],y=encoded_x_train[:,1],color=y_train['target'],labels={\"x\":\"Autoencoder 1\",\"y\":\"Autoencoder 2\"},title=\"Deep learning plot\",color_continuous_scale=px.colors.sequential.Plasma)\n",
        "\n",
        "fig20.show()"
      ],
      "metadata": {
        "colab": {
          "base_uri": "https://localhost:8080/",
          "height": 542
        },
        "id": "ZlXiJXevfSHb",
        "outputId": "eb3a5b90-3c03-4dc0-c9ce-5c431321dbc5"
      },
      "execution_count": 120,
      "outputs": [
        {
          "output_type": "display_data",
          "data": {
            "text/html": [
              "<html>\n",
              "<head><meta charset=\"utf-8\" /></head>\n",
              "<body>\n",
              "    <div>            <script src=\"https://cdnjs.cloudflare.com/ajax/libs/mathjax/2.7.5/MathJax.js?config=TeX-AMS-MML_SVG\"></script><script type=\"text/javascript\">if (window.MathJax) {MathJax.Hub.Config({SVG: {font: \"STIX-Web\"}});}</script>                <script type=\"text/javascript\">window.PlotlyConfig = {MathJaxConfig: 'local'};</script>\n",
              "        <script src=\"https://cdn.plot.ly/plotly-2.8.3.min.js\"></script>                <div id=\"0526a614-7633-450d-98c7-7f2b9ff547b6\" class=\"plotly-graph-div\" style=\"height:525px; width:100%;\"></div>            <script type=\"text/javascript\">                                    window.PLOTLYENV=window.PLOTLYENV || {};                                    if (document.getElementById(\"0526a614-7633-450d-98c7-7f2b9ff547b6\")) {                    Plotly.newPlot(                        \"0526a614-7633-450d-98c7-7f2b9ff547b6\",                        [{\"hovertemplate\":\"Autoencoder 1=%{x}<br>Autoencoder 2=%{y}<br>color=%{marker.color}<extra></extra>\",\"legendgroup\":\"\",\"marker\":{\"color\":[1,1,1,0,0,1,0,1,0,1,1,0,0,0,0,1,0,1,0,0,0,1,1,0,0,0,0,0,1,0,0,1,1,0,1,1,0,0,1,0,1,0,0,0,1,0,0,1,0,1,0,1,0,0,0,1,1,0,1,1,0,0,0,0,0,0,0,1,1,1,1,1,0,1,0,1,0,1,0,1,0,1,0,0,0,1,1,0,1,0,0,0,0,1,0,0,1,0,0,1,0,0,1,0,1,0,1,0,0,1,1,1,0,1,0,0,0,0,1,1,1,1,0,0,0,0,0,1,1,0,1,0,0,0,1,0,0,0,0,1,1,1,0,0,1,0,1,1,1,0,0,0,1,1,1,1,0,0,0,0,1,0,1,1,1,0,1,0,0,0,1,1,1,1,1,0,1,0,1,1,1,1,1,1,1,0,0,1,0,0,1,1,0,1,1,0,0,1,1,0,1,0,0,1,1,1,0,0,0,0,1,1,1,1,0,0,0,0,1,0,1,0,1,1,1,0,0,0,0,0,0,0,1,1,0,1,1,0,1,1,0,1,1,1,1,1,0,1,0,0,1,0,0,0,0,0,0,1,0,0,0,1,0,1,1,0,0,1,0,1,0,0,1,0,0,0,1,1,1,1,1,0,0,1,0,0,1,0,1,0,0,0,1,1,0,0,1,1,1,1,1,0,1,1,1,1,0,1,1,1,1,1,0,0,0,0,0,1,1,1,1,0,0,0,0,0,1,1,0,1,0,0,0,0,1,0,0,0,0,1,1,0,0,0,1,0,0,1,1,1,0,0,0,0,0,0,0,1,1,1,0,1,0,1,0,0,0,1,0,0,0,0,1,1,0,1,1,1,0,1,1,1,0,0,0,0,1,1,0,1,0,1,0,0,0,1,0,0,0,0,0,0,0,0,0,1,1,1,1,1,0,0,0,1,0,1,1,0,0,0,1,0,1,1,1,0,0,0,0,1,0,0,1,1,1,1,1,1,1,1,1,1,0,1,1,1,1,0,1,0,1,0,0],\"coloraxis\":\"coloraxis\",\"symbol\":\"circle\"},\"mode\":\"markers\",\"name\":\"\",\"orientation\":\"v\",\"showlegend\":false,\"x\":[0.0,0.0,0.0,0.0,0.0,0.0,0.0,0.0,0.0,0.0,0.0,0.0,0.0,0.0,0.0,0.0,0.0,0.0,0.0,0.0,0.0,0.0,0.0,0.0,0.0,0.0,0.0,0.0,0.0,0.0,0.0,0.0,0.0,0.0,0.0,0.0,0.0,0.0,0.0,0.0,0.0,0.0,0.0,0.0,0.0,0.0,0.0,0.0,0.0,0.0,0.0,0.0,0.0,0.0,0.0,0.0,0.0,0.0,0.0,0.0,0.0,0.0,0.0,0.0,0.0,0.0,0.0,0.0,0.0,0.0,0.0,0.0,0.0,0.0,0.0,0.0,0.0,0.0,0.0,0.0,0.0,0.0,0.0,0.0,0.0,0.0,0.0,0.0,0.0,0.0,0.0,0.0,0.0,0.0,0.0,0.0,0.0,0.0,0.0,0.0,0.0,0.0,0.0,0.0,0.0,0.0,0.0,0.0,0.0,0.0,0.0,0.0,0.0,0.0,0.0,0.0,0.0,0.0,0.0,0.0,0.0,0.0,0.0,0.0,0.0,0.0,0.0,0.0,0.0,0.0,0.0,0.0,0.0,0.0,0.0,0.0,0.0,0.0,0.0,0.0,0.0,0.0,0.0,0.0,0.0,0.0,0.0,0.0,0.0,0.0,0.0,0.0,0.0,0.0,0.0,0.0,0.0,0.0,0.0,0.0,0.0,0.0,0.0,0.0,0.0,0.0,0.0,0.0,0.0,0.0,0.0,0.0,0.0,0.0,0.0,0.0,0.0,0.0,0.0,0.0,0.0,0.0,0.0,0.0,0.0,0.0,0.0,0.0,0.0,0.0,0.0,0.0,0.0,0.0,0.0,0.0,0.0,0.0,0.0,0.0,0.0,0.0,0.0,0.0,0.0,0.0,0.0,0.0,0.0,0.0,0.0,0.0,0.0,0.0,0.0,0.0,0.0,0.0,0.0,0.0,0.0,0.0,0.0,0.0,0.0,0.0,0.0,0.0,0.0,0.0,0.0,0.0,0.0,0.0,0.0,0.0,0.0,0.0,0.0,0.0,0.0,0.0,0.0,0.0,0.0,0.0,0.0,0.0,0.0,0.0,0.0,0.0,0.0,0.0,0.0,0.0,0.0,0.0,0.0,0.0,0.0,0.0,0.0,0.0,0.0,0.0,0.0,0.0,0.0,0.0,0.0,0.0,0.0,0.0,0.0,0.0,0.0,0.0,0.0,0.0,0.0,0.0,0.0,0.0,0.0,0.0,0.0,0.0,0.0,0.0,0.0,0.0,0.0,0.0,0.0,0.0,0.0,0.0,0.0,0.0,0.0,0.0,0.0,0.0,0.0,0.0,0.0,0.0,0.0,0.0,0.0,0.0,0.0,0.0,0.0,0.0,0.0,0.0,0.0,0.0,0.0,0.0,0.0,0.0,0.0,0.0,0.0,0.0,0.0,0.0,0.0,0.0,0.0,0.0,0.0,0.0,0.0,0.0,0.0,0.0,0.0,0.0,0.0,0.0,0.0,0.0,0.0,0.0,0.0,0.0,0.0,0.0,0.0,0.0,0.0,0.0,0.0,0.0,0.0,0.0,0.0,0.0,0.0,0.0,0.0,0.0,0.0,0.0,0.0,0.0,0.0,0.0,0.0,0.0,0.0,0.0,0.0,0.0,0.0,0.0,0.0,0.0,0.0,0.0,0.0,0.0,0.0,0.0,0.0,0.0,0.0,0.0,0.0,0.0,0.0,0.0,0.0,0.0,0.0,0.0,0.0,0.0,0.0,0.0,0.0,0.0,0.0,0.0,0.0,0.0,0.0,0.0,0.0,0.0,0.0,0.0,0.0,0.0,0.0,0.0,0.0,0.0,0.0,0.0,0.0,0.0,0.0,0.0,0.0,0.0,0.0,0.0,0.0,0.0,0.0,0.0,0.0,0.0,0.0,0.0,0.0,0.0,0.0,0.0,0.0,0.0,0.0,0.0,0.0,0.0,0.0,0.0,0.0],\"xaxis\":\"x\",\"y\":[1.6269476413726807,1.5760080814361572,1.566969633102417,1.6421113014221191,1.621750831604004,1.6186810731887817,1.6535390615463257,1.5848499536514282,1.6253477334976196,1.6127361059188843,1.6148711442947388,1.6387640237808228,1.6151676177978516,1.641925573348999,1.6605727672576904,1.6507095098495483,1.6189355850219727,1.5810538530349731,1.624957799911499,1.6400127410888672,1.6034661531448364,1.5935617685317993,1.6127935647964478,1.6044057607650757,1.6308914422988892,1.6360424757003784,1.6192796230316162,1.6518311500549316,1.5746136903762817,1.6439722776412964,1.615098476409912,1.6218336820602417,1.596433401107788,1.6066737174987793,1.6463804244995117,1.5716856718063354,1.6226426362991333,1.644094705581665,1.5759271383285522,1.909061312675476,1.6319310665130615,1.6211862564086914,1.6187527179718018,1.6041730642318726,1.606842041015625,5.887801170349121,1.741864562034607,5.943826198577881,1.637643814086914,1.6067441701889038,1.6491879224777222,1.591225504875183,1.6417242288589478,1.6550531387329102,1.6485936641693115,1.6175172328948975,1.611167550086975,1.6460086107254028,1.6291782855987549,1.6264387369155884,1.6582380533218384,1.6389714479446411,1.6568793058395386,1.6171444654464722,1.6583144664764404,1.6186087131500244,1.6099412441253662,1.570943832397461,1.5972099304199219,1.6048647165298462,1.6176503896713257,1.6237927675247192,5.893228054046631,1.5722384452819824,1.610648274421692,1.5916999578475952,1.6419055461883545,1.6101919412612915,5.882241725921631,1.6473640203475952,1.6430842876434326,1.6086422204971313,1.6094539165496826,1.619377613067627,1.6192998886108398,1.6022205352783203,1.6107714176177979,1.6239310503005981,1.6154197454452515,1.6209160089492798,1.617182731628418,1.654374122619629,1.61762535572052,1.6250470876693726,1.623704433441162,1.6301063299179077,1.6261638402938843,1.619239330291748,1.6413116455078125,1.5900596380233765,1.6193774938583374,1.6520459651947021,1.6300008296966553,1.641887903213501,1.619917392730713,1.6352145671844482,1.6207680702209473,1.6604833602905273,1.6137173175811768,1.60874342918396,1.6168880462646484,1.596737265586853,1.6167455911636353,1.6335824728012085,1.6644601821899414,1.6369225978851318,1.6494147777557373,1.6204867362976074,1.616180419921875,1.6176843643188477,1.5923651456832886,1.6182184219360352,1.6510379314422607,1.6492732763290405,1.6360039710998535,1.6185986995697021,1.642704725265503,1.6142011880874634,1.6050264835357666,1.621093988418579,1.5904635190963745,1.654841661453247,1.6299560070037842,1.6359379291534424,1.6127028465270996,5.909672260284424,1.6225334405899048,1.6217694282531738,1.619676113128662,1.6259818077087402,1.619344711303711,1.6421120166778564,1.6460151672363281,1.6260526180267334,1.637763261795044,1.6217509508132935,1.6239163875579834,1.5946075916290283,1.5887898206710815,1.623503565788269,1.6447670459747314,1.646899700164795,1.6287225484848022,1.5864064693450928,1.6021225452423096,1.6174578666687012,1.6259803771972656,1.6401011943817139,1.6162089109420776,1.6406323909759521,1.6570080518722534,1.658056378364563,1.6096981763839722,1.606131911277771,1.6084576845169067,1.6408298015594482,1.6123647689819336,1.6149832010269165,1.6209172010421753,1.638908863067627,1.6292732954025269,1.6588568687438965,1.5627970695495605,1.6104516983032227,1.620021939277649,1.6216686964035034,1.616815447807312,1.6005210876464844,1.6411545276641846,1.566251277923584,1.6134873628616333,1.5993956327438354,1.6272947788238525,1.5666173696517944,1.6306171417236328,1.6628742218017578,1.6388640403747559,1.6131383180618286,1.6564184427261353,1.6256119012832642,1.6085182428359985,1.6131600141525269,1.6367543935775757,1.5944108963012695,1.609670877456665,1.6251493692398071,1.6279330253601074,1.596109390258789,1.5681421756744385,1.6286379098892212,1.562360167503357,1.6175389289855957,1.642372488975525,1.5927397012710571,1.6212162971496582,1.6134436130523682,1.6284832954406738,1.620060920715332,1.6232337951660156,1.6424275636672974,1.610366940498352,1.6396844387054443,1.6357547044754028,1.611106276512146,1.6148145198822021,1.6236486434936523,1.6269969940185547,1.640628457069397,1.614308476448059,1.622918963432312,1.5914618968963623,1.6597994565963745,1.6209838390350342,1.5851761102676392,1.6930692195892334,1.6074018478393555,1.632501244544983,1.6339222192764282,1.6200720071792603,1.646040678024292,1.666398525238037,1.6027910709381104,1.6343138217926025,1.633758306503296,1.6047717332839966,1.592871904373169,1.627940058708191,1.639647126197815,1.650732398033142,1.616584300994873,1.6465767621994019,1.5859569311141968,1.609383225440979,1.6520799398422241,1.6106585264205933,1.6195522546768188,1.6298840045928955,1.5878255367279053,1.6353930234909058,1.648341178894043,1.594274878501892,1.6514416933059692,1.612950325012207,1.6378296613693237,1.657822847366333,1.614831566810608,1.634178638458252,1.5816055536270142,1.6393940448760986,1.6315257549285889,1.6415069103240967,1.5839719772338867,1.6341807842254639,1.6247918605804443,1.5843695402145386,1.6478279829025269,1.6644948720932007,1.6375483274459839,1.6190944910049438,1.64655601978302,1.6565097570419312,1.6276956796646118,1.6334294080734253,1.6402382850646973,1.6386750936508179,1.6632710695266724,1.5839111804962158,1.6069965362548828,1.5916635990142822,1.6108808517456055,1.5678690671920776,5.8828558921813965,1.6331690549850464,1.5914013385772705,1.6442195177078247,1.6559500694274902,1.624949336051941,1.661499261856079,1.6296865940093994,1.6329129934310913,1.6402982473373413,1.637654423713684,1.6157480478286743,1.5668160915374756,1.6408426761627197,1.6136029958724976,1.5812550783157349,1.6323622465133667,1.6114859580993652,1.662011981010437,1.6179025173187256,1.6394673585891724,1.6327961683273315,1.630237340927124,1.6071739196777344,1.5875989198684692,1.6404331922531128,1.6339504718780518,1.5938154458999634,1.6455248594284058,1.6360963582992554,1.6214599609375,1.6200411319732666,1.6378824710845947,1.6186920404434204,1.6468913555145264,1.620618462562561,1.6229816675186157,1.603920578956604,1.6121830940246582,1.613307237625122,5.851728916168213,1.6677497625350952,1.617435336112976,1.6210929155349731,1.6181827783584595,1.6232479810714722,1.6449159383773804,1.6519641876220703,1.60419762134552,1.642704725265503,1.6143486499786377,1.6032774448394775,1.6438721418380737,1.6618931293487549,1.6435033082962036,1.6373019218444824,1.6188838481903076,1.6263870000839233,1.616830825805664,1.6237127780914307,1.6347254514694214,1.6378109455108643,1.6199389696121216,1.5920487642288208,1.6438462734222412,1.6373909711837769,1.6384987831115723,5.932915210723877,1.6180830001831055,1.642703652381897,1.6253570318222046,1.6353647708892822,1.6153372526168823,1.6073096990585327,1.6196409463882446,1.633431315422058,1.6124677658081055,1.6024572849273682,1.6242291927337646,1.631582498550415,1.621684193611145,1.6571483612060547,1.625481367111206,1.6321887969970703,2.3387582302093506,1.6303073167800903,1.6017619371414185,5.702632427215576,1.630547285079956,1.633852481842041,1.619105577468872,1.6454267501831055,1.6418935060501099,1.6424492597579956,1.6127841472625732,1.6298847198486328,1.6319066286087036,1.6558620929718018,1.641250729560852,1.5698286294937134,1.6417714357376099,1.6422030925750732,1.6170862913131714,1.6548795700073242,1.660875678062439,1.5811495780944824,5.853436470031738,1.6396983861923218,1.6172997951507568,1.6496795415878296,1.6109535694122314,1.618668794631958,1.6175854206085205,1.6353726387023926,1.5733215808868408,1.6472468376159668,1.6498855352401733,1.644997239112854,1.6498461961746216,1.651965618133545,1.6410808563232422,5.887954235076904,1.656469464302063,1.6246479749679565,1.5866281986236572,1.6284810304641724,1.6232094764709473,1.6318199634552002,1.626244306564331,1.6397119760513306,1.6171761751174927,1.6565176248550415,1.6112366914749146,5.887693881988525,1.5911595821380615,1.6374753713607788,1.6586796045303345,1.604575276374817,1.6401643753051758,1.5449873208999634,1.6319843530654907,1.6422808170318604,1.6304503679275513,1.601230263710022,1.6214076280593872,1.641560435295105,1.640450358390808,1.647501826286316,1.6296378374099731,1.632702350616455,1.6358428001403809,1.6185544729232788,1.5821266174316406,5.950881481170654,1.612778663635254,1.6365667581558228,1.5855847597122192,1.582942247390747,1.6056194305419922,1.6087448596954346,1.6271246671676636,1.6152633428573608,1.6071274280548096,1.6152305603027344,1.5530259609222412,1.6131523847579956,1.6405763626098633,1.628128170967102,1.6379716396331787,1.5887812376022339,1.6502701044082642,2.8549346923828125],\"yaxis\":\"y\",\"type\":\"scatter\"}],                        {\"template\":{\"data\":{\"bar\":[{\"error_x\":{\"color\":\"#2a3f5f\"},\"error_y\":{\"color\":\"#2a3f5f\"},\"marker\":{\"line\":{\"color\":\"#E5ECF6\",\"width\":0.5},\"pattern\":{\"fillmode\":\"overlay\",\"size\":10,\"solidity\":0.2}},\"type\":\"bar\"}],\"barpolar\":[{\"marker\":{\"line\":{\"color\":\"#E5ECF6\",\"width\":0.5},\"pattern\":{\"fillmode\":\"overlay\",\"size\":10,\"solidity\":0.2}},\"type\":\"barpolar\"}],\"carpet\":[{\"aaxis\":{\"endlinecolor\":\"#2a3f5f\",\"gridcolor\":\"white\",\"linecolor\":\"white\",\"minorgridcolor\":\"white\",\"startlinecolor\":\"#2a3f5f\"},\"baxis\":{\"endlinecolor\":\"#2a3f5f\",\"gridcolor\":\"white\",\"linecolor\":\"white\",\"minorgridcolor\":\"white\",\"startlinecolor\":\"#2a3f5f\"},\"type\":\"carpet\"}],\"choropleth\":[{\"colorbar\":{\"outlinewidth\":0,\"ticks\":\"\"},\"type\":\"choropleth\"}],\"contour\":[{\"colorbar\":{\"outlinewidth\":0,\"ticks\":\"\"},\"colorscale\":[[0.0,\"#0d0887\"],[0.1111111111111111,\"#46039f\"],[0.2222222222222222,\"#7201a8\"],[0.3333333333333333,\"#9c179e\"],[0.4444444444444444,\"#bd3786\"],[0.5555555555555556,\"#d8576b\"],[0.6666666666666666,\"#ed7953\"],[0.7777777777777778,\"#fb9f3a\"],[0.8888888888888888,\"#fdca26\"],[1.0,\"#f0f921\"]],\"type\":\"contour\"}],\"contourcarpet\":[{\"colorbar\":{\"outlinewidth\":0,\"ticks\":\"\"},\"type\":\"contourcarpet\"}],\"heatmap\":[{\"colorbar\":{\"outlinewidth\":0,\"ticks\":\"\"},\"colorscale\":[[0.0,\"#0d0887\"],[0.1111111111111111,\"#46039f\"],[0.2222222222222222,\"#7201a8\"],[0.3333333333333333,\"#9c179e\"],[0.4444444444444444,\"#bd3786\"],[0.5555555555555556,\"#d8576b\"],[0.6666666666666666,\"#ed7953\"],[0.7777777777777778,\"#fb9f3a\"],[0.8888888888888888,\"#fdca26\"],[1.0,\"#f0f921\"]],\"type\":\"heatmap\"}],\"heatmapgl\":[{\"colorbar\":{\"outlinewidth\":0,\"ticks\":\"\"},\"colorscale\":[[0.0,\"#0d0887\"],[0.1111111111111111,\"#46039f\"],[0.2222222222222222,\"#7201a8\"],[0.3333333333333333,\"#9c179e\"],[0.4444444444444444,\"#bd3786\"],[0.5555555555555556,\"#d8576b\"],[0.6666666666666666,\"#ed7953\"],[0.7777777777777778,\"#fb9f3a\"],[0.8888888888888888,\"#fdca26\"],[1.0,\"#f0f921\"]],\"type\":\"heatmapgl\"}],\"histogram\":[{\"marker\":{\"pattern\":{\"fillmode\":\"overlay\",\"size\":10,\"solidity\":0.2}},\"type\":\"histogram\"}],\"histogram2d\":[{\"colorbar\":{\"outlinewidth\":0,\"ticks\":\"\"},\"colorscale\":[[0.0,\"#0d0887\"],[0.1111111111111111,\"#46039f\"],[0.2222222222222222,\"#7201a8\"],[0.3333333333333333,\"#9c179e\"],[0.4444444444444444,\"#bd3786\"],[0.5555555555555556,\"#d8576b\"],[0.6666666666666666,\"#ed7953\"],[0.7777777777777778,\"#fb9f3a\"],[0.8888888888888888,\"#fdca26\"],[1.0,\"#f0f921\"]],\"type\":\"histogram2d\"}],\"histogram2dcontour\":[{\"colorbar\":{\"outlinewidth\":0,\"ticks\":\"\"},\"colorscale\":[[0.0,\"#0d0887\"],[0.1111111111111111,\"#46039f\"],[0.2222222222222222,\"#7201a8\"],[0.3333333333333333,\"#9c179e\"],[0.4444444444444444,\"#bd3786\"],[0.5555555555555556,\"#d8576b\"],[0.6666666666666666,\"#ed7953\"],[0.7777777777777778,\"#fb9f3a\"],[0.8888888888888888,\"#fdca26\"],[1.0,\"#f0f921\"]],\"type\":\"histogram2dcontour\"}],\"mesh3d\":[{\"colorbar\":{\"outlinewidth\":0,\"ticks\":\"\"},\"type\":\"mesh3d\"}],\"parcoords\":[{\"line\":{\"colorbar\":{\"outlinewidth\":0,\"ticks\":\"\"}},\"type\":\"parcoords\"}],\"pie\":[{\"automargin\":true,\"type\":\"pie\"}],\"scatter\":[{\"marker\":{\"colorbar\":{\"outlinewidth\":0,\"ticks\":\"\"}},\"type\":\"scatter\"}],\"scatter3d\":[{\"line\":{\"colorbar\":{\"outlinewidth\":0,\"ticks\":\"\"}},\"marker\":{\"colorbar\":{\"outlinewidth\":0,\"ticks\":\"\"}},\"type\":\"scatter3d\"}],\"scattercarpet\":[{\"marker\":{\"colorbar\":{\"outlinewidth\":0,\"ticks\":\"\"}},\"type\":\"scattercarpet\"}],\"scattergeo\":[{\"marker\":{\"colorbar\":{\"outlinewidth\":0,\"ticks\":\"\"}},\"type\":\"scattergeo\"}],\"scattergl\":[{\"marker\":{\"colorbar\":{\"outlinewidth\":0,\"ticks\":\"\"}},\"type\":\"scattergl\"}],\"scattermapbox\":[{\"marker\":{\"colorbar\":{\"outlinewidth\":0,\"ticks\":\"\"}},\"type\":\"scattermapbox\"}],\"scatterpolar\":[{\"marker\":{\"colorbar\":{\"outlinewidth\":0,\"ticks\":\"\"}},\"type\":\"scatterpolar\"}],\"scatterpolargl\":[{\"marker\":{\"colorbar\":{\"outlinewidth\":0,\"ticks\":\"\"}},\"type\":\"scatterpolargl\"}],\"scatterternary\":[{\"marker\":{\"colorbar\":{\"outlinewidth\":0,\"ticks\":\"\"}},\"type\":\"scatterternary\"}],\"surface\":[{\"colorbar\":{\"outlinewidth\":0,\"ticks\":\"\"},\"colorscale\":[[0.0,\"#0d0887\"],[0.1111111111111111,\"#46039f\"],[0.2222222222222222,\"#7201a8\"],[0.3333333333333333,\"#9c179e\"],[0.4444444444444444,\"#bd3786\"],[0.5555555555555556,\"#d8576b\"],[0.6666666666666666,\"#ed7953\"],[0.7777777777777778,\"#fb9f3a\"],[0.8888888888888888,\"#fdca26\"],[1.0,\"#f0f921\"]],\"type\":\"surface\"}],\"table\":[{\"cells\":{\"fill\":{\"color\":\"#EBF0F8\"},\"line\":{\"color\":\"white\"}},\"header\":{\"fill\":{\"color\":\"#C8D4E3\"},\"line\":{\"color\":\"white\"}},\"type\":\"table\"}]},\"layout\":{\"annotationdefaults\":{\"arrowcolor\":\"#2a3f5f\",\"arrowhead\":0,\"arrowwidth\":1},\"autotypenumbers\":\"strict\",\"coloraxis\":{\"colorbar\":{\"outlinewidth\":0,\"ticks\":\"\"}},\"colorscale\":{\"diverging\":[[0,\"#8e0152\"],[0.1,\"#c51b7d\"],[0.2,\"#de77ae\"],[0.3,\"#f1b6da\"],[0.4,\"#fde0ef\"],[0.5,\"#f7f7f7\"],[0.6,\"#e6f5d0\"],[0.7,\"#b8e186\"],[0.8,\"#7fbc41\"],[0.9,\"#4d9221\"],[1,\"#276419\"]],\"sequential\":[[0.0,\"#0d0887\"],[0.1111111111111111,\"#46039f\"],[0.2222222222222222,\"#7201a8\"],[0.3333333333333333,\"#9c179e\"],[0.4444444444444444,\"#bd3786\"],[0.5555555555555556,\"#d8576b\"],[0.6666666666666666,\"#ed7953\"],[0.7777777777777778,\"#fb9f3a\"],[0.8888888888888888,\"#fdca26\"],[1.0,\"#f0f921\"]],\"sequentialminus\":[[0.0,\"#0d0887\"],[0.1111111111111111,\"#46039f\"],[0.2222222222222222,\"#7201a8\"],[0.3333333333333333,\"#9c179e\"],[0.4444444444444444,\"#bd3786\"],[0.5555555555555556,\"#d8576b\"],[0.6666666666666666,\"#ed7953\"],[0.7777777777777778,\"#fb9f3a\"],[0.8888888888888888,\"#fdca26\"],[1.0,\"#f0f921\"]]},\"colorway\":[\"#636efa\",\"#EF553B\",\"#00cc96\",\"#ab63fa\",\"#FFA15A\",\"#19d3f3\",\"#FF6692\",\"#B6E880\",\"#FF97FF\",\"#FECB52\"],\"font\":{\"color\":\"#2a3f5f\"},\"geo\":{\"bgcolor\":\"white\",\"lakecolor\":\"white\",\"landcolor\":\"#E5ECF6\",\"showlakes\":true,\"showland\":true,\"subunitcolor\":\"white\"},\"hoverlabel\":{\"align\":\"left\"},\"hovermode\":\"closest\",\"mapbox\":{\"style\":\"light\"},\"paper_bgcolor\":\"white\",\"plot_bgcolor\":\"#E5ECF6\",\"polar\":{\"angularaxis\":{\"gridcolor\":\"white\",\"linecolor\":\"white\",\"ticks\":\"\"},\"bgcolor\":\"#E5ECF6\",\"radialaxis\":{\"gridcolor\":\"white\",\"linecolor\":\"white\",\"ticks\":\"\"}},\"scene\":{\"xaxis\":{\"backgroundcolor\":\"#E5ECF6\",\"gridcolor\":\"white\",\"gridwidth\":2,\"linecolor\":\"white\",\"showbackground\":true,\"ticks\":\"\",\"zerolinecolor\":\"white\"},\"yaxis\":{\"backgroundcolor\":\"#E5ECF6\",\"gridcolor\":\"white\",\"gridwidth\":2,\"linecolor\":\"white\",\"showbackground\":true,\"ticks\":\"\",\"zerolinecolor\":\"white\"},\"zaxis\":{\"backgroundcolor\":\"#E5ECF6\",\"gridcolor\":\"white\",\"gridwidth\":2,\"linecolor\":\"white\",\"showbackground\":true,\"ticks\":\"\",\"zerolinecolor\":\"white\"}},\"shapedefaults\":{\"line\":{\"color\":\"#2a3f5f\"}},\"ternary\":{\"aaxis\":{\"gridcolor\":\"white\",\"linecolor\":\"white\",\"ticks\":\"\"},\"baxis\":{\"gridcolor\":\"white\",\"linecolor\":\"white\",\"ticks\":\"\"},\"bgcolor\":\"#E5ECF6\",\"caxis\":{\"gridcolor\":\"white\",\"linecolor\":\"white\",\"ticks\":\"\"}},\"title\":{\"x\":0.05},\"xaxis\":{\"automargin\":true,\"gridcolor\":\"white\",\"linecolor\":\"white\",\"ticks\":\"\",\"title\":{\"standoff\":15},\"zerolinecolor\":\"white\",\"zerolinewidth\":2},\"yaxis\":{\"automargin\":true,\"gridcolor\":\"white\",\"linecolor\":\"white\",\"ticks\":\"\",\"title\":{\"standoff\":15},\"zerolinecolor\":\"white\",\"zerolinewidth\":2}}},\"xaxis\":{\"anchor\":\"y\",\"domain\":[0.0,1.0],\"title\":{\"text\":\"Autoencoder 1\"}},\"yaxis\":{\"anchor\":\"x\",\"domain\":[0.0,1.0],\"title\":{\"text\":\"Autoencoder 2\"}},\"coloraxis\":{\"colorbar\":{\"title\":{\"text\":\"color\"}},\"colorscale\":[[0.0,\"#0d0887\"],[0.1111111111111111,\"#46039f\"],[0.2222222222222222,\"#7201a8\"],[0.3333333333333333,\"#9c179e\"],[0.4444444444444444,\"#bd3786\"],[0.5555555555555556,\"#d8576b\"],[0.6666666666666666,\"#ed7953\"],[0.7777777777777778,\"#fb9f3a\"],[0.8888888888888888,\"#fdca26\"],[1.0,\"#f0f921\"]]},\"legend\":{\"tracegroupgap\":0},\"title\":{\"text\":\"Deep learning plot\"}},                        {\"responsive\": true}                    ).then(function(){\n",
              "                            \n",
              "var gd = document.getElementById('0526a614-7633-450d-98c7-7f2b9ff547b6');\n",
              "var x = new MutationObserver(function (mutations, observer) {{\n",
              "        var display = window.getComputedStyle(gd).display;\n",
              "        if (!display || display === 'none') {{\n",
              "            console.log([gd, 'removed!']);\n",
              "            Plotly.purge(gd);\n",
              "            observer.disconnect();\n",
              "        }}\n",
              "}});\n",
              "\n",
              "// Listen for the removal of the full notebook cells\n",
              "var notebookContainer = gd.closest('#notebook-container');\n",
              "if (notebookContainer) {{\n",
              "    x.observe(notebookContainer, {childList: true});\n",
              "}}\n",
              "\n",
              "// Listen for the clearing of the current output cell\n",
              "var outputEl = gd.closest('.output');\n",
              "if (outputEl) {{\n",
              "    x.observe(outputEl, {childList: true});\n",
              "}}\n",
              "\n",
              "                        })                };                            </script>        </div>\n",
              "</body>\n",
              "</html>"
            ]
          },
          "metadata": {}
        }
      ]
    },
    {
      "cell_type": "markdown",
      "source": [
        "Case B\n",
        "\n",
        "Using extracted features"
      ],
      "metadata": {
        "id": "rPfY6guLzCVE"
      }
    },
    {
      "cell_type": "code",
      "source": [
        "import lightgbm as lgb\n",
        "\n",
        "model3=lgb.LGBMClassifier(random_state = 0)\n",
        "model3.fit(X_res[:,6:],y_res)\n",
        "\n",
        "parameter_grid3 = {'n_estimators': [5,10,20,30],'max_depth':[5,10],'learning_rate':[0.001,0.1],'num_leaves':[4,10],'lambda_l1':[0.1,1],'lambda_l2':[0.1,2]}\n",
        "\n",
        "finalgrid_LGB3=GridSearchCV(estimator=model3, param_grid=parameter_grid3, cv = 4, verbose = 2, n_jobs=-1)\n",
        "finalgrid_LGB3.fit(X_res[:,6:],y_res)\n",
        "\n",
        "from sklearn.metrics import mean_squared_error\n",
        "\n",
        "mean_squared_error(y_res,finalgrid_LGB3.predict(X_res[:,6:]))"
      ],
      "metadata": {
        "colab": {
          "base_uri": "https://localhost:8080/"
        },
        "id": "qkjlR1Nin147",
        "outputId": "1d6f5f4c-2be9-4e05-d3ba-f4afca308209"
      },
      "execution_count": 121,
      "outputs": [
        {
          "output_type": "stream",
          "name": "stdout",
          "text": [
            "Fitting 4 folds for each of 128 candidates, totalling 512 fits\n"
          ]
        },
        {
          "output_type": "execute_result",
          "data": {
            "text/plain": [
              "0.02869757174392936"
            ]
          },
          "metadata": {},
          "execution_count": 121
        }
      ]
    },
    {
      "cell_type": "code",
      "source": [
        "from sklearn.metrics import precision_recall_fscore_support\n",
        "\n",
        "precision_recall_fscore_support(y_res, finalgrid_LGB3.predict(X_res[:,6:]),average='macro')"
      ],
      "metadata": {
        "colab": {
          "base_uri": "https://localhost:8080/"
        },
        "id": "a2tJxM27oeKe",
        "outputId": "22018eb1-93ae-400d-a3a8-e6c12d761100"
      },
      "execution_count": 123,
      "outputs": [
        {
          "output_type": "execute_result",
          "data": {
            "text/plain": [
              "(0.9717530107846819, 0.9713024282560707, 0.9712955741860012, None)"
            ]
          },
          "metadata": {},
          "execution_count": 123
        }
      ]
    },
    {
      "cell_type": "code",
      "source": [
        "from sklearn.inspection import PartialDependenceDisplay\n",
        "\n",
        "features = [2222]\n",
        "\n",
        "PartialDependenceDisplay.from_estimator(finalgrid_LGB3, X_res[:,6:], features)"
      ],
      "metadata": {
        "colab": {
          "base_uri": "https://localhost:8080/",
          "height": 296
        },
        "id": "nwhihI5ezdCq",
        "outputId": "f7b3b6da-93cb-4e2c-9cc3-bb0557e23181"
      },
      "execution_count": 127,
      "outputs": [
        {
          "output_type": "execute_result",
          "data": {
            "text/plain": [
              "<sklearn.inspection._plot.partial_dependence.PartialDependenceDisplay at 0x7f493db73210>"
            ]
          },
          "metadata": {},
          "execution_count": 127
        },
        {
          "output_type": "display_data",
          "data": {
            "text/plain": [
              "<Figure size 432x288 with 2 Axes>"
            ],
            "image/png": "[encoded data removed]"
          },
          "metadata": {
            "needs_background": "light"
          }
        }
      ]
    },
    {
      "cell_type": "code",
      "source": [
        "import shap\n",
        "\n",
        "explainer = shap.TreeExplainer(model3)\n",
        "shap_values = explainer.shap_values(X_res[:,6:])\n",
        "shap.summary_plot(shap_values, X_res[:,6:])"
      ],
      "metadata": {
        "colab": {
          "base_uri": "https://localhost:8080/",
          "height": 693
        },
        "id": "b4eBBj75qsjb",
        "outputId": "75fb1e15-05a8-4d43-fcd2-6d4ab7693b3d"
      },
      "execution_count": 126,
      "outputs": [
        {
          "output_type": "display_data",
          "data": {
            "text/plain": [
              "<Figure size 576x684 with 1 Axes>"
            ],
            "image/png": "[encoded data removed]"
          },
          "metadata": {
            "needs_background": "light"
          }
        }
      ]
    },
    {
      "cell_type": "code",
      "source": [
        "X_train6, X_test6, y_train6, y_test6 = train_test_split(X_res[:,6:],y_res, test_size=0.50)\n",
        "\n",
        "clf6 = LazyClassifier(verbose=1, ignore_warnings=True, custom_metric = None)\n",
        "models6, predictions6 = clf.fit(X_train6, X_test6, y_train6, y_test6)"
      ],
      "metadata": {
        "colab": {
          "base_uri": "https://localhost:8080/"
        },
        "id": "akb7taxTxEoh",
        "outputId": "58c9ad3e-e339-4713-89f2-3be95fb58586"
      },
      "execution_count": 128,
      "outputs": [
        {
          "output_type": "stream",
          "name": "stdout",
          "text": [
            "'tuple' object has no attribute '__name__'\n",
            "Invalid Classifier(s)\n"
          ]
        },
        {
          "output_type": "stream",
          "name": "stderr",
          "text": [
            "  3%|▎         | 1/29 [00:02<01:18,  2.79s/it]"
          ]
        },
        {
          "output_type": "stream",
          "name": "stdout",
          "text": [
            "{'Model': 'AdaBoostClassifier', 'Accuracy': 0.9006622516556292, 'Balanced Accuracy': 0.902063969382176, 'ROC AUC': 0.9020639693821761, 'F1 Score': 0.9006787107255528, 'Time taken': 2.7908668518066406}\n"
          ]
        },
        {
          "output_type": "stream",
          "name": "stderr",
          "text": [
            "\r  7%|▋         | 2/29 [00:03<00:41,  1.54s/it]"
          ]
        },
        {
          "output_type": "stream",
          "name": "stdout",
          "text": [
            "{'Model': 'BaggingClassifier', 'Accuracy': 0.9072847682119205, 'Balanced Accuracy': 0.9089764117784894, 'ROC AUC': 0.9089764117784895, 'F1 Score': 0.9072757319919108, 'Time taken': 0.6551756858825684}\n"
          ]
        },
        {
          "output_type": "stream",
          "name": "stderr",
          "text": [
            "\r 10%|█         | 3/29 [00:03<00:24,  1.06it/s]"
          ]
        },
        {
          "output_type": "stream",
          "name": "stdout",
          "text": [
            "{'Model': 'BernoulliNB', 'Accuracy': 0.8940397350993378, 'Balanced Accuracy': 0.894409513395298, 'ROC AUC': 0.8944095133952981, 'F1 Score': 0.8940800438228174, 'Time taken': 0.231306791305542}\n"
          ]
        },
        {
          "output_type": "stream",
          "name": "stderr",
          "text": [
            " 17%|█▋        | 5/29 [00:13<01:06,  2.79s/it]"
          ]
        },
        {
          "output_type": "stream",
          "name": "stdout",
          "text": [
            "{'Model': 'CalibratedClassifierCV', 'Accuracy': 0.9558498896247241, 'Balanced Accuracy': 0.9576271186440678, 'ROC AUC': 0.9576271186440678, 'F1 Score': 0.9558455866628147, 'Time taken': 9.353574991226196}\n"
          ]
        },
        {
          "output_type": "stream",
          "name": "stderr",
          "text": [
            "\r 21%|██        | 6/29 [00:13<00:44,  1.93s/it]"
          ]
        },
        {
          "output_type": "stream",
          "name": "stdout",
          "text": [
            "{'Model': 'DecisionTreeClassifier', 'Accuracy': 0.9227373068432672, 'Balanced Accuracy': 0.9239924236507069, 'ROC AUC': 0.9239924236507069, 'F1 Score': 0.922759899044704, 'Time taken': 0.2594032287597656}\n"
          ]
        },
        {
          "output_type": "stream",
          "name": "stderr",
          "text": [
            "\r 24%|██▍       | 7/29 [00:13<00:30,  1.39s/it]"
          ]
        },
        {
          "output_type": "stream",
          "name": "stdout",
          "text": [
            "{'Model': 'DummyClassifier', 'Accuracy': 0.47902869757174393, 'Balanced Accuracy': 0.5, 'ROC AUC': 0.5, 'F1 Score': 0.31029620111363715, 'Time taken': 0.2545328140258789}\n"
          ]
        },
        {
          "output_type": "stream",
          "name": "stderr",
          "text": [
            "\r 28%|██▊       | 8/29 [00:14<00:21,  1.03s/it]"
          ]
        },
        {
          "output_type": "stream",
          "name": "stdout",
          "text": [
            "{'Model': 'ExtraTreeClassifier', 'Accuracy': 0.8896247240618101, 'Balanced Accuracy': 0.8907287354526283, 'ROC AUC': 0.8907287354526283, 'F1 Score': 0.8896623793824768, 'Time taken': 0.2532846927642822}\n"
          ]
        },
        {
          "output_type": "stream",
          "name": "stderr",
          "text": [
            "\r 31%|███       | 9/29 [00:14<00:20,  1.00s/it]"
          ]
        },
        {
          "output_type": "stream",
          "name": "stdout",
          "text": [
            "{'Model': 'ExtraTreesClassifier', 'Accuracy': 0.9293598233995585, 'Balanced Accuracy': 0.9318323830352262, 'ROC AUC': 0.9318323830352261, 'F1 Score': 0.9292730418558233, 'Time taken': 0.952251672744751}\n"
          ]
        },
        {
          "output_type": "stream",
          "name": "stderr",
          "text": [
            "\r 34%|███▍      | 10/29 [00:15<00:14,  1.27it/s]"
          ]
        },
        {
          "output_type": "stream",
          "name": "stdout",
          "text": [
            "{'Model': 'GaussianNB', 'Accuracy': 0.9139072847682119, 'Balanced Accuracy': 0.9170018745606499, 'ROC AUC': 0.91700187456065, 'F1 Score': 0.9136720507363617, 'Time taken': 0.29779529571533203}\n"
          ]
        },
        {
          "output_type": "stream",
          "name": "stderr",
          "text": [
            "\r 38%|███▊      | 11/29 [00:15<00:12,  1.46it/s]"
          ]
        },
        {
          "output_type": "stream",
          "name": "stdout",
          "text": [
            "{'Model': 'KNeighborsClassifier', 'Accuracy': 0.9006622516556292, 'Balanced Accuracy': 0.9015074591892525, 'ROC AUC': 0.9015074591892525, 'F1 Score': 0.9007048640607781, 'Time taken': 0.4313228130340576}\n"
          ]
        },
        {
          "output_type": "stream",
          "name": "stderr",
          "text": [
            "\r 41%|████▏     | 12/29 [00:16<00:10,  1.57it/s]"
          ]
        },
        {
          "output_type": "stream",
          "name": "stdout",
          "text": [
            "{'Model': 'LabelPropagation', 'Accuracy': 0.5982339955849889, 'Balanced Accuracy': 0.614406779661017, 'ROC AUC': 0.614406779661017, 'F1 Score': 0.531514390306352, 'Time taken': 0.520082950592041}\n"
          ]
        },
        {
          "output_type": "stream",
          "name": "stderr",
          "text": [
            "\r 45%|████▍     | 13/29 [00:16<00:09,  1.70it/s]"
          ]
        },
        {
          "output_type": "stream",
          "name": "stdout",
          "text": [
            "{'Model': 'LabelSpreading', 'Accuracy': 0.5982339955849889, 'Balanced Accuracy': 0.614406779661017, 'ROC AUC': 0.614406779661017, 'F1 Score': 0.531514390306352, 'Time taken': 0.4722120761871338}\n"
          ]
        },
        {
          "output_type": "stream",
          "name": "stderr",
          "text": [
            "\r 48%|████▊     | 14/29 [00:18<00:12,  1.21it/s]"
          ]
        },
        {
          "output_type": "stream",
          "name": "stdout",
          "text": [
            "{'Model': 'LinearDiscriminantAnalysis', 'Accuracy': 0.9271523178807947, 'Balanced Accuracy': 0.9300847457627119, 'ROC AUC': 0.9300847457627119, 'F1 Score': 0.9269881544904776, 'Time taken': 1.3721535205841064}\n"
          ]
        },
        {
          "output_type": "stream",
          "name": "stderr",
          "text": [
            "\r 52%|█████▏    | 15/29 [00:20<00:19,  1.39s/it]"
          ]
        },
        {
          "output_type": "stream",
          "name": "stdout",
          "text": [
            "{'Model': 'LinearSVC', 'Accuracy': 0.9271523178807947, 'Balanced Accuracy': 0.9300847457627119, 'ROC AUC': 0.9300847457627119, 'F1 Score': 0.9269881544904776, 'Time taken': 2.6799285411834717}\n"
          ]
        },
        {
          "output_type": "stream",
          "name": "stderr",
          "text": [
            "\r 55%|█████▌    | 16/29 [00:21<00:15,  1.20s/it]"
          ]
        },
        {
          "output_type": "stream",
          "name": "stdout",
          "text": [
            "{'Model': 'LogisticRegression', 'Accuracy': 0.9293598233995585, 'Balanced Accuracy': 0.9322033898305084, 'ROC AUC': 0.9322033898305084, 'F1 Score': 0.9292165034938533, 'Time taken': 0.7556169033050537}\n"
          ]
        },
        {
          "output_type": "stream",
          "name": "stderr",
          "text": [
            "\r 59%|█████▊    | 17/29 [00:21<00:11,  1.08it/s]"
          ]
        },
        {
          "output_type": "stream",
          "name": "stdout",
          "text": [
            "{'Model': 'NearestCentroid', 'Accuracy': 0.8785871964679912, 'Balanced Accuracy': 0.8808775287042099, 'ROC AUC': 0.88087752870421, 'F1 Score': 0.8784593592525439, 'Time taken': 0.2819979190826416}\n"
          ]
        },
        {
          "output_type": "stream",
          "name": "stderr",
          "text": [
            "\r 62%|██████▏   | 18/29 [00:23<00:11,  1.03s/it]"
          ]
        },
        {
          "output_type": "stream",
          "name": "stdout",
          "text": [
            "{'Model': 'NuSVC', 'Accuracy': 0.8785871964679912, 'Balanced Accuracy': 0.8780949777395923, 'ROC AUC': 0.8780949777395922, 'F1 Score': 0.87854805496093, 'Time taken': 1.2673935890197754}\n"
          ]
        },
        {
          "output_type": "stream",
          "name": "stderr",
          "text": [
            "\r 66%|██████▌   | 19/29 [00:23<00:08,  1.18it/s]"
          ]
        },
        {
          "output_type": "stream",
          "name": "stdout",
          "text": [
            "{'Model': 'PassiveAggressiveClassifier', 'Accuracy': 0.9161147902869757, 'Balanced Accuracy': 0.9189350152308052, 'ROC AUC': 0.9189350152308051, 'F1 Score': 0.9159445978989508, 'Time taken': 0.4053819179534912}\n"
          ]
        },
        {
          "output_type": "stream",
          "name": "stderr",
          "text": [
            "\r 69%|██████▉   | 20/29 [00:23<00:06,  1.46it/s]"
          ]
        },
        {
          "output_type": "stream",
          "name": "stdout",
          "text": [
            "{'Model': 'Perceptron', 'Accuracy': 0.9072847682119205, 'Balanced Accuracy': 0.9099039287666952, 'ROC AUC': 0.9099039287666952, 'F1 Score': 0.907135583342547, 'Time taken': 0.29720211029052734}\n"
          ]
        },
        {
          "output_type": "stream",
          "name": "stderr",
          "text": [
            "\r 72%|███████▏  | 21/29 [00:24<00:05,  1.51it/s]"
          ]
        },
        {
          "output_type": "stream",
          "name": "stdout",
          "text": [
            "{'Model': 'QuadraticDiscriminantAnalysis', 'Accuracy': 0.9668874172185431, 'Balanced Accuracy': 0.9680348355854097, 'ROC AUC': 0.9680348355854098, 'F1 Score': 0.9669000055291735, 'Time taken': 0.603400468826294}\n"
          ]
        },
        {
          "output_type": "stream",
          "name": "stderr",
          "text": [
            "\r 76%|███████▌  | 22/29 [00:25<00:04,  1.55it/s]"
          ]
        },
        {
          "output_type": "stream",
          "name": "stdout",
          "text": [
            "{'Model': 'RandomForestClassifier', 'Accuracy': 0.9271523178807947, 'Balanced Accuracy': 0.9289717253768648, 'ROC AUC': 0.9289717253768649, 'F1 Score': 0.9271374078998049, 'Time taken': 0.5973405838012695}\n"
          ]
        },
        {
          "output_type": "stream",
          "name": "stderr",
          "text": [
            "\r 79%|███████▉  | 23/29 [00:25<00:03,  1.90it/s]"
          ]
        },
        {
          "output_type": "stream",
          "name": "stdout",
          "text": [
            "{'Model': 'RidgeClassifier', 'Accuracy': 0.9315673289183223, 'Balanced Accuracy': 0.9343220338983051, 'ROC AUC': 0.9343220338983051, 'F1 Score': 0.9314431880184009, 'Time taken': 0.24093246459960938}\n"
          ]
        },
        {
          "output_type": "stream",
          "name": "stderr",
          "text": [
            "\r 83%|████████▎ | 24/29 [00:25<00:02,  2.13it/s]"
          ]
        },
        {
          "output_type": "stream",
          "name": "stdout",
          "text": [
            "{'Model': 'RidgeClassifierCV', 'Accuracy': 0.9426048565121413, 'Balanced Accuracy': 0.9449152542372881, 'ROC AUC': 0.9449152542372881, 'F1 Score': 0.9425539405630537, 'Time taken': 0.3289196491241455}\n"
          ]
        },
        {
          "output_type": "stream",
          "name": "stderr",
          "text": [
            "\r 86%|████████▌ | 25/29 [00:25<00:01,  2.50it/s]"
          ]
        },
        {
          "output_type": "stream",
          "name": "stdout",
          "text": [
            "{'Model': 'SGDClassifier', 'Accuracy': 0.8785871964679912, 'Balanced Accuracy': 0.8825470592829805, 'ROC AUC': 0.8825470592829806, 'F1 Score': 0.8778926729430224, 'Time taken': 0.2349100112915039}\n"
          ]
        },
        {
          "output_type": "stream",
          "name": "stderr",
          "text": [
            "\r 90%|████████▉ | 26/29 [00:26<00:01,  1.79it/s]"
          ]
        },
        {
          "output_type": "stream",
          "name": "stdout",
          "text": [
            "{'Model': 'SVC', 'Accuracy': 0.8719646799116998, 'Balanced Accuracy': 0.8713680387409201, 'ROC AUC': 0.8713680387409202, 'F1 Score': 0.8719071303247928, 'Time taken': 0.9297986030578613}\n"
          ]
        },
        {
          "output_type": "stream",
          "name": "stderr",
          "text": [
            "\r 97%|█████████▋| 28/29 [00:30<00:01,  1.12s/it]"
          ]
        },
        {
          "output_type": "stream",
          "name": "stdout",
          "text": [
            "{'Model': 'XGBClassifier', 'Accuracy': 0.9359823399558499, 'Balanced Accuracy': 0.9374463016480512, 'ROC AUC': 0.9374463016480513, 'F1 Score': 0.935992946912023, 'Time taken': 3.562673330307007}\n"
          ]
        },
        {
          "output_type": "stream",
          "name": "stderr",
          "text": [
            "100%|██████████| 29/29 [00:30<00:00,  1.06s/it]"
          ]
        },
        {
          "output_type": "stream",
          "name": "stdout",
          "text": [
            "{'Model': 'LGBMClassifier', 'Accuracy': 0.9514348785871964, 'Balanced Accuracy': 0.952833320315551, 'ROC AUC': 0.952833320315551, 'F1 Score': 0.9514462388495153, 'Time taken': 0.4326319694519043}\n"
          ]
        },
        {
          "output_type": "stream",
          "name": "stderr",
          "text": [
            "\n"
          ]
        }
      ]
    },
    {
      "cell_type": "code",
      "source": [
        "models6.to_csv('results2.csv')\n",
        "\n",
        "results2=pd.read_csv('/content/results2.csv')"
      ],
      "metadata": {
        "id": "LGW-S7rsxaAp"
      },
      "execution_count": 129,
      "outputs": []
    },
    {
      "cell_type": "code",
      "source": [
        "import plotly.express as px\n",
        "figaccuracy2 = px.bar(x=results['Model'], y=results2['Accuracy'],labels={\"x\":\"Model\",\"y\":\"Accuracy\"},title=\"Accuracy of all models for extracted the features\")\n",
        "figaccuracy2.show()"
      ],
      "metadata": {
        "id": "uKi43npoAvam",
        "colab": {
          "base_uri": "https://localhost:8080/",
          "height": 542
        },
        "outputId": "52718b45-7b8a-4d7f-dcc4-3d709789abd7"
      },
      "execution_count": 139,
      "outputs": [
        {
          "output_type": "display_data",
          "data": {
            "text/html": [
              "<html>\n",
              "<head><meta charset=\"utf-8\" /></head>\n",
              "<body>\n",
              "    <div>            <script src=\"https://cdnjs.cloudflare.com/ajax/libs/mathjax/2.7.5/MathJax.js?config=TeX-AMS-MML_SVG\"></script><script type=\"text/javascript\">if (window.MathJax) {MathJax.Hub.Config({SVG: {font: \"STIX-Web\"}});}</script>                <script type=\"text/javascript\">window.PlotlyConfig = {MathJaxConfig: 'local'};</script>\n",
              "        <script src=\"https://cdn.plot.ly/plotly-2.8.3.min.js\"></script>                <div id=\"f0078f8b-e91c-42af-85bb-76f0e4ba1da2\" class=\"plotly-graph-div\" style=\"height:525px; width:100%;\"></div>            <script type=\"text/javascript\">                                    window.PLOTLYENV=window.PLOTLYENV || {};                                    if (document.getElementById(\"f0078f8b-e91c-42af-85bb-76f0e4ba1da2\")) {                    Plotly.newPlot(                        \"f0078f8b-e91c-42af-85bb-76f0e4ba1da2\",                        [{\"alignmentgroup\":\"True\",\"hovertemplate\":\"Model=%{x}<br>Accuracy=%{y}<extra></extra>\",\"legendgroup\":\"\",\"marker\":{\"color\":\"#636efa\",\"pattern\":{\"shape\":\"\"}},\"name\":\"\",\"offsetgroup\":\"\",\"orientation\":\"v\",\"showlegend\":false,\"textposition\":\"auto\",\"x\":[\"QuadraticDiscriminantAnalysis\",\"LGBMClassifier\",\"BaggingClassifier\",\"XGBClassifier\",\"AdaBoostClassifier\",\"DecisionTreeClassifier\",\"RandomForestClassifier\",\"ExtraTreesClassifier\",\"SGDClassifier\",\"CalibratedClassifierCV\",\"Perceptron\",\"PassiveAggressiveClassifier\",\"LinearSVC\",\"LogisticRegression\",\"RidgeClassifierCV\",\"ExtraTreeClassifier\",\"RidgeClassifier\",\"BernoulliNB\",\"GaussianNB\",\"NearestCentroid\",\"SVC\",\"NuSVC\",\"LinearDiscriminantAnalysis\",\"KNeighborsClassifier\",\"LabelSpreading\",\"LabelPropagation\",\"DummyClassifier\"],\"xaxis\":\"x\",\"y\":[0.9668874172185432,0.955849889624724,0.9514348785871964,0.9426048565121412,0.93598233995585,0.9315673289183224,0.9293598233995584,0.9293598233995584,0.9271523178807948,0.9271523178807948,0.9271523178807948,0.9227373068432672,0.9161147902869756,0.913907284768212,0.9072847682119204,0.9072847682119204,0.9006622516556292,0.9006622516556292,0.8940397350993378,0.8896247240618101,0.8785871964679912,0.8785871964679912,0.8785871964679912,0.8719646799116998,0.5982339955849889,0.5982339955849889,0.4790286975717439],\"yaxis\":\"y\",\"type\":\"bar\"}],                        {\"template\":{\"data\":{\"bar\":[{\"error_x\":{\"color\":\"#2a3f5f\"},\"error_y\":{\"color\":\"#2a3f5f\"},\"marker\":{\"line\":{\"color\":\"#E5ECF6\",\"width\":0.5},\"pattern\":{\"fillmode\":\"overlay\",\"size\":10,\"solidity\":0.2}},\"type\":\"bar\"}],\"barpolar\":[{\"marker\":{\"line\":{\"color\":\"#E5ECF6\",\"width\":0.5},\"pattern\":{\"fillmode\":\"overlay\",\"size\":10,\"solidity\":0.2}},\"type\":\"barpolar\"}],\"carpet\":[{\"aaxis\":{\"endlinecolor\":\"#2a3f5f\",\"gridcolor\":\"white\",\"linecolor\":\"white\",\"minorgridcolor\":\"white\",\"startlinecolor\":\"#2a3f5f\"},\"baxis\":{\"endlinecolor\":\"#2a3f5f\",\"gridcolor\":\"white\",\"linecolor\":\"white\",\"minorgridcolor\":\"white\",\"startlinecolor\":\"#2a3f5f\"},\"type\":\"carpet\"}],\"choropleth\":[{\"colorbar\":{\"outlinewidth\":0,\"ticks\":\"\"},\"type\":\"choropleth\"}],\"contour\":[{\"colorbar\":{\"outlinewidth\":0,\"ticks\":\"\"},\"colorscale\":[[0.0,\"#0d0887\"],[0.1111111111111111,\"#46039f\"],[0.2222222222222222,\"#7201a8\"],[0.3333333333333333,\"#9c179e\"],[0.4444444444444444,\"#bd3786\"],[0.5555555555555556,\"#d8576b\"],[0.6666666666666666,\"#ed7953\"],[0.7777777777777778,\"#fb9f3a\"],[0.8888888888888888,\"#fdca26\"],[1.0,\"#f0f921\"]],\"type\":\"contour\"}],\"contourcarpet\":[{\"colorbar\":{\"outlinewidth\":0,\"ticks\":\"\"},\"type\":\"contourcarpet\"}],\"heatmap\":[{\"colorbar\":{\"outlinewidth\":0,\"ticks\":\"\"},\"colorscale\":[[0.0,\"#0d0887\"],[0.1111111111111111,\"#46039f\"],[0.2222222222222222,\"#7201a8\"],[0.3333333333333333,\"#9c179e\"],[0.4444444444444444,\"#bd3786\"],[0.5555555555555556,\"#d8576b\"],[0.6666666666666666,\"#ed7953\"],[0.7777777777777778,\"#fb9f3a\"],[0.8888888888888888,\"#fdca26\"],[1.0,\"#f0f921\"]],\"type\":\"heatmap\"}],\"heatmapgl\":[{\"colorbar\":{\"outlinewidth\":0,\"ticks\":\"\"},\"colorscale\":[[0.0,\"#0d0887\"],[0.1111111111111111,\"#46039f\"],[0.2222222222222222,\"#7201a8\"],[0.3333333333333333,\"#9c179e\"],[0.4444444444444444,\"#bd3786\"],[0.5555555555555556,\"#d8576b\"],[0.6666666666666666,\"#ed7953\"],[0.7777777777777778,\"#fb9f3a\"],[0.8888888888888888,\"#fdca26\"],[1.0,\"#f0f921\"]],\"type\":\"heatmapgl\"}],\"histogram\":[{\"marker\":{\"pattern\":{\"fillmode\":\"overlay\",\"size\":10,\"solidity\":0.2}},\"type\":\"histogram\"}],\"histogram2d\":[{\"colorbar\":{\"outlinewidth\":0,\"ticks\":\"\"},\"colorscale\":[[0.0,\"#0d0887\"],[0.1111111111111111,\"#46039f\"],[0.2222222222222222,\"#7201a8\"],[0.3333333333333333,\"#9c179e\"],[0.4444444444444444,\"#bd3786\"],[0.5555555555555556,\"#d8576b\"],[0.6666666666666666,\"#ed7953\"],[0.7777777777777778,\"#fb9f3a\"],[0.8888888888888888,\"#fdca26\"],[1.0,\"#f0f921\"]],\"type\":\"histogram2d\"}],\"histogram2dcontour\":[{\"colorbar\":{\"outlinewidth\":0,\"ticks\":\"\"},\"colorscale\":[[0.0,\"#0d0887\"],[0.1111111111111111,\"#46039f\"],[0.2222222222222222,\"#7201a8\"],[0.3333333333333333,\"#9c179e\"],[0.4444444444444444,\"#bd3786\"],[0.5555555555555556,\"#d8576b\"],[0.6666666666666666,\"#ed7953\"],[0.7777777777777778,\"#fb9f3a\"],[0.8888888888888888,\"#fdca26\"],[1.0,\"#f0f921\"]],\"type\":\"histogram2dcontour\"}],\"mesh3d\":[{\"colorbar\":{\"outlinewidth\":0,\"ticks\":\"\"},\"type\":\"mesh3d\"}],\"parcoords\":[{\"line\":{\"colorbar\":{\"outlinewidth\":0,\"ticks\":\"\"}},\"type\":\"parcoords\"}],\"pie\":[{\"automargin\":true,\"type\":\"pie\"}],\"scatter\":[{\"marker\":{\"colorbar\":{\"outlinewidth\":0,\"ticks\":\"\"}},\"type\":\"scatter\"}],\"scatter3d\":[{\"line\":{\"colorbar\":{\"outlinewidth\":0,\"ticks\":\"\"}},\"marker\":{\"colorbar\":{\"outlinewidth\":0,\"ticks\":\"\"}},\"type\":\"scatter3d\"}],\"scattercarpet\":[{\"marker\":{\"colorbar\":{\"outlinewidth\":0,\"ticks\":\"\"}},\"type\":\"scattercarpet\"}],\"scattergeo\":[{\"marker\":{\"colorbar\":{\"outlinewidth\":0,\"ticks\":\"\"}},\"type\":\"scattergeo\"}],\"scattergl\":[{\"marker\":{\"colorbar\":{\"outlinewidth\":0,\"ticks\":\"\"}},\"type\":\"scattergl\"}],\"scattermapbox\":[{\"marker\":{\"colorbar\":{\"outlinewidth\":0,\"ticks\":\"\"}},\"type\":\"scattermapbox\"}],\"scatterpolar\":[{\"marker\":{\"colorbar\":{\"outlinewidth\":0,\"ticks\":\"\"}},\"type\":\"scatterpolar\"}],\"scatterpolargl\":[{\"marker\":{\"colorbar\":{\"outlinewidth\":0,\"ticks\":\"\"}},\"type\":\"scatterpolargl\"}],\"scatterternary\":[{\"marker\":{\"colorbar\":{\"outlinewidth\":0,\"ticks\":\"\"}},\"type\":\"scatterternary\"}],\"surface\":[{\"colorbar\":{\"outlinewidth\":0,\"ticks\":\"\"},\"colorscale\":[[0.0,\"#0d0887\"],[0.1111111111111111,\"#46039f\"],[0.2222222222222222,\"#7201a8\"],[0.3333333333333333,\"#9c179e\"],[0.4444444444444444,\"#bd3786\"],[0.5555555555555556,\"#d8576b\"],[0.6666666666666666,\"#ed7953\"],[0.7777777777777778,\"#fb9f3a\"],[0.8888888888888888,\"#fdca26\"],[1.0,\"#f0f921\"]],\"type\":\"surface\"}],\"table\":[{\"cells\":{\"fill\":{\"color\":\"#EBF0F8\"},\"line\":{\"color\":\"white\"}},\"header\":{\"fill\":{\"color\":\"#C8D4E3\"},\"line\":{\"color\":\"white\"}},\"type\":\"table\"}]},\"layout\":{\"annotationdefaults\":{\"arrowcolor\":\"#2a3f5f\",\"arrowhead\":0,\"arrowwidth\":1},\"autotypenumbers\":\"strict\",\"coloraxis\":{\"colorbar\":{\"outlinewidth\":0,\"ticks\":\"\"}},\"colorscale\":{\"diverging\":[[0,\"#8e0152\"],[0.1,\"#c51b7d\"],[0.2,\"#de77ae\"],[0.3,\"#f1b6da\"],[0.4,\"#fde0ef\"],[0.5,\"#f7f7f7\"],[0.6,\"#e6f5d0\"],[0.7,\"#b8e186\"],[0.8,\"#7fbc41\"],[0.9,\"#4d9221\"],[1,\"#276419\"]],\"sequential\":[[0.0,\"#0d0887\"],[0.1111111111111111,\"#46039f\"],[0.2222222222222222,\"#7201a8\"],[0.3333333333333333,\"#9c179e\"],[0.4444444444444444,\"#bd3786\"],[0.5555555555555556,\"#d8576b\"],[0.6666666666666666,\"#ed7953\"],[0.7777777777777778,\"#fb9f3a\"],[0.8888888888888888,\"#fdca26\"],[1.0,\"#f0f921\"]],\"sequentialminus\":[[0.0,\"#0d0887\"],[0.1111111111111111,\"#46039f\"],[0.2222222222222222,\"#7201a8\"],[0.3333333333333333,\"#9c179e\"],[0.4444444444444444,\"#bd3786\"],[0.5555555555555556,\"#d8576b\"],[0.6666666666666666,\"#ed7953\"],[0.7777777777777778,\"#fb9f3a\"],[0.8888888888888888,\"#fdca26\"],[1.0,\"#f0f921\"]]},\"colorway\":[\"#636efa\",\"#EF553B\",\"#00cc96\",\"#ab63fa\",\"#FFA15A\",\"#19d3f3\",\"#FF6692\",\"#B6E880\",\"#FF97FF\",\"#FECB52\"],\"font\":{\"color\":\"#2a3f5f\"},\"geo\":{\"bgcolor\":\"white\",\"lakecolor\":\"white\",\"landcolor\":\"#E5ECF6\",\"showlakes\":true,\"showland\":true,\"subunitcolor\":\"white\"},\"hoverlabel\":{\"align\":\"left\"},\"hovermode\":\"closest\",\"mapbox\":{\"style\":\"light\"},\"paper_bgcolor\":\"white\",\"plot_bgcolor\":\"#E5ECF6\",\"polar\":{\"angularaxis\":{\"gridcolor\":\"white\",\"linecolor\":\"white\",\"ticks\":\"\"},\"bgcolor\":\"#E5ECF6\",\"radialaxis\":{\"gridcolor\":\"white\",\"linecolor\":\"white\",\"ticks\":\"\"}},\"scene\":{\"xaxis\":{\"backgroundcolor\":\"#E5ECF6\",\"gridcolor\":\"white\",\"gridwidth\":2,\"linecolor\":\"white\",\"showbackground\":true,\"ticks\":\"\",\"zerolinecolor\":\"white\"},\"yaxis\":{\"backgroundcolor\":\"#E5ECF6\",\"gridcolor\":\"white\",\"gridwidth\":2,\"linecolor\":\"white\",\"showbackground\":true,\"ticks\":\"\",\"zerolinecolor\":\"white\"},\"zaxis\":{\"backgroundcolor\":\"#E5ECF6\",\"gridcolor\":\"white\",\"gridwidth\":2,\"linecolor\":\"white\",\"showbackground\":true,\"ticks\":\"\",\"zerolinecolor\":\"white\"}},\"shapedefaults\":{\"line\":{\"color\":\"#2a3f5f\"}},\"ternary\":{\"aaxis\":{\"gridcolor\":\"white\",\"linecolor\":\"white\",\"ticks\":\"\"},\"baxis\":{\"gridcolor\":\"white\",\"linecolor\":\"white\",\"ticks\":\"\"},\"bgcolor\":\"#E5ECF6\",\"caxis\":{\"gridcolor\":\"white\",\"linecolor\":\"white\",\"ticks\":\"\"}},\"title\":{\"x\":0.05},\"xaxis\":{\"automargin\":true,\"gridcolor\":\"white\",\"linecolor\":\"white\",\"ticks\":\"\",\"title\":{\"standoff\":15},\"zerolinecolor\":\"white\",\"zerolinewidth\":2},\"yaxis\":{\"automargin\":true,\"gridcolor\":\"white\",\"linecolor\":\"white\",\"ticks\":\"\",\"title\":{\"standoff\":15},\"zerolinecolor\":\"white\",\"zerolinewidth\":2}}},\"xaxis\":{\"anchor\":\"y\",\"domain\":[0.0,1.0],\"title\":{\"text\":\"Model\"}},\"yaxis\":{\"anchor\":\"x\",\"domain\":[0.0,1.0],\"title\":{\"text\":\"Accuracy\"}},\"legend\":{\"tracegroupgap\":0},\"title\":{\"text\":\"Accuracy of all models for extracted the features\"},\"barmode\":\"relative\"},                        {\"responsive\": true}                    ).then(function(){\n",
              "                            \n",
              "var gd = document.getElementById('f0078f8b-e91c-42af-85bb-76f0e4ba1da2');\n",
              "var x = new MutationObserver(function (mutations, observer) {{\n",
              "        var display = window.getComputedStyle(gd).display;\n",
              "        if (!display || display === 'none') {{\n",
              "            console.log([gd, 'removed!']);\n",
              "            Plotly.purge(gd);\n",
              "            observer.disconnect();\n",
              "        }}\n",
              "}});\n",
              "\n",
              "// Listen for the removal of the full notebook cells\n",
              "var notebookContainer = gd.closest('#notebook-container');\n",
              "if (notebookContainer) {{\n",
              "    x.observe(notebookContainer, {childList: true});\n",
              "}}\n",
              "\n",
              "// Listen for the clearing of the current output cell\n",
              "var outputEl = gd.closest('.output');\n",
              "if (outputEl) {{\n",
              "    x.observe(outputEl, {childList: true});\n",
              "}}\n",
              "\n",
              "                        })                };                            </script>        </div>\n",
              "</body>\n",
              "</html>"
            ]
          },
          "metadata": {}
        }
      ]
    },
    {
      "cell_type": "code",
      "source": [
        "import plotly.express as px\n",
        "figbalancedaccuracy2 = px.bar(x=results['Model'], y=results2['Balanced Accuracy'],labels={\"x\":\"Model\",\"y\":\"Accuracy\"},title=\"Balanced accuracy of all models for the extracted features\")\n",
        "figbalancedaccuracy2.show()"
      ],
      "metadata": {
        "id": "zAXB5pi-AveN",
        "colab": {
          "base_uri": "https://localhost:8080/",
          "height": 542
        },
        "outputId": "0f482291-4045-474e-b956-b45d13058dbb"
      },
      "execution_count": 140,
      "outputs": [
        {
          "output_type": "display_data",
          "data": {
            "text/html": [
              "<html>\n",
              "<head><meta charset=\"utf-8\" /></head>\n",
              "<body>\n",
              "    <div>            <script src=\"https://cdnjs.cloudflare.com/ajax/libs/mathjax/2.7.5/MathJax.js?config=TeX-AMS-MML_SVG\"></script><script type=\"text/javascript\">if (window.MathJax) {MathJax.Hub.Config({SVG: {font: \"STIX-Web\"}});}</script>                <script type=\"text/javascript\">window.PlotlyConfig = {MathJaxConfig: 'local'};</script>\n",
              "        <script src=\"https://cdn.plot.ly/plotly-2.8.3.min.js\"></script>                <div id=\"cefdaf9c-a174-4961-a0a4-1e14f70f5bef\" class=\"plotly-graph-div\" style=\"height:525px; width:100%;\"></div>            <script type=\"text/javascript\">                                    window.PLOTLYENV=window.PLOTLYENV || {};                                    if (document.getElementById(\"cefdaf9c-a174-4961-a0a4-1e14f70f5bef\")) {                    Plotly.newPlot(                        \"cefdaf9c-a174-4961-a0a4-1e14f70f5bef\",                        [{\"alignmentgroup\":\"True\",\"hovertemplate\":\"Model=%{x}<br>Accuracy=%{y}<extra></extra>\",\"legendgroup\":\"\",\"marker\":{\"color\":\"#636efa\",\"pattern\":{\"shape\":\"\"}},\"name\":\"\",\"offsetgroup\":\"\",\"orientation\":\"v\",\"showlegend\":false,\"textposition\":\"auto\",\"x\":[\"QuadraticDiscriminantAnalysis\",\"LGBMClassifier\",\"BaggingClassifier\",\"XGBClassifier\",\"AdaBoostClassifier\",\"DecisionTreeClassifier\",\"RandomForestClassifier\",\"ExtraTreesClassifier\",\"SGDClassifier\",\"CalibratedClassifierCV\",\"Perceptron\",\"PassiveAggressiveClassifier\",\"LinearSVC\",\"LogisticRegression\",\"RidgeClassifierCV\",\"ExtraTreeClassifier\",\"RidgeClassifier\",\"BernoulliNB\",\"GaussianNB\",\"NearestCentroid\",\"SVC\",\"NuSVC\",\"LinearDiscriminantAnalysis\",\"KNeighborsClassifier\",\"LabelSpreading\",\"LabelPropagation\",\"DummyClassifier\"],\"xaxis\":\"x\",\"y\":[0.9680348355854096,0.9576271186440678,0.952833320315551,0.944915254237288,0.9374463016480512,0.9343220338983051,0.9322033898305084,0.9318323830352262,0.930084745762712,0.930084745762712,0.9289717253768648,0.9239924236507068,0.9189350152308052,0.91700187456065,0.9099039287666952,0.9089764117784894,0.902063969382176,0.9015074591892523,0.894409513395298,0.8907287354526283,0.8825470592829805,0.8808775287042099,0.8780949777395923,0.8713680387409201,0.614406779661017,0.614406779661017,0.5],\"yaxis\":\"y\",\"type\":\"bar\"}],                        {\"template\":{\"data\":{\"bar\":[{\"error_x\":{\"color\":\"#2a3f5f\"},\"error_y\":{\"color\":\"#2a3f5f\"},\"marker\":{\"line\":{\"color\":\"#E5ECF6\",\"width\":0.5},\"pattern\":{\"fillmode\":\"overlay\",\"size\":10,\"solidity\":0.2}},\"type\":\"bar\"}],\"barpolar\":[{\"marker\":{\"line\":{\"color\":\"#E5ECF6\",\"width\":0.5},\"pattern\":{\"fillmode\":\"overlay\",\"size\":10,\"solidity\":0.2}},\"type\":\"barpolar\"}],\"carpet\":[{\"aaxis\":{\"endlinecolor\":\"#2a3f5f\",\"gridcolor\":\"white\",\"linecolor\":\"white\",\"minorgridcolor\":\"white\",\"startlinecolor\":\"#2a3f5f\"},\"baxis\":{\"endlinecolor\":\"#2a3f5f\",\"gridcolor\":\"white\",\"linecolor\":\"white\",\"minorgridcolor\":\"white\",\"startlinecolor\":\"#2a3f5f\"},\"type\":\"carpet\"}],\"choropleth\":[{\"colorbar\":{\"outlinewidth\":0,\"ticks\":\"\"},\"type\":\"choropleth\"}],\"contour\":[{\"colorbar\":{\"outlinewidth\":0,\"ticks\":\"\"},\"colorscale\":[[0.0,\"#0d0887\"],[0.1111111111111111,\"#46039f\"],[0.2222222222222222,\"#7201a8\"],[0.3333333333333333,\"#9c179e\"],[0.4444444444444444,\"#bd3786\"],[0.5555555555555556,\"#d8576b\"],[0.6666666666666666,\"#ed7953\"],[0.7777777777777778,\"#fb9f3a\"],[0.8888888888888888,\"#fdca26\"],[1.0,\"#f0f921\"]],\"type\":\"contour\"}],\"contourcarpet\":[{\"colorbar\":{\"outlinewidth\":0,\"ticks\":\"\"},\"type\":\"contourcarpet\"}],\"heatmap\":[{\"colorbar\":{\"outlinewidth\":0,\"ticks\":\"\"},\"colorscale\":[[0.0,\"#0d0887\"],[0.1111111111111111,\"#46039f\"],[0.2222222222222222,\"#7201a8\"],[0.3333333333333333,\"#9c179e\"],[0.4444444444444444,\"#bd3786\"],[0.5555555555555556,\"#d8576b\"],[0.6666666666666666,\"#ed7953\"],[0.7777777777777778,\"#fb9f3a\"],[0.8888888888888888,\"#fdca26\"],[1.0,\"#f0f921\"]],\"type\":\"heatmap\"}],\"heatmapgl\":[{\"colorbar\":{\"outlinewidth\":0,\"ticks\":\"\"},\"colorscale\":[[0.0,\"#0d0887\"],[0.1111111111111111,\"#46039f\"],[0.2222222222222222,\"#7201a8\"],[0.3333333333333333,\"#9c179e\"],[0.4444444444444444,\"#bd3786\"],[0.5555555555555556,\"#d8576b\"],[0.6666666666666666,\"#ed7953\"],[0.7777777777777778,\"#fb9f3a\"],[0.8888888888888888,\"#fdca26\"],[1.0,\"#f0f921\"]],\"type\":\"heatmapgl\"}],\"histogram\":[{\"marker\":{\"pattern\":{\"fillmode\":\"overlay\",\"size\":10,\"solidity\":0.2}},\"type\":\"histogram\"}],\"histogram2d\":[{\"colorbar\":{\"outlinewidth\":0,\"ticks\":\"\"},\"colorscale\":[[0.0,\"#0d0887\"],[0.1111111111111111,\"#46039f\"],[0.2222222222222222,\"#7201a8\"],[0.3333333333333333,\"#9c179e\"],[0.4444444444444444,\"#bd3786\"],[0.5555555555555556,\"#d8576b\"],[0.6666666666666666,\"#ed7953\"],[0.7777777777777778,\"#fb9f3a\"],[0.8888888888888888,\"#fdca26\"],[1.0,\"#f0f921\"]],\"type\":\"histogram2d\"}],\"histogram2dcontour\":[{\"colorbar\":{\"outlinewidth\":0,\"ticks\":\"\"},\"colorscale\":[[0.0,\"#0d0887\"],[0.1111111111111111,\"#46039f\"],[0.2222222222222222,\"#7201a8\"],[0.3333333333333333,\"#9c179e\"],[0.4444444444444444,\"#bd3786\"],[0.5555555555555556,\"#d8576b\"],[0.6666666666666666,\"#ed7953\"],[0.7777777777777778,\"#fb9f3a\"],[0.8888888888888888,\"#fdca26\"],[1.0,\"#f0f921\"]],\"type\":\"histogram2dcontour\"}],\"mesh3d\":[{\"colorbar\":{\"outlinewidth\":0,\"ticks\":\"\"},\"type\":\"mesh3d\"}],\"parcoords\":[{\"line\":{\"colorbar\":{\"outlinewidth\":0,\"ticks\":\"\"}},\"type\":\"parcoords\"}],\"pie\":[{\"automargin\":true,\"type\":\"pie\"}],\"scatter\":[{\"marker\":{\"colorbar\":{\"outlinewidth\":0,\"ticks\":\"\"}},\"type\":\"scatter\"}],\"scatter3d\":[{\"line\":{\"colorbar\":{\"outlinewidth\":0,\"ticks\":\"\"}},\"marker\":{\"colorbar\":{\"outlinewidth\":0,\"ticks\":\"\"}},\"type\":\"scatter3d\"}],\"scattercarpet\":[{\"marker\":{\"colorbar\":{\"outlinewidth\":0,\"ticks\":\"\"}},\"type\":\"scattercarpet\"}],\"scattergeo\":[{\"marker\":{\"colorbar\":{\"outlinewidth\":0,\"ticks\":\"\"}},\"type\":\"scattergeo\"}],\"scattergl\":[{\"marker\":{\"colorbar\":{\"outlinewidth\":0,\"ticks\":\"\"}},\"type\":\"scattergl\"}],\"scattermapbox\":[{\"marker\":{\"colorbar\":{\"outlinewidth\":0,\"ticks\":\"\"}},\"type\":\"scattermapbox\"}],\"scatterpolar\":[{\"marker\":{\"colorbar\":{\"outlinewidth\":0,\"ticks\":\"\"}},\"type\":\"scatterpolar\"}],\"scatterpolargl\":[{\"marker\":{\"colorbar\":{\"outlinewidth\":0,\"ticks\":\"\"}},\"type\":\"scatterpolargl\"}],\"scatterternary\":[{\"marker\":{\"colorbar\":{\"outlinewidth\":0,\"ticks\":\"\"}},\"type\":\"scatterternary\"}],\"surface\":[{\"colorbar\":{\"outlinewidth\":0,\"ticks\":\"\"},\"colorscale\":[[0.0,\"#0d0887\"],[0.1111111111111111,\"#46039f\"],[0.2222222222222222,\"#7201a8\"],[0.3333333333333333,\"#9c179e\"],[0.4444444444444444,\"#bd3786\"],[0.5555555555555556,\"#d8576b\"],[0.6666666666666666,\"#ed7953\"],[0.7777777777777778,\"#fb9f3a\"],[0.8888888888888888,\"#fdca26\"],[1.0,\"#f0f921\"]],\"type\":\"surface\"}],\"table\":[{\"cells\":{\"fill\":{\"color\":\"#EBF0F8\"},\"line\":{\"color\":\"white\"}},\"header\":{\"fill\":{\"color\":\"#C8D4E3\"},\"line\":{\"color\":\"white\"}},\"type\":\"table\"}]},\"layout\":{\"annotationdefaults\":{\"arrowcolor\":\"#2a3f5f\",\"arrowhead\":0,\"arrowwidth\":1},\"autotypenumbers\":\"strict\",\"coloraxis\":{\"colorbar\":{\"outlinewidth\":0,\"ticks\":\"\"}},\"colorscale\":{\"diverging\":[[0,\"#8e0152\"],[0.1,\"#c51b7d\"],[0.2,\"#de77ae\"],[0.3,\"#f1b6da\"],[0.4,\"#fde0ef\"],[0.5,\"#f7f7f7\"],[0.6,\"#e6f5d0\"],[0.7,\"#b8e186\"],[0.8,\"#7fbc41\"],[0.9,\"#4d9221\"],[1,\"#276419\"]],\"sequential\":[[0.0,\"#0d0887\"],[0.1111111111111111,\"#46039f\"],[0.2222222222222222,\"#7201a8\"],[0.3333333333333333,\"#9c179e\"],[0.4444444444444444,\"#bd3786\"],[0.5555555555555556,\"#d8576b\"],[0.6666666666666666,\"#ed7953\"],[0.7777777777777778,\"#fb9f3a\"],[0.8888888888888888,\"#fdca26\"],[1.0,\"#f0f921\"]],\"sequentialminus\":[[0.0,\"#0d0887\"],[0.1111111111111111,\"#46039f\"],[0.2222222222222222,\"#7201a8\"],[0.3333333333333333,\"#9c179e\"],[0.4444444444444444,\"#bd3786\"],[0.5555555555555556,\"#d8576b\"],[0.6666666666666666,\"#ed7953\"],[0.7777777777777778,\"#fb9f3a\"],[0.8888888888888888,\"#fdca26\"],[1.0,\"#f0f921\"]]},\"colorway\":[\"#636efa\",\"#EF553B\",\"#00cc96\",\"#ab63fa\",\"#FFA15A\",\"#19d3f3\",\"#FF6692\",\"#B6E880\",\"#FF97FF\",\"#FECB52\"],\"font\":{\"color\":\"#2a3f5f\"},\"geo\":{\"bgcolor\":\"white\",\"lakecolor\":\"white\",\"landcolor\":\"#E5ECF6\",\"showlakes\":true,\"showland\":true,\"subunitcolor\":\"white\"},\"hoverlabel\":{\"align\":\"left\"},\"hovermode\":\"closest\",\"mapbox\":{\"style\":\"light\"},\"paper_bgcolor\":\"white\",\"plot_bgcolor\":\"#E5ECF6\",\"polar\":{\"angularaxis\":{\"gridcolor\":\"white\",\"linecolor\":\"white\",\"ticks\":\"\"},\"bgcolor\":\"#E5ECF6\",\"radialaxis\":{\"gridcolor\":\"white\",\"linecolor\":\"white\",\"ticks\":\"\"}},\"scene\":{\"xaxis\":{\"backgroundcolor\":\"#E5ECF6\",\"gridcolor\":\"white\",\"gridwidth\":2,\"linecolor\":\"white\",\"showbackground\":true,\"ticks\":\"\",\"zerolinecolor\":\"white\"},\"yaxis\":{\"backgroundcolor\":\"#E5ECF6\",\"gridcolor\":\"white\",\"gridwidth\":2,\"linecolor\":\"white\",\"showbackground\":true,\"ticks\":\"\",\"zerolinecolor\":\"white\"},\"zaxis\":{\"backgroundcolor\":\"#E5ECF6\",\"gridcolor\":\"white\",\"gridwidth\":2,\"linecolor\":\"white\",\"showbackground\":true,\"ticks\":\"\",\"zerolinecolor\":\"white\"}},\"shapedefaults\":{\"line\":{\"color\":\"#2a3f5f\"}},\"ternary\":{\"aaxis\":{\"gridcolor\":\"white\",\"linecolor\":\"white\",\"ticks\":\"\"},\"baxis\":{\"gridcolor\":\"white\",\"linecolor\":\"white\",\"ticks\":\"\"},\"bgcolor\":\"#E5ECF6\",\"caxis\":{\"gridcolor\":\"white\",\"linecolor\":\"white\",\"ticks\":\"\"}},\"title\":{\"x\":0.05},\"xaxis\":{\"automargin\":true,\"gridcolor\":\"white\",\"linecolor\":\"white\",\"ticks\":\"\",\"title\":{\"standoff\":15},\"zerolinecolor\":\"white\",\"zerolinewidth\":2},\"yaxis\":{\"automargin\":true,\"gridcolor\":\"white\",\"linecolor\":\"white\",\"ticks\":\"\",\"title\":{\"standoff\":15},\"zerolinecolor\":\"white\",\"zerolinewidth\":2}}},\"xaxis\":{\"anchor\":\"y\",\"domain\":[0.0,1.0],\"title\":{\"text\":\"Model\"}},\"yaxis\":{\"anchor\":\"x\",\"domain\":[0.0,1.0],\"title\":{\"text\":\"Accuracy\"}},\"legend\":{\"tracegroupgap\":0},\"title\":{\"text\":\"Balanced accuracy of all models for the extracted features\"},\"barmode\":\"relative\"},                        {\"responsive\": true}                    ).then(function(){\n",
              "                            \n",
              "var gd = document.getElementById('cefdaf9c-a174-4961-a0a4-1e14f70f5bef');\n",
              "var x = new MutationObserver(function (mutations, observer) {{\n",
              "        var display = window.getComputedStyle(gd).display;\n",
              "        if (!display || display === 'none') {{\n",
              "            console.log([gd, 'removed!']);\n",
              "            Plotly.purge(gd);\n",
              "            observer.disconnect();\n",
              "        }}\n",
              "}});\n",
              "\n",
              "// Listen for the removal of the full notebook cells\n",
              "var notebookContainer = gd.closest('#notebook-container');\n",
              "if (notebookContainer) {{\n",
              "    x.observe(notebookContainer, {childList: true});\n",
              "}}\n",
              "\n",
              "// Listen for the clearing of the current output cell\n",
              "var outputEl = gd.closest('.output');\n",
              "if (outputEl) {{\n",
              "    x.observe(outputEl, {childList: true});\n",
              "}}\n",
              "\n",
              "                        })                };                            </script>        </div>\n",
              "</body>\n",
              "</html>"
            ]
          },
          "metadata": {}
        }
      ]
    },
    {
      "cell_type": "code",
      "source": [
        "import plotly.express as px\n",
        "figf1score2 = px.bar(x=results['Model'], y=results2['F1 Score'],labels={\"x\":\"Model\",\"y\":\"Accuracy\"},title=\"F1 scores of all models for the extracted features\")\n",
        "figf1score2.show()"
      ],
      "metadata": {
        "id": "VYjfqeVIAvhu",
        "colab": {
          "base_uri": "https://localhost:8080/",
          "height": 542
        },
        "outputId": "b10370d7-ca94-4b25-deba-5237a9650583"
      },
      "execution_count": 136,
      "outputs": [
        {
          "output_type": "display_data",
          "data": {
            "text/html": [
              "<html>\n",
              "<head><meta charset=\"utf-8\" /></head>\n",
              "<body>\n",
              "    <div>            <script src=\"https://cdnjs.cloudflare.com/ajax/libs/mathjax/2.7.5/MathJax.js?config=TeX-AMS-MML_SVG\"></script><script type=\"text/javascript\">if (window.MathJax) {MathJax.Hub.Config({SVG: {font: \"STIX-Web\"}});}</script>                <script type=\"text/javascript\">window.PlotlyConfig = {MathJaxConfig: 'local'};</script>\n",
              "        <script src=\"https://cdn.plot.ly/plotly-2.8.3.min.js\"></script>                <div id=\"17fd598c-c026-45d1-87eb-87c0e5dcaa69\" class=\"plotly-graph-div\" style=\"height:525px; width:100%;\"></div>            <script type=\"text/javascript\">                                    window.PLOTLYENV=window.PLOTLYENV || {};                                    if (document.getElementById(\"17fd598c-c026-45d1-87eb-87c0e5dcaa69\")) {                    Plotly.newPlot(                        \"17fd598c-c026-45d1-87eb-87c0e5dcaa69\",                        [{\"alignmentgroup\":\"True\",\"hovertemplate\":\"Model=%{x}<br>Accuracy=%{y}<extra></extra>\",\"legendgroup\":\"\",\"marker\":{\"color\":\"#636efa\",\"pattern\":{\"shape\":\"\"}},\"name\":\"\",\"offsetgroup\":\"\",\"orientation\":\"v\",\"showlegend\":false,\"textposition\":\"auto\",\"x\":[\"QuadraticDiscriminantAnalysis\",\"LGBMClassifier\",\"BaggingClassifier\",\"XGBClassifier\",\"AdaBoostClassifier\",\"DecisionTreeClassifier\",\"RandomForestClassifier\",\"ExtraTreesClassifier\",\"SGDClassifier\",\"CalibratedClassifierCV\",\"Perceptron\",\"PassiveAggressiveClassifier\",\"LinearSVC\",\"LogisticRegression\",\"RidgeClassifierCV\",\"ExtraTreeClassifier\",\"RidgeClassifier\",\"BernoulliNB\",\"GaussianNB\",\"NearestCentroid\",\"SVC\",\"NuSVC\",\"LinearDiscriminantAnalysis\",\"KNeighborsClassifier\",\"LabelSpreading\",\"LabelPropagation\",\"DummyClassifier\"],\"xaxis\":\"x\",\"y\":[0.9669000055291735,0.9558455866628148,0.9514462388495152,0.9425539405630536,0.935992946912023,0.9314431880184008,0.9292165034938532,0.9292730418558232,0.9269881544904776,0.9269881544904776,0.9271374078998048,0.922759899044704,0.9159445978989508,0.9136720507363616,0.907135583342547,0.9072757319919108,0.9006787107255528,0.9007048640607781,0.8940800438228174,0.8896623793824768,0.8778926729430224,0.8784593592525439,0.87854805496093,0.8719071303247928,0.531514390306352,0.531514390306352,0.3102962011136371],\"yaxis\":\"y\",\"type\":\"bar\"}],                        {\"template\":{\"data\":{\"bar\":[{\"error_x\":{\"color\":\"#2a3f5f\"},\"error_y\":{\"color\":\"#2a3f5f\"},\"marker\":{\"line\":{\"color\":\"#E5ECF6\",\"width\":0.5},\"pattern\":{\"fillmode\":\"overlay\",\"size\":10,\"solidity\":0.2}},\"type\":\"bar\"}],\"barpolar\":[{\"marker\":{\"line\":{\"color\":\"#E5ECF6\",\"width\":0.5},\"pattern\":{\"fillmode\":\"overlay\",\"size\":10,\"solidity\":0.2}},\"type\":\"barpolar\"}],\"carpet\":[{\"aaxis\":{\"endlinecolor\":\"#2a3f5f\",\"gridcolor\":\"white\",\"linecolor\":\"white\",\"minorgridcolor\":\"white\",\"startlinecolor\":\"#2a3f5f\"},\"baxis\":{\"endlinecolor\":\"#2a3f5f\",\"gridcolor\":\"white\",\"linecolor\":\"white\",\"minorgridcolor\":\"white\",\"startlinecolor\":\"#2a3f5f\"},\"type\":\"carpet\"}],\"choropleth\":[{\"colorbar\":{\"outlinewidth\":0,\"ticks\":\"\"},\"type\":\"choropleth\"}],\"contour\":[{\"colorbar\":{\"outlinewidth\":0,\"ticks\":\"\"},\"colorscale\":[[0.0,\"#0d0887\"],[0.1111111111111111,\"#46039f\"],[0.2222222222222222,\"#7201a8\"],[0.3333333333333333,\"#9c179e\"],[0.4444444444444444,\"#bd3786\"],[0.5555555555555556,\"#d8576b\"],[0.6666666666666666,\"#ed7953\"],[0.7777777777777778,\"#fb9f3a\"],[0.8888888888888888,\"#fdca26\"],[1.0,\"#f0f921\"]],\"type\":\"contour\"}],\"contourcarpet\":[{\"colorbar\":{\"outlinewidth\":0,\"ticks\":\"\"},\"type\":\"contourcarpet\"}],\"heatmap\":[{\"colorbar\":{\"outlinewidth\":0,\"ticks\":\"\"},\"colorscale\":[[0.0,\"#0d0887\"],[0.1111111111111111,\"#46039f\"],[0.2222222222222222,\"#7201a8\"],[0.3333333333333333,\"#9c179e\"],[0.4444444444444444,\"#bd3786\"],[0.5555555555555556,\"#d8576b\"],[0.6666666666666666,\"#ed7953\"],[0.7777777777777778,\"#fb9f3a\"],[0.8888888888888888,\"#fdca26\"],[1.0,\"#f0f921\"]],\"type\":\"heatmap\"}],\"heatmapgl\":[{\"colorbar\":{\"outlinewidth\":0,\"ticks\":\"\"},\"colorscale\":[[0.0,\"#0d0887\"],[0.1111111111111111,\"#46039f\"],[0.2222222222222222,\"#7201a8\"],[0.3333333333333333,\"#9c179e\"],[0.4444444444444444,\"#bd3786\"],[0.5555555555555556,\"#d8576b\"],[0.6666666666666666,\"#ed7953\"],[0.7777777777777778,\"#fb9f3a\"],[0.8888888888888888,\"#fdca26\"],[1.0,\"#f0f921\"]],\"type\":\"heatmapgl\"}],\"histogram\":[{\"marker\":{\"pattern\":{\"fillmode\":\"overlay\",\"size\":10,\"solidity\":0.2}},\"type\":\"histogram\"}],\"histogram2d\":[{\"colorbar\":{\"outlinewidth\":0,\"ticks\":\"\"},\"colorscale\":[[0.0,\"#0d0887\"],[0.1111111111111111,\"#46039f\"],[0.2222222222222222,\"#7201a8\"],[0.3333333333333333,\"#9c179e\"],[0.4444444444444444,\"#bd3786\"],[0.5555555555555556,\"#d8576b\"],[0.6666666666666666,\"#ed7953\"],[0.7777777777777778,\"#fb9f3a\"],[0.8888888888888888,\"#fdca26\"],[1.0,\"#f0f921\"]],\"type\":\"histogram2d\"}],\"histogram2dcontour\":[{\"colorbar\":{\"outlinewidth\":0,\"ticks\":\"\"},\"colorscale\":[[0.0,\"#0d0887\"],[0.1111111111111111,\"#46039f\"],[0.2222222222222222,\"#7201a8\"],[0.3333333333333333,\"#9c179e\"],[0.4444444444444444,\"#bd3786\"],[0.5555555555555556,\"#d8576b\"],[0.6666666666666666,\"#ed7953\"],[0.7777777777777778,\"#fb9f3a\"],[0.8888888888888888,\"#fdca26\"],[1.0,\"#f0f921\"]],\"type\":\"histogram2dcontour\"}],\"mesh3d\":[{\"colorbar\":{\"outlinewidth\":0,\"ticks\":\"\"},\"type\":\"mesh3d\"}],\"parcoords\":[{\"line\":{\"colorbar\":{\"outlinewidth\":0,\"ticks\":\"\"}},\"type\":\"parcoords\"}],\"pie\":[{\"automargin\":true,\"type\":\"pie\"}],\"scatter\":[{\"marker\":{\"colorbar\":{\"outlinewidth\":0,\"ticks\":\"\"}},\"type\":\"scatter\"}],\"scatter3d\":[{\"line\":{\"colorbar\":{\"outlinewidth\":0,\"ticks\":\"\"}},\"marker\":{\"colorbar\":{\"outlinewidth\":0,\"ticks\":\"\"}},\"type\":\"scatter3d\"}],\"scattercarpet\":[{\"marker\":{\"colorbar\":{\"outlinewidth\":0,\"ticks\":\"\"}},\"type\":\"scattercarpet\"}],\"scattergeo\":[{\"marker\":{\"colorbar\":{\"outlinewidth\":0,\"ticks\":\"\"}},\"type\":\"scattergeo\"}],\"scattergl\":[{\"marker\":{\"colorbar\":{\"outlinewidth\":0,\"ticks\":\"\"}},\"type\":\"scattergl\"}],\"scattermapbox\":[{\"marker\":{\"colorbar\":{\"outlinewidth\":0,\"ticks\":\"\"}},\"type\":\"scattermapbox\"}],\"scatterpolar\":[{\"marker\":{\"colorbar\":{\"outlinewidth\":0,\"ticks\":\"\"}},\"type\":\"scatterpolar\"}],\"scatterpolargl\":[{\"marker\":{\"colorbar\":{\"outlinewidth\":0,\"ticks\":\"\"}},\"type\":\"scatterpolargl\"}],\"scatterternary\":[{\"marker\":{\"colorbar\":{\"outlinewidth\":0,\"ticks\":\"\"}},\"type\":\"scatterternary\"}],\"surface\":[{\"colorbar\":{\"outlinewidth\":0,\"ticks\":\"\"},\"colorscale\":[[0.0,\"#0d0887\"],[0.1111111111111111,\"#46039f\"],[0.2222222222222222,\"#7201a8\"],[0.3333333333333333,\"#9c179e\"],[0.4444444444444444,\"#bd3786\"],[0.5555555555555556,\"#d8576b\"],[0.6666666666666666,\"#ed7953\"],[0.7777777777777778,\"#fb9f3a\"],[0.8888888888888888,\"#fdca26\"],[1.0,\"#f0f921\"]],\"type\":\"surface\"}],\"table\":[{\"cells\":{\"fill\":{\"color\":\"#EBF0F8\"},\"line\":{\"color\":\"white\"}},\"header\":{\"fill\":{\"color\":\"#C8D4E3\"},\"line\":{\"color\":\"white\"}},\"type\":\"table\"}]},\"layout\":{\"annotationdefaults\":{\"arrowcolor\":\"#2a3f5f\",\"arrowhead\":0,\"arrowwidth\":1},\"autotypenumbers\":\"strict\",\"coloraxis\":{\"colorbar\":{\"outlinewidth\":0,\"ticks\":\"\"}},\"colorscale\":{\"diverging\":[[0,\"#8e0152\"],[0.1,\"#c51b7d\"],[0.2,\"#de77ae\"],[0.3,\"#f1b6da\"],[0.4,\"#fde0ef\"],[0.5,\"#f7f7f7\"],[0.6,\"#e6f5d0\"],[0.7,\"#b8e186\"],[0.8,\"#7fbc41\"],[0.9,\"#4d9221\"],[1,\"#276419\"]],\"sequential\":[[0.0,\"#0d0887\"],[0.1111111111111111,\"#46039f\"],[0.2222222222222222,\"#7201a8\"],[0.3333333333333333,\"#9c179e\"],[0.4444444444444444,\"#bd3786\"],[0.5555555555555556,\"#d8576b\"],[0.6666666666666666,\"#ed7953\"],[0.7777777777777778,\"#fb9f3a\"],[0.8888888888888888,\"#fdca26\"],[1.0,\"#f0f921\"]],\"sequentialminus\":[[0.0,\"#0d0887\"],[0.1111111111111111,\"#46039f\"],[0.2222222222222222,\"#7201a8\"],[0.3333333333333333,\"#9c179e\"],[0.4444444444444444,\"#bd3786\"],[0.5555555555555556,\"#d8576b\"],[0.6666666666666666,\"#ed7953\"],[0.7777777777777778,\"#fb9f3a\"],[0.8888888888888888,\"#fdca26\"],[1.0,\"#f0f921\"]]},\"colorway\":[\"#636efa\",\"#EF553B\",\"#00cc96\",\"#ab63fa\",\"#FFA15A\",\"#19d3f3\",\"#FF6692\",\"#B6E880\",\"#FF97FF\",\"#FECB52\"],\"font\":{\"color\":\"#2a3f5f\"},\"geo\":{\"bgcolor\":\"white\",\"lakecolor\":\"white\",\"landcolor\":\"#E5ECF6\",\"showlakes\":true,\"showland\":true,\"subunitcolor\":\"white\"},\"hoverlabel\":{\"align\":\"left\"},\"hovermode\":\"closest\",\"mapbox\":{\"style\":\"light\"},\"paper_bgcolor\":\"white\",\"plot_bgcolor\":\"#E5ECF6\",\"polar\":{\"angularaxis\":{\"gridcolor\":\"white\",\"linecolor\":\"white\",\"ticks\":\"\"},\"bgcolor\":\"#E5ECF6\",\"radialaxis\":{\"gridcolor\":\"white\",\"linecolor\":\"white\",\"ticks\":\"\"}},\"scene\":{\"xaxis\":{\"backgroundcolor\":\"#E5ECF6\",\"gridcolor\":\"white\",\"gridwidth\":2,\"linecolor\":\"white\",\"showbackground\":true,\"ticks\":\"\",\"zerolinecolor\":\"white\"},\"yaxis\":{\"backgroundcolor\":\"#E5ECF6\",\"gridcolor\":\"white\",\"gridwidth\":2,\"linecolor\":\"white\",\"showbackground\":true,\"ticks\":\"\",\"zerolinecolor\":\"white\"},\"zaxis\":{\"backgroundcolor\":\"#E5ECF6\",\"gridcolor\":\"white\",\"gridwidth\":2,\"linecolor\":\"white\",\"showbackground\":true,\"ticks\":\"\",\"zerolinecolor\":\"white\"}},\"shapedefaults\":{\"line\":{\"color\":\"#2a3f5f\"}},\"ternary\":{\"aaxis\":{\"gridcolor\":\"white\",\"linecolor\":\"white\",\"ticks\":\"\"},\"baxis\":{\"gridcolor\":\"white\",\"linecolor\":\"white\",\"ticks\":\"\"},\"bgcolor\":\"#E5ECF6\",\"caxis\":{\"gridcolor\":\"white\",\"linecolor\":\"white\",\"ticks\":\"\"}},\"title\":{\"x\":0.05},\"xaxis\":{\"automargin\":true,\"gridcolor\":\"white\",\"linecolor\":\"white\",\"ticks\":\"\",\"title\":{\"standoff\":15},\"zerolinecolor\":\"white\",\"zerolinewidth\":2},\"yaxis\":{\"automargin\":true,\"gridcolor\":\"white\",\"linecolor\":\"white\",\"ticks\":\"\",\"title\":{\"standoff\":15},\"zerolinecolor\":\"white\",\"zerolinewidth\":2}}},\"xaxis\":{\"anchor\":\"y\",\"domain\":[0.0,1.0],\"title\":{\"text\":\"Model\"}},\"yaxis\":{\"anchor\":\"x\",\"domain\":[0.0,1.0],\"title\":{\"text\":\"Accuracy\"}},\"legend\":{\"tracegroupgap\":0},\"title\":{\"text\":\"F1 scores of all models for extracted features\"},\"barmode\":\"relative\"},                        {\"responsive\": true}                    ).then(function(){\n",
              "                            \n",
              "var gd = document.getElementById('17fd598c-c026-45d1-87eb-87c0e5dcaa69');\n",
              "var x = new MutationObserver(function (mutations, observer) {{\n",
              "        var display = window.getComputedStyle(gd).display;\n",
              "        if (!display || display === 'none') {{\n",
              "            console.log([gd, 'removed!']);\n",
              "            Plotly.purge(gd);\n",
              "            observer.disconnect();\n",
              "        }}\n",
              "}});\n",
              "\n",
              "// Listen for the removal of the full notebook cells\n",
              "var notebookContainer = gd.closest('#notebook-container');\n",
              "if (notebookContainer) {{\n",
              "    x.observe(notebookContainer, {childList: true});\n",
              "}}\n",
              "\n",
              "// Listen for the clearing of the current output cell\n",
              "var outputEl = gd.closest('.output');\n",
              "if (outputEl) {{\n",
              "    x.observe(outputEl, {childList: true});\n",
              "}}\n",
              "\n",
              "                        })                };                            </script>        </div>\n",
              "</body>\n",
              "</html>"
            ]
          },
          "metadata": {}
        }
      ]
    },
    {
      "cell_type": "code",
      "source": [
        "import plotly.express as px\n",
        "figaucroc2 = px.bar(x=results['Model'], y=results2['ROC AUC'],labels={\"x\":\"Model\",\"y\":\"Accuracy\"},title=\"AUC-ROC of all models for the extracted features\")\n",
        "figaucroc2.show()"
      ],
      "metadata": {
        "id": "Cvv-qlgxAvr0",
        "colab": {
          "base_uri": "https://localhost:8080/",
          "height": 542
        },
        "outputId": "353d8156-20f7-4e9d-9d79-44b69eb866b9"
      },
      "execution_count": 138,
      "outputs": [
        {
          "output_type": "display_data",
          "data": {
            "text/html": [
              "<html>\n",
              "<head><meta charset=\"utf-8\" /></head>\n",
              "<body>\n",
              "    <div>            <script src=\"https://cdnjs.cloudflare.com/ajax/libs/mathjax/2.7.5/MathJax.js?config=TeX-AMS-MML_SVG\"></script><script type=\"text/javascript\">if (window.MathJax) {MathJax.Hub.Config({SVG: {font: \"STIX-Web\"}});}</script>                <script type=\"text/javascript\">window.PlotlyConfig = {MathJaxConfig: 'local'};</script>\n",
              "        <script src=\"https://cdn.plot.ly/plotly-2.8.3.min.js\"></script>                <div id=\"85f59198-7fb7-4a20-8a1e-da0fc18107df\" class=\"plotly-graph-div\" style=\"height:525px; width:100%;\"></div>            <script type=\"text/javascript\">                                    window.PLOTLYENV=window.PLOTLYENV || {};                                    if (document.getElementById(\"85f59198-7fb7-4a20-8a1e-da0fc18107df\")) {                    Plotly.newPlot(                        \"85f59198-7fb7-4a20-8a1e-da0fc18107df\",                        [{\"alignmentgroup\":\"True\",\"hovertemplate\":\"Model=%{x}<br>Accuracy=%{y}<extra></extra>\",\"legendgroup\":\"\",\"marker\":{\"color\":\"#636efa\",\"pattern\":{\"shape\":\"\"}},\"name\":\"\",\"offsetgroup\":\"\",\"orientation\":\"v\",\"showlegend\":false,\"textposition\":\"auto\",\"x\":[\"QuadraticDiscriminantAnalysis\",\"LGBMClassifier\",\"BaggingClassifier\",\"XGBClassifier\",\"AdaBoostClassifier\",\"DecisionTreeClassifier\",\"RandomForestClassifier\",\"ExtraTreesClassifier\",\"SGDClassifier\",\"CalibratedClassifierCV\",\"Perceptron\",\"PassiveAggressiveClassifier\",\"LinearSVC\",\"LogisticRegression\",\"RidgeClassifierCV\",\"ExtraTreeClassifier\",\"RidgeClassifier\",\"BernoulliNB\",\"GaussianNB\",\"NearestCentroid\",\"SVC\",\"NuSVC\",\"LinearDiscriminantAnalysis\",\"KNeighborsClassifier\",\"LabelSpreading\",\"LabelPropagation\",\"DummyClassifier\"],\"xaxis\":\"x\",\"y\":[0.9680348355854098,0.9576271186440678,0.952833320315551,0.944915254237288,0.9374463016480512,0.9343220338983051,0.9322033898305084,0.931832383035226,0.930084745762712,0.930084745762712,0.9289717253768648,0.9239924236507068,0.9189350152308052,0.91700187456065,0.9099039287666952,0.9089764117784896,0.902063969382176,0.9015074591892523,0.8944095133952981,0.8907287354526283,0.8825470592829806,0.88087752870421,0.8780949777395922,0.8713680387409202,0.614406779661017,0.614406779661017,0.5],\"yaxis\":\"y\",\"type\":\"bar\"}],                        {\"template\":{\"data\":{\"bar\":[{\"error_x\":{\"color\":\"#2a3f5f\"},\"error_y\":{\"color\":\"#2a3f5f\"},\"marker\":{\"line\":{\"color\":\"#E5ECF6\",\"width\":0.5},\"pattern\":{\"fillmode\":\"overlay\",\"size\":10,\"solidity\":0.2}},\"type\":\"bar\"}],\"barpolar\":[{\"marker\":{\"line\":{\"color\":\"#E5ECF6\",\"width\":0.5},\"pattern\":{\"fillmode\":\"overlay\",\"size\":10,\"solidity\":0.2}},\"type\":\"barpolar\"}],\"carpet\":[{\"aaxis\":{\"endlinecolor\":\"#2a3f5f\",\"gridcolor\":\"white\",\"linecolor\":\"white\",\"minorgridcolor\":\"white\",\"startlinecolor\":\"#2a3f5f\"},\"baxis\":{\"endlinecolor\":\"#2a3f5f\",\"gridcolor\":\"white\",\"linecolor\":\"white\",\"minorgridcolor\":\"white\",\"startlinecolor\":\"#2a3f5f\"},\"type\":\"carpet\"}],\"choropleth\":[{\"colorbar\":{\"outlinewidth\":0,\"ticks\":\"\"},\"type\":\"choropleth\"}],\"contour\":[{\"colorbar\":{\"outlinewidth\":0,\"ticks\":\"\"},\"colorscale\":[[0.0,\"#0d0887\"],[0.1111111111111111,\"#46039f\"],[0.2222222222222222,\"#7201a8\"],[0.3333333333333333,\"#9c179e\"],[0.4444444444444444,\"#bd3786\"],[0.5555555555555556,\"#d8576b\"],[0.6666666666666666,\"#ed7953\"],[0.7777777777777778,\"#fb9f3a\"],[0.8888888888888888,\"#fdca26\"],[1.0,\"#f0f921\"]],\"type\":\"contour\"}],\"contourcarpet\":[{\"colorbar\":{\"outlinewidth\":0,\"ticks\":\"\"},\"type\":\"contourcarpet\"}],\"heatmap\":[{\"colorbar\":{\"outlinewidth\":0,\"ticks\":\"\"},\"colorscale\":[[0.0,\"#0d0887\"],[0.1111111111111111,\"#46039f\"],[0.2222222222222222,\"#7201a8\"],[0.3333333333333333,\"#9c179e\"],[0.4444444444444444,\"#bd3786\"],[0.5555555555555556,\"#d8576b\"],[0.6666666666666666,\"#ed7953\"],[0.7777777777777778,\"#fb9f3a\"],[0.8888888888888888,\"#fdca26\"],[1.0,\"#f0f921\"]],\"type\":\"heatmap\"}],\"heatmapgl\":[{\"colorbar\":{\"outlinewidth\":0,\"ticks\":\"\"},\"colorscale\":[[0.0,\"#0d0887\"],[0.1111111111111111,\"#46039f\"],[0.2222222222222222,\"#7201a8\"],[0.3333333333333333,\"#9c179e\"],[0.4444444444444444,\"#bd3786\"],[0.5555555555555556,\"#d8576b\"],[0.6666666666666666,\"#ed7953\"],[0.7777777777777778,\"#fb9f3a\"],[0.8888888888888888,\"#fdca26\"],[1.0,\"#f0f921\"]],\"type\":\"heatmapgl\"}],\"histogram\":[{\"marker\":{\"pattern\":{\"fillmode\":\"overlay\",\"size\":10,\"solidity\":0.2}},\"type\":\"histogram\"}],\"histogram2d\":[{\"colorbar\":{\"outlinewidth\":0,\"ticks\":\"\"},\"colorscale\":[[0.0,\"#0d0887\"],[0.1111111111111111,\"#46039f\"],[0.2222222222222222,\"#7201a8\"],[0.3333333333333333,\"#9c179e\"],[0.4444444444444444,\"#bd3786\"],[0.5555555555555556,\"#d8576b\"],[0.6666666666666666,\"#ed7953\"],[0.7777777777777778,\"#fb9f3a\"],[0.8888888888888888,\"#fdca26\"],[1.0,\"#f0f921\"]],\"type\":\"histogram2d\"}],\"histogram2dcontour\":[{\"colorbar\":{\"outlinewidth\":0,\"ticks\":\"\"},\"colorscale\":[[0.0,\"#0d0887\"],[0.1111111111111111,\"#46039f\"],[0.2222222222222222,\"#7201a8\"],[0.3333333333333333,\"#9c179e\"],[0.4444444444444444,\"#bd3786\"],[0.5555555555555556,\"#d8576b\"],[0.6666666666666666,\"#ed7953\"],[0.7777777777777778,\"#fb9f3a\"],[0.8888888888888888,\"#fdca26\"],[1.0,\"#f0f921\"]],\"type\":\"histogram2dcontour\"}],\"mesh3d\":[{\"colorbar\":{\"outlinewidth\":0,\"ticks\":\"\"},\"type\":\"mesh3d\"}],\"parcoords\":[{\"line\":{\"colorbar\":{\"outlinewidth\":0,\"ticks\":\"\"}},\"type\":\"parcoords\"}],\"pie\":[{\"automargin\":true,\"type\":\"pie\"}],\"scatter\":[{\"marker\":{\"colorbar\":{\"outlinewidth\":0,\"ticks\":\"\"}},\"type\":\"scatter\"}],\"scatter3d\":[{\"line\":{\"colorbar\":{\"outlinewidth\":0,\"ticks\":\"\"}},\"marker\":{\"colorbar\":{\"outlinewidth\":0,\"ticks\":\"\"}},\"type\":\"scatter3d\"}],\"scattercarpet\":[{\"marker\":{\"colorbar\":{\"outlinewidth\":0,\"ticks\":\"\"}},\"type\":\"scattercarpet\"}],\"scattergeo\":[{\"marker\":{\"colorbar\":{\"outlinewidth\":0,\"ticks\":\"\"}},\"type\":\"scattergeo\"}],\"scattergl\":[{\"marker\":{\"colorbar\":{\"outlinewidth\":0,\"ticks\":\"\"}},\"type\":\"scattergl\"}],\"scattermapbox\":[{\"marker\":{\"colorbar\":{\"outlinewidth\":0,\"ticks\":\"\"}},\"type\":\"scattermapbox\"}],\"scatterpolar\":[{\"marker\":{\"colorbar\":{\"outlinewidth\":0,\"ticks\":\"\"}},\"type\":\"scatterpolar\"}],\"scatterpolargl\":[{\"marker\":{\"colorbar\":{\"outlinewidth\":0,\"ticks\":\"\"}},\"type\":\"scatterpolargl\"}],\"scatterternary\":[{\"marker\":{\"colorbar\":{\"outlinewidth\":0,\"ticks\":\"\"}},\"type\":\"scatterternary\"}],\"surface\":[{\"colorbar\":{\"outlinewidth\":0,\"ticks\":\"\"},\"colorscale\":[[0.0,\"#0d0887\"],[0.1111111111111111,\"#46039f\"],[0.2222222222222222,\"#7201a8\"],[0.3333333333333333,\"#9c179e\"],[0.4444444444444444,\"#bd3786\"],[0.5555555555555556,\"#d8576b\"],[0.6666666666666666,\"#ed7953\"],[0.7777777777777778,\"#fb9f3a\"],[0.8888888888888888,\"#fdca26\"],[1.0,\"#f0f921\"]],\"type\":\"surface\"}],\"table\":[{\"cells\":{\"fill\":{\"color\":\"#EBF0F8\"},\"line\":{\"color\":\"white\"}},\"header\":{\"fill\":{\"color\":\"#C8D4E3\"},\"line\":{\"color\":\"white\"}},\"type\":\"table\"}]},\"layout\":{\"annotationdefaults\":{\"arrowcolor\":\"#2a3f5f\",\"arrowhead\":0,\"arrowwidth\":1},\"autotypenumbers\":\"strict\",\"coloraxis\":{\"colorbar\":{\"outlinewidth\":0,\"ticks\":\"\"}},\"colorscale\":{\"diverging\":[[0,\"#8e0152\"],[0.1,\"#c51b7d\"],[0.2,\"#de77ae\"],[0.3,\"#f1b6da\"],[0.4,\"#fde0ef\"],[0.5,\"#f7f7f7\"],[0.6,\"#e6f5d0\"],[0.7,\"#b8e186\"],[0.8,\"#7fbc41\"],[0.9,\"#4d9221\"],[1,\"#276419\"]],\"sequential\":[[0.0,\"#0d0887\"],[0.1111111111111111,\"#46039f\"],[0.2222222222222222,\"#7201a8\"],[0.3333333333333333,\"#9c179e\"],[0.4444444444444444,\"#bd3786\"],[0.5555555555555556,\"#d8576b\"],[0.6666666666666666,\"#ed7953\"],[0.7777777777777778,\"#fb9f3a\"],[0.8888888888888888,\"#fdca26\"],[1.0,\"#f0f921\"]],\"sequentialminus\":[[0.0,\"#0d0887\"],[0.1111111111111111,\"#46039f\"],[0.2222222222222222,\"#7201a8\"],[0.3333333333333333,\"#9c179e\"],[0.4444444444444444,\"#bd3786\"],[0.5555555555555556,\"#d8576b\"],[0.6666666666666666,\"#ed7953\"],[0.7777777777777778,\"#fb9f3a\"],[0.8888888888888888,\"#fdca26\"],[1.0,\"#f0f921\"]]},\"colorway\":[\"#636efa\",\"#EF553B\",\"#00cc96\",\"#ab63fa\",\"#FFA15A\",\"#19d3f3\",\"#FF6692\",\"#B6E880\",\"#FF97FF\",\"#FECB52\"],\"font\":{\"color\":\"#2a3f5f\"},\"geo\":{\"bgcolor\":\"white\",\"lakecolor\":\"white\",\"landcolor\":\"#E5ECF6\",\"showlakes\":true,\"showland\":true,\"subunitcolor\":\"white\"},\"hoverlabel\":{\"align\":\"left\"},\"hovermode\":\"closest\",\"mapbox\":{\"style\":\"light\"},\"paper_bgcolor\":\"white\",\"plot_bgcolor\":\"#E5ECF6\",\"polar\":{\"angularaxis\":{\"gridcolor\":\"white\",\"linecolor\":\"white\",\"ticks\":\"\"},\"bgcolor\":\"#E5ECF6\",\"radialaxis\":{\"gridcolor\":\"white\",\"linecolor\":\"white\",\"ticks\":\"\"}},\"scene\":{\"xaxis\":{\"backgroundcolor\":\"#E5ECF6\",\"gridcolor\":\"white\",\"gridwidth\":2,\"linecolor\":\"white\",\"showbackground\":true,\"ticks\":\"\",\"zerolinecolor\":\"white\"},\"yaxis\":{\"backgroundcolor\":\"#E5ECF6\",\"gridcolor\":\"white\",\"gridwidth\":2,\"linecolor\":\"white\",\"showbackground\":true,\"ticks\":\"\",\"zerolinecolor\":\"white\"},\"zaxis\":{\"backgroundcolor\":\"#E5ECF6\",\"gridcolor\":\"white\",\"gridwidth\":2,\"linecolor\":\"white\",\"showbackground\":true,\"ticks\":\"\",\"zerolinecolor\":\"white\"}},\"shapedefaults\":{\"line\":{\"color\":\"#2a3f5f\"}},\"ternary\":{\"aaxis\":{\"gridcolor\":\"white\",\"linecolor\":\"white\",\"ticks\":\"\"},\"baxis\":{\"gridcolor\":\"white\",\"linecolor\":\"white\",\"ticks\":\"\"},\"bgcolor\":\"#E5ECF6\",\"caxis\":{\"gridcolor\":\"white\",\"linecolor\":\"white\",\"ticks\":\"\"}},\"title\":{\"x\":0.05},\"xaxis\":{\"automargin\":true,\"gridcolor\":\"white\",\"linecolor\":\"white\",\"ticks\":\"\",\"title\":{\"standoff\":15},\"zerolinecolor\":\"white\",\"zerolinewidth\":2},\"yaxis\":{\"automargin\":true,\"gridcolor\":\"white\",\"linecolor\":\"white\",\"ticks\":\"\",\"title\":{\"standoff\":15},\"zerolinecolor\":\"white\",\"zerolinewidth\":2}}},\"xaxis\":{\"anchor\":\"y\",\"domain\":[0.0,1.0],\"title\":{\"text\":\"Model\"}},\"yaxis\":{\"anchor\":\"x\",\"domain\":[0.0,1.0],\"title\":{\"text\":\"Accuracy\"}},\"legend\":{\"tracegroupgap\":0},\"title\":{\"text\":\"AUC-ROC of all models for extracted features\"},\"barmode\":\"relative\"},                        {\"responsive\": true}                    ).then(function(){\n",
              "                            \n",
              "var gd = document.getElementById('85f59198-7fb7-4a20-8a1e-da0fc18107df');\n",
              "var x = new MutationObserver(function (mutations, observer) {{\n",
              "        var display = window.getComputedStyle(gd).display;\n",
              "        if (!display || display === 'none') {{\n",
              "            console.log([gd, 'removed!']);\n",
              "            Plotly.purge(gd);\n",
              "            observer.disconnect();\n",
              "        }}\n",
              "}});\n",
              "\n",
              "// Listen for the removal of the full notebook cells\n",
              "var notebookContainer = gd.closest('#notebook-container');\n",
              "if (notebookContainer) {{\n",
              "    x.observe(notebookContainer, {childList: true});\n",
              "}}\n",
              "\n",
              "// Listen for the clearing of the current output cell\n",
              "var outputEl = gd.closest('.output');\n",
              "if (outputEl) {{\n",
              "    x.observe(outputEl, {childList: true});\n",
              "}}\n",
              "\n",
              "                        })                };                            </script>        </div>\n",
              "</body>\n",
              "</html>"
            ]
          },
          "metadata": {}
        }
      ]
    }
  ]
}